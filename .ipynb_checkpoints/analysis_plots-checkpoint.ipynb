{
 "cells": [
  {
   "cell_type": "markdown",
   "metadata": {},
   "source": [
    "# COVID-19 Analysis: A Deeper Dive into the Stats\n",
    "## ( + easy interactive figures with plot.ly) \n",
    "\n",
    "3/9/20\n",
    "\n",
    "According to the \"Coronavirus COVID-19 Global Cases by Johns Hopkins CSSE\" dashboard, as of right now, there are a total of 113584 confirmed cases, 3996 deaths, and 62496 recovered. From the media reports, it feels like outbreaks are happening at an exponential rate. However, hearing these numbers being thrown everywhere and used to both support or refute the need to panic, I decided to dive deeper into the numbers myself. How reliable are these reports? What do they really say about the threat of the virus? I don't know...\n",
    "   "
   ]
  },
  {
   "cell_type": "raw",
   "metadata": {},
   "source": [
    "<html><head>\n",
    "\n",
    "\n",
    "<!-- Load require.js. Delete this if your page already loads require.js -->\n",
    "<script src=\"https://cdnjs.cloudflare.com/ajax/libs/require.js/2.3.4/require.min.js\" integrity=\"sha256-Ae2Vz/4ePdIu6ZyI/5ZGsYnb+m0JlOmKPjt6XZ9JJkA=\" crossorigin=\"anonymous\"></script>\n",
    "<script src=\"https://unpkg.com/@jupyter-widgets/html-manager@*/dist/embed-amd.js\" crossorigin=\"anonymous\"></script>\n",
    "<script type=\"application/vnd.jupyter.widget-state+json\">\n",
    "{\n",
    "    \"version_major\": 2,\n",
    "    \"version_minor\": 0,\n",
    "    \"state\": {}\n",
    "}\n",
    "</script>\n",
    "</head>\n",
    "<body>\n",
    "\n",
    "\n",
    "</body>\n",
    "</html>\n",
    "\n"
   ]
  },
  {
   "cell_type": "markdown",
   "metadata": {},
   "source": [
    "Some initial notes/thoughts/findings from browsing the internet:\n",
    "    - Confirmed cases include presumptive cases\n",
    "    - Confirmed cases are laboratory-confirmed using PCR \n",
    "        - (sidenote: with what experience I've had with QT-PCR, results can be finicky and may vary significantly if proper mixing and sampling isn't done) \n",
    "        - According to the WHO daily situation reports, a confirmed case is \"A person with laboratory confirmation of COVID-19 infection, irrespective of clinical signs and symptoms.\"\n",
    "        - There is no single protocol.\n",
    "            - Following the link to the laboratory testing page, there are several different protocols coming from several different countries including the US, China, Thailand, etc. \n",
    "            - The primers/probe combinations used for different protocols are different. The targets are different... \n",
    "        - Recovered patients who have consecutive negative test results test positive after an additional quarentine period?! [\"Positive RT-PCR Test Results in Patients Recovered From COVID-19\"](https://jamanetwork.com/journals/jama/fullarticle/2762452)\n",
    "<a href=\"url\" target=\"_blank\">hyperlinked words</a>"
   ]
  },
  {
   "cell_type": "code",
   "execution_count": 1,
   "metadata": {
    "pycharm": {
     "is_executing": false
    }
   },
   "outputs": [],
   "source": [
    "import numpy as np\n",
    "import pandas as pd\n",
    "import scipy as sp\n",
    "\n",
    "# import plotly.offline as py\n",
    "# py.init_notebook_mode(connected=True)\n",
    "\n",
    "\n",
    "\n",
    "import plotly.graph_objects as go \n",
    "import plotly.figure_factory as ff\n",
    "import plotly.express as px\n",
    "import plotly.io as pio  \n",
    "\n",
    "pd.set_option(\"display.min_rows\", 15)\n",
    "\n",
    "\n",
    "pd.set_option(\"display.max_rows\", 101)\n",
    "pd.set_option(\"display.max_columns\", 101)"
   ]
  },
  {
   "cell_type": "code",
   "execution_count": 2,
   "metadata": {},
   "outputs": [],
   "source": [
    "import plotly.io as pio\n",
    "pio.renderers\n",
    "pio.renderers.default = 'notebook'\n",
    "%load_ext autoreload\n",
    "%autoreload 2"
   ]
  },
  {
   "cell_type": "code",
   "execution_count": 3,
   "metadata": {
    "pycharm": {
     "is_executing": false,
     "name": "#%%\n"
    }
   },
   "outputs": [
    {
     "data": {
      "text/plain": [
       "\"\\n# reload all changed modules before executing a new line\\n%load_ext autoreload\\n%autoreload 2\\n\\n# save figures as static images\\nfig = go.FigureWidget(data=go.Bar(y=[2, 3, 1]))\\nfig.write_image('figure.png')\\n\""
      ]
     },
     "execution_count": 3,
     "metadata": {},
     "output_type": "execute_result"
    }
   ],
   "source": [
    "\"\"\"\n",
    "# reload all changed modules before executing a new line\n",
    "%load_ext autoreload\n",
    "%autoreload 2\n",
    "\n",
    "# save figures as static images\n",
    "fig = go.FigureWidget(data=go.Bar(y=[2, 3, 1]))\n",
    "fig.write_image('figure.png')\n",
    "\"\"\""
   ]
  },
  {
   "cell_type": "markdown",
   "metadata": {
    "pycharm": {
     "is_executing": false,
     "name": "#%%\n"
    }
   },
   "source": [
    "#### Mapping out the Deaths\n",
    "\n",
    "Out of all the stats, I would say the number of deaths can be \"trusted\" most (ie if someone is said to have died from the virus, it is highly probable that they had been infected).\n"
   ]
  },
  {
   "cell_type": "code",
   "execution_count": 4,
   "metadata": {
    "pycharm": {
     "is_executing": false,
     "name": "#%%\n"
    }
   },
   "outputs": [],
   "source": [
    "df = pd.read_csv('csse_covid_19_data/csse_covid_19_time_series/time_series_19-covid-Deaths.csv')"
   ]
  },
  {
   "cell_type": "code",
   "execution_count": 5,
   "metadata": {
    "pycharm": {
     "is_executing": false
    }
   },
   "outputs": [
    {
     "name": "stdout",
     "output_type": "stream",
     "text": [
      "total deaths as of 3/11/20 : 4647 \n"
     ]
    }
   ],
   "source": [
    "total_deaths=df[df.columns[-1]].sum()\n",
    "print(\"total deaths as of {} : {} \".format(df.columns[-1],total_deaths))"
   ]
  },
  {
   "cell_type": "code",
   "execution_count": 6,
   "metadata": {
    "pycharm": {
     "is_executing": false
    }
   },
   "outputs": [
    {
     "name": "stdout",
     "output_type": "stream",
     "text": [
      "Inconsistancies: 0\n",
      "       Province/State Country/Region      Lat      Long  1/22/20  1/23/20  \\\n",
      "0            Thailand       Thailand  15.0000  101.0000        0        0   \n",
      "1               Japan          Japan  36.0000  138.0000        0        0   \n",
      "2           Singapore      Singapore   1.2833  103.8333        0        0   \n",
      "3               Nepal          Nepal  28.1667   84.2500        0        0   \n",
      "4            Malaysia       Malaysia   2.5000  112.5000        0        0   \n",
      "5    British Columbia         Canada  49.2827 -123.1207        0        0   \n",
      "6     New South Wales      Australia -33.8688  151.2093        0        0   \n",
      "..                ...            ...      ...       ...      ...      ...   \n",
      "397     Minnehaha, SD             US  43.6632  -96.8351        0        0   \n",
      "398     Bon Homme, SD             US  42.9815  -97.8722        0        0   \n",
      "399       Socorro, NM             US  33.8837 -106.7235        0        0   \n",
      "400    Bernalillo, NM             US  35.0178 -106.6291        0        0   \n",
      "401       Oakland, MI             US  42.5922  -83.3362        0        0   \n",
      "402         Wayne, MI             US  42.2791  -83.3362        0        0   \n",
      "403    New Castle, DE             US  39.5393  -75.6674        0        0   \n",
      "\n",
      "     1/24/20  1/25/20  1/26/20  1/27/20  1/28/20  1/29/20  1/30/20  1/31/20  \\\n",
      "0          0        0        0        0        0        0        0        0   \n",
      "1          0        0        0        0        0        0        0        0   \n",
      "2          0        0        0        0        0        0        0        0   \n",
      "3          0        0        0        0        0        0        0        0   \n",
      "4          0        0        0        0        0        0        0        0   \n",
      "5          0        0        0        0        0        0        0        0   \n",
      "6          0        0        0        0        0        0        0        0   \n",
      "..       ...      ...      ...      ...      ...      ...      ...      ...   \n",
      "397        0        0        0        0        0        0        0        0   \n",
      "398        0        0        0        0        0        0        0        0   \n",
      "399        0        0        0        0        0        0        0        0   \n",
      "400        0        0        0        0        0        0        0        0   \n",
      "401        0        0        0        0        0        0        0        0   \n",
      "402        0        0        0        0        0        0        0        0   \n",
      "403        0        0        0        0        0        0        0        0   \n",
      "\n",
      "     2/1/20  2/2/20  2/3/20  2/4/20  2/5/20  2/6/20  2/7/20  2/8/20  2/9/20  \\\n",
      "0         0       0       0       0       0       0       0       0       0   \n",
      "1         0       0       0       0       0       0       0       0       0   \n",
      "2         0       0       0       0       0       0       0       0       0   \n",
      "3         0       0       0       0       0       0       0       0       0   \n",
      "4         0       0       0       0       0       0       0       0       0   \n",
      "5         0       0       0       0       0       0       0       0       0   \n",
      "6         0       0       0       0       0       0       0       0       0   \n",
      "..      ...     ...     ...     ...     ...     ...     ...     ...     ...   \n",
      "397       0       0       0       0       0       0       0       0       0   \n",
      "398       0       0       0       0       0       0       0       0       0   \n",
      "399       0       0       0       0       0       0       0       0       0   \n",
      "400       0       0       0       0       0       0       0       0       0   \n",
      "401       0       0       0       0       0       0       0       0       0   \n",
      "402       0       0       0       0       0       0       0       0       0   \n",
      "403       0       0       0       0       0       0       0       0       0   \n",
      "\n",
      "     2/10/20  2/11/20  2/12/20  2/13/20  2/14/20  2/15/20  2/16/20  2/17/20  \\\n",
      "0          0        0        0        0        0        0        0        0   \n",
      "1          0        0        0        1        1        1        1        1   \n",
      "2          0        0        0        0        0        0        0        0   \n",
      "3          0        0        0        0        0        0        0        0   \n",
      "4          0        0        0        0        0        0        0        0   \n",
      "5          0        0        0        0        0        0        0        0   \n",
      "6          0        0        0        0        0        0        0        0   \n",
      "..       ...      ...      ...      ...      ...      ...      ...      ...   \n",
      "397        0        0        0        0        0        0        0        0   \n",
      "398        0        0        0        0        0        0        0        0   \n",
      "399        0        0        0        0        0        0        0        0   \n",
      "400        0        0        0        0        0        0        0        0   \n",
      "401        0        0        0        0        0        0        0        0   \n",
      "402        0        0        0        0        0        0        0        0   \n",
      "403        0        0        0        0        0        0        0        0   \n",
      "\n",
      "     2/18/20  2/19/20  2/20/20  2/21/20  2/22/20  2/23/20  2/24/20  2/25/20  \\\n",
      "0          0        0        0        0        0        0        0        0   \n",
      "1          1        1        1        1        1        1        1        1   \n",
      "2          0        0        0        0        0        0        0        0   \n",
      "3          0        0        0        0        0        0        0        0   \n",
      "4          0        0        0        0        0        0        0        0   \n",
      "5          0        0        0        0        0        0        0        0   \n",
      "6          0        0        0        0        0        0        0        0   \n",
      "..       ...      ...      ...      ...      ...      ...      ...      ...   \n",
      "397        0        0        0        0        0        0        0        0   \n",
      "398        0        0        0        0        0        0        0        0   \n",
      "399        0        0        0        0        0        0        0        0   \n",
      "400        0        0        0        0        0        0        0        0   \n",
      "401        0        0        0        0        0        0        0        0   \n",
      "402        0        0        0        0        0        0        0        0   \n",
      "403        0        0        0        0        0        0        0        0   \n",
      "\n",
      "     2/26/20  2/27/20  2/28/20  2/29/20  3/1/20  3/2/20  3/3/20  3/4/20  \\\n",
      "0          0        0        0        0       1       1       1       1   \n",
      "1          2        4        4        5       6       6       6       6   \n",
      "2          0        0        0        0       0       0       0       0   \n",
      "3          0        0        0        0       0       0       0       0   \n",
      "4          0        0        0        0       0       0       0       0   \n",
      "5          0        0        0        0       0       0       0       0   \n",
      "6          0        0        0        0       0       0       0       1   \n",
      "..       ...      ...      ...      ...     ...     ...     ...     ...   \n",
      "397        0        0        0        0       0       0       0       0   \n",
      "398        0        0        0        0       0       0       0       0   \n",
      "399        0        0        0        0       0       0       0       0   \n",
      "400        0        0        0        0       0       0       0       0   \n",
      "401        0        0        0        0       0       0       0       0   \n",
      "402        0        0        0        0       0       0       0       0   \n",
      "403        0        0        0        0       0       0       0       0   \n",
      "\n",
      "     3/5/20  3/6/20  3/7/20  3/8/20  3/9/20  3/10/20  3/11/20  \n",
      "0         1       1       1       1       1        1        1  \n",
      "1         6       6       6       6      10       10       15  \n",
      "2         0       0       0       0       0        0        0  \n",
      "3         0       0       0       0       0        0        0  \n",
      "4         0       0       0       0       0        0        0  \n",
      "5         0       0       0       0       1        1        1  \n",
      "6         1       1       1       2       2        2        2  \n",
      "..      ...     ...     ...     ...     ...      ...      ...  \n",
      "397       0       0       0       0       0        0        0  \n",
      "398       0       0       0       0       0        0        0  \n",
      "399       0       0       0       0       0        0        0  \n",
      "400       0       0       0       0       0        0        0  \n",
      "401       0       0       0       0       0        0        0  \n",
      "402       0       0       0       0       0        0        0  \n",
      "403       0       0       0       0       0        0        0  \n",
      "\n",
      "[404 rows x 54 columns]\n"
     ]
    }
   ],
   "source": [
    "# Check that deaths are only increasing\n",
    "not_monotonic=[]\n",
    "dft=df.T[4:]\n",
    "for col in dft.columns:\n",
    "    monotonic=dft[col].is_monotonic_increasing\n",
    "    if monotonic==False:\n",
    "        print(states[int(col)],  \": INCONSISTANT\")\n",
    "        not_monotonic.append([int(col)])\n",
    "print(\"Inconsistancies: {}\".format(len(not_monotonic)))\n",
    "\n",
    "# fill in countries\n",
    "df['Country/Region']=df['Country/Region'].fillna(method=\"ffill\")\n",
    "df['Province/State']=df['Province/State'].fillna(value=df['Country/Region'])\n",
    "print(df)"
   ]
  },
  {
   "cell_type": "code",
   "execution_count": 7,
   "metadata": {
    "pycharm": {
     "is_executing": false
    }
   },
   "outputs": [
    {
     "data": {
      "text/html": [
       "<div>\n",
       "<style scoped>\n",
       "    .dataframe tbody tr th:only-of-type {\n",
       "        vertical-align: middle;\n",
       "    }\n",
       "\n",
       "    .dataframe tbody tr th {\n",
       "        vertical-align: top;\n",
       "    }\n",
       "\n",
       "    .dataframe thead th {\n",
       "        text-align: right;\n",
       "    }\n",
       "</style>\n",
       "<table border=\"1\" class=\"dataframe\">\n",
       "  <thead>\n",
       "    <tr style=\"text-align: right;\">\n",
       "      <th></th>\n",
       "      <th>Province/State</th>\n",
       "      <th>Country/Region</th>\n",
       "      <th>Lat</th>\n",
       "      <th>Long</th>\n",
       "      <th>1/22/20</th>\n",
       "      <th>1/23/20</th>\n",
       "      <th>1/24/20</th>\n",
       "      <th>1/25/20</th>\n",
       "      <th>1/26/20</th>\n",
       "      <th>1/27/20</th>\n",
       "      <th>1/28/20</th>\n",
       "      <th>1/29/20</th>\n",
       "      <th>1/30/20</th>\n",
       "      <th>1/31/20</th>\n",
       "      <th>2/1/20</th>\n",
       "      <th>2/2/20</th>\n",
       "      <th>2/3/20</th>\n",
       "      <th>2/4/20</th>\n",
       "      <th>2/5/20</th>\n",
       "      <th>2/6/20</th>\n",
       "      <th>2/7/20</th>\n",
       "      <th>2/8/20</th>\n",
       "      <th>2/9/20</th>\n",
       "      <th>2/10/20</th>\n",
       "      <th>2/11/20</th>\n",
       "      <th>2/12/20</th>\n",
       "      <th>2/13/20</th>\n",
       "      <th>2/14/20</th>\n",
       "      <th>2/15/20</th>\n",
       "      <th>2/16/20</th>\n",
       "      <th>2/17/20</th>\n",
       "      <th>2/18/20</th>\n",
       "      <th>2/19/20</th>\n",
       "      <th>2/20/20</th>\n",
       "      <th>2/21/20</th>\n",
       "      <th>2/22/20</th>\n",
       "      <th>2/23/20</th>\n",
       "      <th>2/24/20</th>\n",
       "      <th>2/25/20</th>\n",
       "      <th>2/26/20</th>\n",
       "      <th>2/27/20</th>\n",
       "      <th>2/28/20</th>\n",
       "      <th>2/29/20</th>\n",
       "      <th>3/1/20</th>\n",
       "      <th>3/2/20</th>\n",
       "      <th>3/3/20</th>\n",
       "      <th>3/4/20</th>\n",
       "      <th>3/5/20</th>\n",
       "      <th>3/6/20</th>\n",
       "      <th>3/7/20</th>\n",
       "      <th>3/8/20</th>\n",
       "      <th>3/9/20</th>\n",
       "      <th>3/10/20</th>\n",
       "      <th>3/11/20</th>\n",
       "      <th>bin_lat</th>\n",
       "      <th>bin_long</th>\n",
       "    </tr>\n",
       "  </thead>\n",
       "  <tbody>\n",
       "    <tr>\n",
       "      <th>0</th>\n",
       "      <td>Thailand</td>\n",
       "      <td>Thailand</td>\n",
       "      <td>15.0000</td>\n",
       "      <td>101.0000</td>\n",
       "      <td>0</td>\n",
       "      <td>0</td>\n",
       "      <td>0</td>\n",
       "      <td>0</td>\n",
       "      <td>0</td>\n",
       "      <td>0</td>\n",
       "      <td>0</td>\n",
       "      <td>0</td>\n",
       "      <td>0</td>\n",
       "      <td>0</td>\n",
       "      <td>0</td>\n",
       "      <td>0</td>\n",
       "      <td>0</td>\n",
       "      <td>0</td>\n",
       "      <td>0</td>\n",
       "      <td>0</td>\n",
       "      <td>0</td>\n",
       "      <td>0</td>\n",
       "      <td>0</td>\n",
       "      <td>0</td>\n",
       "      <td>0</td>\n",
       "      <td>0</td>\n",
       "      <td>0</td>\n",
       "      <td>0</td>\n",
       "      <td>0</td>\n",
       "      <td>0</td>\n",
       "      <td>0</td>\n",
       "      <td>0</td>\n",
       "      <td>0</td>\n",
       "      <td>0</td>\n",
       "      <td>0</td>\n",
       "      <td>0</td>\n",
       "      <td>0</td>\n",
       "      <td>0</td>\n",
       "      <td>0</td>\n",
       "      <td>0</td>\n",
       "      <td>0</td>\n",
       "      <td>0</td>\n",
       "      <td>0</td>\n",
       "      <td>1</td>\n",
       "      <td>1</td>\n",
       "      <td>1</td>\n",
       "      <td>1</td>\n",
       "      <td>1</td>\n",
       "      <td>1</td>\n",
       "      <td>1</td>\n",
       "      <td>1</td>\n",
       "      <td>1</td>\n",
       "      <td>1</td>\n",
       "      <td>1</td>\n",
       "      <td>(-20.0, 20.0]</td>\n",
       "      <td>(95.0, 116.0]</td>\n",
       "    </tr>\n",
       "    <tr>\n",
       "      <th>1</th>\n",
       "      <td>Japan</td>\n",
       "      <td>Japan</td>\n",
       "      <td>36.0000</td>\n",
       "      <td>138.0000</td>\n",
       "      <td>0</td>\n",
       "      <td>0</td>\n",
       "      <td>0</td>\n",
       "      <td>0</td>\n",
       "      <td>0</td>\n",
       "      <td>0</td>\n",
       "      <td>0</td>\n",
       "      <td>0</td>\n",
       "      <td>0</td>\n",
       "      <td>0</td>\n",
       "      <td>0</td>\n",
       "      <td>0</td>\n",
       "      <td>0</td>\n",
       "      <td>0</td>\n",
       "      <td>0</td>\n",
       "      <td>0</td>\n",
       "      <td>0</td>\n",
       "      <td>0</td>\n",
       "      <td>0</td>\n",
       "      <td>0</td>\n",
       "      <td>0</td>\n",
       "      <td>0</td>\n",
       "      <td>1</td>\n",
       "      <td>1</td>\n",
       "      <td>1</td>\n",
       "      <td>1</td>\n",
       "      <td>1</td>\n",
       "      <td>1</td>\n",
       "      <td>1</td>\n",
       "      <td>1</td>\n",
       "      <td>1</td>\n",
       "      <td>1</td>\n",
       "      <td>1</td>\n",
       "      <td>1</td>\n",
       "      <td>1</td>\n",
       "      <td>2</td>\n",
       "      <td>4</td>\n",
       "      <td>4</td>\n",
       "      <td>5</td>\n",
       "      <td>6</td>\n",
       "      <td>6</td>\n",
       "      <td>6</td>\n",
       "      <td>6</td>\n",
       "      <td>6</td>\n",
       "      <td>6</td>\n",
       "      <td>6</td>\n",
       "      <td>6</td>\n",
       "      <td>10</td>\n",
       "      <td>10</td>\n",
       "      <td>15</td>\n",
       "      <td>(20.0, 60.0]</td>\n",
       "      <td>(138.0, 159.0]</td>\n",
       "    </tr>\n",
       "    <tr>\n",
       "      <th>2</th>\n",
       "      <td>Singapore</td>\n",
       "      <td>Singapore</td>\n",
       "      <td>1.2833</td>\n",
       "      <td>103.8333</td>\n",
       "      <td>0</td>\n",
       "      <td>0</td>\n",
       "      <td>0</td>\n",
       "      <td>0</td>\n",
       "      <td>0</td>\n",
       "      <td>0</td>\n",
       "      <td>0</td>\n",
       "      <td>0</td>\n",
       "      <td>0</td>\n",
       "      <td>0</td>\n",
       "      <td>0</td>\n",
       "      <td>0</td>\n",
       "      <td>0</td>\n",
       "      <td>0</td>\n",
       "      <td>0</td>\n",
       "      <td>0</td>\n",
       "      <td>0</td>\n",
       "      <td>0</td>\n",
       "      <td>0</td>\n",
       "      <td>0</td>\n",
       "      <td>0</td>\n",
       "      <td>0</td>\n",
       "      <td>0</td>\n",
       "      <td>0</td>\n",
       "      <td>0</td>\n",
       "      <td>0</td>\n",
       "      <td>0</td>\n",
       "      <td>0</td>\n",
       "      <td>0</td>\n",
       "      <td>0</td>\n",
       "      <td>0</td>\n",
       "      <td>0</td>\n",
       "      <td>0</td>\n",
       "      <td>0</td>\n",
       "      <td>0</td>\n",
       "      <td>0</td>\n",
       "      <td>0</td>\n",
       "      <td>0</td>\n",
       "      <td>0</td>\n",
       "      <td>0</td>\n",
       "      <td>0</td>\n",
       "      <td>0</td>\n",
       "      <td>0</td>\n",
       "      <td>0</td>\n",
       "      <td>0</td>\n",
       "      <td>0</td>\n",
       "      <td>0</td>\n",
       "      <td>0</td>\n",
       "      <td>0</td>\n",
       "      <td>0</td>\n",
       "      <td>(-20.0, 20.0]</td>\n",
       "      <td>(95.0, 116.0]</td>\n",
       "    </tr>\n",
       "    <tr>\n",
       "      <th>3</th>\n",
       "      <td>Nepal</td>\n",
       "      <td>Nepal</td>\n",
       "      <td>28.1667</td>\n",
       "      <td>84.2500</td>\n",
       "      <td>0</td>\n",
       "      <td>0</td>\n",
       "      <td>0</td>\n",
       "      <td>0</td>\n",
       "      <td>0</td>\n",
       "      <td>0</td>\n",
       "      <td>0</td>\n",
       "      <td>0</td>\n",
       "      <td>0</td>\n",
       "      <td>0</td>\n",
       "      <td>0</td>\n",
       "      <td>0</td>\n",
       "      <td>0</td>\n",
       "      <td>0</td>\n",
       "      <td>0</td>\n",
       "      <td>0</td>\n",
       "      <td>0</td>\n",
       "      <td>0</td>\n",
       "      <td>0</td>\n",
       "      <td>0</td>\n",
       "      <td>0</td>\n",
       "      <td>0</td>\n",
       "      <td>0</td>\n",
       "      <td>0</td>\n",
       "      <td>0</td>\n",
       "      <td>0</td>\n",
       "      <td>0</td>\n",
       "      <td>0</td>\n",
       "      <td>0</td>\n",
       "      <td>0</td>\n",
       "      <td>0</td>\n",
       "      <td>0</td>\n",
       "      <td>0</td>\n",
       "      <td>0</td>\n",
       "      <td>0</td>\n",
       "      <td>0</td>\n",
       "      <td>0</td>\n",
       "      <td>0</td>\n",
       "      <td>0</td>\n",
       "      <td>0</td>\n",
       "      <td>0</td>\n",
       "      <td>0</td>\n",
       "      <td>0</td>\n",
       "      <td>0</td>\n",
       "      <td>0</td>\n",
       "      <td>0</td>\n",
       "      <td>0</td>\n",
       "      <td>0</td>\n",
       "      <td>0</td>\n",
       "      <td>0</td>\n",
       "      <td>(20.0, 60.0]</td>\n",
       "      <td>(74.0, 95.0]</td>\n",
       "    </tr>\n",
       "    <tr>\n",
       "      <th>4</th>\n",
       "      <td>Malaysia</td>\n",
       "      <td>Malaysia</td>\n",
       "      <td>2.5000</td>\n",
       "      <td>112.5000</td>\n",
       "      <td>0</td>\n",
       "      <td>0</td>\n",
       "      <td>0</td>\n",
       "      <td>0</td>\n",
       "      <td>0</td>\n",
       "      <td>0</td>\n",
       "      <td>0</td>\n",
       "      <td>0</td>\n",
       "      <td>0</td>\n",
       "      <td>0</td>\n",
       "      <td>0</td>\n",
       "      <td>0</td>\n",
       "      <td>0</td>\n",
       "      <td>0</td>\n",
       "      <td>0</td>\n",
       "      <td>0</td>\n",
       "      <td>0</td>\n",
       "      <td>0</td>\n",
       "      <td>0</td>\n",
       "      <td>0</td>\n",
       "      <td>0</td>\n",
       "      <td>0</td>\n",
       "      <td>0</td>\n",
       "      <td>0</td>\n",
       "      <td>0</td>\n",
       "      <td>0</td>\n",
       "      <td>0</td>\n",
       "      <td>0</td>\n",
       "      <td>0</td>\n",
       "      <td>0</td>\n",
       "      <td>0</td>\n",
       "      <td>0</td>\n",
       "      <td>0</td>\n",
       "      <td>0</td>\n",
       "      <td>0</td>\n",
       "      <td>0</td>\n",
       "      <td>0</td>\n",
       "      <td>0</td>\n",
       "      <td>0</td>\n",
       "      <td>0</td>\n",
       "      <td>0</td>\n",
       "      <td>0</td>\n",
       "      <td>0</td>\n",
       "      <td>0</td>\n",
       "      <td>0</td>\n",
       "      <td>0</td>\n",
       "      <td>0</td>\n",
       "      <td>0</td>\n",
       "      <td>0</td>\n",
       "      <td>0</td>\n",
       "      <td>(-20.0, 20.0]</td>\n",
       "      <td>(95.0, 116.0]</td>\n",
       "    </tr>\n",
       "  </tbody>\n",
       "</table>\n",
       "</div>"
      ],
      "text/plain": [
       "  Province/State Country/Region      Lat      Long  1/22/20  1/23/20  1/24/20  \\\n",
       "0       Thailand       Thailand  15.0000  101.0000        0        0        0   \n",
       "1          Japan          Japan  36.0000  138.0000        0        0        0   \n",
       "2      Singapore      Singapore   1.2833  103.8333        0        0        0   \n",
       "3          Nepal          Nepal  28.1667   84.2500        0        0        0   \n",
       "4       Malaysia       Malaysia   2.5000  112.5000        0        0        0   \n",
       "\n",
       "   1/25/20  1/26/20  1/27/20  1/28/20  1/29/20  1/30/20  1/31/20  2/1/20  \\\n",
       "0        0        0        0        0        0        0        0       0   \n",
       "1        0        0        0        0        0        0        0       0   \n",
       "2        0        0        0        0        0        0        0       0   \n",
       "3        0        0        0        0        0        0        0       0   \n",
       "4        0        0        0        0        0        0        0       0   \n",
       "\n",
       "   2/2/20  2/3/20  2/4/20  2/5/20  2/6/20  2/7/20  2/8/20  2/9/20  2/10/20  \\\n",
       "0       0       0       0       0       0       0       0       0        0   \n",
       "1       0       0       0       0       0       0       0       0        0   \n",
       "2       0       0       0       0       0       0       0       0        0   \n",
       "3       0       0       0       0       0       0       0       0        0   \n",
       "4       0       0       0       0       0       0       0       0        0   \n",
       "\n",
       "   2/11/20  2/12/20  2/13/20  2/14/20  2/15/20  2/16/20  2/17/20  2/18/20  \\\n",
       "0        0        0        0        0        0        0        0        0   \n",
       "1        0        0        1        1        1        1        1        1   \n",
       "2        0        0        0        0        0        0        0        0   \n",
       "3        0        0        0        0        0        0        0        0   \n",
       "4        0        0        0        0        0        0        0        0   \n",
       "\n",
       "   2/19/20  2/20/20  2/21/20  2/22/20  2/23/20  2/24/20  2/25/20  2/26/20  \\\n",
       "0        0        0        0        0        0        0        0        0   \n",
       "1        1        1        1        1        1        1        1        2   \n",
       "2        0        0        0        0        0        0        0        0   \n",
       "3        0        0        0        0        0        0        0        0   \n",
       "4        0        0        0        0        0        0        0        0   \n",
       "\n",
       "   2/27/20  2/28/20  2/29/20  3/1/20  3/2/20  3/3/20  3/4/20  3/5/20  3/6/20  \\\n",
       "0        0        0        0       1       1       1       1       1       1   \n",
       "1        4        4        5       6       6       6       6       6       6   \n",
       "2        0        0        0       0       0       0       0       0       0   \n",
       "3        0        0        0       0       0       0       0       0       0   \n",
       "4        0        0        0       0       0       0       0       0       0   \n",
       "\n",
       "   3/7/20  3/8/20  3/9/20  3/10/20  3/11/20        bin_lat        bin_long  \n",
       "0       1       1       1        1        1  (-20.0, 20.0]   (95.0, 116.0]  \n",
       "1       6       6      10       10       15   (20.0, 60.0]  (138.0, 159.0]  \n",
       "2       0       0       0        0        0  (-20.0, 20.0]   (95.0, 116.0]  \n",
       "3       0       0       0        0        0   (20.0, 60.0]    (74.0, 95.0]  \n",
       "4       0       0       0        0        0  (-20.0, 20.0]   (95.0, 116.0]  "
      ]
     },
     "execution_count": 7,
     "metadata": {},
     "output_type": "execute_result"
    }
   ],
   "source": [
    "# df['bin_lat']=pd.cut(df['Lat'], bins=18)\n",
    "# df['bin_long']=pd.cut(df['Long'], bins=18)\n",
    "df['bin_lat'],blat=pd.cut(df['Lat'], bins=np.linspace(-180, 180, 10), precision=0,retbins=True)\n",
    "df['bin_long'],blong=pd.cut(df['Long'], bins=np.linspace(-180, 180, 18),precision=0,retbins=True)\n",
    "\n",
    "df.head()"
   ]
  },
  {
   "cell_type": "code",
   "execution_count": 8,
   "metadata": {
    "pycharm": {
     "is_executing": false
    }
   },
   "outputs": [],
   "source": [
    "#centers=[int(np.average([blat[i],blat[i-1]])) for i in np.arange(1,18)]"
   ]
  },
  {
   "cell_type": "code",
   "execution_count": 9,
   "metadata": {
    "pycharm": {
     "is_executing": false
    }
   },
   "outputs": [
    {
     "name": "stdout",
     "output_type": "stream",
     "text": [
      "           bin_lat          bin_long  3/8/20\n",
      "0     (20.0, 60.0]     (95.0, 116.0]  3056.0\n",
      "1     (20.0, 60.0]      (11.0, 32.0]   368.0\n",
      "2     (20.0, 60.0]      (53.0, 74.0]   194.0\n",
      "3     (20.0, 60.0]    (116.0, 138.0]    86.0\n",
      "4     (20.0, 60.0]     (-11.0, 11.0]    44.0\n",
      "5     (20.0, 60.0]  (-138.0, -116.0]    19.0\n",
      "6     (20.0, 60.0]    (138.0, 159.0]    12.0\n",
      "7    (-20.0, 20.0]     (95.0, 116.0]     7.0\n",
      "8     (20.0, 60.0]      (32.0, 53.0]     6.0\n",
      "9     (20.0, 60.0]      (74.0, 95.0]     3.0\n",
      "10    (20.0, 60.0]    (-95.0, -74.0]     2.0\n",
      "11  (-60.0, -20.0]    (138.0, 159.0]     2.0\n",
      "12   (-20.0, 20.0]    (116.0, 138.0]     1.0\n",
      "13  (-60.0, -20.0]    (-74.0, -53.0]     1.0\n",
      "14  (-60.0, -20.0]     (95.0, 116.0]     1.0\n",
      "15   (-20.0, 20.0]    (-32.0, -11.0]     0.0\n",
      "16  (-60.0, -20.0]    (159.0, 180.0]     0.0\n",
      "17  (-60.0, -20.0]      (53.0, 74.0]     0.0\n",
      "18  (-60.0, -20.0]      (11.0, 32.0]     0.0\n",
      "19   (-20.0, 20.0]    (-95.0, -74.0]     0.0\n",
      "total deaths as of 3/8/20 (start of analysis):  3802\n"
     ]
    }
   ],
   "source": [
    "initial=df.groupby(['bin_lat','bin_long'])['3/8/20'].sum().sort_values(ascending=False).dropna().reset_index() #.fillna(0)\n",
    "print(initial.head(20))\n",
    "\n",
    "initial_total=df['3/8/20'].sum()\n",
    "print('total deaths as of 3/8/20 (start of analysis): ', initial_total)"
   ]
  },
  {
   "cell_type": "code",
   "execution_count": 10,
   "metadata": {
    "pycharm": {
     "is_executing": false
    }
   },
   "outputs": [
    {
     "name": "stdout",
     "output_type": "stream",
     "text": [
      "        bin_lat        bin_long  3/11/20\n",
      "0  (20.0, 60.0]   (95.0, 116.0]   3117.0\n",
      "1  (20.0, 60.0]    (11.0, 32.0]    833.0\n",
      "2  (20.0, 60.0]    (53.0, 74.0]    354.0\n",
      "3  (20.0, 60.0]   (-11.0, 11.0]    127.0\n",
      "4  (20.0, 60.0]  (116.0, 138.0]     96.0\n",
      "           bin_lat          bin_long  3/11/20\n",
      "28   (60.0, 100.0]  (-159.0, -138.0]      0.0\n",
      "29   (60.0, 100.0]    (-32.0, -11.0]      0.0\n",
      "30  (-60.0, -20.0]      (53.0, 74.0]      0.0\n",
      "31  (-60.0, -20.0]      (11.0, 32.0]      0.0\n",
      "32    (20.0, 60.0]  (-159.0, -138.0]      0.0\n",
      "\n",
      "\n",
      "Removing 0s\n",
      "        bin_lat        bin_long  3/11/20\n",
      "0  (20.0, 60.0]   (95.0, 116.0]   3117.0\n",
      "1  (20.0, 60.0]    (11.0, 32.0]    833.0\n",
      "2  (20.0, 60.0]    (53.0, 74.0]    354.0\n",
      "3  (20.0, 60.0]   (-11.0, 11.0]    127.0\n",
      "4  (20.0, 60.0]  (116.0, 138.0]     96.0\n",
      "           bin_lat        bin_long  3/11/20\n",
      "14   (-20.0, 20.0]  (-95.0, -74.0]      1.0\n",
      "15  (-60.0, -20.0]   (95.0, 116.0]      1.0\n",
      "16   (60.0, 100.0]    (11.0, 32.0]      1.0\n",
      "17  (-60.0, -20.0]  (-74.0, -53.0]      1.0\n",
      "18    (20.0, 60.0]  (-74.0, -53.0]      1.0\n"
     ]
    }
   ],
   "source": [
    "today=df.columns[-3]\n",
    "\n",
    "latest=df.groupby(['bin_lat','bin_long'])[today].sum().sort_values(ascending=False).dropna().reset_index() #.fillna(0)\n",
    "print(latest.head())\n",
    "print(latest.tail())\n",
    "\n",
    "print('\\n\\nRemoving 0s')\n",
    "latest=latest[latest[today]>0]\n",
    "print(latest.head())\n",
    "print(latest.tail())"
   ]
  },
  {
   "cell_type": "code",
   "execution_count": 11,
   "metadata": {
    "pycharm": {
     "is_executing": false
    }
   },
   "outputs": [
    {
     "name": "stdout",
     "output_type": "stream",
     "text": [
      "['Afghanistan', 'Albania', 'Algeria', 'Andorra', 'Argentina', 'Armenia', 'Australia', 'Austria', 'Azerbaijan', 'Bahrain', 'Bangladesh', 'Belarus', 'Belgium', 'Bhutan', 'Bolivia', 'Bosnia and Herzegovina', 'Brazil', 'Brunei', 'Bulgaria', 'Burkina Faso', 'Cambodia', 'Cameroon', 'Canada', 'Chile', 'China', 'Colombia', 'Congo (Kinshasa)', 'Costa Rica', \"Cote d'Ivoire\", 'Croatia', 'Cruise Ship', 'Cyprus', 'Czechia', 'Denmark', 'Dominican Republic', 'Ecuador', 'Egypt', 'Estonia', 'Finland', 'France', 'French Guiana', 'Georgia', 'Germany', 'Greece', 'Holy See', 'Honduras', 'Hungary', 'Iceland', 'India', 'Indonesia', 'Iran', 'Iraq', 'Ireland', 'Israel', 'Italy', 'Jamaica', 'Japan', 'Jordan', 'Korea, South', 'Kuwait', 'Latvia', 'Lebanon', 'Liechtenstein', 'Lithuania', 'Luxembourg', 'Malaysia', 'Maldives', 'Malta', 'Martinique', 'Mexico', 'Moldova', 'Monaco', 'Mongolia', 'Morocco', 'Nepal', 'Netherlands', 'New Zealand', 'Nigeria', 'North Macedonia', 'Norway', 'Oman', 'Pakistan', 'Panama', 'Paraguay', 'Peru', 'Philippines', 'Poland', 'Portugal', 'Qatar', 'Reunion', 'Romania', 'Russia', 'San Marino', 'Saudi Arabia', 'Senegal', 'Serbia', 'Singapore', 'Slovakia', 'Slovenia', 'South Africa', 'Spain', 'Sri Lanka', 'Sweden', 'Switzerland', 'Taiwan*', 'Thailand', 'Togo', 'Tunisia', 'Turkey', 'US', 'Ukraine', 'United Arab Emirates', 'United Kingdom', 'Vietnam']\n"
     ]
    }
   ],
   "source": [
    "\n",
    "countries=list(df.groupby('Country/Region').groups.keys())\n",
    "print(countries)\n"
   ]
  },
  {
   "cell_type": "code",
   "execution_count": 12,
   "metadata": {
    "pycharm": {
     "is_executing": false
    }
   },
   "outputs": [
    {
     "name": "stdout",
     "output_type": "stream",
     "text": [
      "        bin_lat        bin_long  3/11/20   long   lat\n",
      "0  (20.0, 60.0]   (95.0, 116.0]   3117.0  105.5  40.0\n",
      "1  (20.0, 60.0]    (11.0, 32.0]    833.0   21.5  40.0\n",
      "2  (20.0, 60.0]    (53.0, 74.0]    354.0   63.5  40.0\n",
      "3  (20.0, 60.0]   (-11.0, 11.0]    127.0    0.0  40.0\n",
      "4  (20.0, 60.0]  (116.0, 138.0]     96.0  127.0  40.0\n",
      "\n",
      " Maximum death toll: 3046 in Hubei, China\n",
      "\n",
      "Total deaths:  4647\n"
     ]
    }
   ],
   "source": [
    "# Group cumulative stats by lat/long coordinates since the number of deaths by province/state is sparse\n",
    "\n",
    "latest['long']=latest['bin_long'].map({i:i.mid for i in latest['bin_long']})\n",
    "\n",
    "latest['lat']=latest['bin_lat'].map({i:i.mid for i in latest['bin_lat']})\n",
    "\n",
    "print(latest.head())\n",
    "max_country=df[df[today]==df[today].max()]['Country/Region'].values[0]\n",
    "max_province=df.iloc[df[df[today]==df[today].max()]['Country/Region'].index]['Province/State'].values[0]\n",
    "print('\\n Maximum death toll: {} in {}, {}\\n'.format(df[today].max(),max_province, max_country))\n",
    "total_deaths=df[today].sum()\n",
    "print('Total deaths: ', total_deaths)"
   ]
  },
  {
   "cell_type": "code",
   "execution_count": 13,
   "metadata": {
    "pycharm": {
     "is_executing": false
    }
   },
   "outputs": [],
   "source": [
    "states=df['Province/State'].values"
   ]
  },
  {
   "cell_type": "code",
   "execution_count": 25,
   "metadata": {
    "pycharm": {
     "is_executing": false
    }
   },
   "outputs": [
    {
     "data": {
      "text/html": [
       "<div>\n",
       "        \n",
       "        \n",
       "            <div id=\"5915ae8b-42d5-4df3-b8da-fcebc6b80d99\" class=\"plotly-graph-div\" style=\"height:600px; width:100%;\"></div>\n",
       "            <script type=\"text/javascript\">\n",
       "                require([\"plotly\"], function(Plotly) {\n",
       "                    window.PLOTLYENV=window.PLOTLYENV || {};\n",
       "                    \n",
       "                if (document.getElementById(\"5915ae8b-42d5-4df3-b8da-fcebc6b80d99\")) {\n",
       "                    Plotly.newPlot(\n",
       "                        '5915ae8b-42d5-4df3-b8da-fcebc6b80d99',\n",
       "                        [{\"coloraxis\": \"coloraxis\", \"hoverlabel\": {\"namelength\": 0}, \"hovertemplate\": \"scaled_deaths=%{z}<br>lat=%{lat}<br>long=%{lon}\", \"lat\": [40.0, 40.0, 40.0, 40.0, 40.0, 40.0, 40.0, 40.0, 0.0, 40.0, 40.0, -40.0, 40.0, 0.0, 0.0, -40.0, 80.0, -40.0, 40.0], \"lon\": [105.5, 21.5, 63.5, 0.0, 127.0, -127.0, 148.5, 42.5, 105.5, -84.5, 84.5, 148.5, -105.5, 127.0, -84.5, 105.5, 21.5, -63.5, -63.5], \"name\": \"\", \"radius\": 25, \"subplot\": \"mapbox\", \"type\": \"densitymapbox\", \"z\": [64.71601198112327, 45.226077488275834, 34.44864625452165, 23.466148528612173, 20.833274412955706, 16.899283927143212, 9.554543448463397, 5.301898110478399, 4.324077125263812, 2.5902903939802346, 1.9218120556728056, 0.4804530139182014, 0.4804530139182014, 0.0, 0.0, 0.0, 0.0, 0.0, 0.0]}],\n",
       "                        {\"coloraxis\": {\"colorbar\": {\"title\": {\"text\": \"scaled_deaths\"}}, \"colorscale\": [[0.0, \"#0d0887\"], [0.1111111111111111, \"#46039f\"], [0.2222222222222222, \"#7201a8\"], [0.3333333333333333, \"#9c179e\"], [0.4444444444444444, \"#bd3786\"], [0.5555555555555556, \"#d8576b\"], [0.6666666666666666, \"#ed7953\"], [0.7777777777777778, \"#fb9f3a\"], [0.8888888888888888, \"#fdca26\"], [1.0, \"#f0f921\"]]}, \"height\": 600, \"legend\": {\"tracegroupgap\": 0}, \"mapbox\": {\"center\": {\"lat\": 30, \"lon\": 110}, \"domain\": {\"x\": [0.0, 1.0], \"y\": [0.0, 1.0]}, \"style\": \"carto-positron\", \"zoom\": 1}, \"template\": {\"data\": {\"bar\": [{\"error_x\": {\"color\": \"#2a3f5f\"}, \"error_y\": {\"color\": \"#2a3f5f\"}, \"marker\": {\"line\": {\"color\": \"#E5ECF6\", \"width\": 0.5}}, \"type\": \"bar\"}], \"barpolar\": [{\"marker\": {\"line\": {\"color\": \"#E5ECF6\", \"width\": 0.5}}, \"type\": \"barpolar\"}], \"carpet\": [{\"aaxis\": {\"endlinecolor\": \"#2a3f5f\", \"gridcolor\": \"white\", \"linecolor\": \"white\", \"minorgridcolor\": \"white\", \"startlinecolor\": \"#2a3f5f\"}, \"baxis\": {\"endlinecolor\": \"#2a3f5f\", \"gridcolor\": \"white\", \"linecolor\": \"white\", \"minorgridcolor\": \"white\", \"startlinecolor\": \"#2a3f5f\"}, \"type\": \"carpet\"}], \"choropleth\": [{\"colorbar\": {\"outlinewidth\": 0, \"ticks\": \"\"}, \"type\": \"choropleth\"}], \"contour\": [{\"colorbar\": {\"outlinewidth\": 0, \"ticks\": \"\"}, \"colorscale\": [[0.0, \"#0d0887\"], [0.1111111111111111, \"#46039f\"], [0.2222222222222222, \"#7201a8\"], [0.3333333333333333, \"#9c179e\"], [0.4444444444444444, \"#bd3786\"], [0.5555555555555556, \"#d8576b\"], [0.6666666666666666, \"#ed7953\"], [0.7777777777777778, \"#fb9f3a\"], [0.8888888888888888, \"#fdca26\"], [1.0, \"#f0f921\"]], \"type\": \"contour\"}], \"contourcarpet\": [{\"colorbar\": {\"outlinewidth\": 0, \"ticks\": \"\"}, \"type\": \"contourcarpet\"}], \"heatmap\": [{\"colorbar\": {\"outlinewidth\": 0, \"ticks\": \"\"}, \"colorscale\": [[0.0, \"#0d0887\"], [0.1111111111111111, \"#46039f\"], [0.2222222222222222, \"#7201a8\"], [0.3333333333333333, \"#9c179e\"], [0.4444444444444444, \"#bd3786\"], [0.5555555555555556, \"#d8576b\"], [0.6666666666666666, \"#ed7953\"], [0.7777777777777778, \"#fb9f3a\"], [0.8888888888888888, \"#fdca26\"], [1.0, \"#f0f921\"]], \"type\": \"heatmap\"}], \"heatmapgl\": [{\"colorbar\": {\"outlinewidth\": 0, \"ticks\": \"\"}, \"colorscale\": [[0.0, \"#0d0887\"], [0.1111111111111111, \"#46039f\"], [0.2222222222222222, \"#7201a8\"], [0.3333333333333333, \"#9c179e\"], [0.4444444444444444, \"#bd3786\"], [0.5555555555555556, \"#d8576b\"], [0.6666666666666666, \"#ed7953\"], [0.7777777777777778, \"#fb9f3a\"], [0.8888888888888888, \"#fdca26\"], [1.0, \"#f0f921\"]], \"type\": \"heatmapgl\"}], \"histogram\": [{\"marker\": {\"colorbar\": {\"outlinewidth\": 0, \"ticks\": \"\"}}, \"type\": \"histogram\"}], \"histogram2d\": [{\"colorbar\": {\"outlinewidth\": 0, \"ticks\": \"\"}, \"colorscale\": [[0.0, \"#0d0887\"], [0.1111111111111111, \"#46039f\"], [0.2222222222222222, \"#7201a8\"], [0.3333333333333333, \"#9c179e\"], [0.4444444444444444, \"#bd3786\"], [0.5555555555555556, \"#d8576b\"], [0.6666666666666666, \"#ed7953\"], [0.7777777777777778, \"#fb9f3a\"], [0.8888888888888888, \"#fdca26\"], [1.0, \"#f0f921\"]], \"type\": \"histogram2d\"}], \"histogram2dcontour\": [{\"colorbar\": {\"outlinewidth\": 0, \"ticks\": \"\"}, \"colorscale\": [[0.0, \"#0d0887\"], [0.1111111111111111, \"#46039f\"], [0.2222222222222222, \"#7201a8\"], [0.3333333333333333, \"#9c179e\"], [0.4444444444444444, \"#bd3786\"], [0.5555555555555556, \"#d8576b\"], [0.6666666666666666, \"#ed7953\"], [0.7777777777777778, \"#fb9f3a\"], [0.8888888888888888, \"#fdca26\"], [1.0, \"#f0f921\"]], \"type\": \"histogram2dcontour\"}], \"mesh3d\": [{\"colorbar\": {\"outlinewidth\": 0, \"ticks\": \"\"}, \"type\": \"mesh3d\"}], \"parcoords\": [{\"line\": {\"colorbar\": {\"outlinewidth\": 0, \"ticks\": \"\"}}, \"type\": \"parcoords\"}], \"pie\": [{\"automargin\": true, \"type\": \"pie\"}], \"scatter\": [{\"marker\": {\"colorbar\": {\"outlinewidth\": 0, \"ticks\": \"\"}}, \"type\": \"scatter\"}], \"scatter3d\": [{\"line\": {\"colorbar\": {\"outlinewidth\": 0, \"ticks\": \"\"}}, \"marker\": {\"colorbar\": {\"outlinewidth\": 0, \"ticks\": \"\"}}, \"type\": \"scatter3d\"}], \"scattercarpet\": [{\"marker\": {\"colorbar\": {\"outlinewidth\": 0, \"ticks\": \"\"}}, \"type\": \"scattercarpet\"}], \"scattergeo\": [{\"marker\": {\"colorbar\": {\"outlinewidth\": 0, \"ticks\": \"\"}}, \"type\": \"scattergeo\"}], \"scattergl\": [{\"marker\": {\"colorbar\": {\"outlinewidth\": 0, \"ticks\": \"\"}}, \"type\": \"scattergl\"}], \"scattermapbox\": [{\"marker\": {\"colorbar\": {\"outlinewidth\": 0, \"ticks\": \"\"}}, \"type\": \"scattermapbox\"}], \"scatterpolar\": [{\"marker\": {\"colorbar\": {\"outlinewidth\": 0, \"ticks\": \"\"}}, \"type\": \"scatterpolar\"}], \"scatterpolargl\": [{\"marker\": {\"colorbar\": {\"outlinewidth\": 0, \"ticks\": \"\"}}, \"type\": \"scatterpolargl\"}], \"scatterternary\": [{\"marker\": {\"colorbar\": {\"outlinewidth\": 0, \"ticks\": \"\"}}, \"type\": \"scatterternary\"}], \"surface\": [{\"colorbar\": {\"outlinewidth\": 0, \"ticks\": \"\"}, \"colorscale\": [[0.0, \"#0d0887\"], [0.1111111111111111, \"#46039f\"], [0.2222222222222222, \"#7201a8\"], [0.3333333333333333, \"#9c179e\"], [0.4444444444444444, \"#bd3786\"], [0.5555555555555556, \"#d8576b\"], [0.6666666666666666, \"#ed7953\"], [0.7777777777777778, \"#fb9f3a\"], [0.8888888888888888, \"#fdca26\"], [1.0, \"#f0f921\"]], \"type\": \"surface\"}], \"table\": [{\"cells\": {\"fill\": {\"color\": \"#EBF0F8\"}, \"line\": {\"color\": \"white\"}}, \"header\": {\"fill\": {\"color\": \"#C8D4E3\"}, \"line\": {\"color\": \"white\"}}, \"type\": \"table\"}]}, \"layout\": {\"annotationdefaults\": {\"arrowcolor\": \"#2a3f5f\", \"arrowhead\": 0, \"arrowwidth\": 1}, \"coloraxis\": {\"colorbar\": {\"outlinewidth\": 0, \"ticks\": \"\"}}, \"colorscale\": {\"diverging\": [[0, \"#8e0152\"], [0.1, \"#c51b7d\"], [0.2, \"#de77ae\"], [0.3, \"#f1b6da\"], [0.4, \"#fde0ef\"], [0.5, \"#f7f7f7\"], [0.6, \"#e6f5d0\"], [0.7, \"#b8e186\"], [0.8, \"#7fbc41\"], [0.9, \"#4d9221\"], [1, \"#276419\"]], \"sequential\": [[0.0, \"#0d0887\"], [0.1111111111111111, \"#46039f\"], [0.2222222222222222, \"#7201a8\"], [0.3333333333333333, \"#9c179e\"], [0.4444444444444444, \"#bd3786\"], [0.5555555555555556, \"#d8576b\"], [0.6666666666666666, \"#ed7953\"], [0.7777777777777778, \"#fb9f3a\"], [0.8888888888888888, \"#fdca26\"], [1.0, \"#f0f921\"]], \"sequentialminus\": [[0.0, \"#0d0887\"], [0.1111111111111111, \"#46039f\"], [0.2222222222222222, \"#7201a8\"], [0.3333333333333333, \"#9c179e\"], [0.4444444444444444, \"#bd3786\"], [0.5555555555555556, \"#d8576b\"], [0.6666666666666666, \"#ed7953\"], [0.7777777777777778, \"#fb9f3a\"], [0.8888888888888888, \"#fdca26\"], [1.0, \"#f0f921\"]]}, \"colorway\": [\"#636efa\", \"#EF553B\", \"#00cc96\", \"#ab63fa\", \"#FFA15A\", \"#19d3f3\", \"#FF6692\", \"#B6E880\", \"#FF97FF\", \"#FECB52\"], \"font\": {\"color\": \"#2a3f5f\"}, \"geo\": {\"bgcolor\": \"white\", \"lakecolor\": \"white\", \"landcolor\": \"#E5ECF6\", \"showlakes\": true, \"showland\": true, \"subunitcolor\": \"white\"}, \"hoverlabel\": {\"align\": \"left\"}, \"hovermode\": \"closest\", \"mapbox\": {\"style\": \"light\"}, \"paper_bgcolor\": \"white\", \"plot_bgcolor\": \"#E5ECF6\", \"polar\": {\"angularaxis\": {\"gridcolor\": \"white\", \"linecolor\": \"white\", \"ticks\": \"\"}, \"bgcolor\": \"#E5ECF6\", \"radialaxis\": {\"gridcolor\": \"white\", \"linecolor\": \"white\", \"ticks\": \"\"}}, \"scene\": {\"xaxis\": {\"backgroundcolor\": \"#E5ECF6\", \"gridcolor\": \"white\", \"gridwidth\": 2, \"linecolor\": \"white\", \"showbackground\": true, \"ticks\": \"\", \"zerolinecolor\": \"white\"}, \"yaxis\": {\"backgroundcolor\": \"#E5ECF6\", \"gridcolor\": \"white\", \"gridwidth\": 2, \"linecolor\": \"white\", \"showbackground\": true, \"ticks\": \"\", \"zerolinecolor\": \"white\"}, \"zaxis\": {\"backgroundcolor\": \"#E5ECF6\", \"gridcolor\": \"white\", \"gridwidth\": 2, \"linecolor\": \"white\", \"showbackground\": true, \"ticks\": \"\", \"zerolinecolor\": \"white\"}}, \"shapedefaults\": {\"line\": {\"color\": \"#2a3f5f\"}}, \"ternary\": {\"aaxis\": {\"gridcolor\": \"white\", \"linecolor\": \"white\", \"ticks\": \"\"}, \"baxis\": {\"gridcolor\": \"white\", \"linecolor\": \"white\", \"ticks\": \"\"}, \"bgcolor\": \"#E5ECF6\", \"caxis\": {\"gridcolor\": \"white\", \"linecolor\": \"white\", \"ticks\": \"\"}}, \"title\": {\"x\": 0.05}, \"xaxis\": {\"automargin\": true, \"gridcolor\": \"white\", \"linecolor\": \"white\", \"ticks\": \"\", \"title\": {\"standoff\": 15}, \"zerolinecolor\": \"white\", \"zerolinewidth\": 2}, \"yaxis\": {\"automargin\": true, \"gridcolor\": \"white\", \"linecolor\": \"white\", \"ticks\": \"\", \"title\": {\"standoff\": 15}, \"zerolinecolor\": \"white\", \"zerolinewidth\": 2}}}, \"title\": {\"text\": \"Map of Death Counts\"}},\n",
       "                        {\"responsive\": true}\n",
       "                    ).then(function(){\n",
       "                            \n",
       "var gd = document.getElementById('5915ae8b-42d5-4df3-b8da-fcebc6b80d99');\n",
       "var x = new MutationObserver(function (mutations, observer) {{\n",
       "        var display = window.getComputedStyle(gd).display;\n",
       "        if (!display || display === 'none') {{\n",
       "            console.log([gd, 'removed!']);\n",
       "            Plotly.purge(gd);\n",
       "            observer.disconnect();\n",
       "        }}\n",
       "}});\n",
       "\n",
       "// Listen for the removal of the full notebook cells\n",
       "var notebookContainer = gd.closest('#notebook-container');\n",
       "if (notebookContainer) {{\n",
       "    x.observe(notebookContainer, {childList: true});\n",
       "}}\n",
       "\n",
       "// Listen for the clearing of the current output cell\n",
       "var outputEl = gd.closest('.output');\n",
       "if (outputEl) {{\n",
       "    x.observe(outputEl, {childList: true});\n",
       "}}\n",
       "\n",
       "                        })\n",
       "                };\n",
       "                });\n",
       "            </script>\n",
       "        </div>"
      ]
     },
     "metadata": {},
     "output_type": "display_data"
    }
   ],
   "source": [
    "# Global density plot of Deaths\n",
    "latest['scaled_deaths']=np.log(latest[today])**2\n",
    "\n",
    "fig = px.density_mapbox(latest, lat='lat', lon='long', z='scaled_deaths', title=\"Map of Death Counts\", radius=25, height=600,\n",
    "                        center=dict(lat=30, lon=110), zoom=1,\n",
    "                        mapbox_style=\"carto-positron\")\n",
    "fig"
   ]
  },
  {
   "cell_type": "code",
   "execution_count": 15,
   "metadata": {
    "pycharm": {
     "is_executing": false
    }
   },
   "outputs": [],
   "source": [
    "# fig_mod = go.Figure(fig)\n",
    "\n",
    "# max_deaths=max(latest['scaled_deaths'])\n",
    "# fig_mod.update_layout(hovertext='today')\n",
    "# fig_mod.show()"
   ]
  },
  {
   "cell_type": "code",
   "execution_count": 16,
   "metadata": {
    "pycharm": {
     "is_executing": false
    }
   },
   "outputs": [
    {
     "name": "stdout",
     "output_type": "stream",
     "text": [
      "Scatter Plot of Countries/Regions where Deaths>0 as of 3/11/20\n"
     ]
    },
    {
     "data": {
      "text/html": [
       "<div>\n",
       "        \n",
       "        \n",
       "            <div id=\"777446de-6bc0-4165-9076-524ddcddb68a\" class=\"plotly-graph-div\" style=\"height:600px; width:100%;\"></div>\n",
       "            <script type=\"text/javascript\">\n",
       "                require([\"plotly\"], function(Plotly) {\n",
       "                    window.PLOTLYENV=window.PLOTLYENV || {};\n",
       "                    \n",
       "                if (document.getElementById(\"777446de-6bc0-4165-9076-524ddcddb68a\")) {\n",
       "                    Plotly.newPlot(\n",
       "                        '777446de-6bc0-4165-9076-524ddcddb68a',\n",
       "                        [{\"customdata\": [[101.0, 15.0, \"Thailand\", 1], [138.0, 36.0, \"Japan\", 15], [-123.1207, 49.2827, \"British Columbia\", 1], [151.2093, -33.8688, \"New South Wales\", 2], [9.0, 51.0, \"Germany\", 3], [122.0, 13.0, \"Philippines\", 1], [78.0, 21.0, \"India\", 1], [12.0, 43.0, \"Italy\", 827], [16.0, 63.0, \"Sweden\", 1], [-4.0, 40.0, \"Spain\", 54], [4.0, 50.8333, \"Belgium\", 3], [30.0, 26.0, \"Egypt\", 1], [35.8623, 33.8547, \"Lebanon\", 3], [44.0, 33.0, \"Iraq\", 7], [8.2275, 46.8182, \"Switzerland\", 4], [21.8243, 39.0742, \"Greece\", 1], [5.2913, 52.1326, \"Netherlands\", 5], [12.4578, 43.9424, \"San Marino\", 2], [115.8605, -31.9505, \"Western Australia\", 1], [-7.6921, 53.1424, \"Ireland\", 1], [113.9213, -0.7893, \"Indonesia\", 1], [-7.0926, 31.7917, \"Morocco\", 1], [-63.6167, -38.4161, \"Argentina\", 1], [25.4858, 42.7339, \"Bulgaria\", 1], [20.1683, 41.1533, \"Albania\", 1], [-121.4905, 47.4009, \"Washington\", 29], [-119.6816, 36.1162, \"California\", 3], [-81.6868, 27.7663, \"Florida\", 2], [-74.521, 40.2989, \"New Jersey\", 1], [-80.7821, 8.538, \"Panama\", 1], [-99.4388, 44.2998, \"South Dakota\", 1], [112.2707, 30.9756, \"Hubei\", 3046], [53.0, 32.0, \"Iran\", 354], [128.0, 36.0, \"Korea, South\", 60], [2.2137, 46.2276, \"France\", 48], [113.4244, 23.3417, \"Guangdong\", 8], [113.61399999999999, 33.882, \"Henan\", 22], [120.0934, 29.1832, \"Zhejiang\", 1], [111.7088, 27.6104, \"Hunan\", 4], [117.2264, 31.8257, \"Anhui\", 6], [115.7221, 27.614, \"Jiangxi\", 1], [118.1498, 36.3427, \"Shandong\", 6], [139.638, 35.4437, \"Diamond Princess\", 7], [107.874, 30.0572, \"Chongqing\", 6], [102.7103, 30.6171, \"Sichuan\", 3], [127.7615, 47.861999999999995, \"Heilongjiang\", 13], [-3.4360000000000004, 55.3781, \"UK\", 8], [116.4142, 40.1824, \"Beijing\", 8], [121.4491, 31.201999999999998, \"Shanghai\", 3], [116.1306, 39.549, \"Hebei\", 6], [117.9874, 26.0789, \"Fujian\", 1], [108.7881, 23.8298, \"Guangxi\", 2], [108.8701, 35.1917, \"Shaanxi\", 1], [101.48700000000001, 24.974, \"Yunnan\", 2], [109.7453, 19.1959, \"Hainan\", 6], [106.8748, 26.8154, \"Guizhou\", 2], [117.323, 39.3054, \"Tianjin\", 3], [101.0583, 37.8099, \"Gansu\", 2], [114.2, 22.3, \"Hong Kong\", 3], [122.6085, 41.2956, \"Liaoning\", 1], [126.1923, 43.6661, \"Jilin\", 1], [85.2401, 41.1129, \"Xinjiang\", 3], [113.9448, 44.0935, \"Inner Mongolia\", 1], [121.0, 23.7, \"Taiwan*\", 1], [-81.9535, 26.663, \"Lee County, FL\", 1], [-121.9552, 37.3541, \"Santa Clara County, CA\", 1], [-119.3732, 47.1981, \"Grant County, WA\", 1], [-86.9824, 30.769000000000002, \"Santa Rosa County, FL\", 1], [-74.077, 40.9263, \"Bergen County, NJ\", 1], [-120.8039, 39.0916, \"Placer County, CA\", 1], [-121.8339, 48.033, \"Snohomish County, WA\", 1], [-121.3542, 38.4747, \"Sacramento County, CA\", 1], [-118.2437, 34.0522, \"Los Angeles, CA\", 1], [-122.3321, 47.6062, \"King County, WA\", 22], [-102.2548, 43.8901, \"Pennington, SD\", 1]], \"hoverlabel\": {\"namelength\": 0}, \"hovertemplate\": \"<b>%{hovertext}</b><br><br>Long=%{lon}<br>Lat=%{lat}<br>Province/State=%{customdata[2]}<br>3/11/20=%{customdata[3]}\", \"hovertext\": [\"Thailand\", \"Japan\", \"Canada\", \"Australia\", \"Germany\", \"Philippines\", \"India\", \"Italy\", \"Sweden\", \"Spain\", \"Belgium\", \"Egypt\", \"Lebanon\", \"Iraq\", \"Switzerland\", \"Greece\", \"Netherlands\", \"San Marino\", \"Australia\", \"Ireland\", \"Indonesia\", \"Morocco\", \"Argentina\", \"Bulgaria\", \"Albania\", \"US\", \"US\", \"US\", \"US\", \"Panama\", \"US\", \"China\", \"Iran\", \"Korea, South\", \"France\", \"China\", \"China\", \"China\", \"China\", \"China\", \"China\", \"China\", \"Cruise Ship\", \"China\", \"China\", \"China\", \"United Kingdom\", \"China\", \"China\", \"China\", \"China\", \"China\", \"China\", \"China\", \"China\", \"China\", \"China\", \"China\", \"China\", \"China\", \"China\", \"China\", \"China\", \"Taiwan*\", \"US\", \"US\", \"US\", \"US\", \"US\", \"US\", \"US\", \"US\", \"US\", \"US\", \"US\"], \"lat\": [15.0, 36.0, 49.2827, -33.8688, 51.0, 13.0, 21.0, 43.0, 63.0, 40.0, 50.8333, 26.0, 33.8547, 33.0, 46.8182, 39.0742, 52.1326, 43.9424, -31.9505, 53.1424, -0.7893, 31.7917, -38.4161, 42.7339, 41.1533, 47.4009, 36.1162, 27.7663, 40.2989, 8.538, 44.2998, 30.9756, 32.0, 36.0, 46.2276, 23.3417, 33.882, 29.1832, 27.6104, 31.8257, 27.614, 36.3427, 35.4437, 30.0572, 30.6171, 47.861999999999995, 55.3781, 40.1824, 31.201999999999998, 39.549, 26.0789, 23.8298, 35.1917, 24.974, 19.1959, 26.8154, 39.3054, 37.8099, 22.3, 41.2956, 43.6661, 41.1129, 44.0935, 23.7, 26.663, 37.3541, 47.1981, 30.769000000000002, 40.9263, 39.0916, 48.033, 38.4747, 34.0522, 47.6062, 43.8901], \"legendgroup\": \"\", \"lon\": [101.0, 138.0, -123.1207, 151.2093, 9.0, 122.0, 78.0, 12.0, 16.0, -4.0, 4.0, 30.0, 35.8623, 44.0, 8.2275, 21.8243, 5.2913, 12.4578, 115.8605, -7.6921, 113.9213, -7.0926, -63.6167, 25.4858, 20.1683, -121.4905, -119.6816, -81.6868, -74.521, -80.7821, -99.4388, 112.2707, 53.0, 128.0, 2.2137, 113.4244, 113.61399999999999, 120.0934, 111.7088, 117.2264, 115.7221, 118.1498, 139.638, 107.874, 102.7103, 127.7615, -3.4360000000000004, 116.4142, 121.4491, 116.1306, 117.9874, 108.7881, 108.8701, 101.48700000000001, 109.7453, 106.8748, 117.323, 101.0583, 114.2, 122.6085, 126.1923, 85.2401, 113.9448, 121.0, -81.9535, -121.9552, -119.3732, -86.9824, -74.077, -120.8039, -121.8339, -121.3542, -118.2437, -122.3321, -102.2548], \"marker\": {\"color\": \"fuchsia\"}, \"mode\": \"markers\", \"name\": \"\", \"showlegend\": false, \"subplot\": \"mapbox\", \"type\": \"scattermapbox\"}],\n",
       "                        {\"height\": 600, \"legend\": {\"tracegroupgap\": 0}, \"mapbox\": {\"center\": {\"lat\": 32.98502133333334, \"lon\": 34.39075066666667}, \"domain\": {\"x\": [0.0, 1.0], \"y\": [0.0, 1.0]}, \"style\": \"open-street-map\", \"zoom\": 1}, \"margin\": {\"t\": 60}, \"template\": {\"data\": {\"bar\": [{\"error_x\": {\"color\": \"#2a3f5f\"}, \"error_y\": {\"color\": \"#2a3f5f\"}, \"marker\": {\"line\": {\"color\": \"#E5ECF6\", \"width\": 0.5}}, \"type\": \"bar\"}], \"barpolar\": [{\"marker\": {\"line\": {\"color\": \"#E5ECF6\", \"width\": 0.5}}, \"type\": \"barpolar\"}], \"carpet\": [{\"aaxis\": {\"endlinecolor\": \"#2a3f5f\", \"gridcolor\": \"white\", \"linecolor\": \"white\", \"minorgridcolor\": \"white\", \"startlinecolor\": \"#2a3f5f\"}, \"baxis\": {\"endlinecolor\": \"#2a3f5f\", \"gridcolor\": \"white\", \"linecolor\": \"white\", \"minorgridcolor\": \"white\", \"startlinecolor\": \"#2a3f5f\"}, \"type\": \"carpet\"}], \"choropleth\": [{\"colorbar\": {\"outlinewidth\": 0, \"ticks\": \"\"}, \"type\": \"choropleth\"}], \"contour\": [{\"colorbar\": {\"outlinewidth\": 0, \"ticks\": \"\"}, \"colorscale\": [[0.0, \"#0d0887\"], [0.1111111111111111, \"#46039f\"], [0.2222222222222222, \"#7201a8\"], [0.3333333333333333, \"#9c179e\"], [0.4444444444444444, \"#bd3786\"], [0.5555555555555556, \"#d8576b\"], [0.6666666666666666, \"#ed7953\"], [0.7777777777777778, \"#fb9f3a\"], [0.8888888888888888, \"#fdca26\"], [1.0, \"#f0f921\"]], \"type\": \"contour\"}], \"contourcarpet\": [{\"colorbar\": {\"outlinewidth\": 0, \"ticks\": \"\"}, \"type\": \"contourcarpet\"}], \"heatmap\": [{\"colorbar\": {\"outlinewidth\": 0, \"ticks\": \"\"}, \"colorscale\": [[0.0, \"#0d0887\"], [0.1111111111111111, \"#46039f\"], [0.2222222222222222, \"#7201a8\"], [0.3333333333333333, \"#9c179e\"], [0.4444444444444444, \"#bd3786\"], [0.5555555555555556, \"#d8576b\"], [0.6666666666666666, \"#ed7953\"], [0.7777777777777778, \"#fb9f3a\"], [0.8888888888888888, \"#fdca26\"], [1.0, \"#f0f921\"]], \"type\": \"heatmap\"}], \"heatmapgl\": [{\"colorbar\": {\"outlinewidth\": 0, \"ticks\": \"\"}, \"colorscale\": [[0.0, \"#0d0887\"], [0.1111111111111111, \"#46039f\"], [0.2222222222222222, \"#7201a8\"], [0.3333333333333333, \"#9c179e\"], [0.4444444444444444, \"#bd3786\"], [0.5555555555555556, \"#d8576b\"], [0.6666666666666666, \"#ed7953\"], [0.7777777777777778, \"#fb9f3a\"], [0.8888888888888888, \"#fdca26\"], [1.0, \"#f0f921\"]], \"type\": \"heatmapgl\"}], \"histogram\": [{\"marker\": {\"colorbar\": {\"outlinewidth\": 0, \"ticks\": \"\"}}, \"type\": \"histogram\"}], \"histogram2d\": [{\"colorbar\": {\"outlinewidth\": 0, \"ticks\": \"\"}, \"colorscale\": [[0.0, \"#0d0887\"], [0.1111111111111111, \"#46039f\"], [0.2222222222222222, \"#7201a8\"], [0.3333333333333333, \"#9c179e\"], [0.4444444444444444, \"#bd3786\"], [0.5555555555555556, \"#d8576b\"], [0.6666666666666666, \"#ed7953\"], [0.7777777777777778, \"#fb9f3a\"], [0.8888888888888888, \"#fdca26\"], [1.0, \"#f0f921\"]], \"type\": \"histogram2d\"}], \"histogram2dcontour\": [{\"colorbar\": {\"outlinewidth\": 0, \"ticks\": \"\"}, \"colorscale\": [[0.0, \"#0d0887\"], [0.1111111111111111, \"#46039f\"], [0.2222222222222222, \"#7201a8\"], [0.3333333333333333, \"#9c179e\"], [0.4444444444444444, \"#bd3786\"], [0.5555555555555556, \"#d8576b\"], [0.6666666666666666, \"#ed7953\"], [0.7777777777777778, \"#fb9f3a\"], [0.8888888888888888, \"#fdca26\"], [1.0, \"#f0f921\"]], \"type\": \"histogram2dcontour\"}], \"mesh3d\": [{\"colorbar\": {\"outlinewidth\": 0, \"ticks\": \"\"}, \"type\": \"mesh3d\"}], \"parcoords\": [{\"line\": {\"colorbar\": {\"outlinewidth\": 0, \"ticks\": \"\"}}, \"type\": \"parcoords\"}], \"pie\": [{\"automargin\": true, \"type\": \"pie\"}], \"scatter\": [{\"marker\": {\"colorbar\": {\"outlinewidth\": 0, \"ticks\": \"\"}}, \"type\": \"scatter\"}], \"scatter3d\": [{\"line\": {\"colorbar\": {\"outlinewidth\": 0, \"ticks\": \"\"}}, \"marker\": {\"colorbar\": {\"outlinewidth\": 0, \"ticks\": \"\"}}, \"type\": \"scatter3d\"}], \"scattercarpet\": [{\"marker\": {\"colorbar\": {\"outlinewidth\": 0, \"ticks\": \"\"}}, \"type\": \"scattercarpet\"}], \"scattergeo\": [{\"marker\": {\"colorbar\": {\"outlinewidth\": 0, \"ticks\": \"\"}}, \"type\": \"scattergeo\"}], \"scattergl\": [{\"marker\": {\"colorbar\": {\"outlinewidth\": 0, \"ticks\": \"\"}}, \"type\": \"scattergl\"}], \"scattermapbox\": [{\"marker\": {\"colorbar\": {\"outlinewidth\": 0, \"ticks\": \"\"}}, \"type\": \"scattermapbox\"}], \"scatterpolar\": [{\"marker\": {\"colorbar\": {\"outlinewidth\": 0, \"ticks\": \"\"}}, \"type\": \"scatterpolar\"}], \"scatterpolargl\": [{\"marker\": {\"colorbar\": {\"outlinewidth\": 0, \"ticks\": \"\"}}, \"type\": \"scatterpolargl\"}], \"scatterternary\": [{\"marker\": {\"colorbar\": {\"outlinewidth\": 0, \"ticks\": \"\"}}, \"type\": \"scatterternary\"}], \"surface\": [{\"colorbar\": {\"outlinewidth\": 0, \"ticks\": \"\"}, \"colorscale\": [[0.0, \"#0d0887\"], [0.1111111111111111, \"#46039f\"], [0.2222222222222222, \"#7201a8\"], [0.3333333333333333, \"#9c179e\"], [0.4444444444444444, \"#bd3786\"], [0.5555555555555556, \"#d8576b\"], [0.6666666666666666, \"#ed7953\"], [0.7777777777777778, \"#fb9f3a\"], [0.8888888888888888, \"#fdca26\"], [1.0, \"#f0f921\"]], \"type\": \"surface\"}], \"table\": [{\"cells\": {\"fill\": {\"color\": \"#EBF0F8\"}, \"line\": {\"color\": \"white\"}}, \"header\": {\"fill\": {\"color\": \"#C8D4E3\"}, \"line\": {\"color\": \"white\"}}, \"type\": \"table\"}]}, \"layout\": {\"annotationdefaults\": {\"arrowcolor\": \"#2a3f5f\", \"arrowhead\": 0, \"arrowwidth\": 1}, \"coloraxis\": {\"colorbar\": {\"outlinewidth\": 0, \"ticks\": \"\"}}, \"colorscale\": {\"diverging\": [[0, \"#8e0152\"], [0.1, \"#c51b7d\"], [0.2, \"#de77ae\"], [0.3, \"#f1b6da\"], [0.4, \"#fde0ef\"], [0.5, \"#f7f7f7\"], [0.6, \"#e6f5d0\"], [0.7, \"#b8e186\"], [0.8, \"#7fbc41\"], [0.9, \"#4d9221\"], [1, \"#276419\"]], \"sequential\": [[0.0, \"#0d0887\"], [0.1111111111111111, \"#46039f\"], [0.2222222222222222, \"#7201a8\"], [0.3333333333333333, \"#9c179e\"], [0.4444444444444444, \"#bd3786\"], [0.5555555555555556, \"#d8576b\"], [0.6666666666666666, \"#ed7953\"], [0.7777777777777778, \"#fb9f3a\"], [0.8888888888888888, \"#fdca26\"], [1.0, \"#f0f921\"]], \"sequentialminus\": [[0.0, \"#0d0887\"], [0.1111111111111111, \"#46039f\"], [0.2222222222222222, \"#7201a8\"], [0.3333333333333333, \"#9c179e\"], [0.4444444444444444, \"#bd3786\"], [0.5555555555555556, \"#d8576b\"], [0.6666666666666666, \"#ed7953\"], [0.7777777777777778, \"#fb9f3a\"], [0.8888888888888888, \"#fdca26\"], [1.0, \"#f0f921\"]]}, \"colorway\": [\"#636efa\", \"#EF553B\", \"#00cc96\", \"#ab63fa\", \"#FFA15A\", \"#19d3f3\", \"#FF6692\", \"#B6E880\", \"#FF97FF\", \"#FECB52\"], \"font\": {\"color\": \"#2a3f5f\"}, \"geo\": {\"bgcolor\": \"white\", \"lakecolor\": \"white\", \"landcolor\": \"#E5ECF6\", \"showlakes\": true, \"showland\": true, \"subunitcolor\": \"white\"}, \"hoverlabel\": {\"align\": \"left\"}, \"hovermode\": \"closest\", \"mapbox\": {\"style\": \"light\"}, \"paper_bgcolor\": \"white\", \"plot_bgcolor\": \"#E5ECF6\", \"polar\": {\"angularaxis\": {\"gridcolor\": \"white\", \"linecolor\": \"white\", \"ticks\": \"\"}, \"bgcolor\": \"#E5ECF6\", \"radialaxis\": {\"gridcolor\": \"white\", \"linecolor\": \"white\", \"ticks\": \"\"}}, \"scene\": {\"xaxis\": {\"backgroundcolor\": \"#E5ECF6\", \"gridcolor\": \"white\", \"gridwidth\": 2, \"linecolor\": \"white\", \"showbackground\": true, \"ticks\": \"\", \"zerolinecolor\": \"white\"}, \"yaxis\": {\"backgroundcolor\": \"#E5ECF6\", \"gridcolor\": \"white\", \"gridwidth\": 2, \"linecolor\": \"white\", \"showbackground\": true, \"ticks\": \"\", \"zerolinecolor\": \"white\"}, \"zaxis\": {\"backgroundcolor\": \"#E5ECF6\", \"gridcolor\": \"white\", \"gridwidth\": 2, \"linecolor\": \"white\", \"showbackground\": true, \"ticks\": \"\", \"zerolinecolor\": \"white\"}}, \"shapedefaults\": {\"line\": {\"color\": \"#2a3f5f\"}}, \"ternary\": {\"aaxis\": {\"gridcolor\": \"white\", \"linecolor\": \"white\", \"ticks\": \"\"}, \"baxis\": {\"gridcolor\": \"white\", \"linecolor\": \"white\", \"ticks\": \"\"}, \"bgcolor\": \"#E5ECF6\", \"caxis\": {\"gridcolor\": \"white\", \"linecolor\": \"white\", \"ticks\": \"\"}}, \"title\": {\"x\": 0.05}, \"xaxis\": {\"automargin\": true, \"gridcolor\": \"white\", \"linecolor\": \"white\", \"ticks\": \"\", \"title\": {\"standoff\": 15}, \"zerolinecolor\": \"white\", \"zerolinewidth\": 2}, \"yaxis\": {\"automargin\": true, \"gridcolor\": \"white\", \"linecolor\": \"white\", \"ticks\": \"\", \"title\": {\"standoff\": 15}, \"zerolinecolor\": \"white\", \"zerolinewidth\": 2}}}},\n",
       "                        {\"responsive\": true}\n",
       "                    ).then(function(){\n",
       "                            \n",
       "var gd = document.getElementById('777446de-6bc0-4165-9076-524ddcddb68a');\n",
       "var x = new MutationObserver(function (mutations, observer) {{\n",
       "        var display = window.getComputedStyle(gd).display;\n",
       "        if (!display || display === 'none') {{\n",
       "            console.log([gd, 'removed!']);\n",
       "            Plotly.purge(gd);\n",
       "            observer.disconnect();\n",
       "        }}\n",
       "}});\n",
       "\n",
       "// Listen for the removal of the full notebook cells\n",
       "var notebookContainer = gd.closest('#notebook-container');\n",
       "if (notebookContainer) {{\n",
       "    x.observe(notebookContainer, {childList: true});\n",
       "}}\n",
       "\n",
       "// Listen for the clearing of the current output cell\n",
       "var outputEl = gd.closest('.output');\n",
       "if (outputEl) {{\n",
       "    x.observe(outputEl, {childList: true});\n",
       "}}\n",
       "\n",
       "                        })\n",
       "                };\n",
       "                });\n",
       "            </script>\n",
       "        </div>"
      ]
     },
     "metadata": {},
     "output_type": "display_data"
    }
   ],
   "source": [
    "# #scatter\n",
    "# import math\n",
    "# hover_text = []\n",
    "# bubble_size = []\n",
    "\n",
    "# for index, row in df.iterrows():\n",
    "#     hover_text.append(('Country/Region: {country}<br>'+\n",
    "#                       'Date: {date}<br>'+\n",
    "#                       'Number of Deaths: {death}<br>').format(country=df[\"Country/Region\"],\n",
    "#                                             date=today,\n",
    "#                                             death=row[today]))\n",
    "#     bubble_size.append(math.sqrt(row[today]))\n",
    "\n",
    "# df['text'] = hover_text\n",
    "# df['size'] = bubble_size\n",
    "# sizeref = 2.*max(df['size'])/(100**2)\n",
    "\n",
    "print(\"Scatter Plot of Countries/Regions where Deaths>0 as of {}\".format(today))\n",
    "# fig_scat = px.scatter_mapbox(df, lat=\"Lat\", lon=\"Long\", hover_name=\"Country/Region\" ,hover_data=[\"Long\",\"Lat\", today], color_discrete_sequence=[\"fuchsia\"], zoom=1, height=300)\n",
    "fig_scat = px.scatter_mapbox(df[df[today]>0], lat=\"Lat\", lon=\"Long\", hover_name=\"Country/Region\" ,hover_data=[\"Long\",\"Lat\", 'Province/State',today],color_discrete_sequence=[\"fuchsia\"],zoom=1, height=600)\n",
    "fig_scat.update_layout(mapbox_style=\"open-street-map\")\n",
    "fig_scat  #.show()\n",
    "\n",
    "# fig_mod = go.Figure(fig_scat)\n",
    "# fig_mod.update_layout(hovertext='today')\n"
   ]
  },
  {
   "cell_type": "markdown",
   "metadata": {},
   "source": [
    "#### Alternative Mapbox Styles (raster tiles)\n",
    "- maps that do not require an API token: \n",
    "    - `mapbox_style`=`\"open-street-map\"`, `\"carto-positron\"`, `\"carto-darkmatter\"`, `\"stamen-terrain\"`, `\"stamen-toner\"`, or `\"stamen-watercolor\" `\n",
    "    - Base Tiles from the USGS: \n",
    "    ```\n",
    "    fig.update_layout(\n",
    "        mapbox_style=\"white-bg\",\n",
    "        mapbox_layers=[\n",
    "            {\n",
    "                \"below\": 'traces',\n",
    "                \"sourcetype\": \"raster\",\n",
    "                \"source\": [\n",
    "                    \"https://basemap.nationalmap.gov/arcgis/rest/services/USGSImageryOnly/MapServer/tile/{z}/{y}/{x}\"\n",
    "                ]\n",
    "            }\n",
    "          ])```\n",
    "- maps that require a signup or token: \"basic\", \"streets\", \"outdoors\", \"light\", \"dark\", \"satellite\", or \"satellite-streets\"\n",
    "    - Base Tiles from the USGS, radar overlay from Environment Canada: no token needed:\n",
    "    ``` \n",
    "    fig.update_layout(\n",
    "        mapbox_style=\"white-bg\",\n",
    "        mapbox_layers=[\n",
    "            {\n",
    "                \"below\": 'traces',\n",
    "                \"sourcetype\": \"raster\",\n",
    "                \"source\": [\n",
    "                    \"https://basemap.nationalmap.gov/arcgis/rest/services/USGSImageryOnly/MapServer/tile/{z}/{y}/{x}\"\n",
    "                ]\n",
    "            },\n",
    "            {\n",
    "                \"sourcetype\": \"raster\",\n",
    "                \"source\": [\"https://geo.weather.gc.ca/geomet/?\"\n",
    "                           \"SERVICE=WMS&VERSION=1.3.0&REQUEST=GetMap&BBOX={bbox-epsg-3857}&CRS=EPSG:3857\"\n",
    "                           \"&WIDTH=1000&HEIGHT=1000&LAYERS=RADAR_1KM_RDBR&TILED=true&FORMAT=image/png\"],\n",
    "            }\n",
    "          ]) ```\n",
    "    - to provide token, set `layout.mapbox.access_token` (or, if using Plotly Express, via the `px.set_mapbox_access_token()` configuration function)\n",
    "- \n",
    "\n",
    "##### Generally, if your layout.mapbox.style does not use Mapbox service data, you do not need to register for a Mapbox account.\n",
    "\n"
   ]
  },
  {
   "cell_type": "code",
   "execution_count": 17,
   "metadata": {
    "pycharm": {
     "is_executing": false
    }
   },
   "outputs": [
    {
     "data": {
      "text/html": [
       "<div>\n",
       "        \n",
       "        \n",
       "            <div id=\"476a7e4d-b977-44d2-a86b-552bb39d6058\" class=\"plotly-graph-div\" style=\"height:525px; width:100%;\"></div>\n",
       "            <script type=\"text/javascript\">\n",
       "                require([\"plotly\"], function(Plotly) {\n",
       "                    window.PLOTLYENV=window.PLOTLYENV || {};\n",
       "                    \n",
       "                if (document.getElementById(\"476a7e4d-b977-44d2-a86b-552bb39d6058\")) {\n",
       "                    Plotly.newPlot(\n",
       "                        '476a7e4d-b977-44d2-a86b-552bb39d6058',\n",
       "                        [{\"coloraxis\": \"coloraxis\", \"hoverlabel\": {\"namelength\": 0}, \"hovertemplate\": \"scaled_deaths=%{z}<br>lat=%{lat}<br>long=%{lon}\", \"lat\": [40.0, 40.0, 40.0, 40.0, 40.0, 40.0, 40.0, 40.0, 0.0, 40.0, 40.0, -40.0, 40.0, 0.0, 0.0, -40.0, 80.0, -40.0, 40.0], \"lon\": [105.5, 21.5, 63.5, 0.0, 127.0, -127.0, 148.5, 42.5, 105.5, -84.5, 84.5, 148.5, -105.5, 127.0, -84.5, 105.5, 21.5, -63.5, -63.5], \"name\": \"\", \"radius\": 25, \"subplot\": \"mapbox\", \"type\": \"densitymapbox\", \"z\": [64.71601198112327, 45.226077488275834, 34.44864625452165, 23.466148528612173, 20.833274412955706, 16.899283927143212, 9.554543448463397, 5.301898110478399, 4.324077125263812, 2.5902903939802346, 1.9218120556728056, 0.4804530139182014, 0.4804530139182014, 0.0, 0.0, 0.0, 0.0, 0.0, 0.0]}, {\"customdata\": [[101.0, 15.0, \"Thailand\", 1], [138.0, 36.0, \"Japan\", 15], [-123.1207, 49.2827, \"British Columbia\", 1], [151.2093, -33.8688, \"New South Wales\", 2], [9.0, 51.0, \"Germany\", 3], [122.0, 13.0, \"Philippines\", 1], [78.0, 21.0, \"India\", 1], [12.0, 43.0, \"Italy\", 827], [16.0, 63.0, \"Sweden\", 1], [-4.0, 40.0, \"Spain\", 54], [4.0, 50.8333, \"Belgium\", 3], [30.0, 26.0, \"Egypt\", 1], [35.8623, 33.8547, \"Lebanon\", 3], [44.0, 33.0, \"Iraq\", 7], [8.2275, 46.8182, \"Switzerland\", 4], [21.8243, 39.0742, \"Greece\", 1], [5.2913, 52.1326, \"Netherlands\", 5], [12.4578, 43.9424, \"San Marino\", 2], [115.8605, -31.9505, \"Western Australia\", 1], [-7.6921, 53.1424, \"Ireland\", 1], [113.9213, -0.7893, \"Indonesia\", 1], [-7.0926, 31.7917, \"Morocco\", 1], [-63.6167, -38.4161, \"Argentina\", 1], [25.4858, 42.7339, \"Bulgaria\", 1], [20.1683, 41.1533, \"Albania\", 1], [-121.4905, 47.4009, \"Washington\", 29], [-119.6816, 36.1162, \"California\", 3], [-81.6868, 27.7663, \"Florida\", 2], [-74.521, 40.2989, \"New Jersey\", 1], [-80.7821, 8.538, \"Panama\", 1], [-99.4388, 44.2998, \"South Dakota\", 1], [112.2707, 30.9756, \"Hubei\", 3046], [53.0, 32.0, \"Iran\", 354], [128.0, 36.0, \"Korea, South\", 60], [2.2137, 46.2276, \"France\", 48], [113.4244, 23.3417, \"Guangdong\", 8], [113.61399999999999, 33.882, \"Henan\", 22], [120.0934, 29.1832, \"Zhejiang\", 1], [111.7088, 27.6104, \"Hunan\", 4], [117.2264, 31.8257, \"Anhui\", 6], [115.7221, 27.614, \"Jiangxi\", 1], [118.1498, 36.3427, \"Shandong\", 6], [139.638, 35.4437, \"Diamond Princess\", 7], [107.874, 30.0572, \"Chongqing\", 6], [102.7103, 30.6171, \"Sichuan\", 3], [127.7615, 47.861999999999995, \"Heilongjiang\", 13], [-3.4360000000000004, 55.3781, \"UK\", 8], [116.4142, 40.1824, \"Beijing\", 8], [121.4491, 31.201999999999998, \"Shanghai\", 3], [116.1306, 39.549, \"Hebei\", 6], [117.9874, 26.0789, \"Fujian\", 1], [108.7881, 23.8298, \"Guangxi\", 2], [108.8701, 35.1917, \"Shaanxi\", 1], [101.48700000000001, 24.974, \"Yunnan\", 2], [109.7453, 19.1959, \"Hainan\", 6], [106.8748, 26.8154, \"Guizhou\", 2], [117.323, 39.3054, \"Tianjin\", 3], [101.0583, 37.8099, \"Gansu\", 2], [114.2, 22.3, \"Hong Kong\", 3], [122.6085, 41.2956, \"Liaoning\", 1], [126.1923, 43.6661, \"Jilin\", 1], [85.2401, 41.1129, \"Xinjiang\", 3], [113.9448, 44.0935, \"Inner Mongolia\", 1], [121.0, 23.7, \"Taiwan*\", 1], [-81.9535, 26.663, \"Lee County, FL\", 1], [-121.9552, 37.3541, \"Santa Clara County, CA\", 1], [-119.3732, 47.1981, \"Grant County, WA\", 1], [-86.9824, 30.769000000000002, \"Santa Rosa County, FL\", 1], [-74.077, 40.9263, \"Bergen County, NJ\", 1], [-120.8039, 39.0916, \"Placer County, CA\", 1], [-121.8339, 48.033, \"Snohomish County, WA\", 1], [-121.3542, 38.4747, \"Sacramento County, CA\", 1], [-118.2437, 34.0522, \"Los Angeles, CA\", 1], [-122.3321, 47.6062, \"King County, WA\", 22], [-102.2548, 43.8901, \"Pennington, SD\", 1]], \"hoverlabel\": {\"namelength\": 0}, \"hovertemplate\": \"<b>%{hovertext}</b><br><br>Long=%{lon}<br>Lat=%{lat}<br>Province/State=%{customdata[2]}<br>3/11/20=%{customdata[3]}\", \"hovertext\": [\"Thailand\", \"Japan\", \"Canada\", \"Australia\", \"Germany\", \"Philippines\", \"India\", \"Italy\", \"Sweden\", \"Spain\", \"Belgium\", \"Egypt\", \"Lebanon\", \"Iraq\", \"Switzerland\", \"Greece\", \"Netherlands\", \"San Marino\", \"Australia\", \"Ireland\", \"Indonesia\", \"Morocco\", \"Argentina\", \"Bulgaria\", \"Albania\", \"US\", \"US\", \"US\", \"US\", \"Panama\", \"US\", \"China\", \"Iran\", \"Korea, South\", \"France\", \"China\", \"China\", \"China\", \"China\", \"China\", \"China\", \"China\", \"Cruise Ship\", \"China\", \"China\", \"China\", \"United Kingdom\", \"China\", \"China\", \"China\", \"China\", \"China\", \"China\", \"China\", \"China\", \"China\", \"China\", \"China\", \"China\", \"China\", \"China\", \"China\", \"China\", \"Taiwan*\", \"US\", \"US\", \"US\", \"US\", \"US\", \"US\", \"US\", \"US\", \"US\", \"US\", \"US\"], \"lat\": [15.0, 36.0, 49.2827, -33.8688, 51.0, 13.0, 21.0, 43.0, 63.0, 40.0, 50.8333, 26.0, 33.8547, 33.0, 46.8182, 39.0742, 52.1326, 43.9424, -31.9505, 53.1424, -0.7893, 31.7917, -38.4161, 42.7339, 41.1533, 47.4009, 36.1162, 27.7663, 40.2989, 8.538, 44.2998, 30.9756, 32.0, 36.0, 46.2276, 23.3417, 33.882, 29.1832, 27.6104, 31.8257, 27.614, 36.3427, 35.4437, 30.0572, 30.6171, 47.861999999999995, 55.3781, 40.1824, 31.201999999999998, 39.549, 26.0789, 23.8298, 35.1917, 24.974, 19.1959, 26.8154, 39.3054, 37.8099, 22.3, 41.2956, 43.6661, 41.1129, 44.0935, 23.7, 26.663, 37.3541, 47.1981, 30.769000000000002, 40.9263, 39.0916, 48.033, 38.4747, 34.0522, 47.6062, 43.8901], \"legendgroup\": \"\", \"lon\": [101.0, 138.0, -123.1207, 151.2093, 9.0, 122.0, 78.0, 12.0, 16.0, -4.0, 4.0, 30.0, 35.8623, 44.0, 8.2275, 21.8243, 5.2913, 12.4578, 115.8605, -7.6921, 113.9213, -7.0926, -63.6167, 25.4858, 20.1683, -121.4905, -119.6816, -81.6868, -74.521, -80.7821, -99.4388, 112.2707, 53.0, 128.0, 2.2137, 113.4244, 113.61399999999999, 120.0934, 111.7088, 117.2264, 115.7221, 118.1498, 139.638, 107.874, 102.7103, 127.7615, -3.4360000000000004, 116.4142, 121.4491, 116.1306, 117.9874, 108.7881, 108.8701, 101.48700000000001, 109.7453, 106.8748, 117.323, 101.0583, 114.2, 122.6085, 126.1923, 85.2401, 113.9448, 121.0, -81.9535, -121.9552, -119.3732, -86.9824, -74.077, -120.8039, -121.8339, -121.3542, -118.2437, -122.3321, -102.2548], \"marker\": {\"color\": \"fuchsia\"}, \"mode\": \"markers\", \"name\": \"\", \"showlegend\": false, \"subplot\": \"mapbox\", \"type\": \"scattermapbox\"}],\n",
       "                        {\"coloraxis\": {\"colorbar\": {\"title\": {\"text\": \"scaled_deaths\"}}, \"colorscale\": [[0.0, \"#0d0887\"], [0.1111111111111111, \"#46039f\"], [0.2222222222222222, \"#7201a8\"], [0.3333333333333333, \"#9c179e\"], [0.4444444444444444, \"#bd3786\"], [0.5555555555555556, \"#d8576b\"], [0.6666666666666666, \"#ed7953\"], [0.7777777777777778, \"#fb9f3a\"], [0.8888888888888888, \"#fdca26\"], [1.0, \"#f0f921\"]]}, \"legend\": {\"tracegroupgap\": 0}, \"mapbox\": {\"center\": {\"lat\": 30, \"lon\": 110}, \"domain\": {\"x\": [0.0, 1.0], \"y\": [0.0, 1.0]}, \"style\": \"carto-positron\", \"zoom\": 1}, \"template\": {\"data\": {\"bar\": [{\"error_x\": {\"color\": \"#2a3f5f\"}, \"error_y\": {\"color\": \"#2a3f5f\"}, \"marker\": {\"line\": {\"color\": \"#E5ECF6\", \"width\": 0.5}}, \"type\": \"bar\"}], \"barpolar\": [{\"marker\": {\"line\": {\"color\": \"#E5ECF6\", \"width\": 0.5}}, \"type\": \"barpolar\"}], \"carpet\": [{\"aaxis\": {\"endlinecolor\": \"#2a3f5f\", \"gridcolor\": \"white\", \"linecolor\": \"white\", \"minorgridcolor\": \"white\", \"startlinecolor\": \"#2a3f5f\"}, \"baxis\": {\"endlinecolor\": \"#2a3f5f\", \"gridcolor\": \"white\", \"linecolor\": \"white\", \"minorgridcolor\": \"white\", \"startlinecolor\": \"#2a3f5f\"}, \"type\": \"carpet\"}], \"choropleth\": [{\"colorbar\": {\"outlinewidth\": 0, \"ticks\": \"\"}, \"type\": \"choropleth\"}], \"contour\": [{\"colorbar\": {\"outlinewidth\": 0, \"ticks\": \"\"}, \"colorscale\": [[0.0, \"#0d0887\"], [0.1111111111111111, \"#46039f\"], [0.2222222222222222, \"#7201a8\"], [0.3333333333333333, \"#9c179e\"], [0.4444444444444444, \"#bd3786\"], [0.5555555555555556, \"#d8576b\"], [0.6666666666666666, \"#ed7953\"], [0.7777777777777778, \"#fb9f3a\"], [0.8888888888888888, \"#fdca26\"], [1.0, \"#f0f921\"]], \"type\": \"contour\"}], \"contourcarpet\": [{\"colorbar\": {\"outlinewidth\": 0, \"ticks\": \"\"}, \"type\": \"contourcarpet\"}], \"heatmap\": [{\"colorbar\": {\"outlinewidth\": 0, \"ticks\": \"\"}, \"colorscale\": [[0.0, \"#0d0887\"], [0.1111111111111111, \"#46039f\"], [0.2222222222222222, \"#7201a8\"], [0.3333333333333333, \"#9c179e\"], [0.4444444444444444, \"#bd3786\"], [0.5555555555555556, \"#d8576b\"], [0.6666666666666666, \"#ed7953\"], [0.7777777777777778, \"#fb9f3a\"], [0.8888888888888888, \"#fdca26\"], [1.0, \"#f0f921\"]], \"type\": \"heatmap\"}], \"heatmapgl\": [{\"colorbar\": {\"outlinewidth\": 0, \"ticks\": \"\"}, \"colorscale\": [[0.0, \"#0d0887\"], [0.1111111111111111, \"#46039f\"], [0.2222222222222222, \"#7201a8\"], [0.3333333333333333, \"#9c179e\"], [0.4444444444444444, \"#bd3786\"], [0.5555555555555556, \"#d8576b\"], [0.6666666666666666, \"#ed7953\"], [0.7777777777777778, \"#fb9f3a\"], [0.8888888888888888, \"#fdca26\"], [1.0, \"#f0f921\"]], \"type\": \"heatmapgl\"}], \"histogram\": [{\"marker\": {\"colorbar\": {\"outlinewidth\": 0, \"ticks\": \"\"}}, \"type\": \"histogram\"}], \"histogram2d\": [{\"colorbar\": {\"outlinewidth\": 0, \"ticks\": \"\"}, \"colorscale\": [[0.0, \"#0d0887\"], [0.1111111111111111, \"#46039f\"], [0.2222222222222222, \"#7201a8\"], [0.3333333333333333, \"#9c179e\"], [0.4444444444444444, \"#bd3786\"], [0.5555555555555556, \"#d8576b\"], [0.6666666666666666, \"#ed7953\"], [0.7777777777777778, \"#fb9f3a\"], [0.8888888888888888, \"#fdca26\"], [1.0, \"#f0f921\"]], \"type\": \"histogram2d\"}], \"histogram2dcontour\": [{\"colorbar\": {\"outlinewidth\": 0, \"ticks\": \"\"}, \"colorscale\": [[0.0, \"#0d0887\"], [0.1111111111111111, \"#46039f\"], [0.2222222222222222, \"#7201a8\"], [0.3333333333333333, \"#9c179e\"], [0.4444444444444444, \"#bd3786\"], [0.5555555555555556, \"#d8576b\"], [0.6666666666666666, \"#ed7953\"], [0.7777777777777778, \"#fb9f3a\"], [0.8888888888888888, \"#fdca26\"], [1.0, \"#f0f921\"]], \"type\": \"histogram2dcontour\"}], \"mesh3d\": [{\"colorbar\": {\"outlinewidth\": 0, \"ticks\": \"\"}, \"type\": \"mesh3d\"}], \"parcoords\": [{\"line\": {\"colorbar\": {\"outlinewidth\": 0, \"ticks\": \"\"}}, \"type\": \"parcoords\"}], \"pie\": [{\"automargin\": true, \"type\": \"pie\"}], \"scatter\": [{\"marker\": {\"colorbar\": {\"outlinewidth\": 0, \"ticks\": \"\"}}, \"type\": \"scatter\"}], \"scatter3d\": [{\"line\": {\"colorbar\": {\"outlinewidth\": 0, \"ticks\": \"\"}}, \"marker\": {\"colorbar\": {\"outlinewidth\": 0, \"ticks\": \"\"}}, \"type\": \"scatter3d\"}], \"scattercarpet\": [{\"marker\": {\"colorbar\": {\"outlinewidth\": 0, \"ticks\": \"\"}}, \"type\": \"scattercarpet\"}], \"scattergeo\": [{\"marker\": {\"colorbar\": {\"outlinewidth\": 0, \"ticks\": \"\"}}, \"type\": \"scattergeo\"}], \"scattergl\": [{\"marker\": {\"colorbar\": {\"outlinewidth\": 0, \"ticks\": \"\"}}, \"type\": \"scattergl\"}], \"scattermapbox\": [{\"marker\": {\"colorbar\": {\"outlinewidth\": 0, \"ticks\": \"\"}}, \"type\": \"scattermapbox\"}], \"scatterpolar\": [{\"marker\": {\"colorbar\": {\"outlinewidth\": 0, \"ticks\": \"\"}}, \"type\": \"scatterpolar\"}], \"scatterpolargl\": [{\"marker\": {\"colorbar\": {\"outlinewidth\": 0, \"ticks\": \"\"}}, \"type\": \"scatterpolargl\"}], \"scatterternary\": [{\"marker\": {\"colorbar\": {\"outlinewidth\": 0, \"ticks\": \"\"}}, \"type\": \"scatterternary\"}], \"surface\": [{\"colorbar\": {\"outlinewidth\": 0, \"ticks\": \"\"}, \"colorscale\": [[0.0, \"#0d0887\"], [0.1111111111111111, \"#46039f\"], [0.2222222222222222, \"#7201a8\"], [0.3333333333333333, \"#9c179e\"], [0.4444444444444444, \"#bd3786\"], [0.5555555555555556, \"#d8576b\"], [0.6666666666666666, \"#ed7953\"], [0.7777777777777778, \"#fb9f3a\"], [0.8888888888888888, \"#fdca26\"], [1.0, \"#f0f921\"]], \"type\": \"surface\"}], \"table\": [{\"cells\": {\"fill\": {\"color\": \"#EBF0F8\"}, \"line\": {\"color\": \"white\"}}, \"header\": {\"fill\": {\"color\": \"#C8D4E3\"}, \"line\": {\"color\": \"white\"}}, \"type\": \"table\"}]}, \"layout\": {\"annotationdefaults\": {\"arrowcolor\": \"#2a3f5f\", \"arrowhead\": 0, \"arrowwidth\": 1}, \"coloraxis\": {\"colorbar\": {\"outlinewidth\": 0, \"ticks\": \"\"}}, \"colorscale\": {\"diverging\": [[0, \"#8e0152\"], [0.1, \"#c51b7d\"], [0.2, \"#de77ae\"], [0.3, \"#f1b6da\"], [0.4, \"#fde0ef\"], [0.5, \"#f7f7f7\"], [0.6, \"#e6f5d0\"], [0.7, \"#b8e186\"], [0.8, \"#7fbc41\"], [0.9, \"#4d9221\"], [1, \"#276419\"]], \"sequential\": [[0.0, \"#0d0887\"], [0.1111111111111111, \"#46039f\"], [0.2222222222222222, \"#7201a8\"], [0.3333333333333333, \"#9c179e\"], [0.4444444444444444, \"#bd3786\"], [0.5555555555555556, \"#d8576b\"], [0.6666666666666666, \"#ed7953\"], [0.7777777777777778, \"#fb9f3a\"], [0.8888888888888888, \"#fdca26\"], [1.0, \"#f0f921\"]], \"sequentialminus\": [[0.0, \"#0d0887\"], [0.1111111111111111, \"#46039f\"], [0.2222222222222222, \"#7201a8\"], [0.3333333333333333, \"#9c179e\"], [0.4444444444444444, \"#bd3786\"], [0.5555555555555556, \"#d8576b\"], [0.6666666666666666, \"#ed7953\"], [0.7777777777777778, \"#fb9f3a\"], [0.8888888888888888, \"#fdca26\"], [1.0, \"#f0f921\"]]}, \"colorway\": [\"#636efa\", \"#EF553B\", \"#00cc96\", \"#ab63fa\", \"#FFA15A\", \"#19d3f3\", \"#FF6692\", \"#B6E880\", \"#FF97FF\", \"#FECB52\"], \"font\": {\"color\": \"#2a3f5f\"}, \"geo\": {\"bgcolor\": \"white\", \"lakecolor\": \"white\", \"landcolor\": \"#E5ECF6\", \"showlakes\": true, \"showland\": true, \"subunitcolor\": \"white\"}, \"hoverlabel\": {\"align\": \"left\"}, \"hovermode\": \"closest\", \"mapbox\": {\"style\": \"light\"}, \"paper_bgcolor\": \"white\", \"plot_bgcolor\": \"#E5ECF6\", \"polar\": {\"angularaxis\": {\"gridcolor\": \"white\", \"linecolor\": \"white\", \"ticks\": \"\"}, \"bgcolor\": \"#E5ECF6\", \"radialaxis\": {\"gridcolor\": \"white\", \"linecolor\": \"white\", \"ticks\": \"\"}}, \"scene\": {\"xaxis\": {\"backgroundcolor\": \"#E5ECF6\", \"gridcolor\": \"white\", \"gridwidth\": 2, \"linecolor\": \"white\", \"showbackground\": true, \"ticks\": \"\", \"zerolinecolor\": \"white\"}, \"yaxis\": {\"backgroundcolor\": \"#E5ECF6\", \"gridcolor\": \"white\", \"gridwidth\": 2, \"linecolor\": \"white\", \"showbackground\": true, \"ticks\": \"\", \"zerolinecolor\": \"white\"}, \"zaxis\": {\"backgroundcolor\": \"#E5ECF6\", \"gridcolor\": \"white\", \"gridwidth\": 2, \"linecolor\": \"white\", \"showbackground\": true, \"ticks\": \"\", \"zerolinecolor\": \"white\"}}, \"shapedefaults\": {\"line\": {\"color\": \"#2a3f5f\"}}, \"ternary\": {\"aaxis\": {\"gridcolor\": \"white\", \"linecolor\": \"white\", \"ticks\": \"\"}, \"baxis\": {\"gridcolor\": \"white\", \"linecolor\": \"white\", \"ticks\": \"\"}, \"bgcolor\": \"#E5ECF6\", \"caxis\": {\"gridcolor\": \"white\", \"linecolor\": \"white\", \"ticks\": \"\"}}, \"title\": {\"x\": 0.05}, \"xaxis\": {\"automargin\": true, \"gridcolor\": \"white\", \"linecolor\": \"white\", \"ticks\": \"\", \"title\": {\"standoff\": 15}, \"zerolinecolor\": \"white\", \"zerolinewidth\": 2}, \"yaxis\": {\"automargin\": true, \"gridcolor\": \"white\", \"linecolor\": \"white\", \"ticks\": \"\", \"title\": {\"standoff\": 15}, \"zerolinecolor\": \"white\", \"zerolinewidth\": 2}}}, \"title\": {\"text\": \"Map of Death Counts\"}},\n",
       "                        {\"responsive\": true}\n",
       "                    ).then(function(){\n",
       "                            \n",
       "var gd = document.getElementById('476a7e4d-b977-44d2-a86b-552bb39d6058');\n",
       "var x = new MutationObserver(function (mutations, observer) {{\n",
       "        var display = window.getComputedStyle(gd).display;\n",
       "        if (!display || display === 'none') {{\n",
       "            console.log([gd, 'removed!']);\n",
       "            Plotly.purge(gd);\n",
       "            observer.disconnect();\n",
       "        }}\n",
       "}});\n",
       "\n",
       "// Listen for the removal of the full notebook cells\n",
       "var notebookContainer = gd.closest('#notebook-container');\n",
       "if (notebookContainer) {{\n",
       "    x.observe(notebookContainer, {childList: true});\n",
       "}}\n",
       "\n",
       "// Listen for the clearing of the current output cell\n",
       "var outputEl = gd.closest('.output');\n",
       "if (outputEl) {{\n",
       "    x.observe(outputEl, {childList: true});\n",
       "}}\n",
       "\n",
       "                        })\n",
       "                };\n",
       "                });\n",
       "            </script>\n",
       "        </div>"
      ]
     },
     "metadata": {},
     "output_type": "display_data"
    }
   ],
   "source": [
    "fig.add_trace(fig_scat.data[0])\n",
    "\n",
    "# fig.write_html(\"mapbox_scatter-density_plot_deaths.html\")\n",
    "\n",
    "\n",
    "fig\n",
    "\n",
    "# uncomment to save figure\n",
    "#fig_scat.write_html(\"mapbox_scatter_plot_deaths.html\")\n"
   ]
  },
  {
   "cell_type": "code",
   "execution_count": 18,
   "metadata": {},
   "outputs": [],
   "source": [
    "# png = go.FigureWidget(data=fig)\n",
    "# png.write_image('mapbox_scatter_plot_deaths.png')"
   ]
  },
  {
   "cell_type": "code",
   "execution_count": 19,
   "metadata": {
    "pycharm": {
     "is_executing": false
    }
   },
   "outputs": [
    {
     "name": "stdout",
     "output_type": "stream",
     "text": [
      "Inconsistancies: 0\n"
     ]
    }
   ],
   "source": [
    "#compare to confirmed\n",
    "\n",
    "dfc = pd.read_csv('csse_covid_19_data/csse_covid_19_time_series/time_series_19-covid-Confirmed.csv')\n",
    "dfc['Country/Region']=dfc['Country/Region'].fillna(method=\"ffill\")\n",
    "# Check that deaths are only increasing\n",
    "not_monotonic=[]\n",
    "dfct=dfc.T[4:]\n",
    "for col in dfct.columns:\n",
    "    monotonic=dft[col].is_monotonic_increasing\n",
    "    if monotonic==False:\n",
    "        print(states[int(col)],  \": INCONSISTANT\")\n",
    "        not_monotonic.append([int(col)])\n",
    "print(\"Inconsistancies: {}\".format(len(not_monotonic)))\n",
    "\n"
   ]
  },
  {
   "cell_type": "code",
   "execution_count": 20,
   "metadata": {
    "pycharm": {
     "is_executing": false
    },
    "scrolled": true
   },
   "outputs": [
    {
     "data": {
      "text/html": [
       "<div>\n",
       "        \n",
       "        \n",
       "            <div id=\"72f50ebf-33b9-4f6e-8ea1-d90f461a226e\" class=\"plotly-graph-div\" style=\"height:525px; width:100%;\"></div>\n",
       "            <script type=\"text/javascript\">\n",
       "                require([\"plotly\"], function(Plotly) {\n",
       "                    window.PLOTLYENV=window.PLOTLYENV || {};\n",
       "                    \n",
       "                if (document.getElementById(\"72f50ebf-33b9-4f6e-8ea1-d90f461a226e\")) {\n",
       "                    Plotly.newPlot(\n",
       "                        '72f50ebf-33b9-4f6e-8ea1-d90f461a226e',\n",
       "                        [{\"coloraxis\": \"coloraxis\", \"hoverlabel\": {\"namelength\": 0}, \"hovertemplate\": \"3/11/20=%{z}<br>Lat=%{lat}<br>Long=%{lon}\", \"lat\": [15.0, 36.0, 1.2833, 28.1667, 2.5, 49.2827, -33.8688, -37.8136, -28.0167, 11.55, 7.0, 51.0, 64.0, 24.0, 13.0, 21.0, 43.0, 63.0, 40.0, -34.9285, 50.8333, 26.0, 35.4437, 33.8547, 33.0, 21.0, 33.0, 26.0275, 29.5, 28.0339, 45.1, 46.8182, 47.5162, 31.0, 30.3753, -14.235, 42.3154, 39.0742, 41.6086, 60.472, 45.9432, 58.5953, 52.1326, 43.9424, 53.7098, 64.9631, 55.1694, 23.6345, -40.9006, 9.082, -31.9505, 53.1424, 49.8153, 43.7333, 25.3548, -1.8312, 40.1431, 40.0691, 18.7357, -0.7893, 39.3999, 42.5063, -41.4545, 56.8796, 31.7917, 24.0, 14.4974, -38.4161, -35.6751, 31.24, 48.3794, 47.1625, -12.4634, 47.14, 51.9194, 34.0, 43.9159, 46.1512, -30.5595, 27.5142, 3.8480000000000003, 4.5709, 9.7489, -9.19, 44.0165, 48.669, 8.6195, 3.9339, 35.9375, 14.6415, 42.7339, 3.2028, 23.685, -23.4425, 51.2538, 53.9333, 52.9399, 41.1533, 35.1264, 4.5353, 47.4009, 42.1657, 36.1162, 42.2302, 35.4437, 37.6489, 33.0406, 39.0598, 27.7663, 40.2989, 44.571999999999996, 31.0545, 40.3495, 40.5908, 42.0115, 39.0639, 35.6301, 33.8569, 35.7478, 37.7693, 33.7298, 39.8494, 37.6681, 38.8974, 38.3135, 43.4525, 45.6945, 41.1254, 40.3888, 41.6809, 44.2685, 41.5978, 21.0943, 35.5653, 40.15, 12.2383, 41.9029, 46.8625, 8.538, 38.5266, 31.1695, 38.4561, 44.0459, 61.3707, 34.9697, 39.3185, 44.2405, 44.6939, 43.3266, 32.7416, 46.9219, 34.8405, 47.5289, 44.2998, 38.4912, 42.756, 30.9756, 32.0, 36.0, 46.2276, 23.3417, 33.882, 29.1832, 27.6104, 31.8257, 27.614, 36.3427, 35.4437, 32.9711, 30.0572, 30.6171, 47.861999999999995, 55.3781, 56.2639, 40.1824, 31.201999999999998, 39.549, 26.0789, 23.8298, 35.1917, 24.974, 19.1959, 26.8154, 39.3054, 37.5777, 37.8099, 22.3, 41.2956, 43.6661, 49.8175, 41.1129, 44.0935, 37.2692, 23.7, 16.0, 60.0, 35.7452, 22.1667, 47.4116, -16.2902, 61.8926, 18.0708, 15.2, 49.3723, 46.5653, 31.6927, -4.0383, 7.54, 17.9, 18.1096, -21.1151, 38.9637, 36.1408, 47.6477, 38.3105, 37.0454, 38.5025, 34.3705, 42.4097, 33.9191, 33.7956, 37.5455, 33.4502, 32.4893, 40.2589, 40.0712, 39.9259, 40.8568, 40.6976, 39.6553, 40.6956, 39.6203, 38.5458, 41.9879, 41.0458, 39.9526, 36.8508, 38.8816, 38.2042, 39.0768, 38.7849, 41.3912, 34.2465, 32.0575, 41.4277, 39.8522, 40.0106, 43.0186, 44.7509, 41.4339, 41.2603, 43.0279, 44.8254, 26.8946, 34.2515, 33.1795, 38.1938, 29.6499, 40.7909, 34.8606, 38.4333, 41.6699, 42.3118, 36.1343, 43.1261, 36.9859, 39.5839, 39.8065, 40.7453, 38.8454, 47.175, 27.4799, 44.8446, 30.5773, 34.0132, 33.9533, 35.1269, 38.6103, 40.9849, 41.8586, 29.028000000000002, 38.9085, 42.9931, 38.9072, 40.229, 37.6017, 26.1901, 26.663, 32.8162, 41.1489, 43.0324, 32.7957, 45.7466, 33.8999, 40.9629, 38.9108, 21.307, 42.3345, 47.7425, 34.3672, 42.6953, 37.2519, 47.0676, 36.1593, 39.2587, 41.8882, 35.7211, 39.9078, 41.3148, 38.0606, 39.8362, 42.4672, 40.6546, 44.9964, 40.5608, 41.6739, 38.7646, 37.3541, 36.0796, 29.5693, 47.1981, 30.769000000000002, 35.9179, 40.7128, 39.1547, 42.3601, 39.7392, 39.5912, 40.9263, 29.7752, 37.7749, 37.8534, 33.7879, 42.1767, 33.2918, 35.8032, 41.122, 43.9088, 27.9904, 39.0916, 37.563, 38.578, 45.775, 33.8034, 45.547, 48.033, 40.745, 38.4747, 32.7157, 36.5761, 34.0522, 47.6062, 41.7377, 48.4242, 46.8646, 48.1976, 48.8787, 38.0834, 38.196, 37.5091, 36.6066, 42.632, 30.7917, 26.07, 27.8764, 29.7938, 30.5927, 28.3232, 32.7767, 32.7732, 30.3883, 40.5726, 39.58, 45.5146, 44.9267, 43.8325, 42.3334, 42.3689, 40.4108, 37.7772, 34.7253, 36.4933, 39.4638, 40.4483, 41.6228, 42.6712, 40.8685, 45.3293, 43.9952, 40.8298, 41.256, 41.7866, 29.9511, 43.8901, 44.4797, 43.0985, 43.7242, 43.6632, 42.9815, 33.8837, 35.0178, 42.5922, 42.2791, 39.5393], \"lon\": [101.0, 138.0, 103.8333, 84.25, 112.5, -123.1207, 151.2093, 144.9631, 153.4, 104.9167, 81.0, 9.0, 26.0, 54.0, 122.0, 78.0, 12.0, 16.0, -4.0, 138.6007, 4.0, 30.0, 139.638, 35.8623, 44.0, 57.0, 65.0, 50.55, 47.75, 1.6596, 15.2, 8.2275, 14.5501, 35.0, 69.3451, -51.9253, 43.3569, 21.8243, 21.7453, 8.4689, 24.9668, 25.0136, 5.2913, 12.4578, 27.9534, -19.0208, 23.8813, -102.5528, 174.886, 8.6753, 115.8605, -7.6921, 6.1296, 7.4167, 51.1839, -78.1834, 47.5769, 45.0382, -70.1627, 113.9213, -8.2245, 1.5218, 145.9707, 24.6032, -7.0926, 45.0, -14.4524, -63.6167, -71.543, 36.51, 31.1656, 19.5033, 130.8456, 9.55, 19.1451, 9.0, 17.6791, 14.9955, 22.9375, 90.4336, 11.5021, -74.2973, -83.7534, -75.0152, 21.0059, 19.699, 0.8248, -53.1258, 14.3754, -61.0242, 25.4858, 73.2207, 90.3563, -58.4438, -85.3232, -116.5765, -73.5491, 20.1683, 33.4299, 114.7277, -121.4905, -74.9481, -119.6816, -71.5301, 139.638, -122.6655, -83.6431, -105.3111, -81.6868, -74.521, -122.0709, -97.5635, -88.9861, -77.2098, -93.2105, -76.8021, -79.8064, -80.945, -86.6923, -78.17, -111.4312, -86.2583, -84.6701, -77.0268, -117.0554, -71.5639, -93.9002, -98.2681, -82.7649, -71.5118, -89.6165, -72.7554, -157.4983, -96.9289, -111.8624, -1.5616, 12.4534, 103.8467, -80.7821, -96.7265, -91.8678, -92.2884, -72.7107, -152.4044, -92.3731, -75.5071, -114.4788, -69.3819, -84.5361, -89.6787, -110.4544, -106.2485, -99.78399999999999, -99.4388, -80.9545, -107.3025, 112.2707, 53.0, 128.0, 2.2137, 113.4244, 113.61399999999999, 120.0934, 111.7088, 117.2264, 115.7221, 118.1498, 139.638, 119.455, 107.874, 102.7103, 127.7615, -3.4360000000000004, 9.5018, 116.4142, 121.4491, 116.1306, 117.9874, 108.7881, 108.8701, 101.48700000000001, 109.7453, 106.8748, 117.323, 112.2922, 101.0583, 114.2, 122.6085, 126.1923, 15.472999999999999, 85.2401, 113.9448, 106.1655, 121.0, 108.0, 90.0, 95.9956, 113.55, 28.3699, -63.5887, -6.9118, -63.0501, -86.2419, -2.3644, -66.4619, 88.0924, 21.7587, -5.5471, -62.8333, -77.2975, 55.5364, 35.2433, -5.3536, -122.6413, -121.9018, -121.958, -122.2654, -119.1391, -71.8571, -84.0167, -84.2279, -82.7779, -84.4803, -94.8521, -74.124, -74.8649, -75.1196, -74.1285, -74.2632, -106.8287, -105.5943, -104.3326, -106.9253, -88.4016, -75.2479, -75.1652, -76.2859, -77.09100000000001, -77.6078, -77.6536, -76.8721, -95.4778, -80.607, -111.6661, -85.355, -77.2865, -86.4997, -89.5498, -92.3814, -81.6758, -111.9522, -73.135, -93.7842, -81.9098, -84.4803, -96.493, -85.6435, -90.1121, -121.8474, -81.9535, -84.3542, -91.5984, -73.1822, -86.822, -123.2492, -119.2321, -76.3637, -86.5401, -74.0535, -94.8521, -120.9319, -82.3452, -122.5927, -86.6611, -85.1479, -117.3961, -89.9253, -90.4125, -72.6151, -74.3118, -81.0755, -77.2405, -71.0498, -77.0369, -75.3879, -121.7195, -80.3659, -81.9535, -111.2845, -73.983, -73.936, -79.7848, -122.5194, -84.5641, -112.0953, -104.4723, -157.8584, -122.7647, -123.304, -80.5883, -121.6142, -119.6963, -122.1295, -95.941, -104.9389, -71.4774, -79.1781, -75.3879, -96.1951, -84.4803, -86.1752, -71.2874, -73.5594, -93.0616, -119.6035, -75.2479, -121.9018, -121.9552, -115.094, -95.8143, -119.3732, -86.9824, -86.8622, -74.006, -77.2405, -71.0589, -104.9903, -106.064, -74.077, -95.3103, -122.4194, -121.9018, -117.8531, -71.1449, -112.4291, -78.5661, -73.7949, -71.82600000000001, -82.3018, -120.8039, -122.3255, -122.9888, -118.7606, -84.3963, -123.1386, -121.8339, -123.8695, -121.3542, -117.1611, -120.9876, -118.2437, -122.3321, -87.6976, -121.7114, -122.7696, -122.5795, -121.9719, -122.7633, -120.6805, -120.9876, -120.189, -70.7829, -82.0843, -81.4279, -82.7779, -82.4944, -81.8224, -82.4319, -96.79700000000001, -97.3517, -95.6963, -74.4927, -105.2663, -122.5863, -123.4919, -121.2617, -88.2668, -87.8272, -75.2479, -77.5161, -80.6771, -82.3452, -86.1345, -86.1345, -86.3377, -97.8722, -81.2519, -93.2197, -92.3814, -110.9984, -73.3709, -73.2765, -90.0715, -102.2548, -98.2213, -98.3965, -98.2213, -96.8351, -97.8722, -106.7235, -106.6291, -83.3362, -83.3362, -75.6674], \"name\": \"\", \"radius\": 50, \"subplot\": \"mapbox\", \"type\": \"densitymapbox\", \"z\": [59, 639, 178, 1, 149, 39, 65, 21, 20, 3, 2, 1908, 59, 74, 49, 62, 12462, 500, 2277, 9, 314, 60, 0, 61, 71, 18, 7, 195, 72, 20, 19, 652, 246, 109, 19, 38, 24, 99, 7, 598, 45, 16, 503, 62, 9, 85, 3, 8, 5, 2, 9, 43, 7, 1, 262, 17, 11, 1, 5, 34, 59, 1, 3, 10, 5, 21, 4, 19, 23, 1, 1, 13, 1, 1, 31, 7, 7, 57, 13, 1, 2, 9, 13, 11, 12, 10, 1, 5, 6, 3, 7, 8, 3, 5, 41, 19, 8, 12, 6, 11, 366, 220, 177, 95, 46, 21, 23, 34, 28, 23, 19, 21, 25, 16, 13, 9, 7, 10, 9, 9, 9, 11, 8, 10, 7, 5, 5, 5, 4, 5, 6, 3, 2, 2, 3, 2, 1, 1, 8, 1, 6, 1, 1, 0, 1, 1, 0, 0, 2, 0, 1, 3, 0, 8, 0, 0, 67773, 9000, 7755, 2281, 1356, 1273, 1215, 1018, 990, 935, 760, 696, 631, 576, 539, 482, 456, 442, 435, 344, 318, 296, 252, 245, 174, 168, 146, 136, 133, 127, 126, 125, 93, 91, 76, 75, 75, 48, 38, 20, 18, 10, 3, 2, 2, 2, 2, 2, 1, 1, 1, 1, 1, 1, 1, 1, 1, 2, 3, 2, 1, 1, 1, 2, 2, 1, 1, 1, 4, 2, 1, 1, 1, 4, 1, 3, 5, 1, 2, 1, 2, 1, 1, 1, 3, 1, 4, 1, 1, 1, 1, 2, 2, 3, 1, 1, 1, 1, 1, 3, 1, 1, 1, 1, 5, 12, 7, 2, 1, 2, 1, 2, 1, 1, 1, 2, 2, 1, 1, 6, 1, 1, 6, 2, 2, 3, 2, 4, 9, 5, 4, 2, 5, 6, 2, 1, 1, 7, 1, 1, 2, 2, 1, 3, 1, 1, 14, 2, 3, 5, 1, 1, 4, 2, 1, 41, 28, 2, 2, 1, 1, 48, 5, 6, 1, 1, 5, 55, 5, 20, 6, 1, 11, 7, 14, 10, 5, 22, 3, 6, 121, 3, 3, 7, 15, 3, 2, 7, 8, 68, 1, 11, 3, 2, 27, 190, 22, 1, 1, 1, 1, 1, 2, 2, 1, 1, 1, 3, 2, 1, 1, 1, 2, 1, 1, 2, 3, 1, 1, 1, 1, 1, 1, 1, 1, 1, 3, 1, 1, 1, 1, 1, 1, 1, 2, 1, 5, 1, 1, 1, 1, 3, 1, 2, 1, 1, 1, 1]}],\n",
       "                        {\"coloraxis\": {\"colorbar\": {\"title\": {\"text\": \"3/11/20\"}}, \"colorscale\": [[0.0, \"#0d0887\"], [0.1111111111111111, \"#46039f\"], [0.2222222222222222, \"#7201a8\"], [0.3333333333333333, \"#9c179e\"], [0.4444444444444444, \"#bd3786\"], [0.5555555555555556, \"#d8576b\"], [0.6666666666666666, \"#ed7953\"], [0.7777777777777778, \"#fb9f3a\"], [0.8888888888888888, \"#fdca26\"], [1.0, \"#f0f921\"]]}, \"legend\": {\"tracegroupgap\": 0}, \"mapbox\": {\"center\": {\"lat\": 30, \"lon\": 110}, \"domain\": {\"x\": [0.0, 1.0], \"y\": [0.0, 1.0]}, \"style\": \"carto-positron\", \"zoom\": 1}, \"margin\": {\"t\": 60}, \"template\": {\"data\": {\"bar\": [{\"error_x\": {\"color\": \"#2a3f5f\"}, \"error_y\": {\"color\": \"#2a3f5f\"}, \"marker\": {\"line\": {\"color\": \"#E5ECF6\", \"width\": 0.5}}, \"type\": \"bar\"}], \"barpolar\": [{\"marker\": {\"line\": {\"color\": \"#E5ECF6\", \"width\": 0.5}}, \"type\": \"barpolar\"}], \"carpet\": [{\"aaxis\": {\"endlinecolor\": \"#2a3f5f\", \"gridcolor\": \"white\", \"linecolor\": \"white\", \"minorgridcolor\": \"white\", \"startlinecolor\": \"#2a3f5f\"}, \"baxis\": {\"endlinecolor\": \"#2a3f5f\", \"gridcolor\": \"white\", \"linecolor\": \"white\", \"minorgridcolor\": \"white\", \"startlinecolor\": \"#2a3f5f\"}, \"type\": \"carpet\"}], \"choropleth\": [{\"colorbar\": {\"outlinewidth\": 0, \"ticks\": \"\"}, \"type\": \"choropleth\"}], \"contour\": [{\"colorbar\": {\"outlinewidth\": 0, \"ticks\": \"\"}, \"colorscale\": [[0.0, \"#0d0887\"], [0.1111111111111111, \"#46039f\"], [0.2222222222222222, \"#7201a8\"], [0.3333333333333333, \"#9c179e\"], [0.4444444444444444, \"#bd3786\"], [0.5555555555555556, \"#d8576b\"], [0.6666666666666666, \"#ed7953\"], [0.7777777777777778, \"#fb9f3a\"], [0.8888888888888888, \"#fdca26\"], [1.0, \"#f0f921\"]], \"type\": \"contour\"}], \"contourcarpet\": [{\"colorbar\": {\"outlinewidth\": 0, \"ticks\": \"\"}, \"type\": \"contourcarpet\"}], \"heatmap\": [{\"colorbar\": {\"outlinewidth\": 0, \"ticks\": \"\"}, \"colorscale\": [[0.0, \"#0d0887\"], [0.1111111111111111, \"#46039f\"], [0.2222222222222222, \"#7201a8\"], [0.3333333333333333, \"#9c179e\"], [0.4444444444444444, \"#bd3786\"], [0.5555555555555556, \"#d8576b\"], [0.6666666666666666, \"#ed7953\"], [0.7777777777777778, \"#fb9f3a\"], [0.8888888888888888, \"#fdca26\"], [1.0, \"#f0f921\"]], \"type\": \"heatmap\"}], \"heatmapgl\": [{\"colorbar\": {\"outlinewidth\": 0, \"ticks\": \"\"}, \"colorscale\": [[0.0, \"#0d0887\"], [0.1111111111111111, \"#46039f\"], [0.2222222222222222, \"#7201a8\"], [0.3333333333333333, \"#9c179e\"], [0.4444444444444444, \"#bd3786\"], [0.5555555555555556, \"#d8576b\"], [0.6666666666666666, \"#ed7953\"], [0.7777777777777778, \"#fb9f3a\"], [0.8888888888888888, \"#fdca26\"], [1.0, \"#f0f921\"]], \"type\": \"heatmapgl\"}], \"histogram\": [{\"marker\": {\"colorbar\": {\"outlinewidth\": 0, \"ticks\": \"\"}}, \"type\": \"histogram\"}], \"histogram2d\": [{\"colorbar\": {\"outlinewidth\": 0, \"ticks\": \"\"}, \"colorscale\": [[0.0, \"#0d0887\"], [0.1111111111111111, \"#46039f\"], [0.2222222222222222, \"#7201a8\"], [0.3333333333333333, \"#9c179e\"], [0.4444444444444444, \"#bd3786\"], [0.5555555555555556, \"#d8576b\"], [0.6666666666666666, \"#ed7953\"], [0.7777777777777778, \"#fb9f3a\"], [0.8888888888888888, \"#fdca26\"], [1.0, \"#f0f921\"]], \"type\": \"histogram2d\"}], \"histogram2dcontour\": [{\"colorbar\": {\"outlinewidth\": 0, \"ticks\": \"\"}, \"colorscale\": [[0.0, \"#0d0887\"], [0.1111111111111111, \"#46039f\"], [0.2222222222222222, \"#7201a8\"], [0.3333333333333333, \"#9c179e\"], [0.4444444444444444, \"#bd3786\"], [0.5555555555555556, \"#d8576b\"], [0.6666666666666666, \"#ed7953\"], [0.7777777777777778, \"#fb9f3a\"], [0.8888888888888888, \"#fdca26\"], [1.0, \"#f0f921\"]], \"type\": \"histogram2dcontour\"}], \"mesh3d\": [{\"colorbar\": {\"outlinewidth\": 0, \"ticks\": \"\"}, \"type\": \"mesh3d\"}], \"parcoords\": [{\"line\": {\"colorbar\": {\"outlinewidth\": 0, \"ticks\": \"\"}}, \"type\": \"parcoords\"}], \"pie\": [{\"automargin\": true, \"type\": \"pie\"}], \"scatter\": [{\"marker\": {\"colorbar\": {\"outlinewidth\": 0, \"ticks\": \"\"}}, \"type\": \"scatter\"}], \"scatter3d\": [{\"line\": {\"colorbar\": {\"outlinewidth\": 0, \"ticks\": \"\"}}, \"marker\": {\"colorbar\": {\"outlinewidth\": 0, \"ticks\": \"\"}}, \"type\": \"scatter3d\"}], \"scattercarpet\": [{\"marker\": {\"colorbar\": {\"outlinewidth\": 0, \"ticks\": \"\"}}, \"type\": \"scattercarpet\"}], \"scattergeo\": [{\"marker\": {\"colorbar\": {\"outlinewidth\": 0, \"ticks\": \"\"}}, \"type\": \"scattergeo\"}], \"scattergl\": [{\"marker\": {\"colorbar\": {\"outlinewidth\": 0, \"ticks\": \"\"}}, \"type\": \"scattergl\"}], \"scattermapbox\": [{\"marker\": {\"colorbar\": {\"outlinewidth\": 0, \"ticks\": \"\"}}, \"type\": \"scattermapbox\"}], \"scatterpolar\": [{\"marker\": {\"colorbar\": {\"outlinewidth\": 0, \"ticks\": \"\"}}, \"type\": \"scatterpolar\"}], \"scatterpolargl\": [{\"marker\": {\"colorbar\": {\"outlinewidth\": 0, \"ticks\": \"\"}}, \"type\": \"scatterpolargl\"}], \"scatterternary\": [{\"marker\": {\"colorbar\": {\"outlinewidth\": 0, \"ticks\": \"\"}}, \"type\": \"scatterternary\"}], \"surface\": [{\"colorbar\": {\"outlinewidth\": 0, \"ticks\": \"\"}, \"colorscale\": [[0.0, \"#0d0887\"], [0.1111111111111111, \"#46039f\"], [0.2222222222222222, \"#7201a8\"], [0.3333333333333333, \"#9c179e\"], [0.4444444444444444, \"#bd3786\"], [0.5555555555555556, \"#d8576b\"], [0.6666666666666666, \"#ed7953\"], [0.7777777777777778, \"#fb9f3a\"], [0.8888888888888888, \"#fdca26\"], [1.0, \"#f0f921\"]], \"type\": \"surface\"}], \"table\": [{\"cells\": {\"fill\": {\"color\": \"#EBF0F8\"}, \"line\": {\"color\": \"white\"}}, \"header\": {\"fill\": {\"color\": \"#C8D4E3\"}, \"line\": {\"color\": \"white\"}}, \"type\": \"table\"}]}, \"layout\": {\"annotationdefaults\": {\"arrowcolor\": \"#2a3f5f\", \"arrowhead\": 0, \"arrowwidth\": 1}, \"coloraxis\": {\"colorbar\": {\"outlinewidth\": 0, \"ticks\": \"\"}}, \"colorscale\": {\"diverging\": [[0, \"#8e0152\"], [0.1, \"#c51b7d\"], [0.2, \"#de77ae\"], [0.3, \"#f1b6da\"], [0.4, \"#fde0ef\"], [0.5, \"#f7f7f7\"], [0.6, \"#e6f5d0\"], [0.7, \"#b8e186\"], [0.8, \"#7fbc41\"], [0.9, \"#4d9221\"], [1, \"#276419\"]], \"sequential\": [[0.0, \"#0d0887\"], [0.1111111111111111, \"#46039f\"], [0.2222222222222222, \"#7201a8\"], [0.3333333333333333, \"#9c179e\"], [0.4444444444444444, \"#bd3786\"], [0.5555555555555556, \"#d8576b\"], [0.6666666666666666, \"#ed7953\"], [0.7777777777777778, \"#fb9f3a\"], [0.8888888888888888, \"#fdca26\"], [1.0, \"#f0f921\"]], \"sequentialminus\": [[0.0, \"#0d0887\"], [0.1111111111111111, \"#46039f\"], [0.2222222222222222, \"#7201a8\"], [0.3333333333333333, \"#9c179e\"], [0.4444444444444444, \"#bd3786\"], [0.5555555555555556, \"#d8576b\"], [0.6666666666666666, \"#ed7953\"], [0.7777777777777778, \"#fb9f3a\"], [0.8888888888888888, \"#fdca26\"], [1.0, \"#f0f921\"]]}, \"colorway\": [\"#636efa\", \"#EF553B\", \"#00cc96\", \"#ab63fa\", \"#FFA15A\", \"#19d3f3\", \"#FF6692\", \"#B6E880\", \"#FF97FF\", \"#FECB52\"], \"font\": {\"color\": \"#2a3f5f\"}, \"geo\": {\"bgcolor\": \"white\", \"lakecolor\": \"white\", \"landcolor\": \"#E5ECF6\", \"showlakes\": true, \"showland\": true, \"subunitcolor\": \"white\"}, \"hoverlabel\": {\"align\": \"left\"}, \"hovermode\": \"closest\", \"mapbox\": {\"style\": \"light\"}, \"paper_bgcolor\": \"white\", \"plot_bgcolor\": \"#E5ECF6\", \"polar\": {\"angularaxis\": {\"gridcolor\": \"white\", \"linecolor\": \"white\", \"ticks\": \"\"}, \"bgcolor\": \"#E5ECF6\", \"radialaxis\": {\"gridcolor\": \"white\", \"linecolor\": \"white\", \"ticks\": \"\"}}, \"scene\": {\"xaxis\": {\"backgroundcolor\": \"#E5ECF6\", \"gridcolor\": \"white\", \"gridwidth\": 2, \"linecolor\": \"white\", \"showbackground\": true, \"ticks\": \"\", \"zerolinecolor\": \"white\"}, \"yaxis\": {\"backgroundcolor\": \"#E5ECF6\", \"gridcolor\": \"white\", \"gridwidth\": 2, \"linecolor\": \"white\", \"showbackground\": true, \"ticks\": \"\", \"zerolinecolor\": \"white\"}, \"zaxis\": {\"backgroundcolor\": \"#E5ECF6\", \"gridcolor\": \"white\", \"gridwidth\": 2, \"linecolor\": \"white\", \"showbackground\": true, \"ticks\": \"\", \"zerolinecolor\": \"white\"}}, \"shapedefaults\": {\"line\": {\"color\": \"#2a3f5f\"}}, \"ternary\": {\"aaxis\": {\"gridcolor\": \"white\", \"linecolor\": \"white\", \"ticks\": \"\"}, \"baxis\": {\"gridcolor\": \"white\", \"linecolor\": \"white\", \"ticks\": \"\"}, \"bgcolor\": \"#E5ECF6\", \"caxis\": {\"gridcolor\": \"white\", \"linecolor\": \"white\", \"ticks\": \"\"}}, \"title\": {\"x\": 0.05}, \"xaxis\": {\"automargin\": true, \"gridcolor\": \"white\", \"linecolor\": \"white\", \"ticks\": \"\", \"title\": {\"standoff\": 15}, \"zerolinecolor\": \"white\", \"zerolinewidth\": 2}, \"yaxis\": {\"automargin\": true, \"gridcolor\": \"white\", \"linecolor\": \"white\", \"ticks\": \"\", \"title\": {\"standoff\": 15}, \"zerolinecolor\": \"white\", \"zerolinewidth\": 2}}}},\n",
       "                        {\"responsive\": true}\n",
       "                    ).then(function(){\n",
       "                            \n",
       "var gd = document.getElementById('72f50ebf-33b9-4f6e-8ea1-d90f461a226e');\n",
       "var x = new MutationObserver(function (mutations, observer) {{\n",
       "        var display = window.getComputedStyle(gd).display;\n",
       "        if (!display || display === 'none') {{\n",
       "            console.log([gd, 'removed!']);\n",
       "            Plotly.purge(gd);\n",
       "            observer.disconnect();\n",
       "        }}\n",
       "}});\n",
       "\n",
       "// Listen for the removal of the full notebook cells\n",
       "var notebookContainer = gd.closest('#notebook-container');\n",
       "if (notebookContainer) {{\n",
       "    x.observe(notebookContainer, {childList: true});\n",
       "}}\n",
       "\n",
       "// Listen for the clearing of the current output cell\n",
       "var outputEl = gd.closest('.output');\n",
       "if (outputEl) {{\n",
       "    x.observe(outputEl, {childList: true});\n",
       "}}\n",
       "\n",
       "                        })\n",
       "                };\n",
       "                });\n",
       "            </script>\n",
       "        </div>"
      ]
     },
     "metadata": {},
     "output_type": "display_data"
    }
   ],
   "source": [
    "figc = px.density_mapbox(dfc, lat='Lat', lon='Long', z=today, radius=50,\n",
    "                        center=dict(lat=30, lon=110), zoom=1,\n",
    "                        mapbox_style=\"carto-positron\")\n",
    "figc"
   ]
  },
  {
   "cell_type": "code",
   "execution_count": null,
   "metadata": {},
   "outputs": [],
   "source": []
  },
  {
   "cell_type": "code",
   "execution_count": 21,
   "metadata": {},
   "outputs": [
    {
     "name": "stdout",
     "output_type": "stream",
     "text": [
      "Scatter Plot of Confirmed Cases as of 3/8/20\n"
     ]
    },
    {
     "data": {
      "text/html": [
       "<div>\n",
       "        \n",
       "        \n",
       "            <div id=\"c55f1ff0-5c87-4957-ac45-a1cf1502be15\" class=\"plotly-graph-div\" style=\"height:600px; width:100%;\"></div>\n",
       "            <script type=\"text/javascript\">\n",
       "                require([\"plotly\"], function(Plotly) {\n",
       "                    window.PLOTLYENV=window.PLOTLYENV || {};\n",
       "                    \n",
       "                if (document.getElementById(\"c55f1ff0-5c87-4957-ac45-a1cf1502be15\")) {\n",
       "                    Plotly.newPlot(\n",
       "                        'c55f1ff0-5c87-4957-ac45-a1cf1502be15',\n",
       "                        [{\"customdata\": [[101.0, 15.0, null, 50], [138.0, 36.0, null, 502], [103.8333, 1.2833, null, 150], [84.25, 28.1667, null, 1], [112.5, 2.5, null, 99], [-123.1207, 49.2827, \"British Columbia\", 27], [151.2093, -33.8688, \"New South Wales\", 38], [144.9631, -37.8136, \"Victoria\", 11], [153.4, -28.0167, \"Queensland\", 15], [104.9167, 11.55, null, 2], [81.0, 7.0, null, 1], [9.0, 51.0, null, 1040], [26.0, 64.0, null, 23], [54.0, 24.0, null, 45], [122.0, 13.0, null, 10], [78.0, 21.0, null, 39], [12.0, 43.0, null, 7375], [16.0, 63.0, null, 203], [-4.0, 40.0, null, 673], [138.6007, -34.9285, \"South Australia\", 7], [4.0, 50.8333, null, 200], [30.0, 26.0, null, 49], [35.8623, 33.8547, null, 32], [44.0, 33.0, null, 60], [57.0, 21.0, null, 16], [65.0, 33.0, null, 4], [50.55, 26.0275, null, 85], [47.75, 29.5, null, 64], [1.6596, 28.0339, null, 19], [15.2, 45.1, null, 12], [8.2275, 46.8182, null, 337], [14.5501, 47.5162, null, 104], [35.0, 31.0, null, 61], [69.3451, 30.3753, null, 6], [-51.9253, -14.235, null, 20], [43.3569, 42.3154, null, 13], [21.8243, 39.0742, null, 73], [21.7453, 41.6086, null, 3], [8.4689, 60.472, null, 176], [24.9668, 45.9432, null, 15], [25.0136, 58.5953, null, 10], [5.2913, 52.1326, null, 265], [12.4578, 43.9424, null, 36], [27.9534, 53.7098, null, 6], [-19.0208, 64.9631, null, 50], [23.8813, 55.1694, null, 1], [-102.5528, 23.6345, null, 7], [174.886, -40.9006, null, 5], [8.6753, 9.082, null, 1], [115.8605, -31.9505, \"Western Australia\", 3], [-7.6921, 53.1424, null, 19], [6.1296, 49.8153, null, 3], [7.4167, 43.7333, null, 1], [51.1839, 25.3548, null, 15], [-78.1834, -1.8312, null, 14], [47.5769, 40.1431, null, 9], [45.0382, 40.0691, null, 1], [-70.1627, 18.7357, null, 5], [113.9213, -0.7893, null, 6], [-8.2245, 39.3999, null, 30], [1.5218, 42.5063, null, 1], [145.9707, -41.4545, \"Tasmania\", 2], [24.6032, 56.8796, null, 2], [-7.0926, 31.7917, null, 2], [45.0, 24.0, null, 11], [-14.4524, 14.4974, null, 4], [-63.6167, -38.4161, null, 12], [-71.543, -35.6751, null, 8], [36.51, 31.24, null, 1], [31.1656, 48.3794, null, 1], [19.5033, 47.1625, null, 7], [9.55, 47.14, null, 1], [19.1451, 51.9194, null, 11], [9.0, 34.0, null, 2], [17.6791, 43.9159, null, 3], [14.9955, 46.1512, null, 16], [22.9375, -30.5595, null, 3], [90.4336, 27.5142, null, 1], [11.5021, 3.8480000000000003, null, 2], [-74.2973, 4.5709, null, 1], [-83.7534, 9.7489, null, 5], [-75.0152, -9.19, null, 6], [21.0059, 44.0165, null, 1], [19.699, 48.669, null, 3], [0.8248, 8.6195, null, 1], [-53.1258, 3.9339, null, 5], [14.3754, 35.9375, null, 3], [-61.0242, 14.6415, null, 2], [25.4858, 42.7339, null, 4], [73.2207, 3.2028, null, 4], [90.3563, 23.685, null, 3], [-58.4438, -23.4425, null, 1], [-85.3232, 51.2538, \"Ontario\", 29], [-116.5765, 53.9333, \"Alberta\", 4], [-73.5491, 52.9399, \"Quebec\", 4], [139.638, 35.4437, \"Diamond Princess\", 45], [-122.6655, 37.6489, \"Grand Princess\", 21], [12.4534, 41.9029, null, 1], [112.2707, 30.9756, \"Hubei\", 67707], [53.0, 32.0, null, 6566], [128.0, 36.0, null, 7314], [2.2137, 46.2276, \"France\", 1126], [113.4244, 23.3417, \"Guangdong\", 1352], [113.61399999999999, 33.882, \"Henan\", 1272], [120.0934, 29.1832, \"Zhejiang\", 1215], [111.7088, 27.6104, \"Hunan\", 1018], [117.2264, 31.8257, \"Anhui\", 990], [115.7221, 27.614, \"Jiangxi\", 935], [118.1498, 36.3427, \"Shandong\", 758], [139.638, 35.4437, \"Diamond Princess\", 696], [119.455, 32.9711, \"Jiangsu\", 631], [107.874, 30.0572, \"Chongqing\", 576], [102.7103, 30.6171, \"Sichuan\", 539], [127.7615, 47.861999999999995, \"Heilongjiang\", 481], [-3.4360000000000004, 55.3781, \"UK\", 273], [9.5018, 56.2639, \"Denmark\", 35], [116.4142, 40.1824, \"Beijing\", 428], [121.4491, 31.201999999999998, \"Shanghai\", 342], [116.1306, 39.549, \"Hebei\", 318], [117.9874, 26.0789, \"Fujian\", 296], [108.7881, 23.8298, \"Guangxi\", 252], [108.8701, 35.1917, \"Shaanxi\", 245], [101.48700000000001, 24.974, \"Yunnan\", 174], [109.7453, 19.1959, \"Hainan\", 168], [106.8748, 26.8154, \"Guizhou\", 146], [117.323, 39.3054, \"Tianjin\", 136], [112.2922, 37.5777, \"Shanxi\", 133], [101.0583, 37.8099, \"Gansu\", 124], [114.2, 22.3, \"Hong Kong\", 114], [122.6085, 41.2956, \"Liaoning\", 125], [126.1923, 43.6661, \"Jilin\", 93], [15.472999999999999, 49.8175, null, 31], [85.2401, 41.1129, \"Xinjiang\", 76], [113.9448, 44.0935, \"Inner Mongolia\", 75], [106.1655, 37.2692, \"Ningxia\", 75], [121.0, 23.7, null, 45], [108.0, 16.0, null, 30], [90.0, 60.0, null, 17], [95.9956, 35.7452, \"Qinghai\", 18], [113.55, 22.1667, \"Macau\", 10], [28.3699, 47.4116, null, 1], [-6.9118, 61.8926, \"Faroe Islands\", 2], [88.0924, 31.6927, \"Tibet\", 1], [-62.8333, 17.9, \"Saint Barthelemy\", 3], [-5.3536, 36.1408, \"Gibraltar\", 1], [-73.135, 43.0279, \"Bennington County, VT\", 1], [-73.1822, 42.3118, \"Berkshire County, MA\", 1], [-86.822, 36.1343, \"Davidson County, TN\", 1], [-123.2492, 43.1261, \"Douglas County, OR\", 1], [-119.2321, 36.9859, \"Fresno County, CA\", 1], [-76.3637, 39.5839, \"Harford County, MD\", 1], [-86.5401, 39.8065, \"Hendricks County, IN\", 1], [-74.0535, 40.7453, \"Hudson County, NJ\", 1], [-94.8521, 38.8454, \"Johnson County, KS\", 1], [-120.9319, 47.175, \"Kittitas County, WA\", 1], [-82.3452, 27.4799, \"Manatee County, FL\", 1], [-122.5927, 44.8446, \"Marion County, OR\", 1], [-86.6611, 30.5773, \"Okaloosa County, FL\", 1], [-85.1479, 34.0132, \"Polk County, GA\", 1], [-117.3961, 33.9533, \"Riverside County, CA\", 1], [-89.9253, 35.1269, \"Shelby County, TN\", 1], [-90.4125, 38.6103, \"St. Louis County, MO\", 1], [-72.6151, 40.9849, \"Suffolk County, NY\", 1], [-74.3118, 41.8586, \"Ulster County, NY\", 1], [-81.0755, 29.028000000000002, \"Volusia County, FL\", 1], [-77.2405, 38.9085, \"Fairfax County, VA\", 2], [-71.0498, 42.9931, \"Rockingham County, NH\", 1], [-77.0369, 38.9072, \"Washington, D.C.\", 2], [-75.3879, 40.229, \"Montgomery County, PA\", 4], [-121.7195, 37.6017, \"Alameda County, CA\", 2], [-80.3659, 26.1901, \"Broward County, FL\", 2], [-81.9535, 26.663, \"Lee County, FL\", 2], [-111.2845, 32.8162, \"Pinal County, AZ\", 2], [-73.983, 41.1489, \"Rockland County, NY\", 2], [-73.936, 43.0324, \"Saratoga County, NY\", 2], [-79.7848, 32.7957, \"Charleston County, SC\", 1], [-122.5194, 45.7466, \"Clark County, WA\", 1], [-84.5641, 33.8999, \"Cobb County, GA\", 1], [-112.0953, 40.9629, \"Davis County, UT\", 1], [-104.4723, 38.9108, \"El Paso County, CO\", 1], [-157.8584, 21.307, \"Honolulu County, HI\", 1], [-122.7647, 42.3345, \"Jackson County, OR \", 2], [-123.304, 47.7425, \"Jefferson County, WA\", 1], [-80.5883, 34.3672, \"Kershaw County, SC\", 1], [-121.6142, 42.6953, \"Klamath County, OR\", 1], [-119.6963, 37.2519, \"Madera County, CA\", 1], [-122.1295, 47.0676, \"Pierce County, WA\", 4], [-95.941, 36.1593, \"Tulsa County, OK\", 1], [-104.9389, 39.2587, \"Douglas County, CO\", 3], [-71.4774, 41.8882, \"Providence County, RI\", 3], [-79.1781, 35.7211, \"Chatham County, NC\", 1], [-75.3879, 39.9078, \"Delaware County, PA\", 1], [-96.1951, 41.3148, \"Douglas County, NE\", 1], [-84.4803, 38.0606, \"Fayette County, KY\", 1], [-86.1752, 39.8362, \"Marion County, IN\", 1], [-71.2874, 42.4672, \"Middlesex County, MA\", 7], [-73.5594, 40.6546, \"Nassau County, NY\", 5], [-93.0616, 44.9964, \"Ramsey County, MN\", 1], [-119.6035, 40.5608, \"Washoe County, NV\", 2], [-75.2479, 41.6739, \"Wayne County, PA\", 1], [-121.9018, 38.7646, \"Yolo County, CA\", 1], [-121.9552, 37.3541, \"Santa Clara County, CA\", 38], [-115.094, 36.0796, \"Clark County, NV\", 2], [-95.8143, 29.5693, \"Fort Bend County, TX\", 6], [-119.3732, 47.1981, \"Grant County, WA\", 1], [-86.9824, 30.769000000000002, \"Santa Rosa County, FL\", 1], [-86.8622, 35.9179, \"Williamson County, TN\", 1], [-74.006, 40.7128, \"New York County, NY\", 12], [-77.2405, 39.1547, \"Montgomery County, MD\", 4], [-71.0589, 42.3601, \"Suffolk County, MA\", 8], [-104.9903, 39.7392, \"Denver County, CO\", 2], [-106.064, 39.5912, \"Summit County, CO\", 1], [-74.077, 40.9263, \"Bergen County, NJ\", 4], [-95.3103, 29.7752, \"Harris County, TX\", 5], [-122.4194, 37.7749, \"San Francisco County, CA\", 9], [-121.9018, 37.8534, \"Contra Costa County, CA\", 9], [-117.8531, 33.7879, \"Orange County, CA\", 3], [-71.1449, 42.1767, \"Norfolk County, MA\", 6], [-112.4291, 33.2918, \"Maricopa County, AZ\", 2], [-78.5661, 35.8032, \"Wake County, NC\", 1], [-73.7949, 41.122, \"Westchester County, NY\", 83], [-71.82600000000001, 43.9088, \"Grafton County, NH\", 3], [-82.3018, 27.9904, \"Hillsborough, FL\", 2], [-120.8039, 39.0916, \"Placer County, CA\", 5], [-122.3255, 37.563, \"San Mateo, CA\", 2], [-122.9888, 38.578, \"Sonoma County, CA\", 1], [-118.7606, 45.775, \"Umatilla, OR\", 1], [-84.3963, 33.8034, \"Fulton County, GA\", 3], [-123.1386, 45.547, \"Washington County, OR\", 8], [-121.8339, 48.033, \"Snohomish County, WA\", 31], [-123.8695, 40.745, \"Humboldt County, CA\", 1], [-121.3542, 38.4747, \"Sacramento County, CA\", 2], [-117.1611, 32.7157, \"San Diego County, CA\", 3], [-120.9876, 36.5761, \"San Benito, CA\", 2], [-118.2437, 34.0522, \"Los Angeles, CA\", 14], [-122.3321, 47.6062, \"King County, WA\", 83], [-87.6976, 41.7377, \"Cook County, IL\", 7]], \"hoverlabel\": {\"namelength\": 0}, \"hovertemplate\": \"<b>%{hovertext}</b><br><br>Long=%{lon}<br>Lat=%{lat}<br>Province/State=%{customdata[2]}<br>3/8/20=%{customdata[3]}\", \"hovertext\": [\"Thailand\", \"Japan\", \"Singapore\", \"Nepal\", \"Malaysia\", \"Canada\", \"Australia\", \"Australia\", \"Australia\", \"Cambodia\", \"Sri Lanka\", \"Germany\", \"Finland\", \"United Arab Emirates\", \"Philippines\", \"India\", \"Italy\", \"Sweden\", \"Spain\", \"Australia\", \"Belgium\", \"Egypt\", \"Lebanon\", \"Iraq\", \"Oman\", \"Afghanistan\", \"Bahrain\", \"Kuwait\", \"Algeria\", \"Croatia\", \"Switzerland\", \"Austria\", \"Israel\", \"Pakistan\", \"Brazil\", \"Georgia\", \"Greece\", \"North Macedonia\", \"Norway\", \"Romania\", \"Estonia\", \"Netherlands\", \"San Marino\", \"Belarus\", \"Iceland\", \"Lithuania\", \"Mexico\", \"New Zealand\", \"Nigeria\", \"Australia\", \"Ireland\", \"Luxembourg\", \"Monaco\", \"Qatar\", \"Ecuador\", \"Azerbaijan\", \"Armenia\", \"Dominican Republic\", \"Indonesia\", \"Portugal\", \"Andorra\", \"Australia\", \"Latvia\", \"Morocco\", \"Saudi Arabia\", \"Senegal\", \"Argentina\", \"Chile\", \"Jordan\", \"Ukraine\", \"Hungary\", \"Liechtenstein\", \"Poland\", \"Tunisia\", \"Bosnia and Herzegovina\", \"Slovenia\", \"South Africa\", \"Bhutan\", \"Cameroon\", \"Colombia\", \"Costa Rica\", \"Peru\", \"Serbia\", \"Slovakia\", \"Togo\", \"French Guiana\", \"Malta\", \"Martinique\", \"Bulgaria\", \"Maldives\", \"Bangladesh\", \"Paraguay\", \"Canada\", \"Canada\", \"Canada\", \"US\", \"US\", \"Holy See\", \"China\", \"Iran\", \"Korea, South\", \"France\", \"China\", \"China\", \"China\", \"China\", \"China\", \"China\", \"China\", \"Cruise Ship\", \"China\", \"China\", \"China\", \"China\", \"United Kingdom\", \"Denmark\", \"China\", \"China\", \"China\", \"China\", \"China\", \"China\", \"China\", \"China\", \"China\", \"China\", \"China\", \"China\", \"China\", \"China\", \"China\", \"Czechia\", \"China\", \"China\", \"China\", \"Taiwan*\", \"Vietnam\", \"Russia\", \"China\", \"China\", \"Moldova\", \"Denmark\", \"China\", \"France\", \"United Kingdom\", \"US\", \"US\", \"US\", \"US\", \"US\", \"US\", \"US\", \"US\", \"US\", \"US\", \"US\", \"US\", \"US\", \"US\", \"US\", \"US\", \"US\", \"US\", \"US\", \"US\", \"US\", \"US\", \"US\", \"US\", \"US\", \"US\", \"US\", \"US\", \"US\", \"US\", \"US\", \"US\", \"US\", \"US\", \"US\", \"US\", \"US\", \"US\", \"US\", \"US\", \"US\", \"US\", \"US\", \"US\", \"US\", \"US\", \"US\", \"US\", \"US\", \"US\", \"US\", \"US\", \"US\", \"US\", \"US\", \"US\", \"US\", \"US\", \"US\", \"US\", \"US\", \"US\", \"US\", \"US\", \"US\", \"US\", \"US\", \"US\", \"US\", \"US\", \"US\", \"US\", \"US\", \"US\", \"US\", \"US\", \"US\", \"US\", \"US\", \"US\", \"US\", \"US\", \"US\", \"US\", \"US\", \"US\", \"US\", \"US\", \"US\", \"US\", \"US\", \"US\"], \"lat\": [15.0, 36.0, 1.2833, 28.1667, 2.5, 49.2827, -33.8688, -37.8136, -28.0167, 11.55, 7.0, 51.0, 64.0, 24.0, 13.0, 21.0, 43.0, 63.0, 40.0, -34.9285, 50.8333, 26.0, 33.8547, 33.0, 21.0, 33.0, 26.0275, 29.5, 28.0339, 45.1, 46.8182, 47.5162, 31.0, 30.3753, -14.235, 42.3154, 39.0742, 41.6086, 60.472, 45.9432, 58.5953, 52.1326, 43.9424, 53.7098, 64.9631, 55.1694, 23.6345, -40.9006, 9.082, -31.9505, 53.1424, 49.8153, 43.7333, 25.3548, -1.8312, 40.1431, 40.0691, 18.7357, -0.7893, 39.3999, 42.5063, -41.4545, 56.8796, 31.7917, 24.0, 14.4974, -38.4161, -35.6751, 31.24, 48.3794, 47.1625, 47.14, 51.9194, 34.0, 43.9159, 46.1512, -30.5595, 27.5142, 3.8480000000000003, 4.5709, 9.7489, -9.19, 44.0165, 48.669, 8.6195, 3.9339, 35.9375, 14.6415, 42.7339, 3.2028, 23.685, -23.4425, 51.2538, 53.9333, 52.9399, 35.4437, 37.6489, 41.9029, 30.9756, 32.0, 36.0, 46.2276, 23.3417, 33.882, 29.1832, 27.6104, 31.8257, 27.614, 36.3427, 35.4437, 32.9711, 30.0572, 30.6171, 47.861999999999995, 55.3781, 56.2639, 40.1824, 31.201999999999998, 39.549, 26.0789, 23.8298, 35.1917, 24.974, 19.1959, 26.8154, 39.3054, 37.5777, 37.8099, 22.3, 41.2956, 43.6661, 49.8175, 41.1129, 44.0935, 37.2692, 23.7, 16.0, 60.0, 35.7452, 22.1667, 47.4116, 61.8926, 31.6927, 17.9, 36.1408, 43.0279, 42.3118, 36.1343, 43.1261, 36.9859, 39.5839, 39.8065, 40.7453, 38.8454, 47.175, 27.4799, 44.8446, 30.5773, 34.0132, 33.9533, 35.1269, 38.6103, 40.9849, 41.8586, 29.028000000000002, 38.9085, 42.9931, 38.9072, 40.229, 37.6017, 26.1901, 26.663, 32.8162, 41.1489, 43.0324, 32.7957, 45.7466, 33.8999, 40.9629, 38.9108, 21.307, 42.3345, 47.7425, 34.3672, 42.6953, 37.2519, 47.0676, 36.1593, 39.2587, 41.8882, 35.7211, 39.9078, 41.3148, 38.0606, 39.8362, 42.4672, 40.6546, 44.9964, 40.5608, 41.6739, 38.7646, 37.3541, 36.0796, 29.5693, 47.1981, 30.769000000000002, 35.9179, 40.7128, 39.1547, 42.3601, 39.7392, 39.5912, 40.9263, 29.7752, 37.7749, 37.8534, 33.7879, 42.1767, 33.2918, 35.8032, 41.122, 43.9088, 27.9904, 39.0916, 37.563, 38.578, 45.775, 33.8034, 45.547, 48.033, 40.745, 38.4747, 32.7157, 36.5761, 34.0522, 47.6062, 41.7377], \"legendgroup\": \"\", \"lon\": [101.0, 138.0, 103.8333, 84.25, 112.5, -123.1207, 151.2093, 144.9631, 153.4, 104.9167, 81.0, 9.0, 26.0, 54.0, 122.0, 78.0, 12.0, 16.0, -4.0, 138.6007, 4.0, 30.0, 35.8623, 44.0, 57.0, 65.0, 50.55, 47.75, 1.6596, 15.2, 8.2275, 14.5501, 35.0, 69.3451, -51.9253, 43.3569, 21.8243, 21.7453, 8.4689, 24.9668, 25.0136, 5.2913, 12.4578, 27.9534, -19.0208, 23.8813, -102.5528, 174.886, 8.6753, 115.8605, -7.6921, 6.1296, 7.4167, 51.1839, -78.1834, 47.5769, 45.0382, -70.1627, 113.9213, -8.2245, 1.5218, 145.9707, 24.6032, -7.0926, 45.0, -14.4524, -63.6167, -71.543, 36.51, 31.1656, 19.5033, 9.55, 19.1451, 9.0, 17.6791, 14.9955, 22.9375, 90.4336, 11.5021, -74.2973, -83.7534, -75.0152, 21.0059, 19.699, 0.8248, -53.1258, 14.3754, -61.0242, 25.4858, 73.2207, 90.3563, -58.4438, -85.3232, -116.5765, -73.5491, 139.638, -122.6655, 12.4534, 112.2707, 53.0, 128.0, 2.2137, 113.4244, 113.61399999999999, 120.0934, 111.7088, 117.2264, 115.7221, 118.1498, 139.638, 119.455, 107.874, 102.7103, 127.7615, -3.4360000000000004, 9.5018, 116.4142, 121.4491, 116.1306, 117.9874, 108.7881, 108.8701, 101.48700000000001, 109.7453, 106.8748, 117.323, 112.2922, 101.0583, 114.2, 122.6085, 126.1923, 15.472999999999999, 85.2401, 113.9448, 106.1655, 121.0, 108.0, 90.0, 95.9956, 113.55, 28.3699, -6.9118, 88.0924, -62.8333, -5.3536, -73.135, -73.1822, -86.822, -123.2492, -119.2321, -76.3637, -86.5401, -74.0535, -94.8521, -120.9319, -82.3452, -122.5927, -86.6611, -85.1479, -117.3961, -89.9253, -90.4125, -72.6151, -74.3118, -81.0755, -77.2405, -71.0498, -77.0369, -75.3879, -121.7195, -80.3659, -81.9535, -111.2845, -73.983, -73.936, -79.7848, -122.5194, -84.5641, -112.0953, -104.4723, -157.8584, -122.7647, -123.304, -80.5883, -121.6142, -119.6963, -122.1295, -95.941, -104.9389, -71.4774, -79.1781, -75.3879, -96.1951, -84.4803, -86.1752, -71.2874, -73.5594, -93.0616, -119.6035, -75.2479, -121.9018, -121.9552, -115.094, -95.8143, -119.3732, -86.9824, -86.8622, -74.006, -77.2405, -71.0589, -104.9903, -106.064, -74.077, -95.3103, -122.4194, -121.9018, -117.8531, -71.1449, -112.4291, -78.5661, -73.7949, -71.82600000000001, -82.3018, -120.8039, -122.3255, -122.9888, -118.7606, -84.3963, -123.1386, -121.8339, -123.8695, -121.3542, -117.1611, -120.9876, -118.2437, -122.3321, -87.6976], \"marker\": {\"color\": \"fuchsia\"}, \"mode\": \"markers\", \"name\": \"\", \"showlegend\": false, \"subplot\": \"mapbox\", \"type\": \"scattermapbox\"}],\n",
       "                        {\"height\": 600, \"legend\": {\"tracegroupgap\": 0}, \"mapbox\": {\"center\": {\"lat\": 32.545808016877636, \"lon\": -9.76719493670886}, \"domain\": {\"x\": [0.0, 1.0], \"y\": [0.0, 1.0]}, \"style\": \"open-street-map\", \"zoom\": 1}, \"margin\": {\"t\": 60}, \"template\": {\"data\": {\"bar\": [{\"error_x\": {\"color\": \"#2a3f5f\"}, \"error_y\": {\"color\": \"#2a3f5f\"}, \"marker\": {\"line\": {\"color\": \"#E5ECF6\", \"width\": 0.5}}, \"type\": \"bar\"}], \"barpolar\": [{\"marker\": {\"line\": {\"color\": \"#E5ECF6\", \"width\": 0.5}}, \"type\": \"barpolar\"}], \"carpet\": [{\"aaxis\": {\"endlinecolor\": \"#2a3f5f\", \"gridcolor\": \"white\", \"linecolor\": \"white\", \"minorgridcolor\": \"white\", \"startlinecolor\": \"#2a3f5f\"}, \"baxis\": {\"endlinecolor\": \"#2a3f5f\", \"gridcolor\": \"white\", \"linecolor\": \"white\", \"minorgridcolor\": \"white\", \"startlinecolor\": \"#2a3f5f\"}, \"type\": \"carpet\"}], \"choropleth\": [{\"colorbar\": {\"outlinewidth\": 0, \"ticks\": \"\"}, \"type\": \"choropleth\"}], \"contour\": [{\"colorbar\": {\"outlinewidth\": 0, \"ticks\": \"\"}, \"colorscale\": [[0.0, \"#0d0887\"], [0.1111111111111111, \"#46039f\"], [0.2222222222222222, \"#7201a8\"], [0.3333333333333333, \"#9c179e\"], [0.4444444444444444, \"#bd3786\"], [0.5555555555555556, \"#d8576b\"], [0.6666666666666666, \"#ed7953\"], [0.7777777777777778, \"#fb9f3a\"], [0.8888888888888888, \"#fdca26\"], [1.0, \"#f0f921\"]], \"type\": \"contour\"}], \"contourcarpet\": [{\"colorbar\": {\"outlinewidth\": 0, \"ticks\": \"\"}, \"type\": \"contourcarpet\"}], \"heatmap\": [{\"colorbar\": {\"outlinewidth\": 0, \"ticks\": \"\"}, \"colorscale\": [[0.0, \"#0d0887\"], [0.1111111111111111, \"#46039f\"], [0.2222222222222222, \"#7201a8\"], [0.3333333333333333, \"#9c179e\"], [0.4444444444444444, \"#bd3786\"], [0.5555555555555556, \"#d8576b\"], [0.6666666666666666, \"#ed7953\"], [0.7777777777777778, \"#fb9f3a\"], [0.8888888888888888, \"#fdca26\"], [1.0, \"#f0f921\"]], \"type\": \"heatmap\"}], \"heatmapgl\": [{\"colorbar\": {\"outlinewidth\": 0, \"ticks\": \"\"}, \"colorscale\": [[0.0, \"#0d0887\"], [0.1111111111111111, \"#46039f\"], [0.2222222222222222, \"#7201a8\"], [0.3333333333333333, \"#9c179e\"], [0.4444444444444444, \"#bd3786\"], [0.5555555555555556, \"#d8576b\"], [0.6666666666666666, \"#ed7953\"], [0.7777777777777778, \"#fb9f3a\"], [0.8888888888888888, \"#fdca26\"], [1.0, \"#f0f921\"]], \"type\": \"heatmapgl\"}], \"histogram\": [{\"marker\": {\"colorbar\": {\"outlinewidth\": 0, \"ticks\": \"\"}}, \"type\": \"histogram\"}], \"histogram2d\": [{\"colorbar\": {\"outlinewidth\": 0, \"ticks\": \"\"}, \"colorscale\": [[0.0, \"#0d0887\"], [0.1111111111111111, \"#46039f\"], [0.2222222222222222, \"#7201a8\"], [0.3333333333333333, \"#9c179e\"], [0.4444444444444444, \"#bd3786\"], [0.5555555555555556, \"#d8576b\"], [0.6666666666666666, \"#ed7953\"], [0.7777777777777778, \"#fb9f3a\"], [0.8888888888888888, \"#fdca26\"], [1.0, \"#f0f921\"]], \"type\": \"histogram2d\"}], \"histogram2dcontour\": [{\"colorbar\": {\"outlinewidth\": 0, \"ticks\": \"\"}, \"colorscale\": [[0.0, \"#0d0887\"], [0.1111111111111111, \"#46039f\"], [0.2222222222222222, \"#7201a8\"], [0.3333333333333333, \"#9c179e\"], [0.4444444444444444, \"#bd3786\"], [0.5555555555555556, \"#d8576b\"], [0.6666666666666666, \"#ed7953\"], [0.7777777777777778, \"#fb9f3a\"], [0.8888888888888888, \"#fdca26\"], [1.0, \"#f0f921\"]], \"type\": \"histogram2dcontour\"}], \"mesh3d\": [{\"colorbar\": {\"outlinewidth\": 0, \"ticks\": \"\"}, \"type\": \"mesh3d\"}], \"parcoords\": [{\"line\": {\"colorbar\": {\"outlinewidth\": 0, \"ticks\": \"\"}}, \"type\": \"parcoords\"}], \"pie\": [{\"automargin\": true, \"type\": \"pie\"}], \"scatter\": [{\"marker\": {\"colorbar\": {\"outlinewidth\": 0, \"ticks\": \"\"}}, \"type\": \"scatter\"}], \"scatter3d\": [{\"line\": {\"colorbar\": {\"outlinewidth\": 0, \"ticks\": \"\"}}, \"marker\": {\"colorbar\": {\"outlinewidth\": 0, \"ticks\": \"\"}}, \"type\": \"scatter3d\"}], \"scattercarpet\": [{\"marker\": {\"colorbar\": {\"outlinewidth\": 0, \"ticks\": \"\"}}, \"type\": \"scattercarpet\"}], \"scattergeo\": [{\"marker\": {\"colorbar\": {\"outlinewidth\": 0, \"ticks\": \"\"}}, \"type\": \"scattergeo\"}], \"scattergl\": [{\"marker\": {\"colorbar\": {\"outlinewidth\": 0, \"ticks\": \"\"}}, \"type\": \"scattergl\"}], \"scattermapbox\": [{\"marker\": {\"colorbar\": {\"outlinewidth\": 0, \"ticks\": \"\"}}, \"type\": \"scattermapbox\"}], \"scatterpolar\": [{\"marker\": {\"colorbar\": {\"outlinewidth\": 0, \"ticks\": \"\"}}, \"type\": \"scatterpolar\"}], \"scatterpolargl\": [{\"marker\": {\"colorbar\": {\"outlinewidth\": 0, \"ticks\": \"\"}}, \"type\": \"scatterpolargl\"}], \"scatterternary\": [{\"marker\": {\"colorbar\": {\"outlinewidth\": 0, \"ticks\": \"\"}}, \"type\": \"scatterternary\"}], \"surface\": [{\"colorbar\": {\"outlinewidth\": 0, \"ticks\": \"\"}, \"colorscale\": [[0.0, \"#0d0887\"], [0.1111111111111111, \"#46039f\"], [0.2222222222222222, \"#7201a8\"], [0.3333333333333333, \"#9c179e\"], [0.4444444444444444, \"#bd3786\"], [0.5555555555555556, \"#d8576b\"], [0.6666666666666666, \"#ed7953\"], [0.7777777777777778, \"#fb9f3a\"], [0.8888888888888888, \"#fdca26\"], [1.0, \"#f0f921\"]], \"type\": \"surface\"}], \"table\": [{\"cells\": {\"fill\": {\"color\": \"#EBF0F8\"}, \"line\": {\"color\": \"white\"}}, \"header\": {\"fill\": {\"color\": \"#C8D4E3\"}, \"line\": {\"color\": \"white\"}}, \"type\": \"table\"}]}, \"layout\": {\"annotationdefaults\": {\"arrowcolor\": \"#2a3f5f\", \"arrowhead\": 0, \"arrowwidth\": 1}, \"coloraxis\": {\"colorbar\": {\"outlinewidth\": 0, \"ticks\": \"\"}}, \"colorscale\": {\"diverging\": [[0, \"#8e0152\"], [0.1, \"#c51b7d\"], [0.2, \"#de77ae\"], [0.3, \"#f1b6da\"], [0.4, \"#fde0ef\"], [0.5, \"#f7f7f7\"], [0.6, \"#e6f5d0\"], [0.7, \"#b8e186\"], [0.8, \"#7fbc41\"], [0.9, \"#4d9221\"], [1, \"#276419\"]], \"sequential\": [[0.0, \"#0d0887\"], [0.1111111111111111, \"#46039f\"], [0.2222222222222222, \"#7201a8\"], [0.3333333333333333, \"#9c179e\"], [0.4444444444444444, \"#bd3786\"], [0.5555555555555556, \"#d8576b\"], [0.6666666666666666, \"#ed7953\"], [0.7777777777777778, \"#fb9f3a\"], [0.8888888888888888, \"#fdca26\"], [1.0, \"#f0f921\"]], \"sequentialminus\": [[0.0, \"#0d0887\"], [0.1111111111111111, \"#46039f\"], [0.2222222222222222, \"#7201a8\"], [0.3333333333333333, \"#9c179e\"], [0.4444444444444444, \"#bd3786\"], [0.5555555555555556, \"#d8576b\"], [0.6666666666666666, \"#ed7953\"], [0.7777777777777778, \"#fb9f3a\"], [0.8888888888888888, \"#fdca26\"], [1.0, \"#f0f921\"]]}, \"colorway\": [\"#636efa\", \"#EF553B\", \"#00cc96\", \"#ab63fa\", \"#FFA15A\", \"#19d3f3\", \"#FF6692\", \"#B6E880\", \"#FF97FF\", \"#FECB52\"], \"font\": {\"color\": \"#2a3f5f\"}, \"geo\": {\"bgcolor\": \"white\", \"lakecolor\": \"white\", \"landcolor\": \"#E5ECF6\", \"showlakes\": true, \"showland\": true, \"subunitcolor\": \"white\"}, \"hoverlabel\": {\"align\": \"left\"}, \"hovermode\": \"closest\", \"mapbox\": {\"style\": \"light\"}, \"paper_bgcolor\": \"white\", \"plot_bgcolor\": \"#E5ECF6\", \"polar\": {\"angularaxis\": {\"gridcolor\": \"white\", \"linecolor\": \"white\", \"ticks\": \"\"}, \"bgcolor\": \"#E5ECF6\", \"radialaxis\": {\"gridcolor\": \"white\", \"linecolor\": \"white\", \"ticks\": \"\"}}, \"scene\": {\"xaxis\": {\"backgroundcolor\": \"#E5ECF6\", \"gridcolor\": \"white\", \"gridwidth\": 2, \"linecolor\": \"white\", \"showbackground\": true, \"ticks\": \"\", \"zerolinecolor\": \"white\"}, \"yaxis\": {\"backgroundcolor\": \"#E5ECF6\", \"gridcolor\": \"white\", \"gridwidth\": 2, \"linecolor\": \"white\", \"showbackground\": true, \"ticks\": \"\", \"zerolinecolor\": \"white\"}, \"zaxis\": {\"backgroundcolor\": \"#E5ECF6\", \"gridcolor\": \"white\", \"gridwidth\": 2, \"linecolor\": \"white\", \"showbackground\": true, \"ticks\": \"\", \"zerolinecolor\": \"white\"}}, \"shapedefaults\": {\"line\": {\"color\": \"#2a3f5f\"}}, \"ternary\": {\"aaxis\": {\"gridcolor\": \"white\", \"linecolor\": \"white\", \"ticks\": \"\"}, \"baxis\": {\"gridcolor\": \"white\", \"linecolor\": \"white\", \"ticks\": \"\"}, \"bgcolor\": \"#E5ECF6\", \"caxis\": {\"gridcolor\": \"white\", \"linecolor\": \"white\", \"ticks\": \"\"}}, \"title\": {\"x\": 0.05}, \"xaxis\": {\"automargin\": true, \"gridcolor\": \"white\", \"linecolor\": \"white\", \"ticks\": \"\", \"title\": {\"standoff\": 15}, \"zerolinecolor\": \"white\", \"zerolinewidth\": 2}, \"yaxis\": {\"automargin\": true, \"gridcolor\": \"white\", \"linecolor\": \"white\", \"ticks\": \"\", \"title\": {\"standoff\": 15}, \"zerolinecolor\": \"white\", \"zerolinewidth\": 2}}}},\n",
       "                        {\"responsive\": true}\n",
       "                    ).then(function(){\n",
       "                            \n",
       "var gd = document.getElementById('c55f1ff0-5c87-4957-ac45-a1cf1502be15');\n",
       "var x = new MutationObserver(function (mutations, observer) {{\n",
       "        var display = window.getComputedStyle(gd).display;\n",
       "        if (!display || display === 'none') {{\n",
       "            console.log([gd, 'removed!']);\n",
       "            Plotly.purge(gd);\n",
       "            observer.disconnect();\n",
       "        }}\n",
       "}});\n",
       "\n",
       "// Listen for the removal of the full notebook cells\n",
       "var notebookContainer = gd.closest('#notebook-container');\n",
       "if (notebookContainer) {{\n",
       "    x.observe(notebookContainer, {childList: true});\n",
       "}}\n",
       "\n",
       "// Listen for the clearing of the current output cell\n",
       "var outputEl = gd.closest('.output');\n",
       "if (outputEl) {{\n",
       "    x.observe(outputEl, {childList: true});\n",
       "}}\n",
       "\n",
       "                        })\n",
       "                };\n",
       "                });\n",
       "            </script>\n",
       "        </div>"
      ]
     },
     "metadata": {},
     "output_type": "display_data"
    }
   ],
   "source": [
    "print(\"Scatter Plot of Confirmed Cases as of {}\".format('3/8/20'))\n",
    "# fig_scat = px.scatter_mapbox(df, lat=\"Lat\", lon=\"Long\", hover_name=\"Country/Region\" ,hover_data=[\"Long\",\"Lat\", today], color_discrete_sequence=[\"fuchsia\"], zoom=1, height=300)\n",
    "ifigc_scat = px.scatter_mapbox(dfc[dfc['3/8/20']>0], lat=\"Lat\", lon=\"Long\", hover_name=\"Country/Region\" ,hover_data=[\"Long\",\"Lat\", 'Province/State','3/8/20'],color_discrete_sequence=[\"fuchsia\"],zoom=1, height=600)\n",
    "ifigc_scat.update_layout(mapbox_style=\"open-street-map\")\n",
    "ifigc_scat"
   ]
  },
  {
   "cell_type": "code",
   "execution_count": 22,
   "metadata": {},
   "outputs": [
    {
     "name": "stdout",
     "output_type": "stream",
     "text": [
      "Scatter Plot of Confirmed Cases as of 3/11/20\n"
     ]
    },
    {
     "data": {
      "text/html": [
       "<div>\n",
       "        \n",
       "        \n",
       "            <div id=\"25edfdd2-9f40-4cf0-9393-708cdcb7fab9\" class=\"plotly-graph-div\" style=\"height:600px; width:100%;\"></div>\n",
       "            <script type=\"text/javascript\">\n",
       "                require([\"plotly\"], function(Plotly) {\n",
       "                    window.PLOTLYENV=window.PLOTLYENV || {};\n",
       "                    \n",
       "                if (document.getElementById(\"25edfdd2-9f40-4cf0-9393-708cdcb7fab9\")) {\n",
       "                    Plotly.newPlot(\n",
       "                        '25edfdd2-9f40-4cf0-9393-708cdcb7fab9',\n",
       "                        [{\"customdata\": [[101.0, 15.0, null, 59], [138.0, 36.0, null, 639], [103.8333, 1.2833, null, 178], [84.25, 28.1667, null, 1], [112.5, 2.5, null, 149], [-123.1207, 49.2827, \"British Columbia\", 39], [151.2093, -33.8688, \"New South Wales\", 65], [144.9631, -37.8136, \"Victoria\", 21], [153.4, -28.0167, \"Queensland\", 20], [104.9167, 11.55, null, 3], [81.0, 7.0, null, 2], [9.0, 51.0, null, 1908], [26.0, 64.0, null, 59], [54.0, 24.0, null, 74], [122.0, 13.0, null, 49], [78.0, 21.0, null, 62], [12.0, 43.0, null, 12462], [16.0, 63.0, null, 500], [-4.0, 40.0, null, 2277], [138.6007, -34.9285, \"South Australia\", 9], [4.0, 50.8333, null, 314], [30.0, 26.0, null, 60], [35.8623, 33.8547, null, 61], [44.0, 33.0, null, 71], [57.0, 21.0, null, 18], [65.0, 33.0, null, 7], [50.55, 26.0275, null, 195], [47.75, 29.5, null, 72], [1.6596, 28.0339, null, 20], [15.2, 45.1, null, 19], [8.2275, 46.8182, null, 652], [14.5501, 47.5162, null, 246], [35.0, 31.0, null, 109], [69.3451, 30.3753, null, 19], [-51.9253, -14.235, null, 38], [43.3569, 42.3154, null, 24], [21.8243, 39.0742, null, 99], [21.7453, 41.6086, null, 7], [8.4689, 60.472, null, 598], [24.9668, 45.9432, null, 45], [25.0136, 58.5953, null, 16], [5.2913, 52.1326, null, 503], [12.4578, 43.9424, null, 62], [27.9534, 53.7098, null, 9], [-19.0208, 64.9631, null, 85], [23.8813, 55.1694, null, 3], [-102.5528, 23.6345, null, 8], [174.886, -40.9006, null, 5], [8.6753, 9.082, null, 2], [115.8605, -31.9505, \"Western Australia\", 9], [-7.6921, 53.1424, null, 43], [6.1296, 49.8153, null, 7], [7.4167, 43.7333, null, 1], [51.1839, 25.3548, null, 262], [-78.1834, -1.8312, null, 17], [47.5769, 40.1431, null, 11], [45.0382, 40.0691, null, 1], [-70.1627, 18.7357, null, 5], [113.9213, -0.7893, null, 34], [-8.2245, 39.3999, null, 59], [1.5218, 42.5063, null, 1], [145.9707, -41.4545, \"Tasmania\", 3], [24.6032, 56.8796, null, 10], [-7.0926, 31.7917, null, 5], [45.0, 24.0, null, 21], [-14.4524, 14.4974, null, 4], [-63.6167, -38.4161, null, 19], [-71.543, -35.6751, null, 23], [36.51, 31.24, null, 1], [31.1656, 48.3794, null, 1], [19.5033, 47.1625, null, 13], [130.8456, -12.4634, \"Northern Territory\", 1], [9.55, 47.14, null, 1], [19.1451, 51.9194, null, 31], [9.0, 34.0, null, 7], [17.6791, 43.9159, null, 7], [14.9955, 46.1512, null, 57], [22.9375, -30.5595, null, 13], [90.4336, 27.5142, null, 1], [11.5021, 3.8480000000000003, null, 2], [-74.2973, 4.5709, null, 9], [-83.7534, 9.7489, null, 13], [-75.0152, -9.19, null, 11], [21.0059, 44.0165, null, 12], [19.699, 48.669, null, 10], [0.8248, 8.6195, null, 1], [-53.1258, 3.9339, null, 5], [14.3754, 35.9375, null, 6], [-61.0242, 14.6415, null, 3], [25.4858, 42.7339, null, 7], [73.2207, 3.2028, null, 8], [90.3563, 23.685, null, 3], [-58.4438, -23.4425, null, 5], [-85.3232, 51.2538, \"Ontario\", 41], [-116.5765, 53.9333, \"Alberta\", 19], [-73.5491, 52.9399, \"Quebec\", 8], [20.1683, 41.1533, null, 12], [33.4299, 35.1264, null, 6], [114.7277, 4.5353, null, 11], [-121.4905, 47.4009, \"Washington\", 366], [-74.9481, 42.1657, \"New York\", 220], [-119.6816, 36.1162, \"California\", 177], [-71.5301, 42.2302, \"Massachusetts\", 95], [139.638, 35.4437, \"Diamond Princess\", 46], [-122.6655, 37.6489, \"Grand Princess\", 21], [-83.6431, 33.0406, \"Georgia\", 23], [-105.3111, 39.0598, \"Colorado\", 34], [-81.6868, 27.7663, \"Florida\", 28], [-74.521, 40.2989, \"New Jersey\", 23], [-122.0709, 44.571999999999996, \"Oregon\", 19], [-97.5635, 31.0545, \"Texas\", 21], [-88.9861, 40.3495, \"Illinois\", 25], [-77.2098, 40.5908, \"Pennsylvania\", 16], [-93.2105, 42.0115, \"Iowa\", 13], [-76.8021, 39.0639, \"Maryland\", 9], [-79.8064, 35.6301, \"North Carolina\", 7], [-80.945, 33.8569, \"South Carolina\", 10], [-86.6923, 35.7478, \"Tennessee\", 9], [-78.17, 37.7693, \"Virginia\", 9], [-111.4312, 33.7298, \"Arizona\", 9], [-86.2583, 39.8494, \"Indiana\", 11], [-84.6701, 37.6681, \"Kentucky\", 8], [-77.0268, 38.8974, \"District of Columbia\", 10], [-117.0554, 38.3135, \"Nevada\", 7], [-71.5639, 43.4525, \"New Hampshire\", 5], [-93.9002, 45.6945, \"Minnesota\", 5], [-98.2681, 41.1254, \"Nebraska\", 5], [-82.7649, 40.3888, \"Ohio\", 4], [-71.5118, 41.6809, \"Rhode Island\", 5], [-89.6165, 44.2685, \"Wisconsin\", 6], [-72.7554, 41.5978, \"Connecticut\", 3], [-157.4983, 21.0943, \"Hawaii\", 2], [-96.9289, 35.5653, \"Oklahoma\", 2], [-111.8624, 40.15, \"Utah\", 3], [-1.5616, 12.2383, null, 2], [12.4534, 41.9029, null, 1], [103.8467, 46.8625, null, 1], [-80.7821, 8.538, null, 8], [-96.7265, 38.5266, \"Kansas\", 1], [-91.8678, 31.1695, \"Louisiana\", 6], [-92.2884, 38.4561, \"Missouri\", 1], [-72.7107, 44.0459, \"Vermont\", 1], [-92.3731, 34.9697, \"Arkansas\", 1], [-75.5071, 39.3185, \"Delaware\", 1], [-84.5361, 43.3266, \"Michigan\", 2], [-110.4544, 46.9219, \"Montana\", 1], [-106.2485, 34.8405, \"New Mexico\", 3], [-99.4388, 44.2998, \"South Dakota\", 8], [112.2707, 30.9756, \"Hubei\", 67773], [53.0, 32.0, null, 9000], [128.0, 36.0, null, 7755], [2.2137, 46.2276, \"France\", 2281], [113.4244, 23.3417, \"Guangdong\", 1356], [113.61399999999999, 33.882, \"Henan\", 1273], [120.0934, 29.1832, \"Zhejiang\", 1215], [111.7088, 27.6104, \"Hunan\", 1018], [117.2264, 31.8257, \"Anhui\", 990], [115.7221, 27.614, \"Jiangxi\", 935], [118.1498, 36.3427, \"Shandong\", 760], [139.638, 35.4437, \"Diamond Princess\", 696], [119.455, 32.9711, \"Jiangsu\", 631], [107.874, 30.0572, \"Chongqing\", 576], [102.7103, 30.6171, \"Sichuan\", 539], [127.7615, 47.861999999999995, \"Heilongjiang\", 482], [-3.4360000000000004, 55.3781, \"UK\", 456], [9.5018, 56.2639, \"Denmark\", 442], [116.4142, 40.1824, \"Beijing\", 435], [121.4491, 31.201999999999998, \"Shanghai\", 344], [116.1306, 39.549, \"Hebei\", 318], [117.9874, 26.0789, \"Fujian\", 296], [108.7881, 23.8298, \"Guangxi\", 252], [108.8701, 35.1917, \"Shaanxi\", 245], [101.48700000000001, 24.974, \"Yunnan\", 174], [109.7453, 19.1959, \"Hainan\", 168], [106.8748, 26.8154, \"Guizhou\", 146], [117.323, 39.3054, \"Tianjin\", 136], [112.2922, 37.5777, \"Shanxi\", 133], [101.0583, 37.8099, \"Gansu\", 127], [114.2, 22.3, \"Hong Kong\", 126], [122.6085, 41.2956, \"Liaoning\", 125], [126.1923, 43.6661, \"Jilin\", 93], [15.472999999999999, 49.8175, null, 91], [85.2401, 41.1129, \"Xinjiang\", 76], [113.9448, 44.0935, \"Inner Mongolia\", 75], [106.1655, 37.2692, \"Ningxia\", 75], [121.0, 23.7, null, 48], [108.0, 16.0, null, 38], [90.0, 60.0, null, 20], [95.9956, 35.7452, \"Qinghai\", 18], [113.55, 22.1667, \"Macau\", 10], [28.3699, 47.4116, null, 3], [-63.5887, -16.2902, null, 2], [-6.9118, 61.8926, \"Faroe Islands\", 2], [-63.0501, 18.0708, \"St Martin\", 2], [-86.2419, 15.2, null, 2], [-2.3644, 49.3723, \"Channel Islands\", 2], [-66.4619, 46.5653, \"New Brunswick\", 1], [88.0924, 31.6927, \"Tibet\", 1], [21.7587, -4.0383, null, 1], [-5.5471, 7.54, null, 1], [-62.8333, 17.9, \"Saint Barthelemy\", 1], [-77.2975, 18.1096, null, 1], [55.5364, -21.1151, null, 1], [35.2433, 38.9637, null, 1], [-5.3536, 36.1408, \"Gibraltar\", 1], [-122.6413, 47.6477, \"Kitsap, WA\", 2], [-121.9018, 38.3105, \"Solano, CA\", 3], [-121.958, 37.0454, \"Santa Cruz, CA\", 2], [-122.2654, 38.5025, \"Napa, CA\", 1], [-119.1391, 34.3705, \"Ventura, CA\", 1], [-71.8571, 42.4097, \"Worcester, MA\", 1], [-84.0167, 33.9191, \"Gwinnett, GA\", 2], [-84.2279, 33.7956, \"DeKalb, GA\", 2], [-82.7779, 37.5455, \"Floyd, GA\", 1], [-84.4803, 33.4502, \"Fayette, GA\", 1], [-94.8521, 32.4893, \"Gregg, TX\", 1], [-74.124, 40.2589, \"Monmouth, NJ\", 4], [-74.8649, 40.0712, \"Burlington, NJ\", 2], [-75.1196, 39.9259, \"Camden, NJ\", 1], [-74.1285, 40.8568, \"Passaic, NJ\", 1], [-74.2632, 40.6976, \"Union, NJ\", 1], [-106.8287, 39.6553, \"Eagle, CO\", 4], [-105.5943, 40.6956, \"Larimer, CO\", 1], [-104.3326, 39.6203, \"Arapahoe, CO\", 3], [-106.9253, 38.5458, \"Gunnison, CO\", 5], [-88.4016, 41.9879, \"Kane, IL\", 1], [-75.2479, 41.0458, \"Monroe, PA\", 2], [-75.1652, 39.9526, \"Philadelphia, PA\", 1], [-76.2859, 36.8508, \"Norfolk, VA\", 2], [-77.09100000000001, 38.8816, \"Arlington, VA\", 1], [-77.6078, 38.2042, \"Spotsylvania, VA\", 1], [-77.6536, 39.0768, \"Loudoun, VA\", 1], [-76.8721, 38.7849, \"Prince George's, MD\", 3], [-95.4778, 41.3912, \"Pottawattamie, IA\", 1], [-80.607, 34.2465, \"Camden, NC\", 4], [-111.6661, 32.0575, \"Pima, AZ\", 1], [-85.355, 41.4277, \"Noble, IN\", 1], [-77.2865, 39.8522, \"Adams, IN\", 1], [-86.4997, 40.0106, \"Boone, IN\", 1], [-89.5498, 43.0186, \"Dane, WI\", 2], [-92.3814, 44.7509, \"Pierce, WI\", 2], [-81.6758, 41.4339, \"Cuyahoga, OH\", 3], [-111.9522, 41.2603, \"Weber, UT\", 1], [-73.135, 43.0279, \"Bennington County, VT\", 1], [-93.7842, 44.8254, \"Carver County, MN\", 1], [-81.9098, 26.8946, \"Charlotte County, FL\", 1], [-84.4803, 34.2515, \"Cherokee County, GA\", 1], [-96.493, 33.1795, \"Collin County, TX\", 3], [-85.6435, 38.1938, \"Jefferson County, KY\", 1], [-90.1121, 29.6499, \"Jefferson Parish, LA\", 1], [-121.8474, 40.7909, \"Shasta County, CA\", 1], [-81.9535, 34.8606, \"Spartanburg County, SC\", 1], [-84.3542, 38.4333, \"Harrison County, KY\", 5], [-91.5984, 41.6699, \"Johnson County, IA\", 12], [-73.1822, 42.3118, \"Berkshire County, MA\", 7], [-86.822, 36.1343, \"Davidson County, TN\", 2], [-123.2492, 43.1261, \"Douglas County, OR\", 1], [-119.2321, 36.9859, \"Fresno County, CA\", 2], [-76.3637, 39.5839, \"Harford County, MD\", 1], [-86.5401, 39.8065, \"Hendricks County, IN\", 2], [-74.0535, 40.7453, \"Hudson County, NJ\", 1], [-94.8521, 38.8454, \"Johnson County, KS\", 1], [-120.9319, 47.175, \"Kittitas County, WA\", 1], [-82.3452, 27.4799, \"Manatee County, FL\", 2], [-122.5927, 44.8446, \"Marion County, OR\", 2], [-86.6611, 30.5773, \"Okaloosa County, FL\", 1], [-85.1479, 34.0132, \"Polk County, GA\", 1], [-117.3961, 33.9533, \"Riverside County, CA\", 6], [-89.9253, 35.1269, \"Shelby County, TN\", 1], [-90.4125, 38.6103, \"St. Louis County, MO\", 1], [-72.6151, 40.9849, \"Suffolk County, NY\", 6], [-74.3118, 41.8586, \"Ulster County, NY\", 2], [-81.0755, 29.028000000000002, \"Volusia County, FL\", 2], [-77.2405, 38.9085, \"Fairfax County, VA\", 3], [-71.0498, 42.9931, \"Rockingham County, NH\", 2], [-77.0369, 38.9072, \"Washington, D.C.\", 4], [-75.3879, 40.229, \"Montgomery County, PA\", 9], [-121.7195, 37.6017, \"Alameda County, CA\", 5], [-80.3659, 26.1901, \"Broward County, FL\", 4], [-81.9535, 26.663, \"Lee County, FL\", 2], [-111.2845, 32.8162, \"Pinal County, AZ\", 5], [-73.983, 41.1489, \"Rockland County, NY\", 6], [-73.936, 43.0324, \"Saratoga County, NY\", 2], [-79.7848, 32.7957, \"Charleston County, SC\", 1], [-122.5194, 45.7466, \"Clark County, WA\", 1], [-84.5641, 33.8999, \"Cobb County, GA\", 7], [-112.0953, 40.9629, \"Davis County, UT\", 1], [-104.4723, 38.9108, \"El Paso County, CO\", 1], [-157.8584, 21.307, \"Honolulu County, HI\", 2], [-122.7647, 42.3345, \"Jackson County, OR \", 2], [-123.304, 47.7425, \"Jefferson County, WA\", 1], [-80.5883, 34.3672, \"Kershaw County, SC\", 3], [-121.6142, 42.6953, \"Klamath County, OR\", 1], [-119.6963, 37.2519, \"Madera County, CA\", 1], [-122.1295, 47.0676, \"Pierce County, WA\", 14], [-95.941, 36.1593, \"Tulsa County, OK\", 2], [-104.9389, 39.2587, \"Douglas County, CO\", 3], [-71.4774, 41.8882, \"Providence County, RI\", 5], [-79.1781, 35.7211, \"Chatham County, NC\", 1], [-75.3879, 39.9078, \"Delaware County, PA\", 1], [-96.1951, 41.3148, \"Douglas County, NE\", 4], [-84.4803, 38.0606, \"Fayette County, KY\", 2], [-86.1752, 39.8362, \"Marion County, IN\", 1], [-71.2874, 42.4672, \"Middlesex County, MA\", 41], [-73.5594, 40.6546, \"Nassau County, NY\", 28], [-93.0616, 44.9964, \"Ramsey County, MN\", 2], [-119.6035, 40.5608, \"Washoe County, NV\", 2], [-75.2479, 41.6739, \"Wayne County, PA\", 1], [-121.9018, 38.7646, \"Yolo County, CA\", 1], [-121.9552, 37.3541, \"Santa Clara County, CA\", 48], [-115.094, 36.0796, \"Clark County, NV\", 5], [-95.8143, 29.5693, \"Fort Bend County, TX\", 6], [-119.3732, 47.1981, \"Grant County, WA\", 1], [-86.9824, 30.769000000000002, \"Santa Rosa County, FL\", 1], [-86.8622, 35.9179, \"Williamson County, TN\", 5], [-74.006, 40.7128, \"New York County, NY\", 55], [-77.2405, 39.1547, \"Montgomery County, MD\", 5], [-71.0589, 42.3601, \"Suffolk County, MA\", 20], [-104.9903, 39.7392, \"Denver County, CO\", 6], [-106.064, 39.5912, \"Summit County, CO\", 1], [-74.077, 40.9263, \"Bergen County, NJ\", 11], [-95.3103, 29.7752, \"Harris County, TX\", 7], [-122.4194, 37.7749, \"San Francisco County, CA\", 14], [-121.9018, 37.8534, \"Contra Costa County, CA\", 10], [-117.8531, 33.7879, \"Orange County, CA\", 5], [-71.1449, 42.1767, \"Norfolk County, MA\", 22], [-112.4291, 33.2918, \"Maricopa County, AZ\", 3], [-78.5661, 35.8032, \"Wake County, NC\", 6], [-73.7949, 41.122, \"Westchester County, NY\", 121], [-71.82600000000001, 43.9088, \"Grafton County, NH\", 3], [-82.3018, 27.9904, \"Hillsborough, FL\", 3], [-120.8039, 39.0916, \"Placer County, CA\", 7], [-122.3255, 37.563, \"San Mateo, CA\", 15], [-122.9888, 38.578, \"Sonoma County, CA\", 3], [-118.7606, 45.775, \"Umatilla, OR\", 2], [-84.3963, 33.8034, \"Fulton County, GA\", 7], [-123.1386, 45.547, \"Washington County, OR\", 8], [-121.8339, 48.033, \"Snohomish County, WA\", 68], [-123.8695, 40.745, \"Humboldt County, CA\", 1], [-121.3542, 38.4747, \"Sacramento County, CA\", 11], [-117.1611, 32.7157, \"San Diego County, CA\", 3], [-120.9876, 36.5761, \"San Benito, CA\", 2], [-118.2437, 34.0522, \"Los Angeles, CA\", 27], [-122.3321, 47.6062, \"King County, WA\", 190], [-87.6976, 41.7377, \"Cook County, IL\", 22], [-121.7114, 48.4242, \"Skagit, WA\", 1], [-122.7696, 46.8646, \"Thurston, WA\", 1], [-122.5795, 48.1976, \"Island, WA\", 1], [-121.9719, 48.8787, \"Whatcom, WA\", 1], [-122.7633, 38.0834, \"Marin, CA\", 1], [-120.6805, 38.196, \"Calaveras, CA\", 2], [-120.9876, 37.5091, \"Stanislaus, CA\", 2], [-120.189, 36.6066, \"San Joaquin, CA\", 1], [-70.7829, 42.632, \"Essex, MA\", 1], [-82.0843, 30.7917, \"Charlton, GA\", 1], [-81.4279, 26.07, \"Collier, FL\", 3], [-82.7779, 27.8764, \"Pinellas, FL\", 2], [-82.4944, 29.7938, \"Alachua, FL\", 1], [-81.8224, 30.5927, \"Nassau, FL\", 1], [-82.4319, 28.3232, \"Pasco, FL\", 1], [-96.79700000000001, 32.7767, \"Dallas, TX\", 2], [-97.3517, 32.7732, \"Tarrant, TX\", 1], [-95.6963, 30.3883, \"Montgomery, TX\", 1], [-74.4927, 40.5726, \"Middlesex, NJ\", 2], [-105.2663, 39.58, \"Jefferson, CO\", 3], [-122.5863, 45.5146, \"Multnomah, OR\", 1], [-123.4919, 44.9267, \"Polk, OR\", 1], [-121.2617, 43.8325, \"Deschutes, OR\", 1], [-88.2668, 42.3334, \"McHenry, IL\", 1], [-87.8272, 42.3689, \"Lake, IL\", 1], [-75.2479, 40.4108, \"Bucks, PA\", 1], [-77.5161, 37.7772, \"Hanover, VA\", 1], [-80.6771, 34.7253, \"Lancaster, SC\", 1], [-82.3452, 36.4933, \"Sullivan, TN\", 1], [-86.1345, 39.4638, \"Johnson, IN\", 3], [-86.1345, 40.4483, \"Howard, IN\", 1], [-86.3377, 41.6228, \"St. Joseph, IN\", 1], [-97.8722, 42.6712, \"Knox, NE\", 1], [-81.2519, 40.8685, \"Stark, OH\", 1], [-93.2197, 45.3293, \"Anoka, MN\", 1], [-92.3814, 43.9952, \"Olmsted, MN\", 1], [-110.9984, 40.8298, \"Summit, UT\", 1], [-73.3709, 41.256, \"Fairfield, CT\", 2], [-73.2765, 41.7866, \"Litchfield, CT\", 1], [-90.0715, 29.9511, \"Orleans, LA\", 5], [-102.2548, 43.8901, \"Pennington, SD\", 1], [-98.2213, 44.4797, \"Beadle, SD\", 1], [-98.3965, 43.0985, \"Charles Mix, SD\", 1], [-98.2213, 43.7242, \"Davison, SD\", 1], [-96.8351, 43.6632, \"Minnehaha, SD\", 3], [-97.8722, 42.9815, \"Bon Homme, SD\", 1], [-106.7235, 33.8837, \"Socorro, NM\", 2], [-106.6291, 35.0178, \"Bernalillo, NM\", 1], [-83.3362, 42.5922, \"Oakland, MI\", 1], [-83.3362, 42.2791, \"Wayne, MI\", 1], [-75.6674, 39.5393, \"New Castle, DE\", 1]], \"hoverlabel\": {\"namelength\": 0}, \"hovertemplate\": \"<b>%{hovertext}</b><br><br>Long=%{lon}<br>Lat=%{lat}<br>Province/State=%{customdata[2]}<br>3/11/20=%{customdata[3]}\", \"hovertext\": [\"Thailand\", \"Japan\", \"Singapore\", \"Nepal\", \"Malaysia\", \"Canada\", \"Australia\", \"Australia\", \"Australia\", \"Cambodia\", \"Sri Lanka\", \"Germany\", \"Finland\", \"United Arab Emirates\", \"Philippines\", \"India\", \"Italy\", \"Sweden\", \"Spain\", \"Australia\", \"Belgium\", \"Egypt\", \"Lebanon\", \"Iraq\", \"Oman\", \"Afghanistan\", \"Bahrain\", \"Kuwait\", \"Algeria\", \"Croatia\", \"Switzerland\", \"Austria\", \"Israel\", \"Pakistan\", \"Brazil\", \"Georgia\", \"Greece\", \"North Macedonia\", \"Norway\", \"Romania\", \"Estonia\", \"Netherlands\", \"San Marino\", \"Belarus\", \"Iceland\", \"Lithuania\", \"Mexico\", \"New Zealand\", \"Nigeria\", \"Australia\", \"Ireland\", \"Luxembourg\", \"Monaco\", \"Qatar\", \"Ecuador\", \"Azerbaijan\", \"Armenia\", \"Dominican Republic\", \"Indonesia\", \"Portugal\", \"Andorra\", \"Australia\", \"Latvia\", \"Morocco\", \"Saudi Arabia\", \"Senegal\", \"Argentina\", \"Chile\", \"Jordan\", \"Ukraine\", \"Hungary\", \"Australia\", \"Liechtenstein\", \"Poland\", \"Tunisia\", \"Bosnia and Herzegovina\", \"Slovenia\", \"South Africa\", \"Bhutan\", \"Cameroon\", \"Colombia\", \"Costa Rica\", \"Peru\", \"Serbia\", \"Slovakia\", \"Togo\", \"French Guiana\", \"Malta\", \"Martinique\", \"Bulgaria\", \"Maldives\", \"Bangladesh\", \"Paraguay\", \"Canada\", \"Canada\", \"Canada\", \"Albania\", \"Cyprus\", \"Brunei\", \"US\", \"US\", \"US\", \"US\", \"US\", \"US\", \"US\", \"US\", \"US\", \"US\", \"US\", \"US\", \"US\", \"US\", \"US\", \"US\", \"US\", \"US\", \"US\", \"US\", \"US\", \"US\", \"US\", \"US\", \"US\", \"US\", \"US\", \"US\", \"US\", \"US\", \"US\", \"US\", \"US\", \"US\", \"US\", \"Burkina Faso\", \"Holy See\", \"Mongolia\", \"Panama\", \"US\", \"US\", \"US\", \"US\", \"US\", \"US\", \"US\", \"US\", \"US\", \"US\", \"China\", \"Iran\", \"Korea, South\", \"France\", \"China\", \"China\", \"China\", \"China\", \"China\", \"China\", \"China\", \"Cruise Ship\", \"China\", \"China\", \"China\", \"China\", \"United Kingdom\", \"Denmark\", \"China\", \"China\", \"China\", \"China\", \"China\", \"China\", \"China\", \"China\", \"China\", \"China\", \"China\", \"China\", \"China\", \"China\", \"China\", \"Czechia\", \"China\", \"China\", \"China\", \"Taiwan*\", \"Vietnam\", \"Russia\", \"China\", \"China\", \"Moldova\", \"Bolivia\", \"Denmark\", \"France\", \"Honduras\", \"United Kingdom\", \"Canada\", \"China\", \"Congo (Kinshasa)\", \"Cote d'Ivoire\", \"France\", \"Jamaica\", \"Reunion\", \"Turkey\", \"United Kingdom\", \"US\", \"US\", \"US\", \"US\", \"US\", \"US\", \"US\", \"US\", \"US\", \"US\", \"US\", \"US\", \"US\", \"US\", \"US\", \"US\", \"US\", \"US\", \"US\", \"US\", \"US\", \"US\", \"US\", \"US\", \"US\", \"US\", \"US\", \"US\", \"US\", \"US\", \"US\", \"US\", \"US\", \"US\", \"US\", \"US\", \"US\", \"US\", \"US\", \"US\", \"US\", \"US\", \"US\", \"US\", \"US\", \"US\", \"US\", \"US\", \"US\", \"US\", \"US\", \"US\", \"US\", \"US\", \"US\", \"US\", \"US\", \"US\", \"US\", \"US\", \"US\", \"US\", \"US\", \"US\", \"US\", \"US\", \"US\", \"US\", \"US\", \"US\", \"US\", \"US\", \"US\", \"US\", \"US\", \"US\", \"US\", \"US\", \"US\", \"US\", \"US\", \"US\", \"US\", \"US\", \"US\", \"US\", \"US\", \"US\", \"US\", \"US\", \"US\", \"US\", \"US\", \"US\", \"US\", \"US\", \"US\", \"US\", \"US\", \"US\", \"US\", \"US\", \"US\", \"US\", \"US\", \"US\", \"US\", \"US\", \"US\", \"US\", \"US\", \"US\", \"US\", \"US\", \"US\", \"US\", \"US\", \"US\", \"US\", \"US\", \"US\", \"US\", \"US\", \"US\", \"US\", \"US\", \"US\", \"US\", \"US\", \"US\", \"US\", \"US\", \"US\", \"US\", \"US\", \"US\", \"US\", \"US\", \"US\", \"US\", \"US\", \"US\", \"US\", \"US\", \"US\", \"US\", \"US\", \"US\", \"US\", \"US\", \"US\", \"US\", \"US\", \"US\", \"US\", \"US\", \"US\", \"US\", \"US\", \"US\", \"US\", \"US\", \"US\", \"US\", \"US\", \"US\", \"US\", \"US\", \"US\", \"US\", \"US\", \"US\", \"US\", \"US\", \"US\", \"US\", \"US\", \"US\", \"US\", \"US\", \"US\", \"US\", \"US\", \"US\", \"US\", \"US\", \"US\", \"US\", \"US\", \"US\", \"US\"], \"lat\": [15.0, 36.0, 1.2833, 28.1667, 2.5, 49.2827, -33.8688, -37.8136, -28.0167, 11.55, 7.0, 51.0, 64.0, 24.0, 13.0, 21.0, 43.0, 63.0, 40.0, -34.9285, 50.8333, 26.0, 33.8547, 33.0, 21.0, 33.0, 26.0275, 29.5, 28.0339, 45.1, 46.8182, 47.5162, 31.0, 30.3753, -14.235, 42.3154, 39.0742, 41.6086, 60.472, 45.9432, 58.5953, 52.1326, 43.9424, 53.7098, 64.9631, 55.1694, 23.6345, -40.9006, 9.082, -31.9505, 53.1424, 49.8153, 43.7333, 25.3548, -1.8312, 40.1431, 40.0691, 18.7357, -0.7893, 39.3999, 42.5063, -41.4545, 56.8796, 31.7917, 24.0, 14.4974, -38.4161, -35.6751, 31.24, 48.3794, 47.1625, -12.4634, 47.14, 51.9194, 34.0, 43.9159, 46.1512, -30.5595, 27.5142, 3.8480000000000003, 4.5709, 9.7489, -9.19, 44.0165, 48.669, 8.6195, 3.9339, 35.9375, 14.6415, 42.7339, 3.2028, 23.685, -23.4425, 51.2538, 53.9333, 52.9399, 41.1533, 35.1264, 4.5353, 47.4009, 42.1657, 36.1162, 42.2302, 35.4437, 37.6489, 33.0406, 39.0598, 27.7663, 40.2989, 44.571999999999996, 31.0545, 40.3495, 40.5908, 42.0115, 39.0639, 35.6301, 33.8569, 35.7478, 37.7693, 33.7298, 39.8494, 37.6681, 38.8974, 38.3135, 43.4525, 45.6945, 41.1254, 40.3888, 41.6809, 44.2685, 41.5978, 21.0943, 35.5653, 40.15, 12.2383, 41.9029, 46.8625, 8.538, 38.5266, 31.1695, 38.4561, 44.0459, 34.9697, 39.3185, 43.3266, 46.9219, 34.8405, 44.2998, 30.9756, 32.0, 36.0, 46.2276, 23.3417, 33.882, 29.1832, 27.6104, 31.8257, 27.614, 36.3427, 35.4437, 32.9711, 30.0572, 30.6171, 47.861999999999995, 55.3781, 56.2639, 40.1824, 31.201999999999998, 39.549, 26.0789, 23.8298, 35.1917, 24.974, 19.1959, 26.8154, 39.3054, 37.5777, 37.8099, 22.3, 41.2956, 43.6661, 49.8175, 41.1129, 44.0935, 37.2692, 23.7, 16.0, 60.0, 35.7452, 22.1667, 47.4116, -16.2902, 61.8926, 18.0708, 15.2, 49.3723, 46.5653, 31.6927, -4.0383, 7.54, 17.9, 18.1096, -21.1151, 38.9637, 36.1408, 47.6477, 38.3105, 37.0454, 38.5025, 34.3705, 42.4097, 33.9191, 33.7956, 37.5455, 33.4502, 32.4893, 40.2589, 40.0712, 39.9259, 40.8568, 40.6976, 39.6553, 40.6956, 39.6203, 38.5458, 41.9879, 41.0458, 39.9526, 36.8508, 38.8816, 38.2042, 39.0768, 38.7849, 41.3912, 34.2465, 32.0575, 41.4277, 39.8522, 40.0106, 43.0186, 44.7509, 41.4339, 41.2603, 43.0279, 44.8254, 26.8946, 34.2515, 33.1795, 38.1938, 29.6499, 40.7909, 34.8606, 38.4333, 41.6699, 42.3118, 36.1343, 43.1261, 36.9859, 39.5839, 39.8065, 40.7453, 38.8454, 47.175, 27.4799, 44.8446, 30.5773, 34.0132, 33.9533, 35.1269, 38.6103, 40.9849, 41.8586, 29.028000000000002, 38.9085, 42.9931, 38.9072, 40.229, 37.6017, 26.1901, 26.663, 32.8162, 41.1489, 43.0324, 32.7957, 45.7466, 33.8999, 40.9629, 38.9108, 21.307, 42.3345, 47.7425, 34.3672, 42.6953, 37.2519, 47.0676, 36.1593, 39.2587, 41.8882, 35.7211, 39.9078, 41.3148, 38.0606, 39.8362, 42.4672, 40.6546, 44.9964, 40.5608, 41.6739, 38.7646, 37.3541, 36.0796, 29.5693, 47.1981, 30.769000000000002, 35.9179, 40.7128, 39.1547, 42.3601, 39.7392, 39.5912, 40.9263, 29.7752, 37.7749, 37.8534, 33.7879, 42.1767, 33.2918, 35.8032, 41.122, 43.9088, 27.9904, 39.0916, 37.563, 38.578, 45.775, 33.8034, 45.547, 48.033, 40.745, 38.4747, 32.7157, 36.5761, 34.0522, 47.6062, 41.7377, 48.4242, 46.8646, 48.1976, 48.8787, 38.0834, 38.196, 37.5091, 36.6066, 42.632, 30.7917, 26.07, 27.8764, 29.7938, 30.5927, 28.3232, 32.7767, 32.7732, 30.3883, 40.5726, 39.58, 45.5146, 44.9267, 43.8325, 42.3334, 42.3689, 40.4108, 37.7772, 34.7253, 36.4933, 39.4638, 40.4483, 41.6228, 42.6712, 40.8685, 45.3293, 43.9952, 40.8298, 41.256, 41.7866, 29.9511, 43.8901, 44.4797, 43.0985, 43.7242, 43.6632, 42.9815, 33.8837, 35.0178, 42.5922, 42.2791, 39.5393], \"legendgroup\": \"\", \"lon\": [101.0, 138.0, 103.8333, 84.25, 112.5, -123.1207, 151.2093, 144.9631, 153.4, 104.9167, 81.0, 9.0, 26.0, 54.0, 122.0, 78.0, 12.0, 16.0, -4.0, 138.6007, 4.0, 30.0, 35.8623, 44.0, 57.0, 65.0, 50.55, 47.75, 1.6596, 15.2, 8.2275, 14.5501, 35.0, 69.3451, -51.9253, 43.3569, 21.8243, 21.7453, 8.4689, 24.9668, 25.0136, 5.2913, 12.4578, 27.9534, -19.0208, 23.8813, -102.5528, 174.886, 8.6753, 115.8605, -7.6921, 6.1296, 7.4167, 51.1839, -78.1834, 47.5769, 45.0382, -70.1627, 113.9213, -8.2245, 1.5218, 145.9707, 24.6032, -7.0926, 45.0, -14.4524, -63.6167, -71.543, 36.51, 31.1656, 19.5033, 130.8456, 9.55, 19.1451, 9.0, 17.6791, 14.9955, 22.9375, 90.4336, 11.5021, -74.2973, -83.7534, -75.0152, 21.0059, 19.699, 0.8248, -53.1258, 14.3754, -61.0242, 25.4858, 73.2207, 90.3563, -58.4438, -85.3232, -116.5765, -73.5491, 20.1683, 33.4299, 114.7277, -121.4905, -74.9481, -119.6816, -71.5301, 139.638, -122.6655, -83.6431, -105.3111, -81.6868, -74.521, -122.0709, -97.5635, -88.9861, -77.2098, -93.2105, -76.8021, -79.8064, -80.945, -86.6923, -78.17, -111.4312, -86.2583, -84.6701, -77.0268, -117.0554, -71.5639, -93.9002, -98.2681, -82.7649, -71.5118, -89.6165, -72.7554, -157.4983, -96.9289, -111.8624, -1.5616, 12.4534, 103.8467, -80.7821, -96.7265, -91.8678, -92.2884, -72.7107, -92.3731, -75.5071, -84.5361, -110.4544, -106.2485, -99.4388, 112.2707, 53.0, 128.0, 2.2137, 113.4244, 113.61399999999999, 120.0934, 111.7088, 117.2264, 115.7221, 118.1498, 139.638, 119.455, 107.874, 102.7103, 127.7615, -3.4360000000000004, 9.5018, 116.4142, 121.4491, 116.1306, 117.9874, 108.7881, 108.8701, 101.48700000000001, 109.7453, 106.8748, 117.323, 112.2922, 101.0583, 114.2, 122.6085, 126.1923, 15.472999999999999, 85.2401, 113.9448, 106.1655, 121.0, 108.0, 90.0, 95.9956, 113.55, 28.3699, -63.5887, -6.9118, -63.0501, -86.2419, -2.3644, -66.4619, 88.0924, 21.7587, -5.5471, -62.8333, -77.2975, 55.5364, 35.2433, -5.3536, -122.6413, -121.9018, -121.958, -122.2654, -119.1391, -71.8571, -84.0167, -84.2279, -82.7779, -84.4803, -94.8521, -74.124, -74.8649, -75.1196, -74.1285, -74.2632, -106.8287, -105.5943, -104.3326, -106.9253, -88.4016, -75.2479, -75.1652, -76.2859, -77.09100000000001, -77.6078, -77.6536, -76.8721, -95.4778, -80.607, -111.6661, -85.355, -77.2865, -86.4997, -89.5498, -92.3814, -81.6758, -111.9522, -73.135, -93.7842, -81.9098, -84.4803, -96.493, -85.6435, -90.1121, -121.8474, -81.9535, -84.3542, -91.5984, -73.1822, -86.822, -123.2492, -119.2321, -76.3637, -86.5401, -74.0535, -94.8521, -120.9319, -82.3452, -122.5927, -86.6611, -85.1479, -117.3961, -89.9253, -90.4125, -72.6151, -74.3118, -81.0755, -77.2405, -71.0498, -77.0369, -75.3879, -121.7195, -80.3659, -81.9535, -111.2845, -73.983, -73.936, -79.7848, -122.5194, -84.5641, -112.0953, -104.4723, -157.8584, -122.7647, -123.304, -80.5883, -121.6142, -119.6963, -122.1295, -95.941, -104.9389, -71.4774, -79.1781, -75.3879, -96.1951, -84.4803, -86.1752, -71.2874, -73.5594, -93.0616, -119.6035, -75.2479, -121.9018, -121.9552, -115.094, -95.8143, -119.3732, -86.9824, -86.8622, -74.006, -77.2405, -71.0589, -104.9903, -106.064, -74.077, -95.3103, -122.4194, -121.9018, -117.8531, -71.1449, -112.4291, -78.5661, -73.7949, -71.82600000000001, -82.3018, -120.8039, -122.3255, -122.9888, -118.7606, -84.3963, -123.1386, -121.8339, -123.8695, -121.3542, -117.1611, -120.9876, -118.2437, -122.3321, -87.6976, -121.7114, -122.7696, -122.5795, -121.9719, -122.7633, -120.6805, -120.9876, -120.189, -70.7829, -82.0843, -81.4279, -82.7779, -82.4944, -81.8224, -82.4319, -96.79700000000001, -97.3517, -95.6963, -74.4927, -105.2663, -122.5863, -123.4919, -121.2617, -88.2668, -87.8272, -75.2479, -77.5161, -80.6771, -82.3452, -86.1345, -86.1345, -86.3377, -97.8722, -81.2519, -93.2197, -92.3814, -110.9984, -73.3709, -73.2765, -90.0715, -102.2548, -98.2213, -98.3965, -98.2213, -96.8351, -97.8722, -106.7235, -106.6291, -83.3362, -83.3362, -75.6674], \"marker\": {\"color\": \"fuchsia\"}, \"mode\": \"markers\", \"name\": \"\", \"showlegend\": false, \"subplot\": \"mapbox\", \"type\": \"scattermapbox\"}],\n",
       "                        {\"height\": 600, \"legend\": {\"tracegroupgap\": 0}, \"mapbox\": {\"center\": {\"lat\": 34.149705555555556, \"lon\": -39.00451868686869}, \"domain\": {\"x\": [0.0, 1.0], \"y\": [0.0, 1.0]}, \"style\": \"open-street-map\", \"zoom\": 1}, \"margin\": {\"t\": 60}, \"template\": {\"data\": {\"bar\": [{\"error_x\": {\"color\": \"#2a3f5f\"}, \"error_y\": {\"color\": \"#2a3f5f\"}, \"marker\": {\"line\": {\"color\": \"#E5ECF6\", \"width\": 0.5}}, \"type\": \"bar\"}], \"barpolar\": [{\"marker\": {\"line\": {\"color\": \"#E5ECF6\", \"width\": 0.5}}, \"type\": \"barpolar\"}], \"carpet\": [{\"aaxis\": {\"endlinecolor\": \"#2a3f5f\", \"gridcolor\": \"white\", \"linecolor\": \"white\", \"minorgridcolor\": \"white\", \"startlinecolor\": \"#2a3f5f\"}, \"baxis\": {\"endlinecolor\": \"#2a3f5f\", \"gridcolor\": \"white\", \"linecolor\": \"white\", \"minorgridcolor\": \"white\", \"startlinecolor\": \"#2a3f5f\"}, \"type\": \"carpet\"}], \"choropleth\": [{\"colorbar\": {\"outlinewidth\": 0, \"ticks\": \"\"}, \"type\": \"choropleth\"}], \"contour\": [{\"colorbar\": {\"outlinewidth\": 0, \"ticks\": \"\"}, \"colorscale\": [[0.0, \"#0d0887\"], [0.1111111111111111, \"#46039f\"], [0.2222222222222222, \"#7201a8\"], [0.3333333333333333, \"#9c179e\"], [0.4444444444444444, \"#bd3786\"], [0.5555555555555556, \"#d8576b\"], [0.6666666666666666, \"#ed7953\"], [0.7777777777777778, \"#fb9f3a\"], [0.8888888888888888, \"#fdca26\"], [1.0, \"#f0f921\"]], \"type\": \"contour\"}], \"contourcarpet\": [{\"colorbar\": {\"outlinewidth\": 0, \"ticks\": \"\"}, \"type\": \"contourcarpet\"}], \"heatmap\": [{\"colorbar\": {\"outlinewidth\": 0, \"ticks\": \"\"}, \"colorscale\": [[0.0, \"#0d0887\"], [0.1111111111111111, \"#46039f\"], [0.2222222222222222, \"#7201a8\"], [0.3333333333333333, \"#9c179e\"], [0.4444444444444444, \"#bd3786\"], [0.5555555555555556, \"#d8576b\"], [0.6666666666666666, \"#ed7953\"], [0.7777777777777778, \"#fb9f3a\"], [0.8888888888888888, \"#fdca26\"], [1.0, \"#f0f921\"]], \"type\": \"heatmap\"}], \"heatmapgl\": [{\"colorbar\": {\"outlinewidth\": 0, \"ticks\": \"\"}, \"colorscale\": [[0.0, \"#0d0887\"], [0.1111111111111111, \"#46039f\"], [0.2222222222222222, \"#7201a8\"], [0.3333333333333333, \"#9c179e\"], [0.4444444444444444, \"#bd3786\"], [0.5555555555555556, \"#d8576b\"], [0.6666666666666666, \"#ed7953\"], [0.7777777777777778, \"#fb9f3a\"], [0.8888888888888888, \"#fdca26\"], [1.0, \"#f0f921\"]], \"type\": \"heatmapgl\"}], \"histogram\": [{\"marker\": {\"colorbar\": {\"outlinewidth\": 0, \"ticks\": \"\"}}, \"type\": \"histogram\"}], \"histogram2d\": [{\"colorbar\": {\"outlinewidth\": 0, \"ticks\": \"\"}, \"colorscale\": [[0.0, \"#0d0887\"], [0.1111111111111111, \"#46039f\"], [0.2222222222222222, \"#7201a8\"], [0.3333333333333333, \"#9c179e\"], [0.4444444444444444, \"#bd3786\"], [0.5555555555555556, \"#d8576b\"], [0.6666666666666666, \"#ed7953\"], [0.7777777777777778, \"#fb9f3a\"], [0.8888888888888888, \"#fdca26\"], [1.0, \"#f0f921\"]], \"type\": \"histogram2d\"}], \"histogram2dcontour\": [{\"colorbar\": {\"outlinewidth\": 0, \"ticks\": \"\"}, \"colorscale\": [[0.0, \"#0d0887\"], [0.1111111111111111, \"#46039f\"], [0.2222222222222222, \"#7201a8\"], [0.3333333333333333, \"#9c179e\"], [0.4444444444444444, \"#bd3786\"], [0.5555555555555556, \"#d8576b\"], [0.6666666666666666, \"#ed7953\"], [0.7777777777777778, \"#fb9f3a\"], [0.8888888888888888, \"#fdca26\"], [1.0, \"#f0f921\"]], \"type\": \"histogram2dcontour\"}], \"mesh3d\": [{\"colorbar\": {\"outlinewidth\": 0, \"ticks\": \"\"}, \"type\": \"mesh3d\"}], \"parcoords\": [{\"line\": {\"colorbar\": {\"outlinewidth\": 0, \"ticks\": \"\"}}, \"type\": \"parcoords\"}], \"pie\": [{\"automargin\": true, \"type\": \"pie\"}], \"scatter\": [{\"marker\": {\"colorbar\": {\"outlinewidth\": 0, \"ticks\": \"\"}}, \"type\": \"scatter\"}], \"scatter3d\": [{\"line\": {\"colorbar\": {\"outlinewidth\": 0, \"ticks\": \"\"}}, \"marker\": {\"colorbar\": {\"outlinewidth\": 0, \"ticks\": \"\"}}, \"type\": \"scatter3d\"}], \"scattercarpet\": [{\"marker\": {\"colorbar\": {\"outlinewidth\": 0, \"ticks\": \"\"}}, \"type\": \"scattercarpet\"}], \"scattergeo\": [{\"marker\": {\"colorbar\": {\"outlinewidth\": 0, \"ticks\": \"\"}}, \"type\": \"scattergeo\"}], \"scattergl\": [{\"marker\": {\"colorbar\": {\"outlinewidth\": 0, \"ticks\": \"\"}}, \"type\": \"scattergl\"}], \"scattermapbox\": [{\"marker\": {\"colorbar\": {\"outlinewidth\": 0, \"ticks\": \"\"}}, \"type\": \"scattermapbox\"}], \"scatterpolar\": [{\"marker\": {\"colorbar\": {\"outlinewidth\": 0, \"ticks\": \"\"}}, \"type\": \"scatterpolar\"}], \"scatterpolargl\": [{\"marker\": {\"colorbar\": {\"outlinewidth\": 0, \"ticks\": \"\"}}, \"type\": \"scatterpolargl\"}], \"scatterternary\": [{\"marker\": {\"colorbar\": {\"outlinewidth\": 0, \"ticks\": \"\"}}, \"type\": \"scatterternary\"}], \"surface\": [{\"colorbar\": {\"outlinewidth\": 0, \"ticks\": \"\"}, \"colorscale\": [[0.0, \"#0d0887\"], [0.1111111111111111, \"#46039f\"], [0.2222222222222222, \"#7201a8\"], [0.3333333333333333, \"#9c179e\"], [0.4444444444444444, \"#bd3786\"], [0.5555555555555556, \"#d8576b\"], [0.6666666666666666, \"#ed7953\"], [0.7777777777777778, \"#fb9f3a\"], [0.8888888888888888, \"#fdca26\"], [1.0, \"#f0f921\"]], \"type\": \"surface\"}], \"table\": [{\"cells\": {\"fill\": {\"color\": \"#EBF0F8\"}, \"line\": {\"color\": \"white\"}}, \"header\": {\"fill\": {\"color\": \"#C8D4E3\"}, \"line\": {\"color\": \"white\"}}, \"type\": \"table\"}]}, \"layout\": {\"annotationdefaults\": {\"arrowcolor\": \"#2a3f5f\", \"arrowhead\": 0, \"arrowwidth\": 1}, \"coloraxis\": {\"colorbar\": {\"outlinewidth\": 0, \"ticks\": \"\"}}, \"colorscale\": {\"diverging\": [[0, \"#8e0152\"], [0.1, \"#c51b7d\"], [0.2, \"#de77ae\"], [0.3, \"#f1b6da\"], [0.4, \"#fde0ef\"], [0.5, \"#f7f7f7\"], [0.6, \"#e6f5d0\"], [0.7, \"#b8e186\"], [0.8, \"#7fbc41\"], [0.9, \"#4d9221\"], [1, \"#276419\"]], \"sequential\": [[0.0, \"#0d0887\"], [0.1111111111111111, \"#46039f\"], [0.2222222222222222, \"#7201a8\"], [0.3333333333333333, \"#9c179e\"], [0.4444444444444444, \"#bd3786\"], [0.5555555555555556, \"#d8576b\"], [0.6666666666666666, \"#ed7953\"], [0.7777777777777778, \"#fb9f3a\"], [0.8888888888888888, \"#fdca26\"], [1.0, \"#f0f921\"]], \"sequentialminus\": [[0.0, \"#0d0887\"], [0.1111111111111111, \"#46039f\"], [0.2222222222222222, \"#7201a8\"], [0.3333333333333333, \"#9c179e\"], [0.4444444444444444, \"#bd3786\"], [0.5555555555555556, \"#d8576b\"], [0.6666666666666666, \"#ed7953\"], [0.7777777777777778, \"#fb9f3a\"], [0.8888888888888888, \"#fdca26\"], [1.0, \"#f0f921\"]]}, \"colorway\": [\"#636efa\", \"#EF553B\", \"#00cc96\", \"#ab63fa\", \"#FFA15A\", \"#19d3f3\", \"#FF6692\", \"#B6E880\", \"#FF97FF\", \"#FECB52\"], \"font\": {\"color\": \"#2a3f5f\"}, \"geo\": {\"bgcolor\": \"white\", \"lakecolor\": \"white\", \"landcolor\": \"#E5ECF6\", \"showlakes\": true, \"showland\": true, \"subunitcolor\": \"white\"}, \"hoverlabel\": {\"align\": \"left\"}, \"hovermode\": \"closest\", \"mapbox\": {\"style\": \"light\"}, \"paper_bgcolor\": \"white\", \"plot_bgcolor\": \"#E5ECF6\", \"polar\": {\"angularaxis\": {\"gridcolor\": \"white\", \"linecolor\": \"white\", \"ticks\": \"\"}, \"bgcolor\": \"#E5ECF6\", \"radialaxis\": {\"gridcolor\": \"white\", \"linecolor\": \"white\", \"ticks\": \"\"}}, \"scene\": {\"xaxis\": {\"backgroundcolor\": \"#E5ECF6\", \"gridcolor\": \"white\", \"gridwidth\": 2, \"linecolor\": \"white\", \"showbackground\": true, \"ticks\": \"\", \"zerolinecolor\": \"white\"}, \"yaxis\": {\"backgroundcolor\": \"#E5ECF6\", \"gridcolor\": \"white\", \"gridwidth\": 2, \"linecolor\": \"white\", \"showbackground\": true, \"ticks\": \"\", \"zerolinecolor\": \"white\"}, \"zaxis\": {\"backgroundcolor\": \"#E5ECF6\", \"gridcolor\": \"white\", \"gridwidth\": 2, \"linecolor\": \"white\", \"showbackground\": true, \"ticks\": \"\", \"zerolinecolor\": \"white\"}}, \"shapedefaults\": {\"line\": {\"color\": \"#2a3f5f\"}}, \"ternary\": {\"aaxis\": {\"gridcolor\": \"white\", \"linecolor\": \"white\", \"ticks\": \"\"}, \"baxis\": {\"gridcolor\": \"white\", \"linecolor\": \"white\", \"ticks\": \"\"}, \"bgcolor\": \"#E5ECF6\", \"caxis\": {\"gridcolor\": \"white\", \"linecolor\": \"white\", \"ticks\": \"\"}}, \"title\": {\"x\": 0.05}, \"xaxis\": {\"automargin\": true, \"gridcolor\": \"white\", \"linecolor\": \"white\", \"ticks\": \"\", \"title\": {\"standoff\": 15}, \"zerolinecolor\": \"white\", \"zerolinewidth\": 2}, \"yaxis\": {\"automargin\": true, \"gridcolor\": \"white\", \"linecolor\": \"white\", \"ticks\": \"\", \"title\": {\"standoff\": 15}, \"zerolinecolor\": \"white\", \"zerolinewidth\": 2}}}},\n",
       "                        {\"responsive\": true}\n",
       "                    ).then(function(){\n",
       "                            \n",
       "var gd = document.getElementById('25edfdd2-9f40-4cf0-9393-708cdcb7fab9');\n",
       "var x = new MutationObserver(function (mutations, observer) {{\n",
       "        var display = window.getComputedStyle(gd).display;\n",
       "        if (!display || display === 'none') {{\n",
       "            console.log([gd, 'removed!']);\n",
       "            Plotly.purge(gd);\n",
       "            observer.disconnect();\n",
       "        }}\n",
       "}});\n",
       "\n",
       "// Listen for the removal of the full notebook cells\n",
       "var notebookContainer = gd.closest('#notebook-container');\n",
       "if (notebookContainer) {{\n",
       "    x.observe(notebookContainer, {childList: true});\n",
       "}}\n",
       "\n",
       "// Listen for the clearing of the current output cell\n",
       "var outputEl = gd.closest('.output');\n",
       "if (outputEl) {{\n",
       "    x.observe(outputEl, {childList: true});\n",
       "}}\n",
       "\n",
       "                        })\n",
       "                };\n",
       "                });\n",
       "            </script>\n",
       "        </div>"
      ]
     },
     "metadata": {},
     "output_type": "display_data"
    }
   ],
   "source": [
    "print(\"Scatter Plot of Confirmed Cases as of {}\".format(today))\n",
    "# fig_scat = px.scatter_mapbox(df, lat=\"Lat\", lon=\"Long\", hover_name=\"Country/Region\" ,hover_data=[\"Long\",\"Lat\", today], color_discrete_sequence=[\"fuchsia\"], zoom=1, height=300)\n",
    "figc_scat = px.scatter_mapbox(dfc[dfc[today]>0], lat=\"Lat\", lon=\"Long\", hover_name=\"Country/Region\" ,hover_data=[\"Long\",\"Lat\", 'Province/State',today],color_discrete_sequence=[\"fuchsia\"],zoom=1, height=600)\n",
    "figc_scat.update_layout(mapbox_style=\"open-street-map\")\n",
    "figc_scat\n",
    "\n"
   ]
  },
  {
   "cell_type": "code",
   "execution_count": 23,
   "metadata": {
    "pycharm": {
     "is_executing": false
    }
   },
   "outputs": [
    {
     "data": {
      "text/html": [
       "<div>\n",
       "        \n",
       "        \n",
       "            <div id=\"5ea7fc54-c0b3-49c3-84c2-99d881808702\" class=\"plotly-graph-div\" style=\"height:525px; width:100%;\"></div>\n",
       "            <script type=\"text/javascript\">\n",
       "                require([\"plotly\"], function(Plotly) {\n",
       "                    window.PLOTLYENV=window.PLOTLYENV || {};\n",
       "                    \n",
       "                if (document.getElementById(\"5ea7fc54-c0b3-49c3-84c2-99d881808702\")) {\n",
       "                    Plotly.newPlot(\n",
       "                        '5ea7fc54-c0b3-49c3-84c2-99d881808702',\n",
       "                        [{\"coloraxis\": \"coloraxis\", \"hoverlabel\": {\"namelength\": 0}, \"hovertemplate\": \"3/11/20=%{z}<br>Lat=%{lat}<br>Long=%{lon}\", \"lat\": [15.0, 36.0, 1.2833, 28.1667, 2.5, 49.2827, -33.8688, -37.8136, -28.0167, 11.55, 7.0, 51.0, 64.0, 24.0, 13.0, 21.0, 43.0, 63.0, 40.0, -34.9285, 50.8333, 26.0, 35.4437, 33.8547, 33.0, 21.0, 33.0, 26.0275, 29.5, 28.0339, 45.1, 46.8182, 47.5162, 31.0, 30.3753, -14.235, 42.3154, 39.0742, 41.6086, 60.472, 45.9432, 58.5953, 52.1326, 43.9424, 53.7098, 64.9631, 55.1694, 23.6345, -40.9006, 9.082, -31.9505, 53.1424, 49.8153, 43.7333, 25.3548, -1.8312, 40.1431, 40.0691, 18.7357, -0.7893, 39.3999, 42.5063, -41.4545, 56.8796, 31.7917, 24.0, 14.4974, -38.4161, -35.6751, 31.24, 48.3794, 47.1625, -12.4634, 47.14, 51.9194, 34.0, 43.9159, 46.1512, -30.5595, 27.5142, 3.8480000000000003, 4.5709, 9.7489, -9.19, 44.0165, 48.669, 8.6195, 3.9339, 35.9375, 14.6415, 42.7339, 3.2028, 23.685, -23.4425, 51.2538, 53.9333, 52.9399, 41.1533, 35.1264, 4.5353, 47.4009, 42.1657, 36.1162, 42.2302, 35.4437, 37.6489, 33.0406, 39.0598, 27.7663, 40.2989, 44.571999999999996, 31.0545, 40.3495, 40.5908, 42.0115, 39.0639, 35.6301, 33.8569, 35.7478, 37.7693, 33.7298, 39.8494, 37.6681, 38.8974, 38.3135, 43.4525, 45.6945, 41.1254, 40.3888, 41.6809, 44.2685, 41.5978, 21.0943, 35.5653, 40.15, 12.2383, 41.9029, 46.8625, 8.538, 38.5266, 31.1695, 38.4561, 44.0459, 61.3707, 34.9697, 39.3185, 44.2405, 44.6939, 43.3266, 32.7416, 46.9219, 34.8405, 47.5289, 44.2998, 38.4912, 42.756, 30.9756, 32.0, 36.0, 46.2276, 23.3417, 33.882, 29.1832, 27.6104, 31.8257, 27.614, 36.3427, 35.4437, 32.9711, 30.0572, 30.6171, 47.861999999999995, 55.3781, 56.2639, 40.1824, 31.201999999999998, 39.549, 26.0789, 23.8298, 35.1917, 24.974, 19.1959, 26.8154, 39.3054, 37.5777, 37.8099, 22.3, 41.2956, 43.6661, 49.8175, 41.1129, 44.0935, 37.2692, 23.7, 16.0, 60.0, 35.7452, 22.1667, 47.4116, -16.2902, 61.8926, 18.0708, 15.2, 49.3723, 46.5653, 31.6927, -4.0383, 7.54, 17.9, 18.1096, -21.1151, 38.9637, 36.1408, 47.6477, 38.3105, 37.0454, 38.5025, 34.3705, 42.4097, 33.9191, 33.7956, 37.5455, 33.4502, 32.4893, 40.2589, 40.0712, 39.9259, 40.8568, 40.6976, 39.6553, 40.6956, 39.6203, 38.5458, 41.9879, 41.0458, 39.9526, 36.8508, 38.8816, 38.2042, 39.0768, 38.7849, 41.3912, 34.2465, 32.0575, 41.4277, 39.8522, 40.0106, 43.0186, 44.7509, 41.4339, 41.2603, 43.0279, 44.8254, 26.8946, 34.2515, 33.1795, 38.1938, 29.6499, 40.7909, 34.8606, 38.4333, 41.6699, 42.3118, 36.1343, 43.1261, 36.9859, 39.5839, 39.8065, 40.7453, 38.8454, 47.175, 27.4799, 44.8446, 30.5773, 34.0132, 33.9533, 35.1269, 38.6103, 40.9849, 41.8586, 29.028000000000002, 38.9085, 42.9931, 38.9072, 40.229, 37.6017, 26.1901, 26.663, 32.8162, 41.1489, 43.0324, 32.7957, 45.7466, 33.8999, 40.9629, 38.9108, 21.307, 42.3345, 47.7425, 34.3672, 42.6953, 37.2519, 47.0676, 36.1593, 39.2587, 41.8882, 35.7211, 39.9078, 41.3148, 38.0606, 39.8362, 42.4672, 40.6546, 44.9964, 40.5608, 41.6739, 38.7646, 37.3541, 36.0796, 29.5693, 47.1981, 30.769000000000002, 35.9179, 40.7128, 39.1547, 42.3601, 39.7392, 39.5912, 40.9263, 29.7752, 37.7749, 37.8534, 33.7879, 42.1767, 33.2918, 35.8032, 41.122, 43.9088, 27.9904, 39.0916, 37.563, 38.578, 45.775, 33.8034, 45.547, 48.033, 40.745, 38.4747, 32.7157, 36.5761, 34.0522, 47.6062, 41.7377, 48.4242, 46.8646, 48.1976, 48.8787, 38.0834, 38.196, 37.5091, 36.6066, 42.632, 30.7917, 26.07, 27.8764, 29.7938, 30.5927, 28.3232, 32.7767, 32.7732, 30.3883, 40.5726, 39.58, 45.5146, 44.9267, 43.8325, 42.3334, 42.3689, 40.4108, 37.7772, 34.7253, 36.4933, 39.4638, 40.4483, 41.6228, 42.6712, 40.8685, 45.3293, 43.9952, 40.8298, 41.256, 41.7866, 29.9511, 43.8901, 44.4797, 43.0985, 43.7242, 43.6632, 42.9815, 33.8837, 35.0178, 42.5922, 42.2791, 39.5393], \"lon\": [101.0, 138.0, 103.8333, 84.25, 112.5, -123.1207, 151.2093, 144.9631, 153.4, 104.9167, 81.0, 9.0, 26.0, 54.0, 122.0, 78.0, 12.0, 16.0, -4.0, 138.6007, 4.0, 30.0, 139.638, 35.8623, 44.0, 57.0, 65.0, 50.55, 47.75, 1.6596, 15.2, 8.2275, 14.5501, 35.0, 69.3451, -51.9253, 43.3569, 21.8243, 21.7453, 8.4689, 24.9668, 25.0136, 5.2913, 12.4578, 27.9534, -19.0208, 23.8813, -102.5528, 174.886, 8.6753, 115.8605, -7.6921, 6.1296, 7.4167, 51.1839, -78.1834, 47.5769, 45.0382, -70.1627, 113.9213, -8.2245, 1.5218, 145.9707, 24.6032, -7.0926, 45.0, -14.4524, -63.6167, -71.543, 36.51, 31.1656, 19.5033, 130.8456, 9.55, 19.1451, 9.0, 17.6791, 14.9955, 22.9375, 90.4336, 11.5021, -74.2973, -83.7534, -75.0152, 21.0059, 19.699, 0.8248, -53.1258, 14.3754, -61.0242, 25.4858, 73.2207, 90.3563, -58.4438, -85.3232, -116.5765, -73.5491, 20.1683, 33.4299, 114.7277, -121.4905, -74.9481, -119.6816, -71.5301, 139.638, -122.6655, -83.6431, -105.3111, -81.6868, -74.521, -122.0709, -97.5635, -88.9861, -77.2098, -93.2105, -76.8021, -79.8064, -80.945, -86.6923, -78.17, -111.4312, -86.2583, -84.6701, -77.0268, -117.0554, -71.5639, -93.9002, -98.2681, -82.7649, -71.5118, -89.6165, -72.7554, -157.4983, -96.9289, -111.8624, -1.5616, 12.4534, 103.8467, -80.7821, -96.7265, -91.8678, -92.2884, -72.7107, -152.4044, -92.3731, -75.5071, -114.4788, -69.3819, -84.5361, -89.6787, -110.4544, -106.2485, -99.78399999999999, -99.4388, -80.9545, -107.3025, 112.2707, 53.0, 128.0, 2.2137, 113.4244, 113.61399999999999, 120.0934, 111.7088, 117.2264, 115.7221, 118.1498, 139.638, 119.455, 107.874, 102.7103, 127.7615, -3.4360000000000004, 9.5018, 116.4142, 121.4491, 116.1306, 117.9874, 108.7881, 108.8701, 101.48700000000001, 109.7453, 106.8748, 117.323, 112.2922, 101.0583, 114.2, 122.6085, 126.1923, 15.472999999999999, 85.2401, 113.9448, 106.1655, 121.0, 108.0, 90.0, 95.9956, 113.55, 28.3699, -63.5887, -6.9118, -63.0501, -86.2419, -2.3644, -66.4619, 88.0924, 21.7587, -5.5471, -62.8333, -77.2975, 55.5364, 35.2433, -5.3536, -122.6413, -121.9018, -121.958, -122.2654, -119.1391, -71.8571, -84.0167, -84.2279, -82.7779, -84.4803, -94.8521, -74.124, -74.8649, -75.1196, -74.1285, -74.2632, -106.8287, -105.5943, -104.3326, -106.9253, -88.4016, -75.2479, -75.1652, -76.2859, -77.09100000000001, -77.6078, -77.6536, -76.8721, -95.4778, -80.607, -111.6661, -85.355, -77.2865, -86.4997, -89.5498, -92.3814, -81.6758, -111.9522, -73.135, -93.7842, -81.9098, -84.4803, -96.493, -85.6435, -90.1121, -121.8474, -81.9535, -84.3542, -91.5984, -73.1822, -86.822, -123.2492, -119.2321, -76.3637, -86.5401, -74.0535, -94.8521, -120.9319, -82.3452, -122.5927, -86.6611, -85.1479, -117.3961, -89.9253, -90.4125, -72.6151, -74.3118, -81.0755, -77.2405, -71.0498, -77.0369, -75.3879, -121.7195, -80.3659, -81.9535, -111.2845, -73.983, -73.936, -79.7848, -122.5194, -84.5641, -112.0953, -104.4723, -157.8584, -122.7647, -123.304, -80.5883, -121.6142, -119.6963, -122.1295, -95.941, -104.9389, -71.4774, -79.1781, -75.3879, -96.1951, -84.4803, -86.1752, -71.2874, -73.5594, -93.0616, -119.6035, -75.2479, -121.9018, -121.9552, -115.094, -95.8143, -119.3732, -86.9824, -86.8622, -74.006, -77.2405, -71.0589, -104.9903, -106.064, -74.077, -95.3103, -122.4194, -121.9018, -117.8531, -71.1449, -112.4291, -78.5661, -73.7949, -71.82600000000001, -82.3018, -120.8039, -122.3255, -122.9888, -118.7606, -84.3963, -123.1386, -121.8339, -123.8695, -121.3542, -117.1611, -120.9876, -118.2437, -122.3321, -87.6976, -121.7114, -122.7696, -122.5795, -121.9719, -122.7633, -120.6805, -120.9876, -120.189, -70.7829, -82.0843, -81.4279, -82.7779, -82.4944, -81.8224, -82.4319, -96.79700000000001, -97.3517, -95.6963, -74.4927, -105.2663, -122.5863, -123.4919, -121.2617, -88.2668, -87.8272, -75.2479, -77.5161, -80.6771, -82.3452, -86.1345, -86.1345, -86.3377, -97.8722, -81.2519, -93.2197, -92.3814, -110.9984, -73.3709, -73.2765, -90.0715, -102.2548, -98.2213, -98.3965, -98.2213, -96.8351, -97.8722, -106.7235, -106.6291, -83.3362, -83.3362, -75.6674], \"name\": \"\", \"radius\": 50, \"subplot\": \"mapbox\", \"type\": \"densitymapbox\", \"z\": [59, 639, 178, 1, 149, 39, 65, 21, 20, 3, 2, 1908, 59, 74, 49, 62, 12462, 500, 2277, 9, 314, 60, 0, 61, 71, 18, 7, 195, 72, 20, 19, 652, 246, 109, 19, 38, 24, 99, 7, 598, 45, 16, 503, 62, 9, 85, 3, 8, 5, 2, 9, 43, 7, 1, 262, 17, 11, 1, 5, 34, 59, 1, 3, 10, 5, 21, 4, 19, 23, 1, 1, 13, 1, 1, 31, 7, 7, 57, 13, 1, 2, 9, 13, 11, 12, 10, 1, 5, 6, 3, 7, 8, 3, 5, 41, 19, 8, 12, 6, 11, 366, 220, 177, 95, 46, 21, 23, 34, 28, 23, 19, 21, 25, 16, 13, 9, 7, 10, 9, 9, 9, 11, 8, 10, 7, 5, 5, 5, 4, 5, 6, 3, 2, 2, 3, 2, 1, 1, 8, 1, 6, 1, 1, 0, 1, 1, 0, 0, 2, 0, 1, 3, 0, 8, 0, 0, 67773, 9000, 7755, 2281, 1356, 1273, 1215, 1018, 990, 935, 760, 696, 631, 576, 539, 482, 456, 442, 435, 344, 318, 296, 252, 245, 174, 168, 146, 136, 133, 127, 126, 125, 93, 91, 76, 75, 75, 48, 38, 20, 18, 10, 3, 2, 2, 2, 2, 2, 1, 1, 1, 1, 1, 1, 1, 1, 1, 2, 3, 2, 1, 1, 1, 2, 2, 1, 1, 1, 4, 2, 1, 1, 1, 4, 1, 3, 5, 1, 2, 1, 2, 1, 1, 1, 3, 1, 4, 1, 1, 1, 1, 2, 2, 3, 1, 1, 1, 1, 1, 3, 1, 1, 1, 1, 5, 12, 7, 2, 1, 2, 1, 2, 1, 1, 1, 2, 2, 1, 1, 6, 1, 1, 6, 2, 2, 3, 2, 4, 9, 5, 4, 2, 5, 6, 2, 1, 1, 7, 1, 1, 2, 2, 1, 3, 1, 1, 14, 2, 3, 5, 1, 1, 4, 2, 1, 41, 28, 2, 2, 1, 1, 48, 5, 6, 1, 1, 5, 55, 5, 20, 6, 1, 11, 7, 14, 10, 5, 22, 3, 6, 121, 3, 3, 7, 15, 3, 2, 7, 8, 68, 1, 11, 3, 2, 27, 190, 22, 1, 1, 1, 1, 1, 2, 2, 1, 1, 1, 3, 2, 1, 1, 1, 2, 1, 1, 2, 3, 1, 1, 1, 1, 1, 1, 1, 1, 1, 3, 1, 1, 1, 1, 1, 1, 1, 2, 1, 5, 1, 1, 1, 1, 3, 1, 2, 1, 1, 1, 1]}, {\"customdata\": [[101.0, 15.0, null, 50], [138.0, 36.0, null, 502], [103.8333, 1.2833, null, 150], [84.25, 28.1667, null, 1], [112.5, 2.5, null, 99], [-123.1207, 49.2827, \"British Columbia\", 27], [151.2093, -33.8688, \"New South Wales\", 38], [144.9631, -37.8136, \"Victoria\", 11], [153.4, -28.0167, \"Queensland\", 15], [104.9167, 11.55, null, 2], [81.0, 7.0, null, 1], [9.0, 51.0, null, 1040], [26.0, 64.0, null, 23], [54.0, 24.0, null, 45], [122.0, 13.0, null, 10], [78.0, 21.0, null, 39], [12.0, 43.0, null, 7375], [16.0, 63.0, null, 203], [-4.0, 40.0, null, 673], [138.6007, -34.9285, \"South Australia\", 7], [4.0, 50.8333, null, 200], [30.0, 26.0, null, 49], [35.8623, 33.8547, null, 32], [44.0, 33.0, null, 60], [57.0, 21.0, null, 16], [65.0, 33.0, null, 4], [50.55, 26.0275, null, 85], [47.75, 29.5, null, 64], [1.6596, 28.0339, null, 19], [15.2, 45.1, null, 12], [8.2275, 46.8182, null, 337], [14.5501, 47.5162, null, 104], [35.0, 31.0, null, 61], [69.3451, 30.3753, null, 6], [-51.9253, -14.235, null, 20], [43.3569, 42.3154, null, 13], [21.8243, 39.0742, null, 73], [21.7453, 41.6086, null, 3], [8.4689, 60.472, null, 176], [24.9668, 45.9432, null, 15], [25.0136, 58.5953, null, 10], [5.2913, 52.1326, null, 265], [12.4578, 43.9424, null, 36], [27.9534, 53.7098, null, 6], [-19.0208, 64.9631, null, 50], [23.8813, 55.1694, null, 1], [-102.5528, 23.6345, null, 7], [174.886, -40.9006, null, 5], [8.6753, 9.082, null, 1], [115.8605, -31.9505, \"Western Australia\", 3], [-7.6921, 53.1424, null, 19], [6.1296, 49.8153, null, 3], [7.4167, 43.7333, null, 1], [51.1839, 25.3548, null, 15], [-78.1834, -1.8312, null, 14], [47.5769, 40.1431, null, 9], [45.0382, 40.0691, null, 1], [-70.1627, 18.7357, null, 5], [113.9213, -0.7893, null, 6], [-8.2245, 39.3999, null, 30], [1.5218, 42.5063, null, 1], [145.9707, -41.4545, \"Tasmania\", 2], [24.6032, 56.8796, null, 2], [-7.0926, 31.7917, null, 2], [45.0, 24.0, null, 11], [-14.4524, 14.4974, null, 4], [-63.6167, -38.4161, null, 12], [-71.543, -35.6751, null, 8], [36.51, 31.24, null, 1], [31.1656, 48.3794, null, 1], [19.5033, 47.1625, null, 7], [9.55, 47.14, null, 1], [19.1451, 51.9194, null, 11], [9.0, 34.0, null, 2], [17.6791, 43.9159, null, 3], [14.9955, 46.1512, null, 16], [22.9375, -30.5595, null, 3], [90.4336, 27.5142, null, 1], [11.5021, 3.8480000000000003, null, 2], [-74.2973, 4.5709, null, 1], [-83.7534, 9.7489, null, 5], [-75.0152, -9.19, null, 6], [21.0059, 44.0165, null, 1], [19.699, 48.669, null, 3], [0.8248, 8.6195, null, 1], [-53.1258, 3.9339, null, 5], [14.3754, 35.9375, null, 3], [-61.0242, 14.6415, null, 2], [25.4858, 42.7339, null, 4], [73.2207, 3.2028, null, 4], [90.3563, 23.685, null, 3], [-58.4438, -23.4425, null, 1], [-85.3232, 51.2538, \"Ontario\", 29], [-116.5765, 53.9333, \"Alberta\", 4], [-73.5491, 52.9399, \"Quebec\", 4], [139.638, 35.4437, \"Diamond Princess\", 45], [-122.6655, 37.6489, \"Grand Princess\", 21], [12.4534, 41.9029, null, 1], [112.2707, 30.9756, \"Hubei\", 67707], [53.0, 32.0, null, 6566], [128.0, 36.0, null, 7314], [2.2137, 46.2276, \"France\", 1126], [113.4244, 23.3417, \"Guangdong\", 1352], [113.61399999999999, 33.882, \"Henan\", 1272], [120.0934, 29.1832, \"Zhejiang\", 1215], [111.7088, 27.6104, \"Hunan\", 1018], [117.2264, 31.8257, \"Anhui\", 990], [115.7221, 27.614, \"Jiangxi\", 935], [118.1498, 36.3427, \"Shandong\", 758], [139.638, 35.4437, \"Diamond Princess\", 696], [119.455, 32.9711, \"Jiangsu\", 631], [107.874, 30.0572, \"Chongqing\", 576], [102.7103, 30.6171, \"Sichuan\", 539], [127.7615, 47.861999999999995, \"Heilongjiang\", 481], [-3.4360000000000004, 55.3781, \"UK\", 273], [9.5018, 56.2639, \"Denmark\", 35], [116.4142, 40.1824, \"Beijing\", 428], [121.4491, 31.201999999999998, \"Shanghai\", 342], [116.1306, 39.549, \"Hebei\", 318], [117.9874, 26.0789, \"Fujian\", 296], [108.7881, 23.8298, \"Guangxi\", 252], [108.8701, 35.1917, \"Shaanxi\", 245], [101.48700000000001, 24.974, \"Yunnan\", 174], [109.7453, 19.1959, \"Hainan\", 168], [106.8748, 26.8154, \"Guizhou\", 146], [117.323, 39.3054, \"Tianjin\", 136], [112.2922, 37.5777, \"Shanxi\", 133], [101.0583, 37.8099, \"Gansu\", 124], [114.2, 22.3, \"Hong Kong\", 114], [122.6085, 41.2956, \"Liaoning\", 125], [126.1923, 43.6661, \"Jilin\", 93], [15.472999999999999, 49.8175, null, 31], [85.2401, 41.1129, \"Xinjiang\", 76], [113.9448, 44.0935, \"Inner Mongolia\", 75], [106.1655, 37.2692, \"Ningxia\", 75], [121.0, 23.7, null, 45], [108.0, 16.0, null, 30], [90.0, 60.0, null, 17], [95.9956, 35.7452, \"Qinghai\", 18], [113.55, 22.1667, \"Macau\", 10], [28.3699, 47.4116, null, 1], [-6.9118, 61.8926, \"Faroe Islands\", 2], [88.0924, 31.6927, \"Tibet\", 1], [-62.8333, 17.9, \"Saint Barthelemy\", 3], [-5.3536, 36.1408, \"Gibraltar\", 1], [-73.135, 43.0279, \"Bennington County, VT\", 1], [-73.1822, 42.3118, \"Berkshire County, MA\", 1], [-86.822, 36.1343, \"Davidson County, TN\", 1], [-123.2492, 43.1261, \"Douglas County, OR\", 1], [-119.2321, 36.9859, \"Fresno County, CA\", 1], [-76.3637, 39.5839, \"Harford County, MD\", 1], [-86.5401, 39.8065, \"Hendricks County, IN\", 1], [-74.0535, 40.7453, \"Hudson County, NJ\", 1], [-94.8521, 38.8454, \"Johnson County, KS\", 1], [-120.9319, 47.175, \"Kittitas County, WA\", 1], [-82.3452, 27.4799, \"Manatee County, FL\", 1], [-122.5927, 44.8446, \"Marion County, OR\", 1], [-86.6611, 30.5773, \"Okaloosa County, FL\", 1], [-85.1479, 34.0132, \"Polk County, GA\", 1], [-117.3961, 33.9533, \"Riverside County, CA\", 1], [-89.9253, 35.1269, \"Shelby County, TN\", 1], [-90.4125, 38.6103, \"St. Louis County, MO\", 1], [-72.6151, 40.9849, \"Suffolk County, NY\", 1], [-74.3118, 41.8586, \"Ulster County, NY\", 1], [-81.0755, 29.028000000000002, \"Volusia County, FL\", 1], [-77.2405, 38.9085, \"Fairfax County, VA\", 2], [-71.0498, 42.9931, \"Rockingham County, NH\", 1], [-77.0369, 38.9072, \"Washington, D.C.\", 2], [-75.3879, 40.229, \"Montgomery County, PA\", 4], [-121.7195, 37.6017, \"Alameda County, CA\", 2], [-80.3659, 26.1901, \"Broward County, FL\", 2], [-81.9535, 26.663, \"Lee County, FL\", 2], [-111.2845, 32.8162, \"Pinal County, AZ\", 2], [-73.983, 41.1489, \"Rockland County, NY\", 2], [-73.936, 43.0324, \"Saratoga County, NY\", 2], [-79.7848, 32.7957, \"Charleston County, SC\", 1], [-122.5194, 45.7466, \"Clark County, WA\", 1], [-84.5641, 33.8999, \"Cobb County, GA\", 1], [-112.0953, 40.9629, \"Davis County, UT\", 1], [-104.4723, 38.9108, \"El Paso County, CO\", 1], [-157.8584, 21.307, \"Honolulu County, HI\", 1], [-122.7647, 42.3345, \"Jackson County, OR \", 2], [-123.304, 47.7425, \"Jefferson County, WA\", 1], [-80.5883, 34.3672, \"Kershaw County, SC\", 1], [-121.6142, 42.6953, \"Klamath County, OR\", 1], [-119.6963, 37.2519, \"Madera County, CA\", 1], [-122.1295, 47.0676, \"Pierce County, WA\", 4], [-95.941, 36.1593, \"Tulsa County, OK\", 1], [-104.9389, 39.2587, \"Douglas County, CO\", 3], [-71.4774, 41.8882, \"Providence County, RI\", 3], [-79.1781, 35.7211, \"Chatham County, NC\", 1], [-75.3879, 39.9078, \"Delaware County, PA\", 1], [-96.1951, 41.3148, \"Douglas County, NE\", 1], [-84.4803, 38.0606, \"Fayette County, KY\", 1], [-86.1752, 39.8362, \"Marion County, IN\", 1], [-71.2874, 42.4672, \"Middlesex County, MA\", 7], [-73.5594, 40.6546, \"Nassau County, NY\", 5], [-93.0616, 44.9964, \"Ramsey County, MN\", 1], [-119.6035, 40.5608, \"Washoe County, NV\", 2], [-75.2479, 41.6739, \"Wayne County, PA\", 1], [-121.9018, 38.7646, \"Yolo County, CA\", 1], [-121.9552, 37.3541, \"Santa Clara County, CA\", 38], [-115.094, 36.0796, \"Clark County, NV\", 2], [-95.8143, 29.5693, \"Fort Bend County, TX\", 6], [-119.3732, 47.1981, \"Grant County, WA\", 1], [-86.9824, 30.769000000000002, \"Santa Rosa County, FL\", 1], [-86.8622, 35.9179, \"Williamson County, TN\", 1], [-74.006, 40.7128, \"New York County, NY\", 12], [-77.2405, 39.1547, \"Montgomery County, MD\", 4], [-71.0589, 42.3601, \"Suffolk County, MA\", 8], [-104.9903, 39.7392, \"Denver County, CO\", 2], [-106.064, 39.5912, \"Summit County, CO\", 1], [-74.077, 40.9263, \"Bergen County, NJ\", 4], [-95.3103, 29.7752, \"Harris County, TX\", 5], [-122.4194, 37.7749, \"San Francisco County, CA\", 9], [-121.9018, 37.8534, \"Contra Costa County, CA\", 9], [-117.8531, 33.7879, \"Orange County, CA\", 3], [-71.1449, 42.1767, \"Norfolk County, MA\", 6], [-112.4291, 33.2918, \"Maricopa County, AZ\", 2], [-78.5661, 35.8032, \"Wake County, NC\", 1], [-73.7949, 41.122, \"Westchester County, NY\", 83], [-71.82600000000001, 43.9088, \"Grafton County, NH\", 3], [-82.3018, 27.9904, \"Hillsborough, FL\", 2], [-120.8039, 39.0916, \"Placer County, CA\", 5], [-122.3255, 37.563, \"San Mateo, CA\", 2], [-122.9888, 38.578, \"Sonoma County, CA\", 1], [-118.7606, 45.775, \"Umatilla, OR\", 1], [-84.3963, 33.8034, \"Fulton County, GA\", 3], [-123.1386, 45.547, \"Washington County, OR\", 8], [-121.8339, 48.033, \"Snohomish County, WA\", 31], [-123.8695, 40.745, \"Humboldt County, CA\", 1], [-121.3542, 38.4747, \"Sacramento County, CA\", 2], [-117.1611, 32.7157, \"San Diego County, CA\", 3], [-120.9876, 36.5761, \"San Benito, CA\", 2], [-118.2437, 34.0522, \"Los Angeles, CA\", 14], [-122.3321, 47.6062, \"King County, WA\", 83], [-87.6976, 41.7377, \"Cook County, IL\", 7]], \"hoverlabel\": {\"namelength\": 0}, \"hovertemplate\": \"<b>%{hovertext}</b><br><br>Long=%{lon}<br>Lat=%{lat}<br>Province/State=%{customdata[2]}<br>3/8/20=%{customdata[3]}\", \"hovertext\": [\"Thailand\", \"Japan\", \"Singapore\", \"Nepal\", \"Malaysia\", \"Canada\", \"Australia\", \"Australia\", \"Australia\", \"Cambodia\", \"Sri Lanka\", \"Germany\", \"Finland\", \"United Arab Emirates\", \"Philippines\", \"India\", \"Italy\", \"Sweden\", \"Spain\", \"Australia\", \"Belgium\", \"Egypt\", \"Lebanon\", \"Iraq\", \"Oman\", \"Afghanistan\", \"Bahrain\", \"Kuwait\", \"Algeria\", \"Croatia\", \"Switzerland\", \"Austria\", \"Israel\", \"Pakistan\", \"Brazil\", \"Georgia\", \"Greece\", \"North Macedonia\", \"Norway\", \"Romania\", \"Estonia\", \"Netherlands\", \"San Marino\", \"Belarus\", \"Iceland\", \"Lithuania\", \"Mexico\", \"New Zealand\", \"Nigeria\", \"Australia\", \"Ireland\", \"Luxembourg\", \"Monaco\", \"Qatar\", \"Ecuador\", \"Azerbaijan\", \"Armenia\", \"Dominican Republic\", \"Indonesia\", \"Portugal\", \"Andorra\", \"Australia\", \"Latvia\", \"Morocco\", \"Saudi Arabia\", \"Senegal\", \"Argentina\", \"Chile\", \"Jordan\", \"Ukraine\", \"Hungary\", \"Liechtenstein\", \"Poland\", \"Tunisia\", \"Bosnia and Herzegovina\", \"Slovenia\", \"South Africa\", \"Bhutan\", \"Cameroon\", \"Colombia\", \"Costa Rica\", \"Peru\", \"Serbia\", \"Slovakia\", \"Togo\", \"French Guiana\", \"Malta\", \"Martinique\", \"Bulgaria\", \"Maldives\", \"Bangladesh\", \"Paraguay\", \"Canada\", \"Canada\", \"Canada\", \"US\", \"US\", \"Holy See\", \"China\", \"Iran\", \"Korea, South\", \"France\", \"China\", \"China\", \"China\", \"China\", \"China\", \"China\", \"China\", \"Cruise Ship\", \"China\", \"China\", \"China\", \"China\", \"United Kingdom\", \"Denmark\", \"China\", \"China\", \"China\", \"China\", \"China\", \"China\", \"China\", \"China\", \"China\", \"China\", \"China\", \"China\", \"China\", \"China\", \"China\", \"Czechia\", \"China\", \"China\", \"China\", \"Taiwan*\", \"Vietnam\", \"Russia\", \"China\", \"China\", \"Moldova\", \"Denmark\", \"China\", \"France\", \"United Kingdom\", \"US\", \"US\", \"US\", \"US\", \"US\", \"US\", \"US\", \"US\", \"US\", \"US\", \"US\", \"US\", \"US\", \"US\", \"US\", \"US\", \"US\", \"US\", \"US\", \"US\", \"US\", \"US\", \"US\", \"US\", \"US\", \"US\", \"US\", \"US\", \"US\", \"US\", \"US\", \"US\", \"US\", \"US\", \"US\", \"US\", \"US\", \"US\", \"US\", \"US\", \"US\", \"US\", \"US\", \"US\", \"US\", \"US\", \"US\", \"US\", \"US\", \"US\", \"US\", \"US\", \"US\", \"US\", \"US\", \"US\", \"US\", \"US\", \"US\", \"US\", \"US\", \"US\", \"US\", \"US\", \"US\", \"US\", \"US\", \"US\", \"US\", \"US\", \"US\", \"US\", \"US\", \"US\", \"US\", \"US\", \"US\", \"US\", \"US\", \"US\", \"US\", \"US\", \"US\", \"US\", \"US\", \"US\", \"US\", \"US\", \"US\", \"US\", \"US\", \"US\"], \"lat\": [15.0, 36.0, 1.2833, 28.1667, 2.5, 49.2827, -33.8688, -37.8136, -28.0167, 11.55, 7.0, 51.0, 64.0, 24.0, 13.0, 21.0, 43.0, 63.0, 40.0, -34.9285, 50.8333, 26.0, 33.8547, 33.0, 21.0, 33.0, 26.0275, 29.5, 28.0339, 45.1, 46.8182, 47.5162, 31.0, 30.3753, -14.235, 42.3154, 39.0742, 41.6086, 60.472, 45.9432, 58.5953, 52.1326, 43.9424, 53.7098, 64.9631, 55.1694, 23.6345, -40.9006, 9.082, -31.9505, 53.1424, 49.8153, 43.7333, 25.3548, -1.8312, 40.1431, 40.0691, 18.7357, -0.7893, 39.3999, 42.5063, -41.4545, 56.8796, 31.7917, 24.0, 14.4974, -38.4161, -35.6751, 31.24, 48.3794, 47.1625, 47.14, 51.9194, 34.0, 43.9159, 46.1512, -30.5595, 27.5142, 3.8480000000000003, 4.5709, 9.7489, -9.19, 44.0165, 48.669, 8.6195, 3.9339, 35.9375, 14.6415, 42.7339, 3.2028, 23.685, -23.4425, 51.2538, 53.9333, 52.9399, 35.4437, 37.6489, 41.9029, 30.9756, 32.0, 36.0, 46.2276, 23.3417, 33.882, 29.1832, 27.6104, 31.8257, 27.614, 36.3427, 35.4437, 32.9711, 30.0572, 30.6171, 47.861999999999995, 55.3781, 56.2639, 40.1824, 31.201999999999998, 39.549, 26.0789, 23.8298, 35.1917, 24.974, 19.1959, 26.8154, 39.3054, 37.5777, 37.8099, 22.3, 41.2956, 43.6661, 49.8175, 41.1129, 44.0935, 37.2692, 23.7, 16.0, 60.0, 35.7452, 22.1667, 47.4116, 61.8926, 31.6927, 17.9, 36.1408, 43.0279, 42.3118, 36.1343, 43.1261, 36.9859, 39.5839, 39.8065, 40.7453, 38.8454, 47.175, 27.4799, 44.8446, 30.5773, 34.0132, 33.9533, 35.1269, 38.6103, 40.9849, 41.8586, 29.028000000000002, 38.9085, 42.9931, 38.9072, 40.229, 37.6017, 26.1901, 26.663, 32.8162, 41.1489, 43.0324, 32.7957, 45.7466, 33.8999, 40.9629, 38.9108, 21.307, 42.3345, 47.7425, 34.3672, 42.6953, 37.2519, 47.0676, 36.1593, 39.2587, 41.8882, 35.7211, 39.9078, 41.3148, 38.0606, 39.8362, 42.4672, 40.6546, 44.9964, 40.5608, 41.6739, 38.7646, 37.3541, 36.0796, 29.5693, 47.1981, 30.769000000000002, 35.9179, 40.7128, 39.1547, 42.3601, 39.7392, 39.5912, 40.9263, 29.7752, 37.7749, 37.8534, 33.7879, 42.1767, 33.2918, 35.8032, 41.122, 43.9088, 27.9904, 39.0916, 37.563, 38.578, 45.775, 33.8034, 45.547, 48.033, 40.745, 38.4747, 32.7157, 36.5761, 34.0522, 47.6062, 41.7377], \"legendgroup\": \"\", \"lon\": [101.0, 138.0, 103.8333, 84.25, 112.5, -123.1207, 151.2093, 144.9631, 153.4, 104.9167, 81.0, 9.0, 26.0, 54.0, 122.0, 78.0, 12.0, 16.0, -4.0, 138.6007, 4.0, 30.0, 35.8623, 44.0, 57.0, 65.0, 50.55, 47.75, 1.6596, 15.2, 8.2275, 14.5501, 35.0, 69.3451, -51.9253, 43.3569, 21.8243, 21.7453, 8.4689, 24.9668, 25.0136, 5.2913, 12.4578, 27.9534, -19.0208, 23.8813, -102.5528, 174.886, 8.6753, 115.8605, -7.6921, 6.1296, 7.4167, 51.1839, -78.1834, 47.5769, 45.0382, -70.1627, 113.9213, -8.2245, 1.5218, 145.9707, 24.6032, -7.0926, 45.0, -14.4524, -63.6167, -71.543, 36.51, 31.1656, 19.5033, 9.55, 19.1451, 9.0, 17.6791, 14.9955, 22.9375, 90.4336, 11.5021, -74.2973, -83.7534, -75.0152, 21.0059, 19.699, 0.8248, -53.1258, 14.3754, -61.0242, 25.4858, 73.2207, 90.3563, -58.4438, -85.3232, -116.5765, -73.5491, 139.638, -122.6655, 12.4534, 112.2707, 53.0, 128.0, 2.2137, 113.4244, 113.61399999999999, 120.0934, 111.7088, 117.2264, 115.7221, 118.1498, 139.638, 119.455, 107.874, 102.7103, 127.7615, -3.4360000000000004, 9.5018, 116.4142, 121.4491, 116.1306, 117.9874, 108.7881, 108.8701, 101.48700000000001, 109.7453, 106.8748, 117.323, 112.2922, 101.0583, 114.2, 122.6085, 126.1923, 15.472999999999999, 85.2401, 113.9448, 106.1655, 121.0, 108.0, 90.0, 95.9956, 113.55, 28.3699, -6.9118, 88.0924, -62.8333, -5.3536, -73.135, -73.1822, -86.822, -123.2492, -119.2321, -76.3637, -86.5401, -74.0535, -94.8521, -120.9319, -82.3452, -122.5927, -86.6611, -85.1479, -117.3961, -89.9253, -90.4125, -72.6151, -74.3118, -81.0755, -77.2405, -71.0498, -77.0369, -75.3879, -121.7195, -80.3659, -81.9535, -111.2845, -73.983, -73.936, -79.7848, -122.5194, -84.5641, -112.0953, -104.4723, -157.8584, -122.7647, -123.304, -80.5883, -121.6142, -119.6963, -122.1295, -95.941, -104.9389, -71.4774, -79.1781, -75.3879, -96.1951, -84.4803, -86.1752, -71.2874, -73.5594, -93.0616, -119.6035, -75.2479, -121.9018, -121.9552, -115.094, -95.8143, -119.3732, -86.9824, -86.8622, -74.006, -77.2405, -71.0589, -104.9903, -106.064, -74.077, -95.3103, -122.4194, -121.9018, -117.8531, -71.1449, -112.4291, -78.5661, -73.7949, -71.82600000000001, -82.3018, -120.8039, -122.3255, -122.9888, -118.7606, -84.3963, -123.1386, -121.8339, -123.8695, -121.3542, -117.1611, -120.9876, -118.2437, -122.3321, -87.6976], \"marker\": {\"color\": \"fuchsia\"}, \"mode\": \"markers\", \"name\": \"\", \"showlegend\": false, \"subplot\": \"mapbox\", \"type\": \"scattermapbox\"}],\n",
       "                        {\"coloraxis\": {\"colorbar\": {\"title\": {\"text\": \"3/11/20\"}}, \"colorscale\": [[0.0, \"#0d0887\"], [0.1111111111111111, \"#46039f\"], [0.2222222222222222, \"#7201a8\"], [0.3333333333333333, \"#9c179e\"], [0.4444444444444444, \"#bd3786\"], [0.5555555555555556, \"#d8576b\"], [0.6666666666666666, \"#ed7953\"], [0.7777777777777778, \"#fb9f3a\"], [0.8888888888888888, \"#fdca26\"], [1.0, \"#f0f921\"]]}, \"legend\": {\"tracegroupgap\": 0}, \"mapbox\": {\"center\": {\"lat\": 30, \"lon\": 110}, \"domain\": {\"x\": [0.0, 1.0], \"y\": [0.0, 1.0]}, \"style\": \"carto-positron\", \"zoom\": 1}, \"margin\": {\"t\": 60}, \"template\": {\"data\": {\"bar\": [{\"error_x\": {\"color\": \"#2a3f5f\"}, \"error_y\": {\"color\": \"#2a3f5f\"}, \"marker\": {\"line\": {\"color\": \"#E5ECF6\", \"width\": 0.5}}, \"type\": \"bar\"}], \"barpolar\": [{\"marker\": {\"line\": {\"color\": \"#E5ECF6\", \"width\": 0.5}}, \"type\": \"barpolar\"}], \"carpet\": [{\"aaxis\": {\"endlinecolor\": \"#2a3f5f\", \"gridcolor\": \"white\", \"linecolor\": \"white\", \"minorgridcolor\": \"white\", \"startlinecolor\": \"#2a3f5f\"}, \"baxis\": {\"endlinecolor\": \"#2a3f5f\", \"gridcolor\": \"white\", \"linecolor\": \"white\", \"minorgridcolor\": \"white\", \"startlinecolor\": \"#2a3f5f\"}, \"type\": \"carpet\"}], \"choropleth\": [{\"colorbar\": {\"outlinewidth\": 0, \"ticks\": \"\"}, \"type\": \"choropleth\"}], \"contour\": [{\"colorbar\": {\"outlinewidth\": 0, \"ticks\": \"\"}, \"colorscale\": [[0.0, \"#0d0887\"], [0.1111111111111111, \"#46039f\"], [0.2222222222222222, \"#7201a8\"], [0.3333333333333333, \"#9c179e\"], [0.4444444444444444, \"#bd3786\"], [0.5555555555555556, \"#d8576b\"], [0.6666666666666666, \"#ed7953\"], [0.7777777777777778, \"#fb9f3a\"], [0.8888888888888888, \"#fdca26\"], [1.0, \"#f0f921\"]], \"type\": \"contour\"}], \"contourcarpet\": [{\"colorbar\": {\"outlinewidth\": 0, \"ticks\": \"\"}, \"type\": \"contourcarpet\"}], \"heatmap\": [{\"colorbar\": {\"outlinewidth\": 0, \"ticks\": \"\"}, \"colorscale\": [[0.0, \"#0d0887\"], [0.1111111111111111, \"#46039f\"], [0.2222222222222222, \"#7201a8\"], [0.3333333333333333, \"#9c179e\"], [0.4444444444444444, \"#bd3786\"], [0.5555555555555556, \"#d8576b\"], [0.6666666666666666, \"#ed7953\"], [0.7777777777777778, \"#fb9f3a\"], [0.8888888888888888, \"#fdca26\"], [1.0, \"#f0f921\"]], \"type\": \"heatmap\"}], \"heatmapgl\": [{\"colorbar\": {\"outlinewidth\": 0, \"ticks\": \"\"}, \"colorscale\": [[0.0, \"#0d0887\"], [0.1111111111111111, \"#46039f\"], [0.2222222222222222, \"#7201a8\"], [0.3333333333333333, \"#9c179e\"], [0.4444444444444444, \"#bd3786\"], [0.5555555555555556, \"#d8576b\"], [0.6666666666666666, \"#ed7953\"], [0.7777777777777778, \"#fb9f3a\"], [0.8888888888888888, \"#fdca26\"], [1.0, \"#f0f921\"]], \"type\": \"heatmapgl\"}], \"histogram\": [{\"marker\": {\"colorbar\": {\"outlinewidth\": 0, \"ticks\": \"\"}}, \"type\": \"histogram\"}], \"histogram2d\": [{\"colorbar\": {\"outlinewidth\": 0, \"ticks\": \"\"}, \"colorscale\": [[0.0, \"#0d0887\"], [0.1111111111111111, \"#46039f\"], [0.2222222222222222, \"#7201a8\"], [0.3333333333333333, \"#9c179e\"], [0.4444444444444444, \"#bd3786\"], [0.5555555555555556, \"#d8576b\"], [0.6666666666666666, \"#ed7953\"], [0.7777777777777778, \"#fb9f3a\"], [0.8888888888888888, \"#fdca26\"], [1.0, \"#f0f921\"]], \"type\": \"histogram2d\"}], \"histogram2dcontour\": [{\"colorbar\": {\"outlinewidth\": 0, \"ticks\": \"\"}, \"colorscale\": [[0.0, \"#0d0887\"], [0.1111111111111111, \"#46039f\"], [0.2222222222222222, \"#7201a8\"], [0.3333333333333333, \"#9c179e\"], [0.4444444444444444, \"#bd3786\"], [0.5555555555555556, \"#d8576b\"], [0.6666666666666666, \"#ed7953\"], [0.7777777777777778, \"#fb9f3a\"], [0.8888888888888888, \"#fdca26\"], [1.0, \"#f0f921\"]], \"type\": \"histogram2dcontour\"}], \"mesh3d\": [{\"colorbar\": {\"outlinewidth\": 0, \"ticks\": \"\"}, \"type\": \"mesh3d\"}], \"parcoords\": [{\"line\": {\"colorbar\": {\"outlinewidth\": 0, \"ticks\": \"\"}}, \"type\": \"parcoords\"}], \"pie\": [{\"automargin\": true, \"type\": \"pie\"}], \"scatter\": [{\"marker\": {\"colorbar\": {\"outlinewidth\": 0, \"ticks\": \"\"}}, \"type\": \"scatter\"}], \"scatter3d\": [{\"line\": {\"colorbar\": {\"outlinewidth\": 0, \"ticks\": \"\"}}, \"marker\": {\"colorbar\": {\"outlinewidth\": 0, \"ticks\": \"\"}}, \"type\": \"scatter3d\"}], \"scattercarpet\": [{\"marker\": {\"colorbar\": {\"outlinewidth\": 0, \"ticks\": \"\"}}, \"type\": \"scattercarpet\"}], \"scattergeo\": [{\"marker\": {\"colorbar\": {\"outlinewidth\": 0, \"ticks\": \"\"}}, \"type\": \"scattergeo\"}], \"scattergl\": [{\"marker\": {\"colorbar\": {\"outlinewidth\": 0, \"ticks\": \"\"}}, \"type\": \"scattergl\"}], \"scattermapbox\": [{\"marker\": {\"colorbar\": {\"outlinewidth\": 0, \"ticks\": \"\"}}, \"type\": \"scattermapbox\"}], \"scatterpolar\": [{\"marker\": {\"colorbar\": {\"outlinewidth\": 0, \"ticks\": \"\"}}, \"type\": \"scatterpolar\"}], \"scatterpolargl\": [{\"marker\": {\"colorbar\": {\"outlinewidth\": 0, \"ticks\": \"\"}}, \"type\": \"scatterpolargl\"}], \"scatterternary\": [{\"marker\": {\"colorbar\": {\"outlinewidth\": 0, \"ticks\": \"\"}}, \"type\": \"scatterternary\"}], \"surface\": [{\"colorbar\": {\"outlinewidth\": 0, \"ticks\": \"\"}, \"colorscale\": [[0.0, \"#0d0887\"], [0.1111111111111111, \"#46039f\"], [0.2222222222222222, \"#7201a8\"], [0.3333333333333333, \"#9c179e\"], [0.4444444444444444, \"#bd3786\"], [0.5555555555555556, \"#d8576b\"], [0.6666666666666666, \"#ed7953\"], [0.7777777777777778, \"#fb9f3a\"], [0.8888888888888888, \"#fdca26\"], [1.0, \"#f0f921\"]], \"type\": \"surface\"}], \"table\": [{\"cells\": {\"fill\": {\"color\": \"#EBF0F8\"}, \"line\": {\"color\": \"white\"}}, \"header\": {\"fill\": {\"color\": \"#C8D4E3\"}, \"line\": {\"color\": \"white\"}}, \"type\": \"table\"}]}, \"layout\": {\"annotationdefaults\": {\"arrowcolor\": \"#2a3f5f\", \"arrowhead\": 0, \"arrowwidth\": 1}, \"coloraxis\": {\"colorbar\": {\"outlinewidth\": 0, \"ticks\": \"\"}}, \"colorscale\": {\"diverging\": [[0, \"#8e0152\"], [0.1, \"#c51b7d\"], [0.2, \"#de77ae\"], [0.3, \"#f1b6da\"], [0.4, \"#fde0ef\"], [0.5, \"#f7f7f7\"], [0.6, \"#e6f5d0\"], [0.7, \"#b8e186\"], [0.8, \"#7fbc41\"], [0.9, \"#4d9221\"], [1, \"#276419\"]], \"sequential\": [[0.0, \"#0d0887\"], [0.1111111111111111, \"#46039f\"], [0.2222222222222222, \"#7201a8\"], [0.3333333333333333, \"#9c179e\"], [0.4444444444444444, \"#bd3786\"], [0.5555555555555556, \"#d8576b\"], [0.6666666666666666, \"#ed7953\"], [0.7777777777777778, \"#fb9f3a\"], [0.8888888888888888, \"#fdca26\"], [1.0, \"#f0f921\"]], \"sequentialminus\": [[0.0, \"#0d0887\"], [0.1111111111111111, \"#46039f\"], [0.2222222222222222, \"#7201a8\"], [0.3333333333333333, \"#9c179e\"], [0.4444444444444444, \"#bd3786\"], [0.5555555555555556, \"#d8576b\"], [0.6666666666666666, \"#ed7953\"], [0.7777777777777778, \"#fb9f3a\"], [0.8888888888888888, \"#fdca26\"], [1.0, \"#f0f921\"]]}, \"colorway\": [\"#636efa\", \"#EF553B\", \"#00cc96\", \"#ab63fa\", \"#FFA15A\", \"#19d3f3\", \"#FF6692\", \"#B6E880\", \"#FF97FF\", \"#FECB52\"], \"font\": {\"color\": \"#2a3f5f\"}, \"geo\": {\"bgcolor\": \"white\", \"lakecolor\": \"white\", \"landcolor\": \"#E5ECF6\", \"showlakes\": true, \"showland\": true, \"subunitcolor\": \"white\"}, \"hoverlabel\": {\"align\": \"left\"}, \"hovermode\": \"closest\", \"mapbox\": {\"style\": \"light\"}, \"paper_bgcolor\": \"white\", \"plot_bgcolor\": \"#E5ECF6\", \"polar\": {\"angularaxis\": {\"gridcolor\": \"white\", \"linecolor\": \"white\", \"ticks\": \"\"}, \"bgcolor\": \"#E5ECF6\", \"radialaxis\": {\"gridcolor\": \"white\", \"linecolor\": \"white\", \"ticks\": \"\"}}, \"scene\": {\"xaxis\": {\"backgroundcolor\": \"#E5ECF6\", \"gridcolor\": \"white\", \"gridwidth\": 2, \"linecolor\": \"white\", \"showbackground\": true, \"ticks\": \"\", \"zerolinecolor\": \"white\"}, \"yaxis\": {\"backgroundcolor\": \"#E5ECF6\", \"gridcolor\": \"white\", \"gridwidth\": 2, \"linecolor\": \"white\", \"showbackground\": true, \"ticks\": \"\", \"zerolinecolor\": \"white\"}, \"zaxis\": {\"backgroundcolor\": \"#E5ECF6\", \"gridcolor\": \"white\", \"gridwidth\": 2, \"linecolor\": \"white\", \"showbackground\": true, \"ticks\": \"\", \"zerolinecolor\": \"white\"}}, \"shapedefaults\": {\"line\": {\"color\": \"#2a3f5f\"}}, \"ternary\": {\"aaxis\": {\"gridcolor\": \"white\", \"linecolor\": \"white\", \"ticks\": \"\"}, \"baxis\": {\"gridcolor\": \"white\", \"linecolor\": \"white\", \"ticks\": \"\"}, \"bgcolor\": \"#E5ECF6\", \"caxis\": {\"gridcolor\": \"white\", \"linecolor\": \"white\", \"ticks\": \"\"}}, \"title\": {\"x\": 0.05}, \"xaxis\": {\"automargin\": true, \"gridcolor\": \"white\", \"linecolor\": \"white\", \"ticks\": \"\", \"title\": {\"standoff\": 15}, \"zerolinecolor\": \"white\", \"zerolinewidth\": 2}, \"yaxis\": {\"automargin\": true, \"gridcolor\": \"white\", \"linecolor\": \"white\", \"ticks\": \"\", \"title\": {\"standoff\": 15}, \"zerolinecolor\": \"white\", \"zerolinewidth\": 2}}}},\n",
       "                        {\"responsive\": true}\n",
       "                    ).then(function(){\n",
       "                            \n",
       "var gd = document.getElementById('5ea7fc54-c0b3-49c3-84c2-99d881808702');\n",
       "var x = new MutationObserver(function (mutations, observer) {{\n",
       "        var display = window.getComputedStyle(gd).display;\n",
       "        if (!display || display === 'none') {{\n",
       "            console.log([gd, 'removed!']);\n",
       "            Plotly.purge(gd);\n",
       "            observer.disconnect();\n",
       "        }}\n",
       "}});\n",
       "\n",
       "// Listen for the removal of the full notebook cells\n",
       "var notebookContainer = gd.closest('#notebook-container');\n",
       "if (notebookContainer) {{\n",
       "    x.observe(notebookContainer, {childList: true});\n",
       "}}\n",
       "\n",
       "// Listen for the clearing of the current output cell\n",
       "var outputEl = gd.closest('.output');\n",
       "if (outputEl) {{\n",
       "    x.observe(outputEl, {childList: true});\n",
       "}}\n",
       "\n",
       "                        })\n",
       "                };\n",
       "                });\n",
       "            </script>\n",
       "        </div>"
      ]
     },
     "metadata": {},
     "output_type": "display_data"
    }
   ],
   "source": [
    "figc.add_trace(ifigc_scat.data[0])\n",
    "# figc.write_html(\"mapbox_scatter-density_plot_confirmed.html\")\n",
    "figc\n"
   ]
  },
  {
   "cell_type": "code",
   "execution_count": 24,
   "metadata": {
    "pycharm": {
     "is_executing": false
    }
   },
   "outputs": [
    {
     "name": "stdout",
     "output_type": "stream",
     "text": [
      "layout.Coloraxis({\n",
      "    'colorbar': {'title': {'text': '3/11/20'}},\n",
      "    'colorscale': [[0.0, '#0d0887'], [0.1111111111111111, '#46039f'],\n",
      "                   [0.2222222222222222, '#7201a8'], [0.3333333333333333,\n",
      "                   '#9c179e'], [0.4444444444444444, '#bd3786'],\n",
      "                   [0.5555555555555556, '#d8576b'], [0.6666666666666666,\n",
      "                   '#ed7953'], [0.7777777777777778, '#fb9f3a'],\n",
      "                   [0.8888888888888888, '#fdca26'], [1.0, '#f0f921']]\n",
      "})\n"
     ]
    }
   ],
   "source": [
    "#troubleshooting \n",
    "#print(vars(figc))\n",
    "print(figc.layout.coloraxis)"
   ]
  },
  {
   "cell_type": "code",
   "execution_count": null,
   "metadata": {
    "pycharm": {
     "is_executing": false
    }
   },
   "outputs": [],
   "source": []
  },
  {
   "cell_type": "code",
   "execution_count": null,
   "metadata": {},
   "outputs": [],
   "source": []
  },
  {
   "cell_type": "code",
   "execution_count": null,
   "metadata": {},
   "outputs": [],
   "source": []
  }
 ],
 "metadata": {
  "kernelspec": {
   "display_name": "covid-19-kernel",
   "language": "python",
   "name": "covid-19-kernel"
  },
  "language_info": {
   "codemirror_mode": {
    "name": "ipython",
    "version": 3
   },
   "file_extension": ".py",
   "mimetype": "text/x-python",
   "name": "python",
   "nbconvert_exporter": "python",
   "pygments_lexer": "ipython3",
   "version": "3.6.5"
  },
  "pycharm": {
   "stem_cell": {
    "cell_type": "raw",
    "metadata": {
     "collapsed": false
    },
    "source": []
   }
  }
 },
 "nbformat": 4,
 "nbformat_minor": 1
}
