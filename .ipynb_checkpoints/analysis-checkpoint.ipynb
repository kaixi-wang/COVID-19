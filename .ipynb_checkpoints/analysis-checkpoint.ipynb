{
 "cells": [
  {
   "cell_type": "markdown",
   "metadata": {},
   "source": [
    "# COVID-19 Analysis: A Deeper Dive into the Stats\n",
    "## ( + easy interactive figures with plot.ly) \n",
    "\n",
    "3/9/20\n",
    "\n",
    "According to the \"Coronavirus COVID-19 Global Cases by Johns Hopkins CSSE\" dashboard, as of right now, there are a total of 113584 confirmed cases, 3996 deaths, and 62496 recovered. From the media reports, it feels like outbreaks are happening at an exponential rate. However, hearing these numbers being thrown everywhere and used to both support or refute the need to panic, I decided to dive deeper into the numbers myself. How reliable are these reports? What do they really say about the threat of the virus? I don't know...\n",
    "   "
   ]
  },
  {
   "cell_type": "markdown",
   "metadata": {},
   "source": [
    "Some initial notes/thoughts/findings from browsing the internet:\n",
    "    - Confirmed cases include presumptive cases\n",
    "    - Confirmed cases are laboratory-confirmed using PCR \n",
    "        - (sidenote: with what experience I've had with QT-PCR, results can be finicky and may vary significantly if proper mixing and sampling isn't done) \n",
    "        - According to the WHO daily situation reports, a confirmed case is \"A person with laboratory confirmation of COVID-19 infection, irrespective of clinical signs and symptoms.\"\n",
    "        - There is no single protocol.\n",
    "            - Following the link to the laboratory testing page, there are several different protocols coming from several different countries including the US, China, Thailand, etc. \n",
    "            - The primers/probe combinations used for different protocols are different. The targets are different... \n",
    "        - Recovered patients who have consecutive negative test results test positive after an additional quarentine period?! [\"Positive RT-PCR Test Results in Patients Recovered From COVID-19\"](https://jamanetwork.com/journals/jama/fullarticle/2762452)"
   ]
  },
  {
   "cell_type": "code",
   "execution_count": 1,
   "metadata": {
    "pycharm": {
     "is_executing": false
    }
   },
   "outputs": [
    {
     "ename": "ModuleNotFoundError",
     "evalue": "No module named 'plotly'",
     "output_type": "error",
     "traceback": [
      "\u001b[0;31m---------------------------------------------------------------------------\u001b[0m",
      "\u001b[0;31mModuleNotFoundError\u001b[0m                       Traceback (most recent call last)",
      "\u001b[0;32m<ipython-input-1-4f117ef66ac1>\u001b[0m in \u001b[0;36m<module>\u001b[0;34m()\u001b[0m\n\u001b[1;32m      2\u001b[0m \u001b[0;32mimport\u001b[0m \u001b[0mpandas\u001b[0m \u001b[0;32mas\u001b[0m \u001b[0mpd\u001b[0m\u001b[0;34m\u001b[0m\u001b[0m\n\u001b[1;32m      3\u001b[0m \u001b[0;32mimport\u001b[0m \u001b[0mscipy\u001b[0m \u001b[0;32mas\u001b[0m \u001b[0msp\u001b[0m\u001b[0;34m\u001b[0m\u001b[0m\n\u001b[0;32m----> 4\u001b[0;31m \u001b[0;32mimport\u001b[0m \u001b[0mplotly\u001b[0m\u001b[0;34m.\u001b[0m\u001b[0moffline\u001b[0m \u001b[0;32mas\u001b[0m \u001b[0mpy\u001b[0m\u001b[0;34m\u001b[0m\u001b[0m\n\u001b[0m\u001b[1;32m      5\u001b[0m \u001b[0;32mimport\u001b[0m \u001b[0mplotly\u001b[0m\u001b[0;34m.\u001b[0m\u001b[0mgraph_objects\u001b[0m \u001b[0;32mas\u001b[0m \u001b[0mgo\u001b[0m\u001b[0;34m\u001b[0m\u001b[0m\n\u001b[1;32m      6\u001b[0m \u001b[0;32mimport\u001b[0m \u001b[0mplotly\u001b[0m\u001b[0;34m.\u001b[0m\u001b[0mfigure_factory\u001b[0m \u001b[0;32mas\u001b[0m \u001b[0mff\u001b[0m\u001b[0;34m\u001b[0m\u001b[0m\n",
      "\u001b[0;31mModuleNotFoundError\u001b[0m: No module named 'plotly'"
     ]
    }
   ],
   "source": [
    "import numpy as np\n",
    "import pandas as pd\n",
    "import scipy as sp\n",
    "import plotly.offline as py\n",
    "import plotly.graph_objects as go \n",
    "import plotly.figure_factory as ff\n",
    "import plotly.express as px\n",
    "\n",
    "py.init_notebook_mode() \n",
    "\n",
    "pd.set_option(\"display.max_rows\", 101)\n",
    "pd.set_option(\"display.max_columns\", 101)"
   ]
  },
  {
   "cell_type": "code",
   "execution_count": null,
   "metadata": {
    "pycharm": {
     "is_executing": false,
     "name": "#%%\n"
    }
   },
   "outputs": [],
   "source": [
    "\"\"\"\n",
    "# reload all changed modules before executing a new line\n",
    "%load_ext autoreload\n",
    "%autoreload 2\n",
    "\n",
    "# save figures as static images\n",
    "fig = go.FigureWidget(data=go.Bar(y=[2, 3, 1]))\n",
    "fig.write_image('figure.png')\n",
    "\"\"\""
   ]
  },
  {
   "cell_type": "markdown",
   "metadata": {
    "pycharm": {
     "is_executing": false,
     "name": "#%%\n"
    }
   },
   "source": [
    "#### Mapping out the Deaths\n",
    "\n",
    "Out of all the stats, I would say the number of deaths can be \"trusted\" most (ie if someone is said to have died from the virus, it is highly probable that they had been infected).\n"
   ]
  },
  {
   "cell_type": "code",
   "execution_count": null,
   "metadata": {
    "pycharm": {
     "is_executing": false,
     "name": "#%%\n"
    }
   },
   "outputs": [],
   "source": [
    "df = pd.read_csv('csse_covid_19_data/csse_covid_19_time_series/time_series_19-covid-Deaths.csv')"
   ]
  },
  {
   "cell_type": "code",
   "execution_count": null,
   "metadata": {
    "pycharm": {
     "is_executing": false
    }
   },
   "outputs": [],
   "source": [
    "total_deaths=df[df.columns[-1]].sum()\n",
    "print(\"total deaths as of {} : {} \".format(df.columns[-1],total_deaths))"
   ]
  },
  {
   "cell_type": "code",
   "execution_count": null,
   "metadata": {
    "pycharm": {
     "is_executing": false
    }
   },
   "outputs": [],
   "source": [
    "# Check that deaths are only increasing\n",
    "not_monotonic=[]\n",
    "dft=df.T[4:]\n",
    "for col in dft.columns:\n",
    "    monotonic=dft[col].is_monotonic_increasing\n",
    "    if monotonic==False:\n",
    "        print(states[int(col)],  \": INCONSISTANT\")\n",
    "        not_monotonic.append([int(col)])\n",
    "print(\"Inconsistancies: {}\".format(len(not_monotonic)))\n",
    "\n",
    "# fill in countries\n",
    "df['Country/Region']=df['Country/Region'].fillna(method=\"ffill\")"
   ]
  },
  {
   "cell_type": "code",
   "execution_count": null,
   "metadata": {
    "pycharm": {
     "is_executing": false
    }
   },
   "outputs": [],
   "source": [
    "# df['bin_lat']=pd.cut(df['Lat'], bins=18)\n",
    "# df['bin_long']=pd.cut(df['Long'], bins=18)\n",
    "df['bin_lat'],blat=pd.cut(df['Lat'], bins=np.linspace(-180, 180, 18), precision=0,retbins=True)\n",
    "df['bin_long'],blong=pd.cut(df['Long'], bins=np.linspace(-180, 180, 18),precision=0,retbins=True)\n",
    "\n",
    "df.head()"
   ]
  },
  {
   "cell_type": "code",
   "execution_count": null,
   "metadata": {
    "pycharm": {
     "is_executing": false
    }
   },
   "outputs": [],
   "source": [
    "#centers=[int(np.average([blat[i],blat[i-1]])) for i in np.arange(1,18)]"
   ]
  },
  {
   "cell_type": "code",
   "execution_count": null,
   "metadata": {
    "pycharm": {
     "is_executing": false
    }
   },
   "outputs": [],
   "source": [
    "latest=df.groupby(['bin_lat','bin_long'])['3/8/20'].sum().sort_values(ascending=False).dropna().reset_index() #.fillna(0)\n",
    "latest.head()"
   ]
  },
  {
   "cell_type": "code",
   "execution_count": null,
   "metadata": {
    "pycharm": {
     "is_executing": false
    }
   },
   "outputs": [],
   "source": [
    "# {i:i.mid for i in latest['bin_lat']}"
   ]
  },
  {
   "cell_type": "code",
   "execution_count": null,
   "metadata": {
    "pycharm": {
     "is_executing": false
    }
   },
   "outputs": [],
   "source": [
    "\n",
    "countries=list(df.groupby('Country/Region').groups.keys())\n",
    "print(countries)\n"
   ]
  },
  {
   "cell_type": "code",
   "execution_count": null,
   "metadata": {
    "pycharm": {
     "is_executing": false
    }
   },
   "outputs": [],
   "source": [
    "# Group cumulative stats by lat/long coordinates since the number of deaths by province/state is sparse\n",
    "\n",
    "latest['long']=latest['bin_long'].map({i:i.mid for i in latest['bin_long']})\n",
    "\n",
    "latest['lat']=latest['bin_lat'].map({i:i.mid for i in latest['bin_lat']})\n",
    "latest.head()"
   ]
  },
  {
   "cell_type": "code",
   "execution_count": null,
   "metadata": {
    "pycharm": {
     "is_executing": false
    }
   },
   "outputs": [],
   "source": [
    "states=df['Province/State'].values"
   ]
  },
  {
   "cell_type": "code",
   "execution_count": null,
   "metadata": {
    "pycharm": {
     "is_executing": false
    }
   },
   "outputs": [],
   "source": [
    "# Global density plot of Deaths\n",
    "fig = px.density_mapbox(latest, lat='lat', lon='long', z='3/8/20', radius=100,\n",
    "                        center=dict(lat=30, lon=110), zoom=1,\n",
    "                        mapbox_style=\"stamen-terrain\")\n",
    "fig.show()"
   ]
  },
  {
   "cell_type": "code",
   "execution_count": null,
   "metadata": {
    "pycharm": {
     "is_executing": false
    }
   },
   "outputs": [],
   "source": [
    "# uncomment to save figure\n",
    "# fig.write_html(\"mapbox_density_plot.html\")"
   ]
  },
  {
   "cell_type": "code",
   "execution_count": null,
   "metadata": {
    "pycharm": {
     "is_executing": false
    }
   },
   "outputs": [],
   "source": [
    "#compare to confirmed\n",
    "\n",
    "dfc = pd.read_csv('csse_covid_19_data/csse_covid_19_time_series/time_series_19-covid-Confirmed.csv')\n",
    "dfc['Country/Region']=dfc['Country/Region'].fillna(method=\"ffill\")\n",
    "# Check that deaths are only increasing\n",
    "not_monotonic=[]\n",
    "dfct=dfc.T[4:]\n",
    "for col in dfct.columns:\n",
    "    monotonic=dft[col].is_monotonic_increasing\n",
    "    if monotonic==False:\n",
    "        print(states[int(col)],  \": INCONSISTANT\")\n",
    "        not_monotonic.append([int(col)])\n",
    "print(\"Inconsistancies: {}\".format(len(not_monotonic)))\n",
    "\n"
   ]
  },
  {
   "cell_type": "code",
   "execution_count": null,
   "metadata": {
    "pycharm": {
     "is_executing": false
    }
   },
   "outputs": [],
   "source": [
    "figc = px.density_mapbox(dfc, lat='Lat', lon='Long', z='3/8/20', radius=100,\n",
    "                        center=dict(lat=30, lon=110), zoom=1,\n",
    "                        mapbox_style=\"stamen-terrain\")\n",
    "figc.show()"
   ]
  },
  {
   "cell_type": "code",
   "execution_count": null,
   "metadata": {
    "pycharm": {
     "is_executing": false
    }
   },
   "outputs": [],
   "source": []
  }
 ],
 "metadata": {
  "kernelspec": {
   "display_name": "covid-19-kernel",
   "language": "python",
   "name": "covid-19-kernel"
  },
  "language_info": {
   "codemirror_mode": {
    "name": "ipython",
    "version": 3
   },
   "file_extension": ".py",
   "mimetype": "text/x-python",
   "name": "python",
   "nbconvert_exporter": "python",
   "pygments_lexer": "ipython3",
   "version": "3.6.5"
  },
  "pycharm": {
   "stem_cell": {
    "cell_type": "raw",
    "metadata": {
     "collapsed": false
    },
    "source": []
   }
  }
 },
 "nbformat": 4,
 "nbformat_minor": 1
}
