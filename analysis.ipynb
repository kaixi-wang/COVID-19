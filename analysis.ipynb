{
 "cells": [
  {
   "cell_type": "markdown",
   "metadata": {},
   "source": [
    "# COVID-19 Analysis: A Deeper Dive into the Stats\n",
    "## ( + easy interactive figures with plot.ly) \n",
    "\n",
    "3/9/20\n",
    "\n",
    "According to the \"Coronavirus COVID-19 Global Cases by Johns Hopkins CSSE\" dashboard, as of right now, there are a total of 113584 confirmed cases, 3996 deaths, and 62496 recovered. From the media reports, it feels like outbreaks are happening at an exponential rate. However, hearing these numbers being thrown everywhere and used to both support or refute the need to panic, I decided to dive deeper into the numbers myself. How reliable are these reports? What do they really say about the threat of the virus? I don't know...\n",
    "   "
   ]
  },
  {
   "cell_type": "markdown",
   "metadata": {},
   "source": [
    "Some initial notes/thoughts/findings from browsing the internet:\n",
    "    - Confirmed cases include presumptive cases\n",
    "    - Confirmed cases are laboratory-confirmed using PCR \n",
    "        - (sidenote: with what experience I've had with QT-PCR, results can be finicky and may vary significantly if proper mixing and sampling isn't done) \n",
    "        - According to the WHO daily situation reports, a confirmed case is \"A person with laboratory confirmation of COVID-19 infection, irrespective of clinical signs and symptoms.\"\n",
    "        - There is no single protocol.\n",
    "            - Following the link to the laboratory testing page, there are several different protocols coming from several different countries including the US, China, Thailand, etc. \n",
    "            - The primers/probe combinations used for different protocols are different. The targets are different... \n",
    "        - Recovered patients who have consecutive negative test results test positive after an additional quarentine period?! [\"Positive RT-PCR Test Results in Patients Recovered From COVID-19\"](https://jamanetwork.com/journals/jama/fullarticle/2762452)"
   ]
  },
  {
   "cell_type": "code",
   "execution_count": 150,
   "metadata": {
    "pycharm": {
     "is_executing": false
    }
   },
   "outputs": [],
   "source": [
    "import numpy as np\n",
    "import pandas as pd\n",
    "import scipy as sp\n",
    "\n",
    "import plotly.graph_objects as go \n",
    "import plotly.figure_factory as ff\n",
    "import plotly.express as px\n",
    "# This package is optional  for figures to be uploaded to the Chart Studio cloud service.\n",
    "# import chart_studio.plotly as py    \n",
    "\n",
    "pd.set_option(\"display.max_rows\", 101)\n",
    "pd.set_option(\"display.max_columns\", 101)"
   ]
  },
  {
   "cell_type": "code",
   "execution_count": 151,
   "metadata": {
    "pycharm": {
     "is_executing": false,
     "name": "#%%\n"
    }
   },
   "outputs": [
    {
     "data": {
      "text/plain": [
       "\"\\n# reload all changed modules before executing a new line\\n%load_ext autoreload\\n%autoreload 2\\n\\n# save figures as static images\\nfig = go.FigureWidget(data=go.Bar(y=[2, 3, 1]))\\nfig.write_image('figure.png')\\n\""
      ]
     },
     "execution_count": 151,
     "metadata": {},
     "output_type": "execute_result"
    }
   ],
   "source": [
    "\"\"\"\n",
    "# reload all changed modules before executing a new line\n",
    "%load_ext autoreload\n",
    "%autoreload 2\n",
    "\n",
    "# save figures as static images\n",
    "fig = go.FigureWidget(data=go.Bar(y=[2, 3, 1]))\n",
    "fig.write_image('figure.png')\n",
    "\"\"\""
   ]
  },
  {
   "cell_type": "markdown",
   "metadata": {
    "pycharm": {
     "is_executing": false,
     "name": "#%%\n"
    }
   },
   "source": [
    "#### Mapping out the Deaths\n",
    "\n",
    "Out of all the stats, I would say the number of deaths can be \"trusted\" most (ie if someone is said to have died from the virus, it is highly probable that they had been infected).\n"
   ]
  },
  {
   "cell_type": "code",
   "execution_count": 153,
   "metadata": {
    "pycharm": {
     "is_executing": false,
     "name": "#%%\n"
    }
   },
   "outputs": [],
   "source": [
    "df = pd.read_csv('csse_covid_19_data/csse_covid_19_time_series/time_series_19-covid-Deaths.csv')"
   ]
  },
  {
   "cell_type": "code",
   "execution_count": 154,
   "metadata": {},
   "outputs": [
    {
     "name": "stdout",
     "output_type": "stream",
     "text": [
      "total deaths as of 3/8/20 : 3803 \n"
     ]
    }
   ],
   "source": [
    "total_deaths=df[df.columns[-1]].sum()\n",
    "print(\"total deaths as of {} : {} \".format(df.columns[-1],total_deaths))"
   ]
  },
  {
   "cell_type": "code",
   "execution_count": 155,
   "metadata": {},
   "outputs": [
    {
     "name": "stdout",
     "output_type": "stream",
     "text": [
      "Inconsistancies: 0\n"
     ]
    }
   ],
   "source": [
    "# Check that deaths are only increasing\n",
    "not_monotonic=[]\n",
    "dft=df.T[4:]\n",
    "for col in dft.columns:\n",
    "    monotonic=dft[col].is_monotonic_increasing\n",
    "    if monotonic==False:\n",
    "        print(states[int(col)],  \": INCONSISTANT\")\n",
    "        not_monotonic.append([int(col)])\n",
    "print(\"Inconsistancies: {}\".format(len(not_monotonic)))\n",
    "\n",
    "# fill in countries\n",
    "df['Country/Region']=df['Country/Region'].fillna(method=\"ffill\")"
   ]
  },
  {
   "cell_type": "code",
   "execution_count": 156,
   "metadata": {},
   "outputs": [
    {
     "data": {
      "text/html": [
       "<div>\n",
       "<style scoped>\n",
       "    .dataframe tbody tr th:only-of-type {\n",
       "        vertical-align: middle;\n",
       "    }\n",
       "\n",
       "    .dataframe tbody tr th {\n",
       "        vertical-align: top;\n",
       "    }\n",
       "\n",
       "    .dataframe thead th {\n",
       "        text-align: right;\n",
       "    }\n",
       "</style>\n",
       "<table border=\"1\" class=\"dataframe\">\n",
       "  <thead>\n",
       "    <tr style=\"text-align: right;\">\n",
       "      <th></th>\n",
       "      <th>Province/State</th>\n",
       "      <th>Country/Region</th>\n",
       "      <th>Lat</th>\n",
       "      <th>Long</th>\n",
       "      <th>1/22/20</th>\n",
       "      <th>1/23/20</th>\n",
       "      <th>1/24/20</th>\n",
       "      <th>1/25/20</th>\n",
       "      <th>1/26/20</th>\n",
       "      <th>1/27/20</th>\n",
       "      <th>1/28/20</th>\n",
       "      <th>1/29/20</th>\n",
       "      <th>1/30/20</th>\n",
       "      <th>1/31/20</th>\n",
       "      <th>2/1/20</th>\n",
       "      <th>2/2/20</th>\n",
       "      <th>2/3/20</th>\n",
       "      <th>2/4/20</th>\n",
       "      <th>2/5/20</th>\n",
       "      <th>2/6/20</th>\n",
       "      <th>2/7/20</th>\n",
       "      <th>2/8/20</th>\n",
       "      <th>2/9/20</th>\n",
       "      <th>2/10/20</th>\n",
       "      <th>2/11/20</th>\n",
       "      <th>2/12/20</th>\n",
       "      <th>2/13/20</th>\n",
       "      <th>2/14/20</th>\n",
       "      <th>2/15/20</th>\n",
       "      <th>2/16/20</th>\n",
       "      <th>2/17/20</th>\n",
       "      <th>2/18/20</th>\n",
       "      <th>2/19/20</th>\n",
       "      <th>2/20/20</th>\n",
       "      <th>2/21/20</th>\n",
       "      <th>2/22/20</th>\n",
       "      <th>2/23/20</th>\n",
       "      <th>2/24/20</th>\n",
       "      <th>2/25/20</th>\n",
       "      <th>2/26/20</th>\n",
       "      <th>2/27/20</th>\n",
       "      <th>2/28/20</th>\n",
       "      <th>2/29/20</th>\n",
       "      <th>3/1/20</th>\n",
       "      <th>3/2/20</th>\n",
       "      <th>3/3/20</th>\n",
       "      <th>3/4/20</th>\n",
       "      <th>3/5/20</th>\n",
       "      <th>3/6/20</th>\n",
       "      <th>3/7/20</th>\n",
       "      <th>3/8/20</th>\n",
       "      <th>bin_lat</th>\n",
       "      <th>bin_long</th>\n",
       "    </tr>\n",
       "  </thead>\n",
       "  <tbody>\n",
       "    <tr>\n",
       "      <th>0</th>\n",
       "      <td>Anhui</td>\n",
       "      <td>Mainland China</td>\n",
       "      <td>31.8257</td>\n",
       "      <td>117.2264</td>\n",
       "      <td>0</td>\n",
       "      <td>0</td>\n",
       "      <td>0</td>\n",
       "      <td>0</td>\n",
       "      <td>0</td>\n",
       "      <td>0</td>\n",
       "      <td>0</td>\n",
       "      <td>0</td>\n",
       "      <td>0</td>\n",
       "      <td>0</td>\n",
       "      <td>0</td>\n",
       "      <td>0</td>\n",
       "      <td>0</td>\n",
       "      <td>0</td>\n",
       "      <td>0</td>\n",
       "      <td>0</td>\n",
       "      <td>0</td>\n",
       "      <td>0</td>\n",
       "      <td>1</td>\n",
       "      <td>3</td>\n",
       "      <td>4</td>\n",
       "      <td>4</td>\n",
       "      <td>5</td>\n",
       "      <td>6</td>\n",
       "      <td>6</td>\n",
       "      <td>6</td>\n",
       "      <td>6</td>\n",
       "      <td>6</td>\n",
       "      <td>6</td>\n",
       "      <td>6</td>\n",
       "      <td>6</td>\n",
       "      <td>6</td>\n",
       "      <td>6</td>\n",
       "      <td>6</td>\n",
       "      <td>6</td>\n",
       "      <td>6</td>\n",
       "      <td>6</td>\n",
       "      <td>6</td>\n",
       "      <td>6</td>\n",
       "      <td>6</td>\n",
       "      <td>6</td>\n",
       "      <td>6</td>\n",
       "      <td>6</td>\n",
       "      <td>6</td>\n",
       "      <td>6</td>\n",
       "      <td>6</td>\n",
       "      <td>6</td>\n",
       "      <td>(32.0, 53.0]</td>\n",
       "      <td>(116.0, 138.0]</td>\n",
       "    </tr>\n",
       "    <tr>\n",
       "      <th>1</th>\n",
       "      <td>Beijing</td>\n",
       "      <td>Mainland China</td>\n",
       "      <td>40.1824</td>\n",
       "      <td>116.4142</td>\n",
       "      <td>0</td>\n",
       "      <td>0</td>\n",
       "      <td>0</td>\n",
       "      <td>0</td>\n",
       "      <td>0</td>\n",
       "      <td>1</td>\n",
       "      <td>1</td>\n",
       "      <td>1</td>\n",
       "      <td>1</td>\n",
       "      <td>1</td>\n",
       "      <td>1</td>\n",
       "      <td>1</td>\n",
       "      <td>1</td>\n",
       "      <td>1</td>\n",
       "      <td>1</td>\n",
       "      <td>1</td>\n",
       "      <td>1</td>\n",
       "      <td>2</td>\n",
       "      <td>2</td>\n",
       "      <td>2</td>\n",
       "      <td>3</td>\n",
       "      <td>3</td>\n",
       "      <td>3</td>\n",
       "      <td>3</td>\n",
       "      <td>4</td>\n",
       "      <td>4</td>\n",
       "      <td>4</td>\n",
       "      <td>4</td>\n",
       "      <td>4</td>\n",
       "      <td>4</td>\n",
       "      <td>4</td>\n",
       "      <td>4</td>\n",
       "      <td>4</td>\n",
       "      <td>4</td>\n",
       "      <td>4</td>\n",
       "      <td>4</td>\n",
       "      <td>5</td>\n",
       "      <td>7</td>\n",
       "      <td>8</td>\n",
       "      <td>8</td>\n",
       "      <td>8</td>\n",
       "      <td>8</td>\n",
       "      <td>8</td>\n",
       "      <td>8</td>\n",
       "      <td>8</td>\n",
       "      <td>8</td>\n",
       "      <td>8</td>\n",
       "      <td>(32.0, 53.0]</td>\n",
       "      <td>(95.0, 116.0]</td>\n",
       "    </tr>\n",
       "    <tr>\n",
       "      <th>2</th>\n",
       "      <td>Chongqing</td>\n",
       "      <td>Mainland China</td>\n",
       "      <td>30.0572</td>\n",
       "      <td>107.8740</td>\n",
       "      <td>0</td>\n",
       "      <td>0</td>\n",
       "      <td>0</td>\n",
       "      <td>0</td>\n",
       "      <td>0</td>\n",
       "      <td>0</td>\n",
       "      <td>0</td>\n",
       "      <td>0</td>\n",
       "      <td>0</td>\n",
       "      <td>0</td>\n",
       "      <td>1</td>\n",
       "      <td>2</td>\n",
       "      <td>2</td>\n",
       "      <td>2</td>\n",
       "      <td>2</td>\n",
       "      <td>2</td>\n",
       "      <td>2</td>\n",
       "      <td>2</td>\n",
       "      <td>2</td>\n",
       "      <td>2</td>\n",
       "      <td>3</td>\n",
       "      <td>3</td>\n",
       "      <td>4</td>\n",
       "      <td>5</td>\n",
       "      <td>5</td>\n",
       "      <td>5</td>\n",
       "      <td>5</td>\n",
       "      <td>5</td>\n",
       "      <td>5</td>\n",
       "      <td>6</td>\n",
       "      <td>6</td>\n",
       "      <td>6</td>\n",
       "      <td>6</td>\n",
       "      <td>6</td>\n",
       "      <td>6</td>\n",
       "      <td>6</td>\n",
       "      <td>6</td>\n",
       "      <td>6</td>\n",
       "      <td>6</td>\n",
       "      <td>6</td>\n",
       "      <td>6</td>\n",
       "      <td>6</td>\n",
       "      <td>6</td>\n",
       "      <td>6</td>\n",
       "      <td>6</td>\n",
       "      <td>6</td>\n",
       "      <td>6</td>\n",
       "      <td>(11.0, 32.0]</td>\n",
       "      <td>(95.0, 116.0]</td>\n",
       "    </tr>\n",
       "    <tr>\n",
       "      <th>3</th>\n",
       "      <td>Fujian</td>\n",
       "      <td>Mainland China</td>\n",
       "      <td>26.0789</td>\n",
       "      <td>117.9874</td>\n",
       "      <td>0</td>\n",
       "      <td>0</td>\n",
       "      <td>0</td>\n",
       "      <td>0</td>\n",
       "      <td>0</td>\n",
       "      <td>0</td>\n",
       "      <td>0</td>\n",
       "      <td>0</td>\n",
       "      <td>0</td>\n",
       "      <td>0</td>\n",
       "      <td>0</td>\n",
       "      <td>0</td>\n",
       "      <td>0</td>\n",
       "      <td>0</td>\n",
       "      <td>0</td>\n",
       "      <td>0</td>\n",
       "      <td>0</td>\n",
       "      <td>0</td>\n",
       "      <td>0</td>\n",
       "      <td>0</td>\n",
       "      <td>0</td>\n",
       "      <td>0</td>\n",
       "      <td>0</td>\n",
       "      <td>0</td>\n",
       "      <td>0</td>\n",
       "      <td>0</td>\n",
       "      <td>0</td>\n",
       "      <td>0</td>\n",
       "      <td>0</td>\n",
       "      <td>1</td>\n",
       "      <td>1</td>\n",
       "      <td>1</td>\n",
       "      <td>1</td>\n",
       "      <td>1</td>\n",
       "      <td>1</td>\n",
       "      <td>1</td>\n",
       "      <td>1</td>\n",
       "      <td>1</td>\n",
       "      <td>1</td>\n",
       "      <td>1</td>\n",
       "      <td>1</td>\n",
       "      <td>1</td>\n",
       "      <td>1</td>\n",
       "      <td>1</td>\n",
       "      <td>1</td>\n",
       "      <td>1</td>\n",
       "      <td>1</td>\n",
       "      <td>(11.0, 32.0]</td>\n",
       "      <td>(116.0, 138.0]</td>\n",
       "    </tr>\n",
       "    <tr>\n",
       "      <th>4</th>\n",
       "      <td>Gansu</td>\n",
       "      <td>Mainland China</td>\n",
       "      <td>36.0611</td>\n",
       "      <td>103.8343</td>\n",
       "      <td>0</td>\n",
       "      <td>0</td>\n",
       "      <td>0</td>\n",
       "      <td>0</td>\n",
       "      <td>0</td>\n",
       "      <td>0</td>\n",
       "      <td>0</td>\n",
       "      <td>0</td>\n",
       "      <td>0</td>\n",
       "      <td>0</td>\n",
       "      <td>0</td>\n",
       "      <td>0</td>\n",
       "      <td>0</td>\n",
       "      <td>0</td>\n",
       "      <td>0</td>\n",
       "      <td>0</td>\n",
       "      <td>0</td>\n",
       "      <td>1</td>\n",
       "      <td>2</td>\n",
       "      <td>2</td>\n",
       "      <td>2</td>\n",
       "      <td>2</td>\n",
       "      <td>2</td>\n",
       "      <td>2</td>\n",
       "      <td>2</td>\n",
       "      <td>2</td>\n",
       "      <td>2</td>\n",
       "      <td>2</td>\n",
       "      <td>2</td>\n",
       "      <td>2</td>\n",
       "      <td>2</td>\n",
       "      <td>2</td>\n",
       "      <td>2</td>\n",
       "      <td>2</td>\n",
       "      <td>2</td>\n",
       "      <td>2</td>\n",
       "      <td>2</td>\n",
       "      <td>2</td>\n",
       "      <td>2</td>\n",
       "      <td>2</td>\n",
       "      <td>2</td>\n",
       "      <td>2</td>\n",
       "      <td>2</td>\n",
       "      <td>2</td>\n",
       "      <td>2</td>\n",
       "      <td>2</td>\n",
       "      <td>2</td>\n",
       "      <td>(32.0, 53.0]</td>\n",
       "      <td>(95.0, 116.0]</td>\n",
       "    </tr>\n",
       "  </tbody>\n",
       "</table>\n",
       "</div>"
      ],
      "text/plain": [
       "  Province/State  Country/Region      Lat      Long  1/22/20  1/23/20  \\\n",
       "0          Anhui  Mainland China  31.8257  117.2264        0        0   \n",
       "1        Beijing  Mainland China  40.1824  116.4142        0        0   \n",
       "2      Chongqing  Mainland China  30.0572  107.8740        0        0   \n",
       "3         Fujian  Mainland China  26.0789  117.9874        0        0   \n",
       "4          Gansu  Mainland China  36.0611  103.8343        0        0   \n",
       "\n",
       "   1/24/20  1/25/20  1/26/20  1/27/20  1/28/20  1/29/20  1/30/20  1/31/20  \\\n",
       "0        0        0        0        0        0        0        0        0   \n",
       "1        0        0        0        1        1        1        1        1   \n",
       "2        0        0        0        0        0        0        0        0   \n",
       "3        0        0        0        0        0        0        0        0   \n",
       "4        0        0        0        0        0        0        0        0   \n",
       "\n",
       "   2/1/20  2/2/20  2/3/20  2/4/20  2/5/20  2/6/20  2/7/20  2/8/20  2/9/20  \\\n",
       "0       0       0       0       0       0       0       0       0       1   \n",
       "1       1       1       1       1       1       1       1       2       2   \n",
       "2       1       2       2       2       2       2       2       2       2   \n",
       "3       0       0       0       0       0       0       0       0       0   \n",
       "4       0       0       0       0       0       0       0       1       2   \n",
       "\n",
       "   2/10/20  2/11/20  2/12/20  2/13/20  2/14/20  2/15/20  2/16/20  2/17/20  \\\n",
       "0        3        4        4        5        6        6        6        6   \n",
       "1        2        3        3        3        3        4        4        4   \n",
       "2        2        3        3        4        5        5        5        5   \n",
       "3        0        0        0        0        0        0        0        0   \n",
       "4        2        2        2        2        2        2        2        2   \n",
       "\n",
       "   2/18/20  2/19/20  2/20/20  2/21/20  2/22/20  2/23/20  2/24/20  2/25/20  \\\n",
       "0        6        6        6        6        6        6        6        6   \n",
       "1        4        4        4        4        4        4        4        4   \n",
       "2        5        5        6        6        6        6        6        6   \n",
       "3        0        0        1        1        1        1        1        1   \n",
       "4        2        2        2        2        2        2        2        2   \n",
       "\n",
       "   2/26/20  2/27/20  2/28/20  2/29/20  3/1/20  3/2/20  3/3/20  3/4/20  3/5/20  \\\n",
       "0        6        6        6        6       6       6       6       6       6   \n",
       "1        4        5        7        8       8       8       8       8       8   \n",
       "2        6        6        6        6       6       6       6       6       6   \n",
       "3        1        1        1        1       1       1       1       1       1   \n",
       "4        2        2        2        2       2       2       2       2       2   \n",
       "\n",
       "   3/6/20  3/7/20  3/8/20       bin_lat        bin_long  \n",
       "0       6       6       6  (32.0, 53.0]  (116.0, 138.0]  \n",
       "1       8       8       8  (32.0, 53.0]   (95.0, 116.0]  \n",
       "2       6       6       6  (11.0, 32.0]   (95.0, 116.0]  \n",
       "3       1       1       1  (11.0, 32.0]  (116.0, 138.0]  \n",
       "4       2       2       2  (32.0, 53.0]   (95.0, 116.0]  "
      ]
     },
     "execution_count": 156,
     "metadata": {},
     "output_type": "execute_result"
    }
   ],
   "source": [
    "# df['bin_lat']=pd.cut(df['Lat'], bins=18)\n",
    "# df['bin_long']=pd.cut(df['Long'], bins=18)\n",
    "df['bin_lat'],blat=pd.cut(df['Lat'], bins=np.linspace(-180, 180, 18), precision=0,retbins=True)\n",
    "df['bin_long'],blong=pd.cut(df['Long'], bins=np.linspace(-180, 180, 18),precision=0,retbins=True)\n",
    "\n",
    "df.head()"
   ]
  },
  {
   "cell_type": "code",
   "execution_count": 157,
   "metadata": {},
   "outputs": [],
   "source": [
    "#centers=[int(np.average([blat[i],blat[i-1]])) for i in np.arange(1,18)]"
   ]
  },
  {
   "cell_type": "code",
   "execution_count": 158,
   "metadata": {},
   "outputs": [
    {
     "data": {
      "text/html": [
       "<div>\n",
       "<style scoped>\n",
       "    .dataframe tbody tr th:only-of-type {\n",
       "        vertical-align: middle;\n",
       "    }\n",
       "\n",
       "    .dataframe tbody tr th {\n",
       "        vertical-align: top;\n",
       "    }\n",
       "\n",
       "    .dataframe thead th {\n",
       "        text-align: right;\n",
       "    }\n",
       "</style>\n",
       "<table border=\"1\" class=\"dataframe\">\n",
       "  <thead>\n",
       "    <tr style=\"text-align: right;\">\n",
       "      <th></th>\n",
       "      <th>bin_lat</th>\n",
       "      <th>bin_long</th>\n",
       "      <th>3/8/20</th>\n",
       "    </tr>\n",
       "  </thead>\n",
       "  <tbody>\n",
       "    <tr>\n",
       "      <th>0</th>\n",
       "      <td>(11.0, 32.0]</td>\n",
       "      <td>(95.0, 116.0]</td>\n",
       "      <td>3023.0</td>\n",
       "    </tr>\n",
       "    <tr>\n",
       "      <th>1</th>\n",
       "      <td>(32.0, 53.0]</td>\n",
       "      <td>(11.0, 32.0]</td>\n",
       "      <td>367.0</td>\n",
       "    </tr>\n",
       "    <tr>\n",
       "      <th>2</th>\n",
       "      <td>(32.0, 53.0]</td>\n",
       "      <td>(53.0, 74.0]</td>\n",
       "      <td>194.0</td>\n",
       "    </tr>\n",
       "    <tr>\n",
       "      <th>3</th>\n",
       "      <td>(32.0, 53.0]</td>\n",
       "      <td>(116.0, 138.0]</td>\n",
       "      <td>80.0</td>\n",
       "    </tr>\n",
       "    <tr>\n",
       "      <th>4</th>\n",
       "      <td>(32.0, 53.0]</td>\n",
       "      <td>(-11.0, 11.0]</td>\n",
       "      <td>41.0</td>\n",
       "    </tr>\n",
       "  </tbody>\n",
       "</table>\n",
       "</div>"
      ],
      "text/plain": [
       "        bin_lat        bin_long  3/8/20\n",
       "0  (11.0, 32.0]   (95.0, 116.0]  3023.0\n",
       "1  (32.0, 53.0]    (11.0, 32.0]   367.0\n",
       "2  (32.0, 53.0]    (53.0, 74.0]   194.0\n",
       "3  (32.0, 53.0]  (116.0, 138.0]    80.0\n",
       "4  (32.0, 53.0]   (-11.0, 11.0]    41.0"
      ]
     },
     "execution_count": 158,
     "metadata": {},
     "output_type": "execute_result"
    }
   ],
   "source": [
    "latest=df.groupby(['bin_lat','bin_long'])['3/8/20'].sum().sort_values(ascending=False).dropna().reset_index() #.fillna(0)\n",
    "latest.head()"
   ]
  },
  {
   "cell_type": "code",
   "execution_count": 159,
   "metadata": {},
   "outputs": [],
   "source": [
    "# {i:i.mid for i in latest['bin_lat']}"
   ]
  },
  {
   "cell_type": "code",
   "execution_count": 160,
   "metadata": {},
   "outputs": [
    {
     "name": "stdout",
     "output_type": "stream",
     "text": [
      "['Afghanistan', 'Algeria', 'Andorra', 'Argentina', 'Armenia', 'Australia', 'Austria', 'Azerbaijan', 'Bahrain', 'Bangladesh', 'Belarus', 'Belgium', 'Bhutan', 'Bosnia and Herzegovina', 'Brazil', 'Bulgaria', 'Cambodia', 'Cameroon', 'Canada', 'Chile', 'Colombia', 'Costa Rica', 'Croatia', 'Czech Republic', 'Denmark', 'Dominican Republic', 'Ecuador', 'Egypt', 'Estonia', 'Faroe Islands', 'Finland', 'France', 'French Guiana', 'Georgia', 'Germany', 'Gibraltar', 'Greece', 'Hong Kong', 'Hungary', 'Iceland', 'India', 'Indonesia', 'Iran', 'Iraq', 'Ireland', 'Israel', 'Italy', 'Japan', 'Jordan', 'Kuwait', 'Latvia', 'Lebanon', 'Liechtenstein', 'Lithuania', 'Luxembourg', 'Macau', 'Mainland China', 'Malaysia', 'Maldives', 'Malta', 'Martinique', 'Mexico', 'Moldova', 'Monaco', 'Morocco', 'Nepal', 'Netherlands', 'New Zealand', 'Nigeria', 'North Macedonia', 'Norway', 'Oman', 'Others', 'Pakistan', 'Palestine', 'Paraguay', 'Peru', 'Philippines', 'Poland', 'Portugal', 'Qatar', 'Republic of Ireland', 'Romania', 'Russia', 'Saint Barthelemy', 'San Marino', 'Saudi Arabia', 'Senegal', 'Serbia', 'Singapore', 'Slovakia', 'Slovenia', 'South Africa', 'South Korea', 'Spain', 'Sri Lanka', 'Sweden', 'Switzerland', 'Taiwan', 'Thailand', 'Togo', 'Tunisia', 'UK', 'US', 'Ukraine', 'United Arab Emirates', 'Vatican City', 'Vietnam']\n"
     ]
    }
   ],
   "source": [
    "\n",
    "countries=list(df.groupby('Country/Region').groups.keys())\n",
    "print(countries)\n"
   ]
  },
  {
   "cell_type": "code",
   "execution_count": 161,
   "metadata": {},
   "outputs": [
    {
     "data": {
      "text/html": [
       "<div>\n",
       "<style scoped>\n",
       "    .dataframe tbody tr th:only-of-type {\n",
       "        vertical-align: middle;\n",
       "    }\n",
       "\n",
       "    .dataframe tbody tr th {\n",
       "        vertical-align: top;\n",
       "    }\n",
       "\n",
       "    .dataframe thead th {\n",
       "        text-align: right;\n",
       "    }\n",
       "</style>\n",
       "<table border=\"1\" class=\"dataframe\">\n",
       "  <thead>\n",
       "    <tr style=\"text-align: right;\">\n",
       "      <th></th>\n",
       "      <th>bin_lat</th>\n",
       "      <th>bin_long</th>\n",
       "      <th>3/8/20</th>\n",
       "      <th>long</th>\n",
       "      <th>lat</th>\n",
       "    </tr>\n",
       "  </thead>\n",
       "  <tbody>\n",
       "    <tr>\n",
       "      <th>0</th>\n",
       "      <td>(11.0, 32.0]</td>\n",
       "      <td>(95.0, 116.0]</td>\n",
       "      <td>3023.0</td>\n",
       "      <td>105.5</td>\n",
       "      <td>21.5</td>\n",
       "    </tr>\n",
       "    <tr>\n",
       "      <th>1</th>\n",
       "      <td>(32.0, 53.0]</td>\n",
       "      <td>(11.0, 32.0]</td>\n",
       "      <td>367.0</td>\n",
       "      <td>21.5</td>\n",
       "      <td>42.5</td>\n",
       "    </tr>\n",
       "    <tr>\n",
       "      <th>2</th>\n",
       "      <td>(32.0, 53.0]</td>\n",
       "      <td>(53.0, 74.0]</td>\n",
       "      <td>194.0</td>\n",
       "      <td>63.5</td>\n",
       "      <td>42.5</td>\n",
       "    </tr>\n",
       "    <tr>\n",
       "      <th>3</th>\n",
       "      <td>(32.0, 53.0]</td>\n",
       "      <td>(116.0, 138.0]</td>\n",
       "      <td>80.0</td>\n",
       "      <td>127.0</td>\n",
       "      <td>42.5</td>\n",
       "    </tr>\n",
       "    <tr>\n",
       "      <th>4</th>\n",
       "      <td>(32.0, 53.0]</td>\n",
       "      <td>(-11.0, 11.0]</td>\n",
       "      <td>41.0</td>\n",
       "      <td>0.0</td>\n",
       "      <td>42.5</td>\n",
       "    </tr>\n",
       "  </tbody>\n",
       "</table>\n",
       "</div>"
      ],
      "text/plain": [
       "        bin_lat        bin_long  3/8/20   long   lat\n",
       "0  (11.0, 32.0]   (95.0, 116.0]  3023.0  105.5  21.5\n",
       "1  (32.0, 53.0]    (11.0, 32.0]   367.0   21.5  42.5\n",
       "2  (32.0, 53.0]    (53.0, 74.0]   194.0   63.5  42.5\n",
       "3  (32.0, 53.0]  (116.0, 138.0]    80.0  127.0  42.5\n",
       "4  (32.0, 53.0]   (-11.0, 11.0]    41.0    0.0  42.5"
      ]
     },
     "execution_count": 161,
     "metadata": {},
     "output_type": "execute_result"
    }
   ],
   "source": [
    "# Group cumulative stats by lat/long coordinates since the number of deaths by province/state is sparse\n",
    "\n",
    "latest['long']=latest['bin_long'].map({i:i.mid for i in latest['bin_long']})\n",
    "\n",
    "latest['lat']=latest['bin_lat'].map({i:i.mid for i in latest['bin_lat']})\n",
    "latest.head()"
   ]
  },
  {
   "cell_type": "code",
   "execution_count": 162,
   "metadata": {},
   "outputs": [],
   "source": [
    "states=df['Province/State'].values"
   ]
  },
  {
   "cell_type": "code",
   "execution_count": 164,
   "metadata": {},
   "outputs": [
    {
     "data": {
      "application/vnd.plotly.v1+json": {
       "config": {
        "plotlyServerURL": "https://plot.ly"
       },
       "data": [
        {
         "coloraxis": "coloraxis",
         "hoverlabel": {
          "namelength": 0
         },
         "hovertemplate": "3/8/20=%{z}<br>lat=%{lat}<br>long=%{lon}",
         "lat": [
          21.5,
          42.5,
          42.5,
          42.5,
          42.5,
          42.5,
          42.5,
          42.5,
          21.5,
          42.5,
          63.5,
          -42.5,
          42.5,
          21.5,
          21.5,
          -42.5,
          -42.5,
          42.5,
          42.5,
          63.5,
          63.5,
          -42.5,
          -21.5,
          -21.5,
          -21.5,
          -21.5,
          -21.5,
          0,
          0,
          0,
          0,
          0,
          0,
          0,
          21.5,
          21.5,
          42.5,
          21.5,
          21.5,
          21.5,
          63.5,
          21.5,
          21.5,
          21.5,
          63.5
         ],
         "lon": [
          105.5,
          21.5,
          63.5,
          127,
          0,
          105.5,
          -127,
          148.5,
          127,
          42.5,
          0,
          148.5,
          84.5,
          -84.5,
          21.5,
          105.5,
          -63.5,
          -105.5,
          -84.5,
          -21.5,
          -105.5,
          169.5,
          -63.5,
          -42.5,
          21.5,
          127,
          148.5,
          -84.5,
          -63.5,
          0,
          21.5,
          63.5,
          84.5,
          105.5,
          -148.5,
          -105.5,
          -63.5,
          -63.5,
          -21.5,
          0,
          21.5,
          42.5,
          63.5,
          84.5,
          84.5
         ],
         "name": "",
         "radius": 100,
         "subplot": "mapbox",
         "type": "densitymapbox",
         "z": [
          3023,
          367,
          194,
          80,
          41,
          40,
          19,
          12,
          7,
          6,
          3,
          3,
          3,
          2,
          1,
          1,
          1,
          0,
          0,
          0,
          0,
          0,
          0,
          0,
          0,
          0,
          0,
          0,
          0,
          0,
          0,
          0,
          0,
          0,
          0,
          0,
          0,
          0,
          0,
          0,
          0,
          0,
          0,
          0,
          0
         ]
        }
       ],
       "layout": {
        "coloraxis": {
         "colorbar": {
          "title": {
           "text": "3/8/20"
          }
         },
         "colorscale": [
          [
           0,
           "#0d0887"
          ],
          [
           0.1111111111111111,
           "#46039f"
          ],
          [
           0.2222222222222222,
           "#7201a8"
          ],
          [
           0.3333333333333333,
           "#9c179e"
          ],
          [
           0.4444444444444444,
           "#bd3786"
          ],
          [
           0.5555555555555556,
           "#d8576b"
          ],
          [
           0.6666666666666666,
           "#ed7953"
          ],
          [
           0.7777777777777778,
           "#fb9f3a"
          ],
          [
           0.8888888888888888,
           "#fdca26"
          ],
          [
           1,
           "#f0f921"
          ]
         ]
        },
        "legend": {
         "tracegroupgap": 0
        },
        "mapbox": {
         "center": {
          "lat": 30,
          "lon": 110
         },
         "domain": {
          "x": [
           0,
           1
          ],
          "y": [
           0,
           1
          ]
         },
         "style": "stamen-terrain",
         "zoom": 1
        },
        "margin": {
         "t": 60
        },
        "template": {
         "data": {
          "bar": [
           {
            "error_x": {
             "color": "#2a3f5f"
            },
            "error_y": {
             "color": "#2a3f5f"
            },
            "marker": {
             "line": {
              "color": "#E5ECF6",
              "width": 0.5
             }
            },
            "type": "bar"
           }
          ],
          "barpolar": [
           {
            "marker": {
             "line": {
              "color": "#E5ECF6",
              "width": 0.5
             }
            },
            "type": "barpolar"
           }
          ],
          "carpet": [
           {
            "aaxis": {
             "endlinecolor": "#2a3f5f",
             "gridcolor": "white",
             "linecolor": "white",
             "minorgridcolor": "white",
             "startlinecolor": "#2a3f5f"
            },
            "baxis": {
             "endlinecolor": "#2a3f5f",
             "gridcolor": "white",
             "linecolor": "white",
             "minorgridcolor": "white",
             "startlinecolor": "#2a3f5f"
            },
            "type": "carpet"
           }
          ],
          "choropleth": [
           {
            "colorbar": {
             "outlinewidth": 0,
             "ticks": ""
            },
            "type": "choropleth"
           }
          ],
          "contour": [
           {
            "colorbar": {
             "outlinewidth": 0,
             "ticks": ""
            },
            "colorscale": [
             [
              0,
              "#0d0887"
             ],
             [
              0.1111111111111111,
              "#46039f"
             ],
             [
              0.2222222222222222,
              "#7201a8"
             ],
             [
              0.3333333333333333,
              "#9c179e"
             ],
             [
              0.4444444444444444,
              "#bd3786"
             ],
             [
              0.5555555555555556,
              "#d8576b"
             ],
             [
              0.6666666666666666,
              "#ed7953"
             ],
             [
              0.7777777777777778,
              "#fb9f3a"
             ],
             [
              0.8888888888888888,
              "#fdca26"
             ],
             [
              1,
              "#f0f921"
             ]
            ],
            "type": "contour"
           }
          ],
          "contourcarpet": [
           {
            "colorbar": {
             "outlinewidth": 0,
             "ticks": ""
            },
            "type": "contourcarpet"
           }
          ],
          "heatmap": [
           {
            "colorbar": {
             "outlinewidth": 0,
             "ticks": ""
            },
            "colorscale": [
             [
              0,
              "#0d0887"
             ],
             [
              0.1111111111111111,
              "#46039f"
             ],
             [
              0.2222222222222222,
              "#7201a8"
             ],
             [
              0.3333333333333333,
              "#9c179e"
             ],
             [
              0.4444444444444444,
              "#bd3786"
             ],
             [
              0.5555555555555556,
              "#d8576b"
             ],
             [
              0.6666666666666666,
              "#ed7953"
             ],
             [
              0.7777777777777778,
              "#fb9f3a"
             ],
             [
              0.8888888888888888,
              "#fdca26"
             ],
             [
              1,
              "#f0f921"
             ]
            ],
            "type": "heatmap"
           }
          ],
          "heatmapgl": [
           {
            "colorbar": {
             "outlinewidth": 0,
             "ticks": ""
            },
            "colorscale": [
             [
              0,
              "#0d0887"
             ],
             [
              0.1111111111111111,
              "#46039f"
             ],
             [
              0.2222222222222222,
              "#7201a8"
             ],
             [
              0.3333333333333333,
              "#9c179e"
             ],
             [
              0.4444444444444444,
              "#bd3786"
             ],
             [
              0.5555555555555556,
              "#d8576b"
             ],
             [
              0.6666666666666666,
              "#ed7953"
             ],
             [
              0.7777777777777778,
              "#fb9f3a"
             ],
             [
              0.8888888888888888,
              "#fdca26"
             ],
             [
              1,
              "#f0f921"
             ]
            ],
            "type": "heatmapgl"
           }
          ],
          "histogram": [
           {
            "marker": {
             "colorbar": {
              "outlinewidth": 0,
              "ticks": ""
             }
            },
            "type": "histogram"
           }
          ],
          "histogram2d": [
           {
            "colorbar": {
             "outlinewidth": 0,
             "ticks": ""
            },
            "colorscale": [
             [
              0,
              "#0d0887"
             ],
             [
              0.1111111111111111,
              "#46039f"
             ],
             [
              0.2222222222222222,
              "#7201a8"
             ],
             [
              0.3333333333333333,
              "#9c179e"
             ],
             [
              0.4444444444444444,
              "#bd3786"
             ],
             [
              0.5555555555555556,
              "#d8576b"
             ],
             [
              0.6666666666666666,
              "#ed7953"
             ],
             [
              0.7777777777777778,
              "#fb9f3a"
             ],
             [
              0.8888888888888888,
              "#fdca26"
             ],
             [
              1,
              "#f0f921"
             ]
            ],
            "type": "histogram2d"
           }
          ],
          "histogram2dcontour": [
           {
            "colorbar": {
             "outlinewidth": 0,
             "ticks": ""
            },
            "colorscale": [
             [
              0,
              "#0d0887"
             ],
             [
              0.1111111111111111,
              "#46039f"
             ],
             [
              0.2222222222222222,
              "#7201a8"
             ],
             [
              0.3333333333333333,
              "#9c179e"
             ],
             [
              0.4444444444444444,
              "#bd3786"
             ],
             [
              0.5555555555555556,
              "#d8576b"
             ],
             [
              0.6666666666666666,
              "#ed7953"
             ],
             [
              0.7777777777777778,
              "#fb9f3a"
             ],
             [
              0.8888888888888888,
              "#fdca26"
             ],
             [
              1,
              "#f0f921"
             ]
            ],
            "type": "histogram2dcontour"
           }
          ],
          "mesh3d": [
           {
            "colorbar": {
             "outlinewidth": 0,
             "ticks": ""
            },
            "type": "mesh3d"
           }
          ],
          "parcoords": [
           {
            "line": {
             "colorbar": {
              "outlinewidth": 0,
              "ticks": ""
             }
            },
            "type": "parcoords"
           }
          ],
          "pie": [
           {
            "automargin": true,
            "type": "pie"
           }
          ],
          "scatter": [
           {
            "marker": {
             "colorbar": {
              "outlinewidth": 0,
              "ticks": ""
             }
            },
            "type": "scatter"
           }
          ],
          "scatter3d": [
           {
            "line": {
             "colorbar": {
              "outlinewidth": 0,
              "ticks": ""
             }
            },
            "marker": {
             "colorbar": {
              "outlinewidth": 0,
              "ticks": ""
             }
            },
            "type": "scatter3d"
           }
          ],
          "scattercarpet": [
           {
            "marker": {
             "colorbar": {
              "outlinewidth": 0,
              "ticks": ""
             }
            },
            "type": "scattercarpet"
           }
          ],
          "scattergeo": [
           {
            "marker": {
             "colorbar": {
              "outlinewidth": 0,
              "ticks": ""
             }
            },
            "type": "scattergeo"
           }
          ],
          "scattergl": [
           {
            "marker": {
             "colorbar": {
              "outlinewidth": 0,
              "ticks": ""
             }
            },
            "type": "scattergl"
           }
          ],
          "scattermapbox": [
           {
            "marker": {
             "colorbar": {
              "outlinewidth": 0,
              "ticks": ""
             }
            },
            "type": "scattermapbox"
           }
          ],
          "scatterpolar": [
           {
            "marker": {
             "colorbar": {
              "outlinewidth": 0,
              "ticks": ""
             }
            },
            "type": "scatterpolar"
           }
          ],
          "scatterpolargl": [
           {
            "marker": {
             "colorbar": {
              "outlinewidth": 0,
              "ticks": ""
             }
            },
            "type": "scatterpolargl"
           }
          ],
          "scatterternary": [
           {
            "marker": {
             "colorbar": {
              "outlinewidth": 0,
              "ticks": ""
             }
            },
            "type": "scatterternary"
           }
          ],
          "surface": [
           {
            "colorbar": {
             "outlinewidth": 0,
             "ticks": ""
            },
            "colorscale": [
             [
              0,
              "#0d0887"
             ],
             [
              0.1111111111111111,
              "#46039f"
             ],
             [
              0.2222222222222222,
              "#7201a8"
             ],
             [
              0.3333333333333333,
              "#9c179e"
             ],
             [
              0.4444444444444444,
              "#bd3786"
             ],
             [
              0.5555555555555556,
              "#d8576b"
             ],
             [
              0.6666666666666666,
              "#ed7953"
             ],
             [
              0.7777777777777778,
              "#fb9f3a"
             ],
             [
              0.8888888888888888,
              "#fdca26"
             ],
             [
              1,
              "#f0f921"
             ]
            ],
            "type": "surface"
           }
          ],
          "table": [
           {
            "cells": {
             "fill": {
              "color": "#EBF0F8"
             },
             "line": {
              "color": "white"
             }
            },
            "header": {
             "fill": {
              "color": "#C8D4E3"
             },
             "line": {
              "color": "white"
             }
            },
            "type": "table"
           }
          ]
         },
         "layout": {
          "annotationdefaults": {
           "arrowcolor": "#2a3f5f",
           "arrowhead": 0,
           "arrowwidth": 1
          },
          "coloraxis": {
           "colorbar": {
            "outlinewidth": 0,
            "ticks": ""
           }
          },
          "colorscale": {
           "diverging": [
            [
             0,
             "#8e0152"
            ],
            [
             0.1,
             "#c51b7d"
            ],
            [
             0.2,
             "#de77ae"
            ],
            [
             0.3,
             "#f1b6da"
            ],
            [
             0.4,
             "#fde0ef"
            ],
            [
             0.5,
             "#f7f7f7"
            ],
            [
             0.6,
             "#e6f5d0"
            ],
            [
             0.7,
             "#b8e186"
            ],
            [
             0.8,
             "#7fbc41"
            ],
            [
             0.9,
             "#4d9221"
            ],
            [
             1,
             "#276419"
            ]
           ],
           "sequential": [
            [
             0,
             "#0d0887"
            ],
            [
             0.1111111111111111,
             "#46039f"
            ],
            [
             0.2222222222222222,
             "#7201a8"
            ],
            [
             0.3333333333333333,
             "#9c179e"
            ],
            [
             0.4444444444444444,
             "#bd3786"
            ],
            [
             0.5555555555555556,
             "#d8576b"
            ],
            [
             0.6666666666666666,
             "#ed7953"
            ],
            [
             0.7777777777777778,
             "#fb9f3a"
            ],
            [
             0.8888888888888888,
             "#fdca26"
            ],
            [
             1,
             "#f0f921"
            ]
           ],
           "sequentialminus": [
            [
             0,
             "#0d0887"
            ],
            [
             0.1111111111111111,
             "#46039f"
            ],
            [
             0.2222222222222222,
             "#7201a8"
            ],
            [
             0.3333333333333333,
             "#9c179e"
            ],
            [
             0.4444444444444444,
             "#bd3786"
            ],
            [
             0.5555555555555556,
             "#d8576b"
            ],
            [
             0.6666666666666666,
             "#ed7953"
            ],
            [
             0.7777777777777778,
             "#fb9f3a"
            ],
            [
             0.8888888888888888,
             "#fdca26"
            ],
            [
             1,
             "#f0f921"
            ]
           ]
          },
          "colorway": [
           "#636efa",
           "#EF553B",
           "#00cc96",
           "#ab63fa",
           "#FFA15A",
           "#19d3f3",
           "#FF6692",
           "#B6E880",
           "#FF97FF",
           "#FECB52"
          ],
          "font": {
           "color": "#2a3f5f"
          },
          "geo": {
           "bgcolor": "white",
           "lakecolor": "white",
           "landcolor": "#E5ECF6",
           "showlakes": true,
           "showland": true,
           "subunitcolor": "white"
          },
          "hoverlabel": {
           "align": "left"
          },
          "hovermode": "closest",
          "mapbox": {
           "style": "light"
          },
          "paper_bgcolor": "white",
          "plot_bgcolor": "#E5ECF6",
          "polar": {
           "angularaxis": {
            "gridcolor": "white",
            "linecolor": "white",
            "ticks": ""
           },
           "bgcolor": "#E5ECF6",
           "radialaxis": {
            "gridcolor": "white",
            "linecolor": "white",
            "ticks": ""
           }
          },
          "scene": {
           "xaxis": {
            "backgroundcolor": "#E5ECF6",
            "gridcolor": "white",
            "gridwidth": 2,
            "linecolor": "white",
            "showbackground": true,
            "ticks": "",
            "zerolinecolor": "white"
           },
           "yaxis": {
            "backgroundcolor": "#E5ECF6",
            "gridcolor": "white",
            "gridwidth": 2,
            "linecolor": "white",
            "showbackground": true,
            "ticks": "",
            "zerolinecolor": "white"
           },
           "zaxis": {
            "backgroundcolor": "#E5ECF6",
            "gridcolor": "white",
            "gridwidth": 2,
            "linecolor": "white",
            "showbackground": true,
            "ticks": "",
            "zerolinecolor": "white"
           }
          },
          "shapedefaults": {
           "line": {
            "color": "#2a3f5f"
           }
          },
          "ternary": {
           "aaxis": {
            "gridcolor": "white",
            "linecolor": "white",
            "ticks": ""
           },
           "baxis": {
            "gridcolor": "white",
            "linecolor": "white",
            "ticks": ""
           },
           "bgcolor": "#E5ECF6",
           "caxis": {
            "gridcolor": "white",
            "linecolor": "white",
            "ticks": ""
           }
          },
          "title": {
           "x": 0.05
          },
          "xaxis": {
           "automargin": true,
           "gridcolor": "white",
           "linecolor": "white",
           "ticks": "",
           "title": {
            "standoff": 15
           },
           "zerolinecolor": "white",
           "zerolinewidth": 2
          },
          "yaxis": {
           "automargin": true,
           "gridcolor": "white",
           "linecolor": "white",
           "ticks": "",
           "title": {
            "standoff": 15
           },
           "zerolinecolor": "white",
           "zerolinewidth": 2
          }
         }
        }
       }
      },
      "text/html": [
       "<div>\n",
       "        \n",
       "        \n",
       "            <div id=\"18c446b6-4a49-4b8c-83fc-64907b2df596\" class=\"plotly-graph-div\" style=\"height:525px; width:100%;\"></div>\n",
       "            <script type=\"text/javascript\">\n",
       "                require([\"plotly\"], function(Plotly) {\n",
       "                    window.PLOTLYENV=window.PLOTLYENV || {};\n",
       "                    \n",
       "                if (document.getElementById(\"18c446b6-4a49-4b8c-83fc-64907b2df596\")) {\n",
       "                    Plotly.newPlot(\n",
       "                        '18c446b6-4a49-4b8c-83fc-64907b2df596',\n",
       "                        [{\"coloraxis\": \"coloraxis\", \"hoverlabel\": {\"namelength\": 0}, \"hovertemplate\": \"3/8/20=%{z}<br>lat=%{lat}<br>long=%{lon}\", \"lat\": [21.5, 42.5, 42.5, 42.5, 42.5, 42.5, 42.5, 42.5, 21.5, 42.5, 63.5, -42.5, 42.5, 21.5, 21.5, -42.5, -42.5, 42.5, 42.5, 63.5, 63.5, -42.5, -21.5, -21.5, -21.5, -21.5, -21.5, 0.0, 0.0, 0.0, 0.0, 0.0, 0.0, 0.0, 21.5, 21.5, 42.5, 21.5, 21.5, 21.5, 63.5, 21.5, 21.5, 21.5, 63.5], \"lon\": [105.5, 21.5, 63.5, 127.0, 0.0, 105.5, -127.0, 148.5, 127.0, 42.5, 0.0, 148.5, 84.5, -84.5, 21.5, 105.5, -63.5, -105.5, -84.5, -21.5, -105.5, 169.5, -63.5, -42.5, 21.5, 127.0, 148.5, -84.5, -63.5, 0.0, 21.5, 63.5, 84.5, 105.5, -148.5, -105.5, -63.5, -63.5, -21.5, 0.0, 21.5, 42.5, 63.5, 84.5, 84.5], \"name\": \"\", \"radius\": 100, \"subplot\": \"mapbox\", \"type\": \"densitymapbox\", \"z\": [3023.0, 367.0, 194.0, 80.0, 41.0, 40.0, 19.0, 12.0, 7.0, 6.0, 3.0, 3.0, 3.0, 2.0, 1.0, 1.0, 1.0, 0.0, 0.0, 0.0, 0.0, 0.0, 0.0, 0.0, 0.0, 0.0, 0.0, 0.0, 0.0, 0.0, 0.0, 0.0, 0.0, 0.0, 0.0, 0.0, 0.0, 0.0, 0.0, 0.0, 0.0, 0.0, 0.0, 0.0, 0.0]}],\n",
       "                        {\"coloraxis\": {\"colorbar\": {\"title\": {\"text\": \"3/8/20\"}}, \"colorscale\": [[0.0, \"#0d0887\"], [0.1111111111111111, \"#46039f\"], [0.2222222222222222, \"#7201a8\"], [0.3333333333333333, \"#9c179e\"], [0.4444444444444444, \"#bd3786\"], [0.5555555555555556, \"#d8576b\"], [0.6666666666666666, \"#ed7953\"], [0.7777777777777778, \"#fb9f3a\"], [0.8888888888888888, \"#fdca26\"], [1.0, \"#f0f921\"]]}, \"legend\": {\"tracegroupgap\": 0}, \"mapbox\": {\"center\": {\"lat\": 30, \"lon\": 110}, \"domain\": {\"x\": [0.0, 1.0], \"y\": [0.0, 1.0]}, \"style\": \"stamen-terrain\", \"zoom\": 1}, \"margin\": {\"t\": 60}, \"template\": {\"data\": {\"bar\": [{\"error_x\": {\"color\": \"#2a3f5f\"}, \"error_y\": {\"color\": \"#2a3f5f\"}, \"marker\": {\"line\": {\"color\": \"#E5ECF6\", \"width\": 0.5}}, \"type\": \"bar\"}], \"barpolar\": [{\"marker\": {\"line\": {\"color\": \"#E5ECF6\", \"width\": 0.5}}, \"type\": \"barpolar\"}], \"carpet\": [{\"aaxis\": {\"endlinecolor\": \"#2a3f5f\", \"gridcolor\": \"white\", \"linecolor\": \"white\", \"minorgridcolor\": \"white\", \"startlinecolor\": \"#2a3f5f\"}, \"baxis\": {\"endlinecolor\": \"#2a3f5f\", \"gridcolor\": \"white\", \"linecolor\": \"white\", \"minorgridcolor\": \"white\", \"startlinecolor\": \"#2a3f5f\"}, \"type\": \"carpet\"}], \"choropleth\": [{\"colorbar\": {\"outlinewidth\": 0, \"ticks\": \"\"}, \"type\": \"choropleth\"}], \"contour\": [{\"colorbar\": {\"outlinewidth\": 0, \"ticks\": \"\"}, \"colorscale\": [[0.0, \"#0d0887\"], [0.1111111111111111, \"#46039f\"], [0.2222222222222222, \"#7201a8\"], [0.3333333333333333, \"#9c179e\"], [0.4444444444444444, \"#bd3786\"], [0.5555555555555556, \"#d8576b\"], [0.6666666666666666, \"#ed7953\"], [0.7777777777777778, \"#fb9f3a\"], [0.8888888888888888, \"#fdca26\"], [1.0, \"#f0f921\"]], \"type\": \"contour\"}], \"contourcarpet\": [{\"colorbar\": {\"outlinewidth\": 0, \"ticks\": \"\"}, \"type\": \"contourcarpet\"}], \"heatmap\": [{\"colorbar\": {\"outlinewidth\": 0, \"ticks\": \"\"}, \"colorscale\": [[0.0, \"#0d0887\"], [0.1111111111111111, \"#46039f\"], [0.2222222222222222, \"#7201a8\"], [0.3333333333333333, \"#9c179e\"], [0.4444444444444444, \"#bd3786\"], [0.5555555555555556, \"#d8576b\"], [0.6666666666666666, \"#ed7953\"], [0.7777777777777778, \"#fb9f3a\"], [0.8888888888888888, \"#fdca26\"], [1.0, \"#f0f921\"]], \"type\": \"heatmap\"}], \"heatmapgl\": [{\"colorbar\": {\"outlinewidth\": 0, \"ticks\": \"\"}, \"colorscale\": [[0.0, \"#0d0887\"], [0.1111111111111111, \"#46039f\"], [0.2222222222222222, \"#7201a8\"], [0.3333333333333333, \"#9c179e\"], [0.4444444444444444, \"#bd3786\"], [0.5555555555555556, \"#d8576b\"], [0.6666666666666666, \"#ed7953\"], [0.7777777777777778, \"#fb9f3a\"], [0.8888888888888888, \"#fdca26\"], [1.0, \"#f0f921\"]], \"type\": \"heatmapgl\"}], \"histogram\": [{\"marker\": {\"colorbar\": {\"outlinewidth\": 0, \"ticks\": \"\"}}, \"type\": \"histogram\"}], \"histogram2d\": [{\"colorbar\": {\"outlinewidth\": 0, \"ticks\": \"\"}, \"colorscale\": [[0.0, \"#0d0887\"], [0.1111111111111111, \"#46039f\"], [0.2222222222222222, \"#7201a8\"], [0.3333333333333333, \"#9c179e\"], [0.4444444444444444, \"#bd3786\"], [0.5555555555555556, \"#d8576b\"], [0.6666666666666666, \"#ed7953\"], [0.7777777777777778, \"#fb9f3a\"], [0.8888888888888888, \"#fdca26\"], [1.0, \"#f0f921\"]], \"type\": \"histogram2d\"}], \"histogram2dcontour\": [{\"colorbar\": {\"outlinewidth\": 0, \"ticks\": \"\"}, \"colorscale\": [[0.0, \"#0d0887\"], [0.1111111111111111, \"#46039f\"], [0.2222222222222222, \"#7201a8\"], [0.3333333333333333, \"#9c179e\"], [0.4444444444444444, \"#bd3786\"], [0.5555555555555556, \"#d8576b\"], [0.6666666666666666, \"#ed7953\"], [0.7777777777777778, \"#fb9f3a\"], [0.8888888888888888, \"#fdca26\"], [1.0, \"#f0f921\"]], \"type\": \"histogram2dcontour\"}], \"mesh3d\": [{\"colorbar\": {\"outlinewidth\": 0, \"ticks\": \"\"}, \"type\": \"mesh3d\"}], \"parcoords\": [{\"line\": {\"colorbar\": {\"outlinewidth\": 0, \"ticks\": \"\"}}, \"type\": \"parcoords\"}], \"pie\": [{\"automargin\": true, \"type\": \"pie\"}], \"scatter\": [{\"marker\": {\"colorbar\": {\"outlinewidth\": 0, \"ticks\": \"\"}}, \"type\": \"scatter\"}], \"scatter3d\": [{\"line\": {\"colorbar\": {\"outlinewidth\": 0, \"ticks\": \"\"}}, \"marker\": {\"colorbar\": {\"outlinewidth\": 0, \"ticks\": \"\"}}, \"type\": \"scatter3d\"}], \"scattercarpet\": [{\"marker\": {\"colorbar\": {\"outlinewidth\": 0, \"ticks\": \"\"}}, \"type\": \"scattercarpet\"}], \"scattergeo\": [{\"marker\": {\"colorbar\": {\"outlinewidth\": 0, \"ticks\": \"\"}}, \"type\": \"scattergeo\"}], \"scattergl\": [{\"marker\": {\"colorbar\": {\"outlinewidth\": 0, \"ticks\": \"\"}}, \"type\": \"scattergl\"}], \"scattermapbox\": [{\"marker\": {\"colorbar\": {\"outlinewidth\": 0, \"ticks\": \"\"}}, \"type\": \"scattermapbox\"}], \"scatterpolar\": [{\"marker\": {\"colorbar\": {\"outlinewidth\": 0, \"ticks\": \"\"}}, \"type\": \"scatterpolar\"}], \"scatterpolargl\": [{\"marker\": {\"colorbar\": {\"outlinewidth\": 0, \"ticks\": \"\"}}, \"type\": \"scatterpolargl\"}], \"scatterternary\": [{\"marker\": {\"colorbar\": {\"outlinewidth\": 0, \"ticks\": \"\"}}, \"type\": \"scatterternary\"}], \"surface\": [{\"colorbar\": {\"outlinewidth\": 0, \"ticks\": \"\"}, \"colorscale\": [[0.0, \"#0d0887\"], [0.1111111111111111, \"#46039f\"], [0.2222222222222222, \"#7201a8\"], [0.3333333333333333, \"#9c179e\"], [0.4444444444444444, \"#bd3786\"], [0.5555555555555556, \"#d8576b\"], [0.6666666666666666, \"#ed7953\"], [0.7777777777777778, \"#fb9f3a\"], [0.8888888888888888, \"#fdca26\"], [1.0, \"#f0f921\"]], \"type\": \"surface\"}], \"table\": [{\"cells\": {\"fill\": {\"color\": \"#EBF0F8\"}, \"line\": {\"color\": \"white\"}}, \"header\": {\"fill\": {\"color\": \"#C8D4E3\"}, \"line\": {\"color\": \"white\"}}, \"type\": \"table\"}]}, \"layout\": {\"annotationdefaults\": {\"arrowcolor\": \"#2a3f5f\", \"arrowhead\": 0, \"arrowwidth\": 1}, \"coloraxis\": {\"colorbar\": {\"outlinewidth\": 0, \"ticks\": \"\"}}, \"colorscale\": {\"diverging\": [[0, \"#8e0152\"], [0.1, \"#c51b7d\"], [0.2, \"#de77ae\"], [0.3, \"#f1b6da\"], [0.4, \"#fde0ef\"], [0.5, \"#f7f7f7\"], [0.6, \"#e6f5d0\"], [0.7, \"#b8e186\"], [0.8, \"#7fbc41\"], [0.9, \"#4d9221\"], [1, \"#276419\"]], \"sequential\": [[0.0, \"#0d0887\"], [0.1111111111111111, \"#46039f\"], [0.2222222222222222, \"#7201a8\"], [0.3333333333333333, \"#9c179e\"], [0.4444444444444444, \"#bd3786\"], [0.5555555555555556, \"#d8576b\"], [0.6666666666666666, \"#ed7953\"], [0.7777777777777778, \"#fb9f3a\"], [0.8888888888888888, \"#fdca26\"], [1.0, \"#f0f921\"]], \"sequentialminus\": [[0.0, \"#0d0887\"], [0.1111111111111111, \"#46039f\"], [0.2222222222222222, \"#7201a8\"], [0.3333333333333333, \"#9c179e\"], [0.4444444444444444, \"#bd3786\"], [0.5555555555555556, \"#d8576b\"], [0.6666666666666666, \"#ed7953\"], [0.7777777777777778, \"#fb9f3a\"], [0.8888888888888888, \"#fdca26\"], [1.0, \"#f0f921\"]]}, \"colorway\": [\"#636efa\", \"#EF553B\", \"#00cc96\", \"#ab63fa\", \"#FFA15A\", \"#19d3f3\", \"#FF6692\", \"#B6E880\", \"#FF97FF\", \"#FECB52\"], \"font\": {\"color\": \"#2a3f5f\"}, \"geo\": {\"bgcolor\": \"white\", \"lakecolor\": \"white\", \"landcolor\": \"#E5ECF6\", \"showlakes\": true, \"showland\": true, \"subunitcolor\": \"white\"}, \"hoverlabel\": {\"align\": \"left\"}, \"hovermode\": \"closest\", \"mapbox\": {\"style\": \"light\"}, \"paper_bgcolor\": \"white\", \"plot_bgcolor\": \"#E5ECF6\", \"polar\": {\"angularaxis\": {\"gridcolor\": \"white\", \"linecolor\": \"white\", \"ticks\": \"\"}, \"bgcolor\": \"#E5ECF6\", \"radialaxis\": {\"gridcolor\": \"white\", \"linecolor\": \"white\", \"ticks\": \"\"}}, \"scene\": {\"xaxis\": {\"backgroundcolor\": \"#E5ECF6\", \"gridcolor\": \"white\", \"gridwidth\": 2, \"linecolor\": \"white\", \"showbackground\": true, \"ticks\": \"\", \"zerolinecolor\": \"white\"}, \"yaxis\": {\"backgroundcolor\": \"#E5ECF6\", \"gridcolor\": \"white\", \"gridwidth\": 2, \"linecolor\": \"white\", \"showbackground\": true, \"ticks\": \"\", \"zerolinecolor\": \"white\"}, \"zaxis\": {\"backgroundcolor\": \"#E5ECF6\", \"gridcolor\": \"white\", \"gridwidth\": 2, \"linecolor\": \"white\", \"showbackground\": true, \"ticks\": \"\", \"zerolinecolor\": \"white\"}}, \"shapedefaults\": {\"line\": {\"color\": \"#2a3f5f\"}}, \"ternary\": {\"aaxis\": {\"gridcolor\": \"white\", \"linecolor\": \"white\", \"ticks\": \"\"}, \"baxis\": {\"gridcolor\": \"white\", \"linecolor\": \"white\", \"ticks\": \"\"}, \"bgcolor\": \"#E5ECF6\", \"caxis\": {\"gridcolor\": \"white\", \"linecolor\": \"white\", \"ticks\": \"\"}}, \"title\": {\"x\": 0.05}, \"xaxis\": {\"automargin\": true, \"gridcolor\": \"white\", \"linecolor\": \"white\", \"ticks\": \"\", \"title\": {\"standoff\": 15}, \"zerolinecolor\": \"white\", \"zerolinewidth\": 2}, \"yaxis\": {\"automargin\": true, \"gridcolor\": \"white\", \"linecolor\": \"white\", \"ticks\": \"\", \"title\": {\"standoff\": 15}, \"zerolinecolor\": \"white\", \"zerolinewidth\": 2}}}},\n",
       "                        {\"responsive\": true}\n",
       "                    ).then(function(){\n",
       "                            \n",
       "var gd = document.getElementById('18c446b6-4a49-4b8c-83fc-64907b2df596');\n",
       "var x = new MutationObserver(function (mutations, observer) {{\n",
       "        var display = window.getComputedStyle(gd).display;\n",
       "        if (!display || display === 'none') {{\n",
       "            console.log([gd, 'removed!']);\n",
       "            Plotly.purge(gd);\n",
       "            observer.disconnect();\n",
       "        }}\n",
       "}});\n",
       "\n",
       "// Listen for the removal of the full notebook cells\n",
       "var notebookContainer = gd.closest('#notebook-container');\n",
       "if (notebookContainer) {{\n",
       "    x.observe(notebookContainer, {childList: true});\n",
       "}}\n",
       "\n",
       "// Listen for the clearing of the current output cell\n",
       "var outputEl = gd.closest('.output');\n",
       "if (outputEl) {{\n",
       "    x.observe(outputEl, {childList: true});\n",
       "}}\n",
       "\n",
       "                        })\n",
       "                };\n",
       "                });\n",
       "            </script>\n",
       "        </div>"
      ]
     },
     "metadata": {},
     "output_type": "display_data"
    }
   ],
   "source": [
    "# Global density plot of Deaths\n",
    "fig = px.density_mapbox(latest, lat='lat', lon='long', z='3/8/20', radius=100,\n",
    "                        center=dict(lat=30, lon=110), zoom=1,\n",
    "                        mapbox_style=\"stamen-terrain\")\n",
    "fig.show()"
   ]
  },
  {
   "cell_type": "code",
   "execution_count": 165,
   "metadata": {},
   "outputs": [],
   "source": [
    "# uncomment to save figure\n",
    "# fig.write_html(\"mapbox_density_plot.html\")"
   ]
  },
  {
   "cell_type": "code",
   "execution_count": 167,
   "metadata": {},
   "outputs": [
    {
     "name": "stdout",
     "output_type": "stream",
     "text": [
      "Anhui : INCONSISTANT\n",
      "Beijing : INCONSISTANT\n",
      "Chongqing : INCONSISTANT\n",
      "Fujian : INCONSISTANT\n",
      "Gansu : INCONSISTANT\n",
      "Guangdong : INCONSISTANT\n",
      "Guangxi : INCONSISTANT\n",
      "Guizhou : INCONSISTANT\n",
      "Hainan : INCONSISTANT\n",
      "Hebei : INCONSISTANT\n",
      "Heilongjiang : INCONSISTANT\n",
      "Henan : INCONSISTANT\n",
      "Hubei : INCONSISTANT\n",
      "Hunan : INCONSISTANT\n",
      "Inner Mongolia : INCONSISTANT\n",
      "Jiangsu : INCONSISTANT\n",
      "Jiangxi : INCONSISTANT\n",
      "Jilin : INCONSISTANT\n",
      "Liaoning : INCONSISTANT\n",
      "Ningxia : INCONSISTANT\n",
      "Qinghai : INCONSISTANT\n",
      "Shaanxi : INCONSISTANT\n",
      "Shandong : INCONSISTANT\n",
      "Shanghai : INCONSISTANT\n",
      "Shanxi : INCONSISTANT\n",
      "Sichuan : INCONSISTANT\n",
      "Tianjin : INCONSISTANT\n",
      "Tibet : INCONSISTANT\n",
      "Xinjiang : INCONSISTANT\n",
      "Yunnan : INCONSISTANT\n",
      "Zhejiang : INCONSISTANT\n",
      "nan : INCONSISTANT\n",
      "nan : INCONSISTANT\n",
      "nan : INCONSISTANT\n",
      "Taiwan : INCONSISTANT\n",
      "King County, WA : INCONSISTANT\n",
      "Cook County, IL : INCONSISTANT\n",
      "Macau : INCONSISTANT\n",
      "Hong Kong : INCONSISTANT\n",
      "nan : INCONSISTANT\n",
      "nan : INCONSISTANT\n",
      "nan : INCONSISTANT\n",
      "nan : INCONSISTANT\n",
      "nan : INCONSISTANT\n",
      "Toronto, ON : INCONSISTANT\n",
      "British Columbia : INCONSISTANT\n",
      "Los Angeles, CA : INCONSISTANT\n",
      "New South Wales : INCONSISTANT\n",
      "Victoria : INCONSISTANT\n",
      "Queensland : INCONSISTANT\n",
      "nan : INCONSISTANT\n",
      "nan : INCONSISTANT\n",
      "nan : INCONSISTANT\n",
      "nan : INCONSISTANT\n",
      "nan : INCONSISTANT\n",
      "nan : INCONSISTANT\n",
      "nan : INCONSISTANT\n",
      "London, ON : INCONSISTANT\n",
      "nan : INCONSISTANT\n",
      "nan : INCONSISTANT\n",
      "nan : INCONSISTANT\n",
      "nan : INCONSISTANT\n",
      "nan : INCONSISTANT\n",
      "South Australia : INCONSISTANT\n",
      "San Benito, CA : INCONSISTANT\n",
      "nan : INCONSISTANT\n",
      "Madison, WI : INCONSISTANT\n",
      "Diamond Princess cruise ship : INCONSISTANT\n",
      "San Diego County, CA : INCONSISTANT\n",
      "San Antonio, TX : INCONSISTANT\n",
      "nan : INCONSISTANT\n",
      "nan : INCONSISTANT\n",
      "Omaha, NE (From Diamond Princess) : INCONSISTANT\n",
      "Travis, CA (From Diamond Princess) : INCONSISTANT\n",
      "From Diamond Princess : INCONSISTANT\n",
      "Lackland, TX (From Diamond Princess) : INCONSISTANT\n",
      "nan : INCONSISTANT\n",
      "Humboldt County, CA : INCONSISTANT\n",
      "Sacramento County, CA : INCONSISTANT\n",
      "nan : INCONSISTANT\n",
      "Unassigned Location (From Diamond Princess) : INCONSISTANT\n",
      "nan : INCONSISTANT\n",
      "nan : INCONSISTANT\n",
      "nan : INCONSISTANT\n",
      "nan : INCONSISTANT\n",
      "nan : INCONSISTANT\n",
      "nan : INCONSISTANT\n",
      "nan : INCONSISTANT\n",
      "nan : INCONSISTANT\n",
      "nan : INCONSISTANT\n",
      "nan : INCONSISTANT\n",
      "nan : INCONSISTANT\n",
      "nan : INCONSISTANT\n",
      "nan : INCONSISTANT\n",
      "nan : INCONSISTANT\n",
      "nan : INCONSISTANT\n",
      "nan : INCONSISTANT\n",
      "nan : INCONSISTANT\n",
      "nan : INCONSISTANT\n",
      "nan : INCONSISTANT\n",
      "nan : INCONSISTANT\n",
      "nan : INCONSISTANT\n",
      " Montreal, QC : INCONSISTANT\n",
      "nan : INCONSISTANT\n",
      "nan : INCONSISTANT\n",
      "nan : INCONSISTANT\n",
      "nan : INCONSISTANT\n",
      "nan : INCONSISTANT\n",
      "Western Australia : INCONSISTANT\n",
      "nan : INCONSISTANT\n",
      "nan : INCONSISTANT\n",
      "nan : INCONSISTANT\n",
      "nan : INCONSISTANT\n",
      "Snohomish County, WA : INCONSISTANT\n",
      "nan : INCONSISTANT\n",
      "nan : INCONSISTANT\n",
      "nan : INCONSISTANT\n",
      "nan : INCONSISTANT\n",
      "nan : INCONSISTANT\n",
      "nan : INCONSISTANT\n",
      "nan : INCONSISTANT\n",
      "nan : INCONSISTANT\n",
      "Tasmania : INCONSISTANT\n",
      "nan : INCONSISTANT\n",
      "nan : INCONSISTANT\n",
      "nan : INCONSISTANT\n",
      "nan : INCONSISTANT\n",
      "Grafton County, NH : INCONSISTANT\n",
      "Hillsborough, FL : INCONSISTANT\n",
      "Placer County, CA : INCONSISTANT\n",
      "San Mateo, CA : INCONSISTANT\n",
      "Sarasota, FL : INCONSISTANT\n",
      "Sonoma County, CA : INCONSISTANT\n",
      "Umatilla, OR : INCONSISTANT\n",
      "Fulton County, GA : INCONSISTANT\n",
      "Washington County, OR : INCONSISTANT\n",
      "nan : INCONSISTANT\n",
      "nan : INCONSISTANT\n",
      "nan : INCONSISTANT\n",
      " Norfolk County, MA : INCONSISTANT\n",
      "Maricopa County, AZ : INCONSISTANT\n",
      "Wake County, NC : INCONSISTANT\n",
      "Westchester County, NY : INCONSISTANT\n",
      "nan : INCONSISTANT\n",
      "nan : INCONSISTANT\n",
      "Orange County, CA : INCONSISTANT\n",
      "nan : INCONSISTANT\n",
      "Northern Territory : INCONSISTANT\n",
      "nan : INCONSISTANT\n",
      "nan : INCONSISTANT\n",
      "nan : INCONSISTANT\n",
      "nan : INCONSISTANT\n",
      "nan : INCONSISTANT\n",
      "Contra Costa County, CA : INCONSISTANT\n",
      "nan : INCONSISTANT\n",
      "nan : INCONSISTANT\n",
      "nan : INCONSISTANT\n",
      "Bergen County, NJ : INCONSISTANT\n",
      "Harris County, TX : INCONSISTANT\n",
      "San Francisco County, CA : INCONSISTANT\n",
      "nan : INCONSISTANT\n",
      "Clark County, NV : INCONSISTANT\n",
      "Fort Bend County, TX : INCONSISTANT\n",
      "Grant County, WA : INCONSISTANT\n",
      "Santa Rosa County, FL : INCONSISTANT\n",
      "Williamson County, TN : INCONSISTANT\n",
      "New York County, NY : INCONSISTANT\n",
      "Unassigned Location, WA : INCONSISTANT\n",
      "Montgomery County, MD : INCONSISTANT\n",
      "Suffolk County, MA : INCONSISTANT\n",
      "Denver County, CO : INCONSISTANT\n",
      "Summit County, CO : INCONSISTANT\n",
      "nan : INCONSISTANT\n",
      "nan : INCONSISTANT\n",
      "Calgary, Alberta : INCONSISTANT\n",
      "nan : INCONSISTANT\n",
      "nan : INCONSISTANT\n",
      "nan : INCONSISTANT\n",
      "nan : INCONSISTANT\n",
      "nan : INCONSISTANT\n",
      "nan : INCONSISTANT\n",
      "Chatham County, NC : INCONSISTANT\n",
      "Delaware County, PA : INCONSISTANT\n",
      "Douglas County, NE : INCONSISTANT\n",
      "Fayette County, KY : INCONSISTANT\n",
      "Marion County, IN : INCONSISTANT\n",
      "Middlesex County, MA : INCONSISTANT\n",
      "Nassau County, NY : INCONSISTANT\n",
      "Ramsey County, MN : INCONSISTANT\n",
      "Washoe County, NV : INCONSISTANT\n",
      "Wayne County, PA : INCONSISTANT\n",
      "Yolo County, CA : INCONSISTANT\n",
      "nan : INCONSISTANT\n",
      "Santa Clara County, CA : INCONSISTANT\n",
      "Grand Princess Cruise Ship : INCONSISTANT\n",
      "nan : INCONSISTANT\n",
      "nan : INCONSISTANT\n",
      "Douglas County, CO : INCONSISTANT\n",
      "Providence County, RI : INCONSISTANT\n",
      "nan : INCONSISTANT\n",
      "Alameda County, CA : INCONSISTANT\n",
      "Broward County, FL : INCONSISTANT\n",
      "Fairfield County, CT : INCONSISTANT\n",
      "Lee County, FL : INCONSISTANT\n",
      "Pinal County, AZ : INCONSISTANT\n",
      "Rockland County, NY : INCONSISTANT\n",
      "Saratoga County, NY : INCONSISTANT\n",
      "Edmonton, Alberta : INCONSISTANT\n",
      "Charleston County, SC : INCONSISTANT\n",
      "Clark County, WA : INCONSISTANT\n",
      "Cobb County, GA : INCONSISTANT\n",
      "Davis County, UT : INCONSISTANT\n",
      "El Paso County, CO : INCONSISTANT\n",
      "Honolulu County, HI : INCONSISTANT\n",
      "Jackson County, OR  : INCONSISTANT\n",
      "Jefferson County, WA : INCONSISTANT\n",
      "Kershaw County, SC : INCONSISTANT\n",
      "Klamath County, OR : INCONSISTANT\n",
      "Madera County, CA : INCONSISTANT\n",
      "Pierce County, WA : INCONSISTANT\n",
      "Plymouth County, MA : INCONSISTANT\n",
      "Tulsa County, OK : INCONSISTANT\n",
      "Montgomery County, TX : INCONSISTANT\n",
      "nan : INCONSISTANT\n",
      "nan : INCONSISTANT\n",
      "nan : INCONSISTANT\n",
      "Montgomery County, PA : INCONSISTANT\n",
      "nan : INCONSISTANT\n",
      "Fairfax County, VA : INCONSISTANT\n",
      "Rockingham County, NH : INCONSISTANT\n",
      "Washington, D.C. : INCONSISTANT\n",
      "nan : INCONSISTANT\n",
      "nan : INCONSISTANT\n",
      "Berkshire County, MA : INCONSISTANT\n",
      "Davidson County, TN : INCONSISTANT\n",
      "Douglas County, OR : INCONSISTANT\n",
      "Fresno County, CA : INCONSISTANT\n",
      "Harford County, MD : INCONSISTANT\n",
      "Hendricks County, IN : INCONSISTANT\n",
      "Hudson County, NJ : INCONSISTANT\n",
      "Johnson County, KS : INCONSISTANT\n",
      "Kittitas County, WA : INCONSISTANT\n",
      "Manatee County, FL : INCONSISTANT\n",
      "Marion County, OR : INCONSISTANT\n",
      "Okaloosa County, FL : INCONSISTANT\n",
      "Polk County, GA : INCONSISTANT\n",
      "Riverside County, CA : INCONSISTANT\n",
      "Shelby County, TN : INCONSISTANT\n",
      "Spokane County, WA : INCONSISTANT\n",
      "St. Louis County, MO : INCONSISTANT\n",
      "Suffolk County, NY : INCONSISTANT\n",
      "Ulster County, NY : INCONSISTANT\n",
      "Unassigned Location, VT : INCONSISTANT\n",
      "Unknown Location, MA : INCONSISTANT\n",
      "Volusia County, FL : INCONSISTANT\n",
      "Inconsistancies: 255\n"
     ]
    }
   ],
   "source": [
    "#compare to confirmed\n",
    "\n",
    "dfc = pd.read_csv('csse_covid_19_data/csse_covid_19_time_series/time_series_19-covid-Confirmed.csv')\n",
    "dfc['Country/Region']=dfc['Country/Region'].fillna(method=\"ffill\")\n",
    "# Check that deaths are only increasing\n",
    "not_monotonic=[]\n",
    "dfct=dfc.T[4:]\n",
    "for col in dfct.columns:\n",
    "    monotonic=dft[col].is_monotonic_increasing\n",
    "    if monotonic==False:\n",
    "        print(states[int(col)],  \": INCONSISTANT\")\n",
    "        not_monotonic.append([int(col)])\n",
    "print(\"Inconsistancies: {}\".format(len(not_monotonic)))\n",
    "\n"
   ]
  },
  {
   "cell_type": "code",
   "execution_count": 168,
   "metadata": {},
   "outputs": [
    {
     "data": {
      "application/vnd.plotly.v1+json": {
       "config": {
        "plotlyServerURL": "https://plot.ly"
       },
       "data": [
        {
         "coloraxis": "coloraxis",
         "hoverlabel": {
          "namelength": 0
         },
         "hovertemplate": "3/8/20=%{z}<br>Lat=%{lat}<br>Long=%{lon}",
         "lat": [
          31.8257,
          40.1824,
          30.0572,
          26.0789,
          36.0611,
          23.3417,
          23.8298,
          26.8154,
          19.1959,
          38.0428,
          47.861999999999995,
          33.882020000000004,
          30.9756,
          27.6104,
          44.0935,
          32.9711,
          27.614,
          43.6661,
          41.2956,
          37.2692,
          35.7452,
          35.1917,
          36.3427,
          31.201999999999998,
          37.5777,
          30.6171,
          39.3054,
          31.6927,
          41.1129,
          24.974,
          29.1832,
          15,
          36,
          36,
          23.7,
          47.6062,
          41.7377,
          22.1667,
          22.3,
          1.2833,
          16,
          47,
          28.1667,
          2.5,
          43.6532,
          49.2827,
          34.0522,
          -33.8688,
          -37.8136,
          -28.0167,
          11.55,
          7,
          51,
          64,
          24,
          13,
          21,
          42.9849,
          43,
          55,
          60,
          63,
          40,
          -34.9285,
          36.5761,
          50.8333,
          43.0731,
          35.4437,
          32.7157,
          29.4241,
          26,
          32,
          41.2545,
          38.2721,
          35.4437,
          29.3829,
          33.8547,
          40.745,
          38.4747,
          33,
          35.4437,
          21,
          33,
          26.0275,
          29.5,
          28.0339,
          45.1,
          46.8182,
          47.5162,
          31,
          30.3753,
          -14.235,
          42.3154,
          39.0742,
          41.6086,
          60.472,
          45.9432,
          56.2639,
          58.5953,
          52.1326,
          43.9424,
          53.7098,
          45.5017,
          64.9631,
          55.1694,
          23.6345,
          -40.9006,
          9.082,
          -31.9505,
          53.1424,
          49.8153,
          43.7333,
          25.3548,
          48.033,
          -1.8312,
          40.1431,
          49.8175,
          40.0691,
          18.7357,
          -0.7893,
          39.3999,
          42.5063,
          -41.4545,
          56.8796,
          31.7917,
          24,
          14.4974,
          43.9088,
          27.9904,
          39.0916,
          37.563,
          27.3364,
          38.578,
          45.775,
          33.8034,
          45.547,
          -38.4161,
          -35.6751,
          31.24,
          42.1767,
          33.2918,
          35.8032,
          41.122,
          48.3794,
          17.9,
          33.7879,
          47.1625,
          -12.4634,
          61.8926,
          36.1408,
          47.14,
          51.9194,
          34,
          37.8534,
          31.9522,
          43.9159,
          46.1512,
          40.9263,
          29.7752,
          37.7749,
          -30.5595,
          36.0796,
          29.5693,
          47.1981,
          30.769000000000002,
          35.9179,
          40.7128,
          47.7511,
          39.1547,
          42.3601,
          39.7392,
          39.5912,
          27.5142,
          3.8480000000000003,
          51.0447,
          4.5709,
          9.7489,
          -9.19,
          44.0165,
          48.669,
          8.6195,
          35.7211,
          39.9078,
          41.3148,
          38.0606,
          39.8362,
          42.4672,
          40.6546,
          44.9964,
          40.5608,
          41.6739,
          38.7646,
          41.9029,
          37.3541,
          37.6489,
          3.9339,
          35.9375,
          39.2587,
          41.8882,
          14.6415,
          37.6017,
          26.1901,
          41.256,
          26.663,
          32.8162,
          41.1489,
          43.0324,
          53.5461,
          32.7957,
          45.7466,
          33.8999,
          40.9629,
          38.9108,
          21.307,
          42.3345,
          47.7425,
          34.3672,
          42.6953,
          37.2519,
          47.0676,
          42.1615,
          36.1593,
          30.3213,
          53.1424,
          42.7339,
          3.2028,
          40.229,
          23.685,
          38.9085,
          42.9931,
          38.9072,
          47.4116,
          -23.4425,
          42.3118,
          36.1343,
          43.1261,
          36.9859,
          39.5839,
          39.8065,
          40.7453,
          38.8454,
          47.175,
          27.4799,
          44.8446,
          30.5773,
          34.0132,
          33.9533,
          35.1269,
          47.6587,
          38.6103,
          40.9849,
          41.8586,
          44.3378,
          42.4072,
          29.028000000000002
         ],
         "lon": [
          117.2264,
          116.4142,
          107.874,
          117.9874,
          103.8343,
          113.4244,
          108.7881,
          106.8748,
          109.7453,
          114.5149,
          127.7615,
          113.61399999999999,
          112.2707,
          111.7088,
          113.9448,
          119.455,
          115.7221,
          126.1923,
          122.6085,
          106.1655,
          95.9956,
          108.8701,
          118.1498,
          121.4491,
          112.2922,
          102.7103,
          117.323,
          88.0924,
          85.2401,
          101.48700000000001,
          120.0934,
          101,
          138,
          128,
          121,
          -122.3321,
          -87.6976,
          113.55,
          114.2,
          103.8333,
          108,
          2,
          84.25,
          112.5,
          -79.3832,
          -123.1207,
          -118.2437,
          151.2093,
          144.9631,
          153.4,
          104.9167,
          81,
          9,
          26,
          54,
          122,
          78,
          -81.2453,
          12,
          -3,
          90,
          16,
          -4,
          138.6007,
          -120.9876,
          4,
          -89.4012,
          139.638,
          -117.1611,
          -98.4936,
          30,
          53,
          -95.9758,
          -121.9399,
          139.638,
          -98.6134,
          35.8623,
          -123.8695,
          -121.3542,
          44,
          139.638,
          57,
          65,
          50.55,
          47.75,
          1.6596,
          15.2,
          8.2275,
          14.5501,
          35,
          69.3451,
          -51.9253,
          43.3569,
          21.8243,
          21.7453,
          8.4689,
          24.9668,
          9.5018,
          25.0136,
          5.2913,
          12.4578,
          27.9534,
          -73.5673,
          -19.0208,
          23.8813,
          -102.5528,
          174.886,
          8.6753,
          115.8605,
          -7.6921,
          6.1296,
          7.4167,
          51.1839,
          -121.8339,
          -78.1834,
          47.5769,
          15.472999999999999,
          45.0382,
          -70.1627,
          113.9213,
          -8.2245,
          1.5218,
          145.9707,
          24.6032,
          -7.0926,
          45,
          -14.4524,
          -71.82600000000001,
          -82.3018,
          -120.8039,
          -122.3255,
          -82.5307,
          -122.9888,
          -118.7606,
          -84.3963,
          -123.1386,
          -63.6167,
          -71.543,
          36.51,
          -71.1449,
          -112.4291,
          -78.5661,
          -73.7949,
          31.1656,
          -62.8333,
          -117.8531,
          19.5033,
          130.8456,
          -6.9118,
          -5.3536,
          9.55,
          19.1451,
          9,
          -121.9018,
          35.2332,
          17.6791,
          14.9955,
          -74.077,
          -95.3103,
          -122.4194,
          22.9375,
          -115.094,
          -95.8143,
          -119.3732,
          -86.9824,
          -86.8622,
          -74.006,
          -120.7401,
          -77.2405,
          -71.0589,
          -104.9903,
          -106.064,
          90.4336,
          11.5021,
          -114.0719,
          -74.2973,
          -83.7534,
          -75.0152,
          21.0059,
          19.699,
          0.8248,
          -79.1781,
          -75.3879,
          -96.1951,
          -84.4803,
          -86.1752,
          -71.2874,
          -73.5594,
          -93.0616,
          -119.6035,
          -75.2479,
          -121.9018,
          12.4534,
          -121.9552,
          -122.6655,
          -53.1258,
          14.3754,
          -104.9389,
          -71.4774,
          -61.0242,
          -121.7195,
          -80.3659,
          -73.3709,
          -81.9535,
          -111.2845,
          -73.983,
          -73.936,
          -113.4938,
          -79.7848,
          -122.5194,
          -84.5641,
          -112.0953,
          -104.4723,
          -157.8584,
          -122.7647,
          -123.304,
          -80.5883,
          -121.6142,
          -119.6963,
          -122.1295,
          -70.7928,
          -95.941,
          -95.4778,
          -7.6921,
          25.4858,
          73.2207,
          -75.3879,
          90.3563,
          -77.2405,
          -71.0498,
          -77.0369,
          28.3699,
          -58.4438,
          -73.1822,
          -86.822,
          -123.2492,
          -119.2321,
          -76.3637,
          -86.5401,
          -74.0535,
          -94.8521,
          -120.9319,
          -82.3452,
          -122.5927,
          -86.6611,
          -85.1479,
          -117.3961,
          -89.9253,
          -117.4225,
          -90.4125,
          -72.6151,
          -74.3118,
          -72.7563,
          -71.3824,
          -81.0755
         ],
         "name": "",
         "radius": 100,
         "subplot": "mapbox",
         "type": "densitymapbox",
         "z": [
          990,
          428,
          576,
          296,
          124,
          1352,
          252,
          146,
          168,
          318,
          481,
          1272,
          67707,
          1018,
          75,
          631,
          935,
          93,
          125,
          75,
          18,
          245,
          758,
          342,
          133,
          539,
          136,
          1,
          76,
          174,
          1215,
          50,
          502,
          7314,
          45,
          83,
          7,
          10,
          114,
          150,
          30,
          1126,
          1,
          99,
          28,
          27,
          14,
          38,
          11,
          15,
          2,
          1,
          1040,
          23,
          45,
          10,
          39,
          1,
          7375,
          273,
          17,
          203,
          673,
          7,
          2,
          200,
          1,
          696,
          3,
          1,
          49,
          6566,
          0,
          0,
          0,
          0,
          32,
          1,
          2,
          60,
          45,
          16,
          4,
          85,
          64,
          19,
          12,
          337,
          104,
          39,
          6,
          20,
          13,
          73,
          3,
          176,
          15,
          35,
          10,
          265,
          36,
          6,
          4,
          50,
          1,
          7,
          5,
          1,
          3,
          19,
          3,
          1,
          15,
          31,
          14,
          9,
          31,
          1,
          5,
          6,
          30,
          1,
          2,
          2,
          2,
          11,
          4,
          4,
          2,
          5,
          2,
          1,
          1,
          1,
          3,
          8,
          12,
          8,
          1,
          6,
          3,
          1,
          83,
          1,
          3,
          3,
          7,
          0,
          2,
          1,
          1,
          11,
          2,
          12,
          22,
          3,
          16,
          4,
          5,
          9,
          3,
          2,
          6,
          1,
          1,
          1,
          12,
          5,
          4,
          8,
          2,
          2,
          1,
          2,
          1,
          1,
          5,
          6,
          1,
          3,
          1,
          1,
          1,
          1,
          1,
          1,
          7,
          5,
          1,
          2,
          1,
          1,
          1,
          38,
          21,
          5,
          3,
          3,
          3,
          2,
          2,
          2,
          1,
          2,
          2,
          2,
          2,
          3,
          1,
          1,
          1,
          1,
          1,
          1,
          2,
          1,
          1,
          1,
          1,
          4,
          1,
          1,
          0,
          21,
          4,
          4,
          4,
          3,
          2,
          2,
          2,
          1,
          1,
          1,
          1,
          1,
          1,
          1,
          1,
          1,
          1,
          1,
          1,
          1,
          1,
          2,
          1,
          1,
          1,
          1,
          1,
          1,
          1,
          1,
          1
         ]
        }
       ],
       "layout": {
        "coloraxis": {
         "colorbar": {
          "title": {
           "text": "3/8/20"
          }
         },
         "colorscale": [
          [
           0,
           "#0d0887"
          ],
          [
           0.1111111111111111,
           "#46039f"
          ],
          [
           0.2222222222222222,
           "#7201a8"
          ],
          [
           0.3333333333333333,
           "#9c179e"
          ],
          [
           0.4444444444444444,
           "#bd3786"
          ],
          [
           0.5555555555555556,
           "#d8576b"
          ],
          [
           0.6666666666666666,
           "#ed7953"
          ],
          [
           0.7777777777777778,
           "#fb9f3a"
          ],
          [
           0.8888888888888888,
           "#fdca26"
          ],
          [
           1,
           "#f0f921"
          ]
         ]
        },
        "legend": {
         "tracegroupgap": 0
        },
        "mapbox": {
         "center": {
          "lat": 30,
          "lon": 110
         },
         "domain": {
          "x": [
           0,
           1
          ],
          "y": [
           0,
           1
          ]
         },
         "style": "stamen-terrain",
         "zoom": 1
        },
        "margin": {
         "t": 60
        },
        "template": {
         "data": {
          "bar": [
           {
            "error_x": {
             "color": "#2a3f5f"
            },
            "error_y": {
             "color": "#2a3f5f"
            },
            "marker": {
             "line": {
              "color": "#E5ECF6",
              "width": 0.5
             }
            },
            "type": "bar"
           }
          ],
          "barpolar": [
           {
            "marker": {
             "line": {
              "color": "#E5ECF6",
              "width": 0.5
             }
            },
            "type": "barpolar"
           }
          ],
          "carpet": [
           {
            "aaxis": {
             "endlinecolor": "#2a3f5f",
             "gridcolor": "white",
             "linecolor": "white",
             "minorgridcolor": "white",
             "startlinecolor": "#2a3f5f"
            },
            "baxis": {
             "endlinecolor": "#2a3f5f",
             "gridcolor": "white",
             "linecolor": "white",
             "minorgridcolor": "white",
             "startlinecolor": "#2a3f5f"
            },
            "type": "carpet"
           }
          ],
          "choropleth": [
           {
            "colorbar": {
             "outlinewidth": 0,
             "ticks": ""
            },
            "type": "choropleth"
           }
          ],
          "contour": [
           {
            "colorbar": {
             "outlinewidth": 0,
             "ticks": ""
            },
            "colorscale": [
             [
              0,
              "#0d0887"
             ],
             [
              0.1111111111111111,
              "#46039f"
             ],
             [
              0.2222222222222222,
              "#7201a8"
             ],
             [
              0.3333333333333333,
              "#9c179e"
             ],
             [
              0.4444444444444444,
              "#bd3786"
             ],
             [
              0.5555555555555556,
              "#d8576b"
             ],
             [
              0.6666666666666666,
              "#ed7953"
             ],
             [
              0.7777777777777778,
              "#fb9f3a"
             ],
             [
              0.8888888888888888,
              "#fdca26"
             ],
             [
              1,
              "#f0f921"
             ]
            ],
            "type": "contour"
           }
          ],
          "contourcarpet": [
           {
            "colorbar": {
             "outlinewidth": 0,
             "ticks": ""
            },
            "type": "contourcarpet"
           }
          ],
          "heatmap": [
           {
            "colorbar": {
             "outlinewidth": 0,
             "ticks": ""
            },
            "colorscale": [
             [
              0,
              "#0d0887"
             ],
             [
              0.1111111111111111,
              "#46039f"
             ],
             [
              0.2222222222222222,
              "#7201a8"
             ],
             [
              0.3333333333333333,
              "#9c179e"
             ],
             [
              0.4444444444444444,
              "#bd3786"
             ],
             [
              0.5555555555555556,
              "#d8576b"
             ],
             [
              0.6666666666666666,
              "#ed7953"
             ],
             [
              0.7777777777777778,
              "#fb9f3a"
             ],
             [
              0.8888888888888888,
              "#fdca26"
             ],
             [
              1,
              "#f0f921"
             ]
            ],
            "type": "heatmap"
           }
          ],
          "heatmapgl": [
           {
            "colorbar": {
             "outlinewidth": 0,
             "ticks": ""
            },
            "colorscale": [
             [
              0,
              "#0d0887"
             ],
             [
              0.1111111111111111,
              "#46039f"
             ],
             [
              0.2222222222222222,
              "#7201a8"
             ],
             [
              0.3333333333333333,
              "#9c179e"
             ],
             [
              0.4444444444444444,
              "#bd3786"
             ],
             [
              0.5555555555555556,
              "#d8576b"
             ],
             [
              0.6666666666666666,
              "#ed7953"
             ],
             [
              0.7777777777777778,
              "#fb9f3a"
             ],
             [
              0.8888888888888888,
              "#fdca26"
             ],
             [
              1,
              "#f0f921"
             ]
            ],
            "type": "heatmapgl"
           }
          ],
          "histogram": [
           {
            "marker": {
             "colorbar": {
              "outlinewidth": 0,
              "ticks": ""
             }
            },
            "type": "histogram"
           }
          ],
          "histogram2d": [
           {
            "colorbar": {
             "outlinewidth": 0,
             "ticks": ""
            },
            "colorscale": [
             [
              0,
              "#0d0887"
             ],
             [
              0.1111111111111111,
              "#46039f"
             ],
             [
              0.2222222222222222,
              "#7201a8"
             ],
             [
              0.3333333333333333,
              "#9c179e"
             ],
             [
              0.4444444444444444,
              "#bd3786"
             ],
             [
              0.5555555555555556,
              "#d8576b"
             ],
             [
              0.6666666666666666,
              "#ed7953"
             ],
             [
              0.7777777777777778,
              "#fb9f3a"
             ],
             [
              0.8888888888888888,
              "#fdca26"
             ],
             [
              1,
              "#f0f921"
             ]
            ],
            "type": "histogram2d"
           }
          ],
          "histogram2dcontour": [
           {
            "colorbar": {
             "outlinewidth": 0,
             "ticks": ""
            },
            "colorscale": [
             [
              0,
              "#0d0887"
             ],
             [
              0.1111111111111111,
              "#46039f"
             ],
             [
              0.2222222222222222,
              "#7201a8"
             ],
             [
              0.3333333333333333,
              "#9c179e"
             ],
             [
              0.4444444444444444,
              "#bd3786"
             ],
             [
              0.5555555555555556,
              "#d8576b"
             ],
             [
              0.6666666666666666,
              "#ed7953"
             ],
             [
              0.7777777777777778,
              "#fb9f3a"
             ],
             [
              0.8888888888888888,
              "#fdca26"
             ],
             [
              1,
              "#f0f921"
             ]
            ],
            "type": "histogram2dcontour"
           }
          ],
          "mesh3d": [
           {
            "colorbar": {
             "outlinewidth": 0,
             "ticks": ""
            },
            "type": "mesh3d"
           }
          ],
          "parcoords": [
           {
            "line": {
             "colorbar": {
              "outlinewidth": 0,
              "ticks": ""
             }
            },
            "type": "parcoords"
           }
          ],
          "pie": [
           {
            "automargin": true,
            "type": "pie"
           }
          ],
          "scatter": [
           {
            "marker": {
             "colorbar": {
              "outlinewidth": 0,
              "ticks": ""
             }
            },
            "type": "scatter"
           }
          ],
          "scatter3d": [
           {
            "line": {
             "colorbar": {
              "outlinewidth": 0,
              "ticks": ""
             }
            },
            "marker": {
             "colorbar": {
              "outlinewidth": 0,
              "ticks": ""
             }
            },
            "type": "scatter3d"
           }
          ],
          "scattercarpet": [
           {
            "marker": {
             "colorbar": {
              "outlinewidth": 0,
              "ticks": ""
             }
            },
            "type": "scattercarpet"
           }
          ],
          "scattergeo": [
           {
            "marker": {
             "colorbar": {
              "outlinewidth": 0,
              "ticks": ""
             }
            },
            "type": "scattergeo"
           }
          ],
          "scattergl": [
           {
            "marker": {
             "colorbar": {
              "outlinewidth": 0,
              "ticks": ""
             }
            },
            "type": "scattergl"
           }
          ],
          "scattermapbox": [
           {
            "marker": {
             "colorbar": {
              "outlinewidth": 0,
              "ticks": ""
             }
            },
            "type": "scattermapbox"
           }
          ],
          "scatterpolar": [
           {
            "marker": {
             "colorbar": {
              "outlinewidth": 0,
              "ticks": ""
             }
            },
            "type": "scatterpolar"
           }
          ],
          "scatterpolargl": [
           {
            "marker": {
             "colorbar": {
              "outlinewidth": 0,
              "ticks": ""
             }
            },
            "type": "scatterpolargl"
           }
          ],
          "scatterternary": [
           {
            "marker": {
             "colorbar": {
              "outlinewidth": 0,
              "ticks": ""
             }
            },
            "type": "scatterternary"
           }
          ],
          "surface": [
           {
            "colorbar": {
             "outlinewidth": 0,
             "ticks": ""
            },
            "colorscale": [
             [
              0,
              "#0d0887"
             ],
             [
              0.1111111111111111,
              "#46039f"
             ],
             [
              0.2222222222222222,
              "#7201a8"
             ],
             [
              0.3333333333333333,
              "#9c179e"
             ],
             [
              0.4444444444444444,
              "#bd3786"
             ],
             [
              0.5555555555555556,
              "#d8576b"
             ],
             [
              0.6666666666666666,
              "#ed7953"
             ],
             [
              0.7777777777777778,
              "#fb9f3a"
             ],
             [
              0.8888888888888888,
              "#fdca26"
             ],
             [
              1,
              "#f0f921"
             ]
            ],
            "type": "surface"
           }
          ],
          "table": [
           {
            "cells": {
             "fill": {
              "color": "#EBF0F8"
             },
             "line": {
              "color": "white"
             }
            },
            "header": {
             "fill": {
              "color": "#C8D4E3"
             },
             "line": {
              "color": "white"
             }
            },
            "type": "table"
           }
          ]
         },
         "layout": {
          "annotationdefaults": {
           "arrowcolor": "#2a3f5f",
           "arrowhead": 0,
           "arrowwidth": 1
          },
          "coloraxis": {
           "colorbar": {
            "outlinewidth": 0,
            "ticks": ""
           }
          },
          "colorscale": {
           "diverging": [
            [
             0,
             "#8e0152"
            ],
            [
             0.1,
             "#c51b7d"
            ],
            [
             0.2,
             "#de77ae"
            ],
            [
             0.3,
             "#f1b6da"
            ],
            [
             0.4,
             "#fde0ef"
            ],
            [
             0.5,
             "#f7f7f7"
            ],
            [
             0.6,
             "#e6f5d0"
            ],
            [
             0.7,
             "#b8e186"
            ],
            [
             0.8,
             "#7fbc41"
            ],
            [
             0.9,
             "#4d9221"
            ],
            [
             1,
             "#276419"
            ]
           ],
           "sequential": [
            [
             0,
             "#0d0887"
            ],
            [
             0.1111111111111111,
             "#46039f"
            ],
            [
             0.2222222222222222,
             "#7201a8"
            ],
            [
             0.3333333333333333,
             "#9c179e"
            ],
            [
             0.4444444444444444,
             "#bd3786"
            ],
            [
             0.5555555555555556,
             "#d8576b"
            ],
            [
             0.6666666666666666,
             "#ed7953"
            ],
            [
             0.7777777777777778,
             "#fb9f3a"
            ],
            [
             0.8888888888888888,
             "#fdca26"
            ],
            [
             1,
             "#f0f921"
            ]
           ],
           "sequentialminus": [
            [
             0,
             "#0d0887"
            ],
            [
             0.1111111111111111,
             "#46039f"
            ],
            [
             0.2222222222222222,
             "#7201a8"
            ],
            [
             0.3333333333333333,
             "#9c179e"
            ],
            [
             0.4444444444444444,
             "#bd3786"
            ],
            [
             0.5555555555555556,
             "#d8576b"
            ],
            [
             0.6666666666666666,
             "#ed7953"
            ],
            [
             0.7777777777777778,
             "#fb9f3a"
            ],
            [
             0.8888888888888888,
             "#fdca26"
            ],
            [
             1,
             "#f0f921"
            ]
           ]
          },
          "colorway": [
           "#636efa",
           "#EF553B",
           "#00cc96",
           "#ab63fa",
           "#FFA15A",
           "#19d3f3",
           "#FF6692",
           "#B6E880",
           "#FF97FF",
           "#FECB52"
          ],
          "font": {
           "color": "#2a3f5f"
          },
          "geo": {
           "bgcolor": "white",
           "lakecolor": "white",
           "landcolor": "#E5ECF6",
           "showlakes": true,
           "showland": true,
           "subunitcolor": "white"
          },
          "hoverlabel": {
           "align": "left"
          },
          "hovermode": "closest",
          "mapbox": {
           "style": "light"
          },
          "paper_bgcolor": "white",
          "plot_bgcolor": "#E5ECF6",
          "polar": {
           "angularaxis": {
            "gridcolor": "white",
            "linecolor": "white",
            "ticks": ""
           },
           "bgcolor": "#E5ECF6",
           "radialaxis": {
            "gridcolor": "white",
            "linecolor": "white",
            "ticks": ""
           }
          },
          "scene": {
           "xaxis": {
            "backgroundcolor": "#E5ECF6",
            "gridcolor": "white",
            "gridwidth": 2,
            "linecolor": "white",
            "showbackground": true,
            "ticks": "",
            "zerolinecolor": "white"
           },
           "yaxis": {
            "backgroundcolor": "#E5ECF6",
            "gridcolor": "white",
            "gridwidth": 2,
            "linecolor": "white",
            "showbackground": true,
            "ticks": "",
            "zerolinecolor": "white"
           },
           "zaxis": {
            "backgroundcolor": "#E5ECF6",
            "gridcolor": "white",
            "gridwidth": 2,
            "linecolor": "white",
            "showbackground": true,
            "ticks": "",
            "zerolinecolor": "white"
           }
          },
          "shapedefaults": {
           "line": {
            "color": "#2a3f5f"
           }
          },
          "ternary": {
           "aaxis": {
            "gridcolor": "white",
            "linecolor": "white",
            "ticks": ""
           },
           "baxis": {
            "gridcolor": "white",
            "linecolor": "white",
            "ticks": ""
           },
           "bgcolor": "#E5ECF6",
           "caxis": {
            "gridcolor": "white",
            "linecolor": "white",
            "ticks": ""
           }
          },
          "title": {
           "x": 0.05
          },
          "xaxis": {
           "automargin": true,
           "gridcolor": "white",
           "linecolor": "white",
           "ticks": "",
           "title": {
            "standoff": 15
           },
           "zerolinecolor": "white",
           "zerolinewidth": 2
          },
          "yaxis": {
           "automargin": true,
           "gridcolor": "white",
           "linecolor": "white",
           "ticks": "",
           "title": {
            "standoff": 15
           },
           "zerolinecolor": "white",
           "zerolinewidth": 2
          }
         }
        }
       }
      },
      "text/html": [
       "<div>\n",
       "        \n",
       "        \n",
       "            <div id=\"c2c1fe5a-26a8-4c53-a684-0edf1a0a6aa1\" class=\"plotly-graph-div\" style=\"height:525px; width:100%;\"></div>\n",
       "            <script type=\"text/javascript\">\n",
       "                require([\"plotly\"], function(Plotly) {\n",
       "                    window.PLOTLYENV=window.PLOTLYENV || {};\n",
       "                    \n",
       "                if (document.getElementById(\"c2c1fe5a-26a8-4c53-a684-0edf1a0a6aa1\")) {\n",
       "                    Plotly.newPlot(\n",
       "                        'c2c1fe5a-26a8-4c53-a684-0edf1a0a6aa1',\n",
       "                        [{\"coloraxis\": \"coloraxis\", \"hoverlabel\": {\"namelength\": 0}, \"hovertemplate\": \"3/8/20=%{z}<br>Lat=%{lat}<br>Long=%{lon}\", \"lat\": [31.8257, 40.1824, 30.0572, 26.0789, 36.0611, 23.3417, 23.8298, 26.8154, 19.1959, 38.0428, 47.861999999999995, 33.882020000000004, 30.9756, 27.6104, 44.0935, 32.9711, 27.614, 43.6661, 41.2956, 37.2692, 35.7452, 35.1917, 36.3427, 31.201999999999998, 37.5777, 30.6171, 39.3054, 31.6927, 41.1129, 24.974, 29.1832, 15.0, 36.0, 36.0, 23.7, 47.6062, 41.7377, 22.1667, 22.3, 1.2833, 16.0, 47.0, 28.1667, 2.5, 43.6532, 49.2827, 34.0522, -33.8688, -37.8136, -28.0167, 11.55, 7.0, 51.0, 64.0, 24.0, 13.0, 21.0, 42.9849, 43.0, 55.0, 60.0, 63.0, 40.0, -34.9285, 36.5761, 50.8333, 43.0731, 35.4437, 32.7157, 29.4241, 26.0, 32.0, 41.2545, 38.2721, 35.4437, 29.3829, 33.8547, 40.745, 38.4747, 33.0, 35.4437, 21.0, 33.0, 26.0275, 29.5, 28.0339, 45.1, 46.8182, 47.5162, 31.0, 30.3753, -14.235, 42.3154, 39.0742, 41.6086, 60.472, 45.9432, 56.2639, 58.5953, 52.1326, 43.9424, 53.7098, 45.5017, 64.9631, 55.1694, 23.6345, -40.9006, 9.082, -31.9505, 53.1424, 49.8153, 43.7333, 25.3548, 48.033, -1.8312, 40.1431, 49.8175, 40.0691, 18.7357, -0.7893, 39.3999, 42.5063, -41.4545, 56.8796, 31.7917, 24.0, 14.4974, 43.9088, 27.9904, 39.0916, 37.563, 27.3364, 38.578, 45.775, 33.8034, 45.547, -38.4161, -35.6751, 31.24, 42.1767, 33.2918, 35.8032, 41.122, 48.3794, 17.9, 33.7879, 47.1625, -12.4634, 61.8926, 36.1408, 47.14, 51.9194, 34.0, 37.8534, 31.9522, 43.9159, 46.1512, 40.9263, 29.7752, 37.7749, -30.5595, 36.0796, 29.5693, 47.1981, 30.769000000000002, 35.9179, 40.7128, 47.7511, 39.1547, 42.3601, 39.7392, 39.5912, 27.5142, 3.8480000000000003, 51.0447, 4.5709, 9.7489, -9.19, 44.0165, 48.669, 8.6195, 35.7211, 39.9078, 41.3148, 38.0606, 39.8362, 42.4672, 40.6546, 44.9964, 40.5608, 41.6739, 38.7646, 41.9029, 37.3541, 37.6489, 3.9339, 35.9375, 39.2587, 41.8882, 14.6415, 37.6017, 26.1901, 41.256, 26.663, 32.8162, 41.1489, 43.0324, 53.5461, 32.7957, 45.7466, 33.8999, 40.9629, 38.9108, 21.307, 42.3345, 47.7425, 34.3672, 42.6953, 37.2519, 47.0676, 42.1615, 36.1593, 30.3213, 53.1424, 42.7339, 3.2028, 40.229, 23.685, 38.9085, 42.9931, 38.9072, 47.4116, -23.4425, 42.3118, 36.1343, 43.1261, 36.9859, 39.5839, 39.8065, 40.7453, 38.8454, 47.175, 27.4799, 44.8446, 30.5773, 34.0132, 33.9533, 35.1269, 47.6587, 38.6103, 40.9849, 41.8586, 44.3378, 42.4072, 29.028000000000002], \"lon\": [117.2264, 116.4142, 107.874, 117.9874, 103.8343, 113.4244, 108.7881, 106.8748, 109.7453, 114.5149, 127.7615, 113.61399999999999, 112.2707, 111.7088, 113.9448, 119.455, 115.7221, 126.1923, 122.6085, 106.1655, 95.9956, 108.8701, 118.1498, 121.4491, 112.2922, 102.7103, 117.323, 88.0924, 85.2401, 101.48700000000001, 120.0934, 101.0, 138.0, 128.0, 121.0, -122.3321, -87.6976, 113.55, 114.2, 103.8333, 108.0, 2.0, 84.25, 112.5, -79.3832, -123.1207, -118.2437, 151.2093, 144.9631, 153.4, 104.9167, 81.0, 9.0, 26.0, 54.0, 122.0, 78.0, -81.2453, 12.0, -3.0, 90.0, 16.0, -4.0, 138.6007, -120.9876, 4.0, -89.4012, 139.638, -117.1611, -98.4936, 30.0, 53.0, -95.9758, -121.9399, 139.638, -98.6134, 35.8623, -123.8695, -121.3542, 44.0, 139.638, 57.0, 65.0, 50.55, 47.75, 1.6596, 15.2, 8.2275, 14.5501, 35.0, 69.3451, -51.9253, 43.3569, 21.8243, 21.7453, 8.4689, 24.9668, 9.5018, 25.0136, 5.2913, 12.4578, 27.9534, -73.5673, -19.0208, 23.8813, -102.5528, 174.886, 8.6753, 115.8605, -7.6921, 6.1296, 7.4167, 51.1839, -121.8339, -78.1834, 47.5769, 15.472999999999999, 45.0382, -70.1627, 113.9213, -8.2245, 1.5218, 145.9707, 24.6032, -7.0926, 45.0, -14.4524, -71.82600000000001, -82.3018, -120.8039, -122.3255, -82.5307, -122.9888, -118.7606, -84.3963, -123.1386, -63.6167, -71.543, 36.51, -71.1449, -112.4291, -78.5661, -73.7949, 31.1656, -62.8333, -117.8531, 19.5033, 130.8456, -6.9118, -5.3536, 9.55, 19.1451, 9.0, -121.9018, 35.2332, 17.6791, 14.9955, -74.077, -95.3103, -122.4194, 22.9375, -115.094, -95.8143, -119.3732, -86.9824, -86.8622, -74.006, -120.7401, -77.2405, -71.0589, -104.9903, -106.064, 90.4336, 11.5021, -114.0719, -74.2973, -83.7534, -75.0152, 21.0059, 19.699, 0.8248, -79.1781, -75.3879, -96.1951, -84.4803, -86.1752, -71.2874, -73.5594, -93.0616, -119.6035, -75.2479, -121.9018, 12.4534, -121.9552, -122.6655, -53.1258, 14.3754, -104.9389, -71.4774, -61.0242, -121.7195, -80.3659, -73.3709, -81.9535, -111.2845, -73.983, -73.936, -113.4938, -79.7848, -122.5194, -84.5641, -112.0953, -104.4723, -157.8584, -122.7647, -123.304, -80.5883, -121.6142, -119.6963, -122.1295, -70.7928, -95.941, -95.4778, -7.6921, 25.4858, 73.2207, -75.3879, 90.3563, -77.2405, -71.0498, -77.0369, 28.3699, -58.4438, -73.1822, -86.822, -123.2492, -119.2321, -76.3637, -86.5401, -74.0535, -94.8521, -120.9319, -82.3452, -122.5927, -86.6611, -85.1479, -117.3961, -89.9253, -117.4225, -90.4125, -72.6151, -74.3118, -72.7563, -71.3824, -81.0755], \"name\": \"\", \"radius\": 100, \"subplot\": \"mapbox\", \"type\": \"densitymapbox\", \"z\": [990, 428, 576, 296, 124, 1352, 252, 146, 168, 318, 481, 1272, 67707, 1018, 75, 631, 935, 93, 125, 75, 18, 245, 758, 342, 133, 539, 136, 1, 76, 174, 1215, 50, 502, 7314, 45, 83, 7, 10, 114, 150, 30, 1126, 1, 99, 28, 27, 14, 38, 11, 15, 2, 1, 1040, 23, 45, 10, 39, 1, 7375, 273, 17, 203, 673, 7, 2, 200, 1, 696, 3, 1, 49, 6566, 0, 0, 0, 0, 32, 1, 2, 60, 45, 16, 4, 85, 64, 19, 12, 337, 104, 39, 6, 20, 13, 73, 3, 176, 15, 35, 10, 265, 36, 6, 4, 50, 1, 7, 5, 1, 3, 19, 3, 1, 15, 31, 14, 9, 31, 1, 5, 6, 30, 1, 2, 2, 2, 11, 4, 4, 2, 5, 2, 1, 1, 1, 3, 8, 12, 8, 1, 6, 3, 1, 83, 1, 3, 3, 7, 0, 2, 1, 1, 11, 2, 12, 22, 3, 16, 4, 5, 9, 3, 2, 6, 1, 1, 1, 12, 5, 4, 8, 2, 2, 1, 2, 1, 1, 5, 6, 1, 3, 1, 1, 1, 1, 1, 1, 7, 5, 1, 2, 1, 1, 1, 38, 21, 5, 3, 3, 3, 2, 2, 2, 1, 2, 2, 2, 2, 3, 1, 1, 1, 1, 1, 1, 2, 1, 1, 1, 1, 4, 1, 1, 0, 21, 4, 4, 4, 3, 2, 2, 2, 1, 1, 1, 1, 1, 1, 1, 1, 1, 1, 1, 1, 1, 1, 2, 1, 1, 1, 1, 1, 1, 1, 1, 1]}],\n",
       "                        {\"coloraxis\": {\"colorbar\": {\"title\": {\"text\": \"3/8/20\"}}, \"colorscale\": [[0.0, \"#0d0887\"], [0.1111111111111111, \"#46039f\"], [0.2222222222222222, \"#7201a8\"], [0.3333333333333333, \"#9c179e\"], [0.4444444444444444, \"#bd3786\"], [0.5555555555555556, \"#d8576b\"], [0.6666666666666666, \"#ed7953\"], [0.7777777777777778, \"#fb9f3a\"], [0.8888888888888888, \"#fdca26\"], [1.0, \"#f0f921\"]]}, \"legend\": {\"tracegroupgap\": 0}, \"mapbox\": {\"center\": {\"lat\": 30, \"lon\": 110}, \"domain\": {\"x\": [0.0, 1.0], \"y\": [0.0, 1.0]}, \"style\": \"stamen-terrain\", \"zoom\": 1}, \"margin\": {\"t\": 60}, \"template\": {\"data\": {\"bar\": [{\"error_x\": {\"color\": \"#2a3f5f\"}, \"error_y\": {\"color\": \"#2a3f5f\"}, \"marker\": {\"line\": {\"color\": \"#E5ECF6\", \"width\": 0.5}}, \"type\": \"bar\"}], \"barpolar\": [{\"marker\": {\"line\": {\"color\": \"#E5ECF6\", \"width\": 0.5}}, \"type\": \"barpolar\"}], \"carpet\": [{\"aaxis\": {\"endlinecolor\": \"#2a3f5f\", \"gridcolor\": \"white\", \"linecolor\": \"white\", \"minorgridcolor\": \"white\", \"startlinecolor\": \"#2a3f5f\"}, \"baxis\": {\"endlinecolor\": \"#2a3f5f\", \"gridcolor\": \"white\", \"linecolor\": \"white\", \"minorgridcolor\": \"white\", \"startlinecolor\": \"#2a3f5f\"}, \"type\": \"carpet\"}], \"choropleth\": [{\"colorbar\": {\"outlinewidth\": 0, \"ticks\": \"\"}, \"type\": \"choropleth\"}], \"contour\": [{\"colorbar\": {\"outlinewidth\": 0, \"ticks\": \"\"}, \"colorscale\": [[0.0, \"#0d0887\"], [0.1111111111111111, \"#46039f\"], [0.2222222222222222, \"#7201a8\"], [0.3333333333333333, \"#9c179e\"], [0.4444444444444444, \"#bd3786\"], [0.5555555555555556, \"#d8576b\"], [0.6666666666666666, \"#ed7953\"], [0.7777777777777778, \"#fb9f3a\"], [0.8888888888888888, \"#fdca26\"], [1.0, \"#f0f921\"]], \"type\": \"contour\"}], \"contourcarpet\": [{\"colorbar\": {\"outlinewidth\": 0, \"ticks\": \"\"}, \"type\": \"contourcarpet\"}], \"heatmap\": [{\"colorbar\": {\"outlinewidth\": 0, \"ticks\": \"\"}, \"colorscale\": [[0.0, \"#0d0887\"], [0.1111111111111111, \"#46039f\"], [0.2222222222222222, \"#7201a8\"], [0.3333333333333333, \"#9c179e\"], [0.4444444444444444, \"#bd3786\"], [0.5555555555555556, \"#d8576b\"], [0.6666666666666666, \"#ed7953\"], [0.7777777777777778, \"#fb9f3a\"], [0.8888888888888888, \"#fdca26\"], [1.0, \"#f0f921\"]], \"type\": \"heatmap\"}], \"heatmapgl\": [{\"colorbar\": {\"outlinewidth\": 0, \"ticks\": \"\"}, \"colorscale\": [[0.0, \"#0d0887\"], [0.1111111111111111, \"#46039f\"], [0.2222222222222222, \"#7201a8\"], [0.3333333333333333, \"#9c179e\"], [0.4444444444444444, \"#bd3786\"], [0.5555555555555556, \"#d8576b\"], [0.6666666666666666, \"#ed7953\"], [0.7777777777777778, \"#fb9f3a\"], [0.8888888888888888, \"#fdca26\"], [1.0, \"#f0f921\"]], \"type\": \"heatmapgl\"}], \"histogram\": [{\"marker\": {\"colorbar\": {\"outlinewidth\": 0, \"ticks\": \"\"}}, \"type\": \"histogram\"}], \"histogram2d\": [{\"colorbar\": {\"outlinewidth\": 0, \"ticks\": \"\"}, \"colorscale\": [[0.0, \"#0d0887\"], [0.1111111111111111, \"#46039f\"], [0.2222222222222222, \"#7201a8\"], [0.3333333333333333, \"#9c179e\"], [0.4444444444444444, \"#bd3786\"], [0.5555555555555556, \"#d8576b\"], [0.6666666666666666, \"#ed7953\"], [0.7777777777777778, \"#fb9f3a\"], [0.8888888888888888, \"#fdca26\"], [1.0, \"#f0f921\"]], \"type\": \"histogram2d\"}], \"histogram2dcontour\": [{\"colorbar\": {\"outlinewidth\": 0, \"ticks\": \"\"}, \"colorscale\": [[0.0, \"#0d0887\"], [0.1111111111111111, \"#46039f\"], [0.2222222222222222, \"#7201a8\"], [0.3333333333333333, \"#9c179e\"], [0.4444444444444444, \"#bd3786\"], [0.5555555555555556, \"#d8576b\"], [0.6666666666666666, \"#ed7953\"], [0.7777777777777778, \"#fb9f3a\"], [0.8888888888888888, \"#fdca26\"], [1.0, \"#f0f921\"]], \"type\": \"histogram2dcontour\"}], \"mesh3d\": [{\"colorbar\": {\"outlinewidth\": 0, \"ticks\": \"\"}, \"type\": \"mesh3d\"}], \"parcoords\": [{\"line\": {\"colorbar\": {\"outlinewidth\": 0, \"ticks\": \"\"}}, \"type\": \"parcoords\"}], \"pie\": [{\"automargin\": true, \"type\": \"pie\"}], \"scatter\": [{\"marker\": {\"colorbar\": {\"outlinewidth\": 0, \"ticks\": \"\"}}, \"type\": \"scatter\"}], \"scatter3d\": [{\"line\": {\"colorbar\": {\"outlinewidth\": 0, \"ticks\": \"\"}}, \"marker\": {\"colorbar\": {\"outlinewidth\": 0, \"ticks\": \"\"}}, \"type\": \"scatter3d\"}], \"scattercarpet\": [{\"marker\": {\"colorbar\": {\"outlinewidth\": 0, \"ticks\": \"\"}}, \"type\": \"scattercarpet\"}], \"scattergeo\": [{\"marker\": {\"colorbar\": {\"outlinewidth\": 0, \"ticks\": \"\"}}, \"type\": \"scattergeo\"}], \"scattergl\": [{\"marker\": {\"colorbar\": {\"outlinewidth\": 0, \"ticks\": \"\"}}, \"type\": \"scattergl\"}], \"scattermapbox\": [{\"marker\": {\"colorbar\": {\"outlinewidth\": 0, \"ticks\": \"\"}}, \"type\": \"scattermapbox\"}], \"scatterpolar\": [{\"marker\": {\"colorbar\": {\"outlinewidth\": 0, \"ticks\": \"\"}}, \"type\": \"scatterpolar\"}], \"scatterpolargl\": [{\"marker\": {\"colorbar\": {\"outlinewidth\": 0, \"ticks\": \"\"}}, \"type\": \"scatterpolargl\"}], \"scatterternary\": [{\"marker\": {\"colorbar\": {\"outlinewidth\": 0, \"ticks\": \"\"}}, \"type\": \"scatterternary\"}], \"surface\": [{\"colorbar\": {\"outlinewidth\": 0, \"ticks\": \"\"}, \"colorscale\": [[0.0, \"#0d0887\"], [0.1111111111111111, \"#46039f\"], [0.2222222222222222, \"#7201a8\"], [0.3333333333333333, \"#9c179e\"], [0.4444444444444444, \"#bd3786\"], [0.5555555555555556, \"#d8576b\"], [0.6666666666666666, \"#ed7953\"], [0.7777777777777778, \"#fb9f3a\"], [0.8888888888888888, \"#fdca26\"], [1.0, \"#f0f921\"]], \"type\": \"surface\"}], \"table\": [{\"cells\": {\"fill\": {\"color\": \"#EBF0F8\"}, \"line\": {\"color\": \"white\"}}, \"header\": {\"fill\": {\"color\": \"#C8D4E3\"}, \"line\": {\"color\": \"white\"}}, \"type\": \"table\"}]}, \"layout\": {\"annotationdefaults\": {\"arrowcolor\": \"#2a3f5f\", \"arrowhead\": 0, \"arrowwidth\": 1}, \"coloraxis\": {\"colorbar\": {\"outlinewidth\": 0, \"ticks\": \"\"}}, \"colorscale\": {\"diverging\": [[0, \"#8e0152\"], [0.1, \"#c51b7d\"], [0.2, \"#de77ae\"], [0.3, \"#f1b6da\"], [0.4, \"#fde0ef\"], [0.5, \"#f7f7f7\"], [0.6, \"#e6f5d0\"], [0.7, \"#b8e186\"], [0.8, \"#7fbc41\"], [0.9, \"#4d9221\"], [1, \"#276419\"]], \"sequential\": [[0.0, \"#0d0887\"], [0.1111111111111111, \"#46039f\"], [0.2222222222222222, \"#7201a8\"], [0.3333333333333333, \"#9c179e\"], [0.4444444444444444, \"#bd3786\"], [0.5555555555555556, \"#d8576b\"], [0.6666666666666666, \"#ed7953\"], [0.7777777777777778, \"#fb9f3a\"], [0.8888888888888888, \"#fdca26\"], [1.0, \"#f0f921\"]], \"sequentialminus\": [[0.0, \"#0d0887\"], [0.1111111111111111, \"#46039f\"], [0.2222222222222222, \"#7201a8\"], [0.3333333333333333, \"#9c179e\"], [0.4444444444444444, \"#bd3786\"], [0.5555555555555556, \"#d8576b\"], [0.6666666666666666, \"#ed7953\"], [0.7777777777777778, \"#fb9f3a\"], [0.8888888888888888, \"#fdca26\"], [1.0, \"#f0f921\"]]}, \"colorway\": [\"#636efa\", \"#EF553B\", \"#00cc96\", \"#ab63fa\", \"#FFA15A\", \"#19d3f3\", \"#FF6692\", \"#B6E880\", \"#FF97FF\", \"#FECB52\"], \"font\": {\"color\": \"#2a3f5f\"}, \"geo\": {\"bgcolor\": \"white\", \"lakecolor\": \"white\", \"landcolor\": \"#E5ECF6\", \"showlakes\": true, \"showland\": true, \"subunitcolor\": \"white\"}, \"hoverlabel\": {\"align\": \"left\"}, \"hovermode\": \"closest\", \"mapbox\": {\"style\": \"light\"}, \"paper_bgcolor\": \"white\", \"plot_bgcolor\": \"#E5ECF6\", \"polar\": {\"angularaxis\": {\"gridcolor\": \"white\", \"linecolor\": \"white\", \"ticks\": \"\"}, \"bgcolor\": \"#E5ECF6\", \"radialaxis\": {\"gridcolor\": \"white\", \"linecolor\": \"white\", \"ticks\": \"\"}}, \"scene\": {\"xaxis\": {\"backgroundcolor\": \"#E5ECF6\", \"gridcolor\": \"white\", \"gridwidth\": 2, \"linecolor\": \"white\", \"showbackground\": true, \"ticks\": \"\", \"zerolinecolor\": \"white\"}, \"yaxis\": {\"backgroundcolor\": \"#E5ECF6\", \"gridcolor\": \"white\", \"gridwidth\": 2, \"linecolor\": \"white\", \"showbackground\": true, \"ticks\": \"\", \"zerolinecolor\": \"white\"}, \"zaxis\": {\"backgroundcolor\": \"#E5ECF6\", \"gridcolor\": \"white\", \"gridwidth\": 2, \"linecolor\": \"white\", \"showbackground\": true, \"ticks\": \"\", \"zerolinecolor\": \"white\"}}, \"shapedefaults\": {\"line\": {\"color\": \"#2a3f5f\"}}, \"ternary\": {\"aaxis\": {\"gridcolor\": \"white\", \"linecolor\": \"white\", \"ticks\": \"\"}, \"baxis\": {\"gridcolor\": \"white\", \"linecolor\": \"white\", \"ticks\": \"\"}, \"bgcolor\": \"#E5ECF6\", \"caxis\": {\"gridcolor\": \"white\", \"linecolor\": \"white\", \"ticks\": \"\"}}, \"title\": {\"x\": 0.05}, \"xaxis\": {\"automargin\": true, \"gridcolor\": \"white\", \"linecolor\": \"white\", \"ticks\": \"\", \"title\": {\"standoff\": 15}, \"zerolinecolor\": \"white\", \"zerolinewidth\": 2}, \"yaxis\": {\"automargin\": true, \"gridcolor\": \"white\", \"linecolor\": \"white\", \"ticks\": \"\", \"title\": {\"standoff\": 15}, \"zerolinecolor\": \"white\", \"zerolinewidth\": 2}}}},\n",
       "                        {\"responsive\": true}\n",
       "                    ).then(function(){\n",
       "                            \n",
       "var gd = document.getElementById('c2c1fe5a-26a8-4c53-a684-0edf1a0a6aa1');\n",
       "var x = new MutationObserver(function (mutations, observer) {{\n",
       "        var display = window.getComputedStyle(gd).display;\n",
       "        if (!display || display === 'none') {{\n",
       "            console.log([gd, 'removed!']);\n",
       "            Plotly.purge(gd);\n",
       "            observer.disconnect();\n",
       "        }}\n",
       "}});\n",
       "\n",
       "// Listen for the removal of the full notebook cells\n",
       "var notebookContainer = gd.closest('#notebook-container');\n",
       "if (notebookContainer) {{\n",
       "    x.observe(notebookContainer, {childList: true});\n",
       "}}\n",
       "\n",
       "// Listen for the clearing of the current output cell\n",
       "var outputEl = gd.closest('.output');\n",
       "if (outputEl) {{\n",
       "    x.observe(outputEl, {childList: true});\n",
       "}}\n",
       "\n",
       "                        })\n",
       "                };\n",
       "                });\n",
       "            </script>\n",
       "        </div>"
      ]
     },
     "metadata": {},
     "output_type": "display_data"
    }
   ],
   "source": [
    "figc = px.density_mapbox(dfc, lat='Lat', lon='Long', z='3/8/20', radius=100,\n",
    "                        center=dict(lat=30, lon=110), zoom=1,\n",
    "                        mapbox_style=\"stamen-terrain\")\n",
    "figc.show()"
   ]
  },
  {
   "cell_type": "code",
   "execution_count": null,
   "metadata": {},
   "outputs": [],
   "source": []
  }
 ],
 "metadata": {
  "kernelspec": {
   "display_name": "covid-19-kernel",
   "language": "python",
   "name": "covid-19-kernel"
  },
  "language_info": {
   "codemirror_mode": {
    "name": "ipython",
    "version": 3
   },
   "file_extension": ".py",
   "mimetype": "text/x-python",
   "name": "python",
   "nbconvert_exporter": "python",
   "pygments_lexer": "ipython3",
   "version": "3.6.5"
  },
  "pycharm": {
   "stem_cell": {
    "cell_type": "raw",
    "metadata": {
     "collapsed": false
    },
    "source": []
   }
  }
 },
 "nbformat": 4,
 "nbformat_minor": 1
}
